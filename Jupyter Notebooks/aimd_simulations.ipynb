{
 "cells": [
  {
   "cell_type": "code",
   "execution_count": 1,
   "metadata": {},
   "outputs": [
    {
     "data": {
      "application/vnd.jupyter.widget-view+json": {
       "model_id": "2e6a40c9ae684914a2005ef8db4f35a2",
       "version_major": 2,
       "version_minor": 0
      },
      "text/plain": []
     },
     "metadata": {},
     "output_type": "display_data"
    }
   ],
   "source": [
    "# Direct lammps script implemetation in pyiron \n",
    "from tempfile import tempdir\n",
    "from pyiron import Project\n",
    "import numpy as np\n",
    "import pandas\n",
    "from jinja2 import Template\n",
    "import matplotlib.pyplot as plt \n",
    "import scipy.constants as sc\n",
    "from scipy.integrate import cumtrapz\n",
    "from ase.io import read, write\n",
    "from pyiron import ase_to_pyiron, pyiron_to_ase\n",
    "from pymatgen.io.vasp.outputs import Outcar\n",
    "from ase.formula import Formula\n",
    "import os\n",
    "import json\n",
    "from pymatgen.ext.matproj import MPRester#, Element\n",
    "from pymatgen.entries.compatibility import MaterialsProjectCompatibility\n",
    "from pymatgen.analysis.phase_diagram import PhaseDiagram, PDPlotter, PDEntry, GrandPotentialPhaseDiagram, GrandPotPDEntry, CompoundPhaseDiagram\n",
    "#from pynter import SETTINGS\n",
    "#from pynter.tools.utils import save_object_as_json, get_object_from_json\n",
    "import requests\n",
    "from pymatgen.core.composition import Composition, Element\n",
    "from pymatgen.io.vasp.outputs import Outcar\n",
    "from ase.io import read, write\n",
    "from ase.io.vasp import read_vasp, write_vasp \n",
    "from pymatgen.ext.matproj import MPRester #, Composition \n",
    "from pymatgen.entries.compatibility import MaterialsProjectCompatibility\n",
    "from pymatgen.entries.computed_entries import ComputedEntry\n",
    "from pymatgen.analysis.phase_diagram import PhaseDiagram, PDPlotter, PatchedPhaseDiagram, CompoundPhaseDiagram, ReactionDiagram\n",
    "from pymatgen.symmetry.analyzer import SpacegroupAnalyzer\n",
    "from pymatgen.analysis.reaction_calculator import ComputedReaction\n",
    "\n",
    "from ase.spacegroup import get_spacegroup\n",
    "from matplotlib import pyplot as plt\n",
    "plt.style.use(['vaibhz-sci','no-latex'])#,'high-vis','vibrant'])\n",
    "# I dont want the warning messages \n",
    "import warnings\n",
    "warnings.filterwarnings('ignore')"
   ]
  },
  {
   "cell_type": "code",
   "execution_count": 3,
   "metadata": {},
   "outputs": [],
   "source": [
    "# Project (comparision of DFT and MD for few structures)\n",
    "#pr = Project(\"/nfshome/deshmukh/pyiron/projects/NASICON/project/frank_glass_aimd\") \n",
    "pr = Project(\"/nfshome/deshmukh/pyiron/projects/NASICON/project/frank_glass_aimd/nasicon_aimd\") "
   ]
  },
  {
   "cell_type": "code",
   "execution_count": 3,
   "metadata": {},
   "outputs": [],
   "source": [
    "#x_3_2_3 = read('/nfshome/deshmukh/vaibhav/NaSICON_dft/database_glass/pbe_structure_0_hdf5/pbe_structure_0/CONTCAR', format='vasp')\n",
    "#x_3_1_3 = read('/nfshome/deshmukh/vaibhav/NaSICON_dft/database_glass/pbe_structure_1_hdf5/pbe_structure_1/CONTCAR', format='vasp')\n",
    "#x_5_2_2 = read('/nfshome/deshmukh/vaibhav/NaSICON_dft/database_glass/pbe_structure_2_hdf5/pbe_structure_2/CONTCAR', format='vasp')\n",
    "#x_6_1_6 = read('/nfshome/deshmukh/vaibhav/NaSICON_dft/database_glass/pbe_structure_3_hdf5/pbe_structure_3/CONTCAR', format='vasp')\n",
    "#x_6_1_5 = read('/nfshome/deshmukh/vaibhav/NaSICON_dft/database_glass/pbe_structure_4_hdf5/pbe_structure_4/CONTCAR', format='vasp')"
   ]
  },
  {
   "cell_type": "code",
   "execution_count": 10,
   "metadata": {},
   "outputs": [],
   "source": [
    "x_0 = read('/nfshome/deshmukh/vaibhav/NaSICON_dft/database/pbe_structure_8_hdf5/pbe_structure_8/CONTCAR')\n",
    "x_3 = read('/nfshome/deshmukh/vaibhav/NaSICON_dft/database/pbe_structure_9_hdf5/pbe_structure_9/CONTCAR')\n",
    "x_2 = read('/nfshome/deshmukh/vaibhav/NaSICON_dft/database/pbe_structure_13_hdf5/pbe_structure_13/CONTCAR') # order \n",
    "x_2_1 = read('/nfshome/deshmukh/vaibhav/NaSICON_dft/database/pbe_structure_10_hdf5/pbe_structure_10/CONTCAR') # order\n",
    "x_1_5 = read(\"/nfshome/deshmukh/vaibhav/NaSICON_dft/other_nasicon_compositions_1/nasi_x_1_5_random_hdf5/nasi_x_1_5_random/CONTCAR\")\n",
    "x_2_5 = read(\"/nfshome/deshmukh/vaibhav/NaSICON_dft/database_unstable/pbe_structure_4_hdf5/pbe_structure_4/CONTCAR\")"
   ]
  },
  {
   "cell_type": "code",
   "execution_count": 13,
   "metadata": {},
   "outputs": [],
   "source": [
    "# Zr reduced structure \n",
    "g_0 = read(\"/nfshome/deshmukh/vaibhav/NaSICON_dft/database_stable/pbe_structure_23_hdf5/pbe_structure_23/CONTCAR\")\n",
    "g_3 = read(\"/nfshome/deshmukh/vaibhav/NaSICON_dft/database_stable/pbe_structure_38_hdf5/pbe_structure_38/CONTCAR\")\n",
    "g_2_1 = read(\"/nfshome/deshmukh/vaibhav/NaSICON_dft/frank_dft_vacancy/nasi_x_2_small_zr_DFT_8_0_hdf5/nasi_x_2_small_zr_DFT_8_0/CONTCAR\") # random glass, we hae no glass for ordered \n",
    "g_2_5 = read('/nfshome/deshmukh/vaibhav/NaSICON_dft/zr_vac/2_5/nasi_x_2_5_small_zr_DFT_4_0_hdf5/nasi_x_2_5_small_zr_DFT_4_0/CONTCAR')\n",
    "g_1_5 = read('/nfshome/deshmukh/vaibhav/NaSICON_dft/frank_dft_vacancy/nasi_x_1_5_small_zr_DFT_4_0_hdf5/nasi_x_1_5_small_zr_DFT_4_0/CONTCAR')"
   ]
  },
  {
   "cell_type": "code",
   "execution_count": 14,
   "metadata": {},
   "outputs": [],
   "source": [
    "nasicon = [x_0, x_3, x_2, x_2_1, x_1_5, x_2_5]\n",
    "glass = [g_0, g_3, g_2_1, g_2_5, g_1_5]"
   ]
  },
  {
   "cell_type": "code",
   "execution_count": 16,
   "metadata": {},
   "outputs": [],
   "source": [
    "def k_points_density(dens, struct):\n",
    "    k_points_test = []\n",
    "    cell_info = struct.get_cell_lengths_and_angles()\n",
    "    lattice_para = cell_info[0:3]\n",
    "    a = lattice_para[0]\n",
    "    b = lattice_para[1]\n",
    "    c = lattice_para[2]\n",
    "    N_x = ((dens*2*22)/(7*a))\n",
    "    N_y = ((dens*2*22)/(7*b))\n",
    "    N_z = ((dens*2*22)/(7*c))\n",
    "    print(N_x)\n",
    "    k_points_test.append('{} {} {}'.format(int(round(N_x)),int(round(N_y)),int(round(N_z))))\n",
    "    return k_points_test"
   ]
  },
  {
   "cell_type": "code",
   "execution_count": 18,
   "metadata": {},
   "outputs": [
    {
     "name": "stdout",
     "output_type": "stream",
     "text": [
      "7.011567974390724\n",
      "The job glass_0 was saved and received the ID: 31667\n"
     ]
    },
    {
     "name": "stderr",
     "output_type": "stream",
     "text": [
      "100%|██████████| 1/1 [00:00<00:00, 197.91it/s]\n",
      "100%|██████████| 4/4 [00:00<00:00, 172.94it/s]\n"
     ]
    },
    {
     "name": "stdout",
     "output_type": "stream",
     "text": [
      "Queue system id:  45941200\n",
      "9.77042485550529\n",
      "The job glass_1 was saved and received the ID: 31668\n"
     ]
    },
    {
     "name": "stderr",
     "output_type": "stream",
     "text": [
      "100%|██████████| 1/1 [00:00<00:00, 207.66it/s]\n",
      "100%|██████████| 4/4 [00:00<00:00, 178.22it/s]\n"
     ]
    },
    {
     "name": "stdout",
     "output_type": "stream",
     "text": [
      "Queue system id:  45941201\n",
      "5.168414826720629\n",
      "The job glass_2 was saved and received the ID: 31669\n"
     ]
    },
    {
     "name": "stderr",
     "output_type": "stream",
     "text": [
      "100%|██████████| 1/1 [00:00<00:00, 222.59it/s]\n",
      "100%|██████████| 4/4 [00:00<00:00, 154.92it/s]\n"
     ]
    },
    {
     "name": "stdout",
     "output_type": "stream",
     "text": [
      "Queue system id:  45941202\n",
      "4.9825025765193045\n",
      "The job glass_3 was saved and received the ID: 31670\n"
     ]
    },
    {
     "name": "stderr",
     "output_type": "stream",
     "text": [
      "100%|██████████| 1/1 [00:00<00:00, 224.10it/s]\n",
      "100%|██████████| 4/4 [00:00<00:00, 132.59it/s]\n"
     ]
    },
    {
     "name": "stdout",
     "output_type": "stream",
     "text": [
      "Queue system id:  45941203\n",
      "5.27653960415866\n",
      "The job glass_4 was saved and received the ID: 31671\n"
     ]
    },
    {
     "name": "stderr",
     "output_type": "stream",
     "text": [
      "100%|██████████| 1/1 [00:00<00:00, 281.14it/s]\n",
      "100%|██████████| 4/4 [00:00<00:00, 135.69it/s]\n"
     ]
    },
    {
     "name": "stdout",
     "output_type": "stream",
     "text": [
      "Queue system id:  45941204\n"
     ]
    },
    {
     "ename": "IndexError",
     "evalue": "list index out of range",
     "output_type": "error",
     "traceback": [
      "\u001b[0;31m---------------------------------------------------------------------------\u001b[0m",
      "\u001b[0;31mIndexError\u001b[0m                                Traceback (most recent call last)",
      "Cell \u001b[0;32mIn[18], line 3\u001b[0m\n\u001b[1;32m      1\u001b[0m \u001b[38;5;28;01mfor\u001b[39;00m i \u001b[38;5;129;01min\u001b[39;00m \u001b[38;5;28mrange\u001b[39m(\u001b[38;5;241m6\u001b[39m):\n\u001b[1;32m      2\u001b[0m     \u001b[38;5;66;03m#structure = ase_to_pyiron(structure_dft[i])\u001b[39;00m\n\u001b[0;32m----> 3\u001b[0m     structure \u001b[38;5;241m=\u001b[39m \u001b[43mglass\u001b[49m\u001b[43m[\u001b[49m\u001b[43mi\u001b[49m\u001b[43m]\u001b[49m\n\u001b[1;32m      4\u001b[0m     density \u001b[38;5;241m=\u001b[39m k_points_density(\u001b[38;5;241m7.708\u001b[39m, structure) \n\u001b[1;32m      5\u001b[0m     job_vasp \u001b[38;5;241m=\u001b[39m pr\u001b[38;5;241m.\u001b[39mcreate\u001b[38;5;241m.\u001b[39mjob\u001b[38;5;241m.\u001b[39mVasp(\u001b[38;5;124m'\u001b[39m\u001b[38;5;124mglass_\u001b[39m\u001b[38;5;124m'\u001b[39m\u001b[38;5;241m+\u001b[39m\u001b[38;5;28mstr\u001b[39m(i), delete_existing_job\u001b[38;5;241m=\u001b[39m\u001b[38;5;28;01mTrue\u001b[39;00m)  \u001b[38;5;66;03m# 0=10 A, 1=12 A, 2=14 A (rmemeber the extension of the file)\u001b[39;00m\n",
      "\u001b[0;31mIndexError\u001b[0m: list index out of range"
     ]
    }
   ],
   "source": [
    "for i in range(6):\n",
    "    #structure = ase_to_pyiron(structure_dft[i])\n",
    "    structure = glass[i]\n",
    "    density = k_points_density(7.708, structure) \n",
    "    job_vasp = pr.create.job.Vasp('glass_'+str(i), delete_existing_job=True)  # 0=10 A, 1=12 A, 2=14 A (rmemeber the extension of the file)\n",
    "    job_vasp.set_kpoints(scheme=\"GC\")\n",
    "    job_vasp.input.kpoints.set_kpoints_file(size_of_mesh=[density[0]])\n",
    "    job_vasp.set_encut(800)\n",
    "    job_vasp.structure = ase_to_pyiron(structure)\n",
    "    \n",
    "    # Set precison parameters\n",
    "    job_vasp.set_convergence_precision(ionic_energy_tolerance=0.001, electronic_energy=1e-07)    \n",
    "    job_vasp.input.incar[\"PREC\"] = \"High\"                          # Set it high  \n",
    "    job_vasp.input.incar[\"ISIF\"] = 3                               # forces, stress tensor, positions, cell shape and cell volume relaxation, ISIF = 0 (AIMD), ISIF = 2 (static) \n",
    "    job_vasp.input.incar[\"IBRION\"] = 2                             # Conjugate gradient method, det. how the ions are updated and moved (remove if ions are not present) \n",
    "    job_vasp.input.incar[\"NSW\"] = 99                               # Max no of ionic steps  \n",
    "    job_vasp.input.incar[\"ISMEAR\"] = 0                             # O = Gaussian, -1 = Fermi for AIMD \n",
    "    job_vasp.input.incar[\"LREAL\"] = \"Auto\"                        # Projecion in real or reciprocal space   \n",
    "    job_vasp.input.incar[\"NELM\"] = 99                              # Max no of SCF  \n",
    "    job_vasp.input.incar[\"SIGMA\"] = 0.05                           # 0.03 or 0.05 for gaussian (1)  ----- Conv\n",
    "    job_vasp.input.incar[\"EDIFF\"] = 1e-8                           # Global break condition, accurate cal = 1e-8 (2) -- Conv \n",
    "    job_vasp.input.incar[\"EDIFFG\"] = -0.01\n",
    "    job_vasp.input.incar[\"ALGO\"] = 48                              # For convergence use Fast else Normal\n",
    "    # Paralellization \n",
    "    job_vasp.input.incar[\"NCORE\"] = 2                             # Core for calculations  \n",
    "    job_vasp.input.incar[\"KPAR\"] = 6                               # No of K-points treated in parallel \n",
    "    \n",
    "    symbols = structure.get_chemical_symbols() \n",
    "    uni_symbols = list(set(symbols)) \n",
    "    \n",
    "    for k in uni_symbols:\n",
    "        if k == 'Na':\n",
    "            job_vasp.potential.Na = 'Na_pv'\n",
    "        if k == 'Zr':\n",
    "            job_vasp.potential.Zr = 'Zr_sv'\n",
    "        if k == 'Si':\n",
    "            job_vasp.potential.Si = 'Si'\n",
    "        if k == 'P':\n",
    "            job_vasp.potential.P = 'P'\n",
    "        if k == 'O':\n",
    "            job_vasp.potential.O = 'O'\n",
    "            \n",
    "    job_vasp.server.cores = 96\n",
    "    job_vasp.server.queue = \"normal_l2\"\n",
    "    job_vasp.run()"
   ]
  },
  {
   "cell_type": "code",
   "execution_count": 8,
   "metadata": {},
   "outputs": [],
   "source": [
    "import matplotlib.pyplot as plt"
   ]
  },
  {
   "cell_type": "code",
   "execution_count": 12,
   "metadata": {},
   "outputs": [
    {
     "name": "stdout",
     "output_type": "stream",
     "text": [
      "522.4233128834355\n",
      "72.65532510646014\n"
     ]
    },
    {
     "data": {
      "image/png": "[encoded data removed]",
      "text/plain": [
       "<Figure size 500x500 with 1 Axes>"
      ]
     },
     "metadata": {},
     "output_type": "display_data"
    }
   ],
   "source": [
    "temperature_data = [\n",
    "    523, 518, 501, 477, 447, 415, 385, 359, 341, 331, 331, 340, 356, 379, 405,\n",
    "    434, 462, 488, 511, 531, 546, 561, 575, 592, 615, 643, 677, 715, 751, 782,\n",
    "    803, 810, 804, 782, 748, 705, 654, 601, 549, 503, 465, 438, 422, 418, 422,\n",
    "    432, 444, 455, 463, 466, 465, 462, 458, 456, 457, 463, 472, 484, 497, 510,\n",
    "    522, 532, 539, 543, 546, 548, 550, 552, 555, 559, 563, 568, 574, 580, 585,\n",
    "    589, 589, 584, 573, 557, 537, 515, 494, 477, 465, 459, 459, 464, 473, 484,\n",
    "    496, 506, 514, 519, 520, 517, 511, 503, 492, 481, 470, 462, 458, 461, 469,\n",
    "    485, 506, 531, 557, 579, 596, 603, 602, 592, 578, 561, 547, 539, 538, 544,\n",
    "    557, 574, 590, 603, 609, 608, 597, 579, 554, 526, 497, 469, 446, 428, 416,\n",
    "    410, 411, 417, 428, 440, 453, 466, 476, 483, 488, 492, 497, 504, 515, 531,\n",
    "    551, 574, 597, 618, 633, 640, 638, 628, 612, 592, 570, 550, 534, 522, 514,\n",
    "    510, 509, 508, 507, 503, 498, 490, 482, 474, 469, 466, 468, 474, 485, 499,\n",
    "    514, 529, 542, 550, 553, 550, 541, 528, 514, 498, 484, 473, 466, 464, 466,\n",
    "    472, 483, 497, 514, 532, 551, 568, 584, 597, 607, 613, 617, 618, 616, 612,\n",
    "    607, 600, 592, 584, 573, 562, 549, 535, 520, 505, 491, 477, 466, 456, 447,\n",
    "    440, 434, 429, 426, 425, 425, 428, 432, 439, 447, 456, 467, 477, 486, 494,\n",
    "    502, 508, 515, 523, 533, 543, 553, 563, 570, 576, 578, 579, 578, 577, 577,\n",
    "    579, 584, 592, 601, 609, 615, 617, 614, 604, 589, 569, 546, 522, 499, 480,\n",
    "    467, 460, 460, 465, 473, 483, 494, 503, 512, 518, 522, 523, 522, 519, 514,\n",
    "    507, 500, 492, 486, 482, 480, 481, 483, 488, 493, 500, 506, 512, 518, 524,\n",
    "    530, 534, 537, 537, 535, 531, 525, 518, 512, 506, 501, 498, 497, 498, 499,\n",
    "    502, 506, 510, 516, 522, 530, 539, 549, 561, 574, 589]\n",
    "\n",
    "plt.plot(temperature_data)\n",
    "plt.axhline(y=np.mean(temperature_data), color='r', linestyle='-')\n",
    "print(np.mean(temperature_data))\n",
    "print(np.std(temperature_data))"
   ]
  }
 ],
 "metadata": {
  "kernelspec": {
   "display_name": "vaibi",
   "language": "python",
   "name": "python3"
  },
  "language_info": {
   "codemirror_mode": {
    "name": "ipython",
    "version": 3
   },
   "file_extension": ".py",
   "mimetype": "text/x-python",
   "name": "python",
   "nbconvert_exporter": "python",
   "pygments_lexer": "ipython3",
   "version": "3.12.3"
  }
 },
 "nbformat": 4,
 "nbformat_minor": 2
}
