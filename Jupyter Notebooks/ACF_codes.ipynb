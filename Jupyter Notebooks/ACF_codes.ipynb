{
 "cells": [
  {
   "cell_type": "code",
   "execution_count": 1,
   "metadata": {},
   "outputs": [],
   "source": [
    "from ase.io import read\n",
    "import numpy as np \n",
    "import tidynamics\n",
    "import matplotlib.pyplot as plt\n",
    "from scipy import fftpack\n",
    "from scipy import signal\n",
    "import time"
   ]
  },
  {
   "cell_type": "code",
   "execution_count": 2,
   "metadata": {},
   "outputs": [],
   "source": [
    "def calc_ACF_fft(array_1D):\n",
    "    # Normalization\n",
    "    yunbiased = array_1D - np.mean(array_1D, axis=0)\n",
    "    ynorm = np.sum(np.power(yunbiased,2), axis=0)\n",
    "#    print(\"the average value of input data array\", ynorm)\n",
    "    \n",
    "    autocor = signal.fftconvolve(array_1D,\n",
    "                                 array_1D[::-1],\n",
    "                                 mode='full')[len(array_1D)-1:] / ynorm\n",
    "    return autocor"
   ]
  },
  {
   "cell_type": "code",
   "execution_count": 3,
   "metadata": {},
   "outputs": [],
   "source": [
    "# Generate data for a Ornstein-Uhlenbeck process\n",
    "\n",
    "gamma = 2.7\n",
    "T = 0.1\n",
    "dt = 0.02\n",
    "v_factor = np.sqrt(2*T*gamma*dt)\n",
    "\n",
    "N = 32768\n",
    "v = 0\n",
    "for i in range(100):\n",
    "    noise_force = v_factor*np.random.normal()\n",
    "    v = v - gamma*v*dt + noise_force\n",
    "\n",
    "v_data = []\n",
    "noise_data = []\n",
    "\n",
    "for i in range(N):\n",
    "    noise_force = v_factor*np.random.normal()\n",
    "    v = v - gamma*v*dt + noise_force\n",
    "    v_data.append(v)\n",
    "    noise_data.append(noise_force)\n",
    "v_data = np.array(v_data)\n",
    "noise_data = np.array(noise_data)/np.sqrt(dt)"
   ]
  },
  {
   "cell_type": "code",
   "execution_count": null,
   "metadata": {},
   "outputs": [],
   "source": [
    "v_data.ndim"
   ]
  },
  {
   "cell_type": "code",
   "execution_count": null,
   "metadata": {},
   "outputs": [],
   "source": [
    "ac = calc_ACF_fft(array_1D=v_data)[:N//64]"
   ]
  },
  {
   "cell_type": "code",
   "execution_count": null,
   "metadata": {},
   "outputs": [],
   "source": [
    "plt.plot(ac)"
   ]
  },
  {
   "cell_type": "code",
   "execution_count": null,
   "metadata": {},
   "outputs": [],
   "source": [
    "def calc_ACF_direct(array_1D):\n",
    "#    # calculate the ACF\n",
    "#    nmax = len(array_1D)\n",
    "#    ACF = np.zeros((nmax,))\n",
    "#    for i in range(nmax):\n",
    "#        for j in range(nmax-i):\n",
    "#            ACF[j] = ACF[j] + np.sum(array_1D[i]*array_1D[j+i])\n",
    "#        ACF[i] = ACF[i]/(nmax-i)\n",
    "#    return ACF\n",
    "    # Normalization\n",
    "    yunbiased = array_1D - np.mean(array_1D, axis=0)\n",
    "    ynorm = np.sum(np.power(yunbiased,2), axis=0)\n",
    "#    print(\"the average value of input data array\", ynorm)\n",
    "    \n",
    "    autocor = np.correlate(array_1D,\n",
    "                                 array_1D,\n",
    "                                 mode='full')[len(array_1D)-1:] / ynorm\n",
    "    return autocor"
   ]
  },
  {
   "cell_type": "code",
   "execution_count": null,
   "metadata": {},
   "outputs": [],
   "source": [
    "sc_2 = calc_ACF_direct(array_1D=v_data)[:N//64]"
   ]
  },
  {
   "cell_type": "code",
   "execution_count": null,
   "metadata": {},
   "outputs": [],
   "source": [
    "plt.plot(sc_2)"
   ]
  },
  {
   "cell_type": "code",
   "execution_count": null,
   "metadata": {},
   "outputs": [],
   "source": [
    "import tidynamics\n",
    "acf = tidynamics.acf(v_data)[:N//64]"
   ]
  },
  {
   "cell_type": "code",
   "execution_count": null,
   "metadata": {},
   "outputs": [],
   "source": [
    "plt.plot(acf)"
   ]
  },
  {
   "cell_type": "code",
   "execution_count": null,
   "metadata": {},
   "outputs": [],
   "source": [
    "def calc_VACF_fft(velocity_1, velocity_2):\n",
    "    # Normalization\n",
    "    n = len(velocity_1)\n",
    "    norm = n * np.var(velocity_1)\n",
    "    \n",
    "    autocor = signal.fftconvolve(velocity_1,\n",
    "                                 velocity_2[::-1],\n",
    "                                 mode='full')[len(velocity_1)-1:] / norm\n",
    "    return autocor"
   ]
  },
  {
   "cell_type": "code",
   "execution_count": null,
   "metadata": {},
   "outputs": [],
   "source": [
    "st = calc_VACF_fft(velocity_1=v_data,velocity_2=v_data)[:N//64]"
   ]
  },
  {
   "cell_type": "code",
   "execution_count": null,
   "metadata": {},
   "outputs": [],
   "source": [
    "plt.plot(st)"
   ]
  },
  {
   "cell_type": "code",
   "execution_count": null,
   "metadata": {},
   "outputs": [],
   "source": [
    "len(v_data)//64"
   ]
  },
  {
   "cell_type": "code",
   "execution_count": null,
   "metadata": {},
   "outputs": [],
   "source": [
    "def correlate(a,b):\n",
    "    #Use fast Fourier transforms to calculate the correlation function between a and b\n",
    "    #Zeros are added to the end of the arrays to avoid wrapping the calculation\n",
    "    al = np.concatenate((a,np.zeros(len(a))),axis=0)\n",
    "    bl = np.concatenate((b,np.zeros(len(b))),axis=0)\n",
    "    c= np.fft.ifft(np.fft.fft(al)*np.conjugate(np.fft.fft(bl))).real\n",
    "    d = c[:int(len(c)/2)]\n",
    "    d/=(np.arange(len(d))+1)[::-1]\n",
    "    return d"
   ]
  },
  {
   "cell_type": "code",
   "execution_count": null,
   "metadata": {},
   "outputs": [],
   "source": [
    "t  = correlate(a=v_data, b=v_data)"
   ]
  },
  {
   "cell_type": "code",
   "execution_count": null,
   "metadata": {},
   "outputs": [],
   "source": [
    "plt.plot(t)"
   ]
  },
  {
   "cell_type": "code",
   "execution_count": null,
   "metadata": {},
   "outputs": [],
   "source": [
    "def VACF(V_1, V_2):\n",
    "    \"\"\"\n",
    "    Calculate the velocity auto-correlation function.\n",
    "\n",
    "    \"\"\"\n",
    "\n",
    "    #n_steps = V_1.shape[0]\n",
    "    # mean velocity auto-correlation for all degrees of freedom\n",
    "    vac2 = np.correlate(V_1, V_2, 'full') #for v_1, v_2 in zip(V_1, V_2)]\n",
    "    \n",
    "    d = vac2[:int(len(vac2)/2)]\n",
    "    \n",
    "    d/=(np.arange(len(d))+1)[::-1]\n",
    "    \n",
    "    #vac2 /= np.linalg.norm(vac2, axis=1)[:, None]\n",
    "    #vac2 = np.mean(vac2, axis=0)\n",
    "\n",
    "\n",
    "    return d[:len(V_1)]"
   ]
  },
  {
   "cell_type": "code",
   "execution_count": null,
   "metadata": {},
   "outputs": [],
   "source": [
    "v_data.shape[0]"
   ]
  },
  {
   "cell_type": "code",
   "execution_count": null,
   "metadata": {},
   "outputs": [],
   "source": [
    "v = VACF(V_1=v_data, V_2=v_data)"
   ]
  },
  {
   "cell_type": "code",
   "execution_count": null,
   "metadata": {},
   "outputs": [],
   "source": [
    "plt.plot(v)\n",
    "plt.xlim([32500,32800])"
   ]
  },
  {
   "cell_type": "code",
   "execution_count": null,
   "metadata": {},
   "outputs": [],
   "source": [
    "def VACF(V_1, V_2):\n",
    "    \"\"\"\n",
    "    Calculate the velocity auto-correlation function.\n",
    "\n",
    "    \"\"\"\n",
    "\n",
    "    n_steps = len(V_1)#V_1.shape[1]\n",
    "\n",
    "    # mean velocity auto-correlation for all degrees of freedom\n",
    "    vac2 = [np.correlate(v_1, v_2, 'full') for v_1, v_2 in zip(V_1, V_2)]\n",
    "    vac2 /= np.linalg.norm(vac2, axis=1)[:, None]\n",
    "    #vac2 = np.mean(vac2, axis=0)\n",
    "    return vac2"
   ]
  },
  {
   "cell_type": "code",
   "execution_count": null,
   "metadata": {},
   "outputs": [],
   "source": [
    "\n",
    "s = VACF(V_1=v_data,V_2=v_data)"
   ]
  },
  {
   "cell_type": "code",
   "execution_count": null,
   "metadata": {},
   "outputs": [],
   "source": [
    "N = 0\n",
    "ND = 3\n",
    "data = np.ones((N, ND))\n",
    "data.shape"
   ]
  },
  {
   "cell_type": "code",
   "execution_count": null,
   "metadata": {},
   "outputs": [],
   "source": [
    "import numpy as np\n",
    "\n",
    "# create velocity data (100 frames, 10 particles)\n",
    "velocity = np.random.rand(100000, 162)\n"
   ]
  },
  {
   "cell_type": "code",
   "execution_count": null,
   "metadata": {},
   "outputs": [],
   "source": [
    "\n",
    "# compute VACF using the first method\n",
    "N = len(velocity[0])\n",
    "M = len(velocity)\n",
    "max_T = M // 2\n",
    "\n",
    "from scipy import signal\n",
    "tcf_1 = np.zeros(max_T)\n",
    "\n",
    "for T in range(max_T):\n",
    "    sum_T = 0\n",
    "    for i in range(M - T):\n",
    "        sum_t = 0\n",
    "        for j in range(N):\n",
    "            sum_t += signal.fftconvolve(velocity[i][j], velocity[i+T][j], mode='full')\n",
    "        sum_T += sum_t / N\n",
    "    tcf_1[T] = sum_T / (M - T)\n",
    "\n",
    "tcf_1 = tcf_1 / tcf_1[0]\n",
    "\n",
    "print(tcf_1)\n"
   ]
  },
  {
   "attachments": {},
   "cell_type": "markdown",
   "metadata": {},
   "source": [
    "$tcf(T) = \\frac{1}{M - T} \\sum\\limits_{i=1}^{M-T} \\frac{1}{N} \\sum\\limits_{j=1}^{N} v_{i,j} \\cdot v_{i+T,j}$\n",
    "\n",
    "Where:\n",
    "\n",
    "$tcf(T)$ is the time correlation function at time lag $T$\n",
    "$M$ is the number of frames\n",
    "$N$ is the number of particles\n",
    "$v_{i,j}$ is the velocity of particle $j$ at frame $i$\n",
    "$T$ is the time lag"
   ]
  },
  {
   "cell_type": "code",
   "execution_count": null,
   "metadata": {},
   "outputs": [],
   "source": [
    "# compute VACF using the second method\n",
    "N = len(velocity[0])\n",
    "M = len(velocity)\n",
    "max_T = M // 2\n",
    "\n",
    "tcf = np.zeros(max_T)\n",
    "\n",
    "for T in range(0,max_T,1000):\n",
    "    sum_T = 0\n",
    "    for i in range(M - T):\n",
    "        sum_t = 0\n",
    "        for j in range(N):\n",
    "            sum_t += velocity[i][j] * velocity[i+T][j]\n",
    "        sum_T += sum_t / N\n",
    "    tcf[T] = sum_T / (M - T)\n",
    "\n",
    "tcf = tcf / tcf[0]\n",
    "\n",
    "print(tcf)\n"
   ]
  },
  {
   "cell_type": "code",
   "execution_count": null,
   "metadata": {},
   "outputs": [],
   "source": [
    "#plt.plot(tcf_1)\n",
    "plt.plot(tcf)\n",
    "plt.xlim([0,100])"
   ]
  },
  {
   "cell_type": "code",
   "execution_count": null,
   "metadata": {},
   "outputs": [],
   "source": [
    "import tidynamics\n",
    "\n",
    "N = len(velocity[0])     # number of particles\n",
    "M = len(velocity)  # number of frames\n",
    "\n",
    "max_T = M//2  # maximum time lag\n",
    "\n",
    "# Calculate the auto-correlation function\n",
    "#auto_corr = np.mean([np.dot(velocity_x[i], velocity_x[i]) for i in range(M)])\n",
    "\n",
    "# Calculate the time correlation function using tidynamics\n",
    "vacf_ti = np.zeros(max_T)\n",
    "for T in range(max_T):\n",
    "    acf_t = 0\n",
    "    for j in range(N):\n",
    "        acf_t += tidynamics.acf(velocity[T][j])\n",
    "    vacf_ti[T] = acf_t / N\n",
    "\n",
    "# Normalize the time correlation function\n",
    "#vacf_ti = vacf_ti / auto_corr\n",
    "vacf_ti = vacf_ti / vacf_ti[0]"
   ]
  },
  {
   "cell_type": "code",
   "execution_count": null,
   "metadata": {},
   "outputs": [],
   "source": [
    "plt.plot(tidynamics.acf(velocity))\n"
   ]
  },
  {
   "cell_type": "code",
   "execution_count": null,
   "metadata": {},
   "outputs": [],
   "source": [
    "def select_power_of_two(n):\n",
    "    \"\"\"\n",
    "    Select the closest i such that n<=2**i\n",
    "    \"\"\"\n",
    "    current_exp = int(np.ceil(np.log2(n+1)))\n",
    "    if n == 2**current_exp:\n",
    "        n_fft = n\n",
    "    if n < 2**current_exp:\n",
    "        n_fft = 2**current_exp\n",
    "    elif n > 2**current_exp:\n",
    "        n_fft = 2**(current_exp+1)\n",
    "\n",
    "    return n_fft\n",
    "\n",
    "def crosscorrelation_1d(a, b):\n",
    "    \"\"\"\n",
    "    Compute the cross-correlation of two scalar time series.\n",
    "    \"\"\"\n",
    "\n",
    "    N = len(a)\n",
    "    n_fft = select_power_of_two(N)\n",
    "\n",
    "    # Pad the signals with zeros to avoid the periodic images.\n",
    "\n",
    "    R_a = np.zeros(2*n_fft)\n",
    "    R_b = np.zeros(2*n_fft)\n",
    "    R_a[:N] = a\n",
    "    R_b[:N] = b\n",
    "\n",
    "    F_a = np.fft.fft(R_a)\n",
    "    F_b = np.fft.fft(R_b)\n",
    "\n",
    "    result = np.fft.ifft(F_a*F_b.conj())[:N].real/(N-np.arange(N))\n",
    "\n",
    "    return result\n"
   ]
  },
  {
   "cell_type": "code",
   "execution_count": 5,
   "metadata": {},
   "outputs": [
    {
     "data": {
      "text/plain": [
       "(0.0, 100.0)"
      ]
     },
     "execution_count": 5,
     "metadata": {},
     "output_type": "execute_result"
    },
    {
     "data": {
      "image/png": "[encoded data removed]",
      "text/plain": [
       "<Figure size 432x288 with 1 Axes>"
      ]
     },
     "metadata": {
      "needs_background": "light"
     },
     "output_type": "display_data"
    }
   ],
   "source": [
    "plt.plot(tidynamics.acf(v_data))\n",
    "plt.plot(tidynamics.ccf(v_data,v_data))\n",
    "plt.xlim([0,100])"
   ]
  }
 ],
 "metadata": {
  "kernelspec": {
   "display_name": "vaibhav",
   "language": "python",
   "name": "python3"
  },
  "language_info": {
   "codemirror_mode": {
    "name": "ipython",
    "version": 3
   },
   "file_extension": ".py",
   "mimetype": "text/x-python",
   "name": "python",
   "nbconvert_exporter": "python",
   "pygments_lexer": "ipython3",
   "version": "3.9.13"
  },
  "orig_nbformat": 4
 },
 "nbformat": 4,
 "nbformat_minor": 2
}
