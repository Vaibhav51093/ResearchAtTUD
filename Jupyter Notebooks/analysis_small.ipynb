{
 "cells": [
  {
   "cell_type": "code",
   "execution_count": 1,
   "metadata": {},
   "outputs": [],
   "source": [
    "# Direct lammps script implemetation in pyiron \n",
    "from pyiron import Project\n",
    "import numpy as np\n",
    "import pandas\n",
    "from jinja2 import Template\n",
    "import matplotlib.pyplot as plt \n",
    "import scipy.constants as sc\n",
    "from scipy.integrate import cumtrapz\n",
    "import os\n",
    "\n",
    "# Project \n",
    "pr_1 = Project(\"/nfshome/deshmukh/pyiron/projects/NASICON/project/hena/hena_2_2/minimization_small\")           #! Path for postprocessing \n",
    "pr = Project(\"/nfshome/deshmukh/pyiron/projects/NASICON/project/hena/hena_2_2/glass_small\")  "
   ]
  },
  {
   "cell_type": "code",
   "execution_count": 2,
   "metadata": {},
   "outputs": [],
   "source": [
    "# Calculate quech rate and time \n",
    "rate = range(1, 2, 1)\n",
    "#rate_1 = range(1, 11, 1)\n",
    "\n",
    "t = []     # time steps in fs \n",
    "for i in rate:\n",
    "    time = ((4000-300)/i)*1000\n",
    "    t.append(round(time))\n",
    "\n",
    "# For different colling rate \n",
    "\n",
    "strct_no = [82,139,34]#,23,26]#, 106,  13,  15,  57,  67,  66] \n",
    "temp = [523, 573, 623, 673, 723, 773]\n",
    "\n",
    "#for k in strct_no:\n",
    "# Crystal calculations \n",
    "    #job = pr['hena_1_%s_rate_1_k_ps'%k]\n",
    "    #print(job.output.energy_pot[-1])\n",
    "    #job.transfer_from_remote()\n",
    "    #job.compress()"
   ]
  },
  {
   "cell_type": "code",
   "execution_count": null,
   "metadata": {},
   "outputs": [],
   "source": [
    "en = []\n",
    "for i in strct_no:\n",
    "    job = pr['hena_1_struct_mini_%s'%i]\n",
    "    atom = len(job.get_final_structure())\n",
    "    en.append(job['output/generic/energy_tot'][-1]/atom)"
   ]
  },
  {
   "cell_type": "code",
   "execution_count": 6,
   "metadata": {},
   "outputs": [
    {
     "name": "stderr",
     "output_type": "stream",
     "text": [
      "/tmp/ipykernel_39325/1823927583.py:6: DeprecationWarning: pyiron_atomistics.atomistics.structure.has_structure.get_structure(iteration_step=-1) is deprecated.\n",
      "  struct_nvt = job_mini.get_structure(iteration_step=-1) # Last frame from minimization\n",
      "2022-09-26 19:47:21,474 - pyiron_log - WARNING - Deprecated data structure! Returned array was converted from dtype='O' to dtype=float64 via `np.array(result.tolist())`.\n",
      "Please run rewrite_hdf5() (from a job: job.project_hdf5.rewrite_hdf5() ) to update this data! To update all your data run Project.maintenance.update.base_v0_3_to_v0_4('all').\n",
      "2022-09-26 19:47:22,256 - pyiron_log - WARNING - Deprecated data structure! Returned array was converted from dtype='O' to dtype=float64 via `np.array(result.tolist())`.\n",
      "Please run rewrite_hdf5() (from a job: job.project_hdf5.rewrite_hdf5() ) to update this data! To update all your data run Project.maintenance.update.base_v0_3_to_v0_4('all').\n",
      "2022-09-26 19:47:22,572 - pyiron_log - WARNING - Deprecated data structure! Returned array was converted from dtype='O' to dtype=float64 via `np.array(result.tolist())`.\n",
      "Please run rewrite_hdf5() (from a job: job.project_hdf5.rewrite_hdf5() ) to update this data! To update all your data run Project.maintenance.update.base_v0_3_to_v0_4('all').\n",
      "2022-09-26 19:47:24,359 - pyiron_log - WARNING - Deprecated data structure! Returned array was converted from dtype='O' to dtype=int64 via `np.array(result.tolist())`.\n",
      "Please run rewrite_hdf5() (from a job: job.project_hdf5.rewrite_hdf5() ) to update this data! To update all your data run Project.maintenance.update.base_v0_3_to_v0_4('all').\n",
      "2022-09-26 19:47:26,237 - pyiron_log - WARNING - Deprecated data structure! Returned array was converted from dtype='O' to dtype=int64 via `np.array(result.tolist())`.\n",
      "Please run rewrite_hdf5() (from a job: job.project_hdf5.rewrite_hdf5() ) to update this data! To update all your data run Project.maintenance.update.base_v0_3_to_v0_4('all').\n",
      "2022-09-26 19:47:37,314 - pyiron_log - WARNING - Deprecated data structure! Returned array was converted from dtype='O' to dtype=float64 via `np.array(result.tolist())`.\n",
      "Please run rewrite_hdf5() (from a job: job.project_hdf5.rewrite_hdf5() ) to update this data! To update all your data run Project.maintenance.update.base_v0_3_to_v0_4('all').\n",
      "2022-09-26 19:47:48,255 - pyiron_log - WARNING - Deprecated data structure! Returned array was converted from dtype='O' to dtype=float64 via `np.array(result.tolist())`.\n",
      "Please run rewrite_hdf5() (from a job: job.project_hdf5.rewrite_hdf5() ) to update this data! To update all your data run Project.maintenance.update.base_v0_3_to_v0_4('all').\n"
     ]
    },
    {
     "name": "stdout",
     "output_type": "stream",
     "text": [
      "The job hena_1_glass_small_82_523k was saved and received the ID: 13104\n"
     ]
    },
    {
     "name": "stderr",
     "output_type": "stream",
     "text": [
      "/nfshome/deshmukh/miniconda3/envs/vaibhav/lib/python3.9/site-packages/pysqa/utils/remote.py:235: UserWarning: \n",
      "  warnings.warn(stderr.read().decode())\n",
      "100%|██████████| 1/1 [00:00<00:00, 68.84it/s]\n",
      "100%|██████████| 4/4 [00:00<00:00, 186.91it/s]\n",
      "/nfshome/deshmukh/miniconda3/envs/vaibhav/lib/python3.9/site-packages/pysqa/utils/remote.py:235: UserWarning: 2022-09-26 19:48:09,784 - pyiron_log - INFO - job: hena_1_glass_small_82_523k id: 6, status: initialized, submitted: queue id 31659942\n",
      "\n",
      "  warnings.warn(stderr.read().decode())\n"
     ]
    },
    {
     "name": "stdout",
     "output_type": "stream",
     "text": [
      "Queue system id:  31659942\n"
     ]
    },
    {
     "name": "stderr",
     "output_type": "stream",
     "text": [
      "/tmp/ipykernel_39325/1823927583.py:6: DeprecationWarning: pyiron_atomistics.atomistics.structure.has_structure.get_structure(iteration_step=-1) is deprecated.\n",
      "  struct_nvt = job_mini.get_structure(iteration_step=-1) # Last frame from minimization\n",
      "2022-09-26 19:48:21,645 - pyiron_log - WARNING - Deprecated data structure! Returned array was converted from dtype='O' to dtype=float64 via `np.array(result.tolist())`.\n",
      "Please run rewrite_hdf5() (from a job: job.project_hdf5.rewrite_hdf5() ) to update this data! To update all your data run Project.maintenance.update.base_v0_3_to_v0_4('all').\n",
      "2022-09-26 19:48:22,299 - pyiron_log - WARNING - Deprecated data structure! Returned array was converted from dtype='O' to dtype=float64 via `np.array(result.tolist())`.\n",
      "Please run rewrite_hdf5() (from a job: job.project_hdf5.rewrite_hdf5() ) to update this data! To update all your data run Project.maintenance.update.base_v0_3_to_v0_4('all').\n",
      "2022-09-26 19:48:22,620 - pyiron_log - WARNING - Deprecated data structure! Returned array was converted from dtype='O' to dtype=float64 via `np.array(result.tolist())`.\n",
      "Please run rewrite_hdf5() (from a job: job.project_hdf5.rewrite_hdf5() ) to update this data! To update all your data run Project.maintenance.update.base_v0_3_to_v0_4('all').\n",
      "2022-09-26 19:48:24,306 - pyiron_log - WARNING - Deprecated data structure! Returned array was converted from dtype='O' to dtype=int64 via `np.array(result.tolist())`.\n",
      "Please run rewrite_hdf5() (from a job: job.project_hdf5.rewrite_hdf5() ) to update this data! To update all your data run Project.maintenance.update.base_v0_3_to_v0_4('all').\n",
      "2022-09-26 19:48:26,053 - pyiron_log - WARNING - Deprecated data structure! Returned array was converted from dtype='O' to dtype=int64 via `np.array(result.tolist())`.\n",
      "Please run rewrite_hdf5() (from a job: job.project_hdf5.rewrite_hdf5() ) to update this data! To update all your data run Project.maintenance.update.base_v0_3_to_v0_4('all').\n",
      "2022-09-26 19:48:36,353 - pyiron_log - WARNING - Deprecated data structure! Returned array was converted from dtype='O' to dtype=float64 via `np.array(result.tolist())`.\n",
      "Please run rewrite_hdf5() (from a job: job.project_hdf5.rewrite_hdf5() ) to update this data! To update all your data run Project.maintenance.update.base_v0_3_to_v0_4('all').\n",
      "2022-09-26 19:48:46,710 - pyiron_log - WARNING - Deprecated data structure! Returned array was converted from dtype='O' to dtype=float64 via `np.array(result.tolist())`.\n",
      "Please run rewrite_hdf5() (from a job: job.project_hdf5.rewrite_hdf5() ) to update this data! To update all your data run Project.maintenance.update.base_v0_3_to_v0_4('all').\n"
     ]
    },
    {
     "name": "stdout",
     "output_type": "stream",
     "text": [
      "The job hena_1_glass_small_82_573k was saved and received the ID: 13105\n"
     ]
    },
    {
     "name": "stderr",
     "output_type": "stream",
     "text": [
      "/nfshome/deshmukh/miniconda3/envs/vaibhav/lib/python3.9/site-packages/pysqa/utils/remote.py:235: UserWarning: \n",
      "  warnings.warn(stderr.read().decode())\n",
      "100%|██████████| 1/1 [00:00<00:00, 81.83it/s]\n",
      "100%|██████████| 4/4 [00:00<00:00, 180.35it/s]\n",
      "/nfshome/deshmukh/miniconda3/envs/vaibhav/lib/python3.9/site-packages/pysqa/utils/remote.py:235: UserWarning: 2022-09-26 19:48:56,133 - pyiron_log - INFO - job: hena_1_glass_small_82_573k id: 7, status: initialized, submitted: queue id 31659943\n",
      "\n",
      "  warnings.warn(stderr.read().decode())\n"
     ]
    },
    {
     "name": "stdout",
     "output_type": "stream",
     "text": [
      "Queue system id:  31659943\n"
     ]
    },
    {
     "name": "stderr",
     "output_type": "stream",
     "text": [
      "/tmp/ipykernel_39325/1823927583.py:6: DeprecationWarning: pyiron_atomistics.atomistics.structure.has_structure.get_structure(iteration_step=-1) is deprecated.\n",
      "  struct_nvt = job_mini.get_structure(iteration_step=-1) # Last frame from minimization\n",
      "2022-09-26 19:49:07,875 - pyiron_log - WARNING - Deprecated data structure! Returned array was converted from dtype='O' to dtype=float64 via `np.array(result.tolist())`.\n",
      "Please run rewrite_hdf5() (from a job: job.project_hdf5.rewrite_hdf5() ) to update this data! To update all your data run Project.maintenance.update.base_v0_3_to_v0_4('all').\n",
      "2022-09-26 19:49:08,611 - pyiron_log - WARNING - Deprecated data structure! Returned array was converted from dtype='O' to dtype=float64 via `np.array(result.tolist())`.\n",
      "Please run rewrite_hdf5() (from a job: job.project_hdf5.rewrite_hdf5() ) to update this data! To update all your data run Project.maintenance.update.base_v0_3_to_v0_4('all').\n",
      "2022-09-26 19:49:09,109 - pyiron_log - WARNING - Deprecated data structure! Returned array was converted from dtype='O' to dtype=float64 via `np.array(result.tolist())`.\n",
      "Please run rewrite_hdf5() (from a job: job.project_hdf5.rewrite_hdf5() ) to update this data! To update all your data run Project.maintenance.update.base_v0_3_to_v0_4('all').\n",
      "2022-09-26 19:49:10,774 - pyiron_log - WARNING - Deprecated data structure! Returned array was converted from dtype='O' to dtype=int64 via `np.array(result.tolist())`.\n",
      "Please run rewrite_hdf5() (from a job: job.project_hdf5.rewrite_hdf5() ) to update this data! To update all your data run Project.maintenance.update.base_v0_3_to_v0_4('all').\n",
      "2022-09-26 19:49:12,579 - pyiron_log - WARNING - Deprecated data structure! Returned array was converted from dtype='O' to dtype=int64 via `np.array(result.tolist())`.\n",
      "Please run rewrite_hdf5() (from a job: job.project_hdf5.rewrite_hdf5() ) to update this data! To update all your data run Project.maintenance.update.base_v0_3_to_v0_4('all').\n",
      "2022-09-26 19:49:23,961 - pyiron_log - WARNING - Deprecated data structure! Returned array was converted from dtype='O' to dtype=float64 via `np.array(result.tolist())`.\n",
      "Please run rewrite_hdf5() (from a job: job.project_hdf5.rewrite_hdf5() ) to update this data! To update all your data run Project.maintenance.update.base_v0_3_to_v0_4('all').\n",
      "2022-09-26 19:49:34,279 - pyiron_log - WARNING - Deprecated data structure! Returned array was converted from dtype='O' to dtype=float64 via `np.array(result.tolist())`.\n",
      "Please run rewrite_hdf5() (from a job: job.project_hdf5.rewrite_hdf5() ) to update this data! To update all your data run Project.maintenance.update.base_v0_3_to_v0_4('all').\n"
     ]
    },
    {
     "name": "stdout",
     "output_type": "stream",
     "text": [
      "The job hena_1_glass_small_82_623k was saved and received the ID: 13106\n"
     ]
    },
    {
     "name": "stderr",
     "output_type": "stream",
     "text": [
      "/nfshome/deshmukh/miniconda3/envs/vaibhav/lib/python3.9/site-packages/pysqa/utils/remote.py:235: UserWarning: \n",
      "  warnings.warn(stderr.read().decode())\n",
      "100%|██████████| 1/1 [00:00<00:00, 79.87it/s]\n",
      "100%|██████████| 4/4 [00:00<00:00, 187.97it/s]\n",
      "/nfshome/deshmukh/miniconda3/envs/vaibhav/lib/python3.9/site-packages/pysqa/utils/remote.py:235: UserWarning: 2022-09-26 19:49:43,898 - pyiron_log - INFO - job: hena_1_glass_small_82_623k id: 8, status: initialized, submitted: queue id 31659959\n",
      "\n",
      "  warnings.warn(stderr.read().decode())\n"
     ]
    },
    {
     "name": "stdout",
     "output_type": "stream",
     "text": [
      "Queue system id:  31659959\n"
     ]
    },
    {
     "name": "stderr",
     "output_type": "stream",
     "text": [
      "/tmp/ipykernel_39325/1823927583.py:6: DeprecationWarning: pyiron_atomistics.atomistics.structure.has_structure.get_structure(iteration_step=-1) is deprecated.\n",
      "  struct_nvt = job_mini.get_structure(iteration_step=-1) # Last frame from minimization\n",
      "2022-09-26 19:49:55,902 - pyiron_log - WARNING - Deprecated data structure! Returned array was converted from dtype='O' to dtype=float64 via `np.array(result.tolist())`.\n",
      "Please run rewrite_hdf5() (from a job: job.project_hdf5.rewrite_hdf5() ) to update this data! To update all your data run Project.maintenance.update.base_v0_3_to_v0_4('all').\n",
      "2022-09-26 19:49:56,546 - pyiron_log - WARNING - Deprecated data structure! Returned array was converted from dtype='O' to dtype=float64 via `np.array(result.tolist())`.\n",
      "Please run rewrite_hdf5() (from a job: job.project_hdf5.rewrite_hdf5() ) to update this data! To update all your data run Project.maintenance.update.base_v0_3_to_v0_4('all').\n",
      "2022-09-26 19:49:56,843 - pyiron_log - WARNING - Deprecated data structure! Returned array was converted from dtype='O' to dtype=float64 via `np.array(result.tolist())`.\n",
      "Please run rewrite_hdf5() (from a job: job.project_hdf5.rewrite_hdf5() ) to update this data! To update all your data run Project.maintenance.update.base_v0_3_to_v0_4('all').\n",
      "2022-09-26 19:49:58,500 - pyiron_log - WARNING - Deprecated data structure! Returned array was converted from dtype='O' to dtype=int64 via `np.array(result.tolist())`.\n",
      "Please run rewrite_hdf5() (from a job: job.project_hdf5.rewrite_hdf5() ) to update this data! To update all your data run Project.maintenance.update.base_v0_3_to_v0_4('all').\n",
      "2022-09-26 19:50:00,201 - pyiron_log - WARNING - Deprecated data structure! Returned array was converted from dtype='O' to dtype=int64 via `np.array(result.tolist())`.\n",
      "Please run rewrite_hdf5() (from a job: job.project_hdf5.rewrite_hdf5() ) to update this data! To update all your data run Project.maintenance.update.base_v0_3_to_v0_4('all').\n",
      "2022-09-26 19:50:10,329 - pyiron_log - WARNING - Deprecated data structure! Returned array was converted from dtype='O' to dtype=float64 via `np.array(result.tolist())`.\n",
      "Please run rewrite_hdf5() (from a job: job.project_hdf5.rewrite_hdf5() ) to update this data! To update all your data run Project.maintenance.update.base_v0_3_to_v0_4('all').\n",
      "2022-09-26 19:50:20,577 - pyiron_log - WARNING - Deprecated data structure! Returned array was converted from dtype='O' to dtype=float64 via `np.array(result.tolist())`.\n",
      "Please run rewrite_hdf5() (from a job: job.project_hdf5.rewrite_hdf5() ) to update this data! To update all your data run Project.maintenance.update.base_v0_3_to_v0_4('all').\n"
     ]
    },
    {
     "name": "stdout",
     "output_type": "stream",
     "text": [
      "The job hena_1_glass_small_82_673k was saved and received the ID: 13107\n"
     ]
    },
    {
     "name": "stderr",
     "output_type": "stream",
     "text": [
      "/nfshome/deshmukh/miniconda3/envs/vaibhav/lib/python3.9/site-packages/pysqa/utils/remote.py:235: UserWarning: \n",
      "  warnings.warn(stderr.read().decode())\n",
      "100%|██████████| 1/1 [00:00<00:00, 82.00it/s]\n",
      "100%|██████████| 4/4 [00:00<00:00, 187.92it/s]\n",
      "/nfshome/deshmukh/miniconda3/envs/vaibhav/lib/python3.9/site-packages/pysqa/utils/remote.py:235: UserWarning: 2022-09-26 19:50:30,101 - pyiron_log - INFO - job: hena_1_glass_small_82_673k id: 9, status: initialized, submitted: queue id 31659960\n",
      "\n",
      "  warnings.warn(stderr.read().decode())\n"
     ]
    },
    {
     "name": "stdout",
     "output_type": "stream",
     "text": [
      "Queue system id:  31659960\n"
     ]
    },
    {
     "name": "stderr",
     "output_type": "stream",
     "text": [
      "/tmp/ipykernel_39325/1823927583.py:6: DeprecationWarning: pyiron_atomistics.atomistics.structure.has_structure.get_structure(iteration_step=-1) is deprecated.\n",
      "  struct_nvt = job_mini.get_structure(iteration_step=-1) # Last frame from minimization\n",
      "2022-09-26 19:50:42,336 - pyiron_log - WARNING - Deprecated data structure! Returned array was converted from dtype='O' to dtype=float64 via `np.array(result.tolist())`.\n",
      "Please run rewrite_hdf5() (from a job: job.project_hdf5.rewrite_hdf5() ) to update this data! To update all your data run Project.maintenance.update.base_v0_3_to_v0_4('all').\n",
      "2022-09-26 19:50:42,975 - pyiron_log - WARNING - Deprecated data structure! Returned array was converted from dtype='O' to dtype=float64 via `np.array(result.tolist())`.\n",
      "Please run rewrite_hdf5() (from a job: job.project_hdf5.rewrite_hdf5() ) to update this data! To update all your data run Project.maintenance.update.base_v0_3_to_v0_4('all').\n",
      "2022-09-26 19:50:43,295 - pyiron_log - WARNING - Deprecated data structure! Returned array was converted from dtype='O' to dtype=float64 via `np.array(result.tolist())`.\n",
      "Please run rewrite_hdf5() (from a job: job.project_hdf5.rewrite_hdf5() ) to update this data! To update all your data run Project.maintenance.update.base_v0_3_to_v0_4('all').\n",
      "2022-09-26 19:50:44,964 - pyiron_log - WARNING - Deprecated data structure! Returned array was converted from dtype='O' to dtype=int64 via `np.array(result.tolist())`.\n",
      "Please run rewrite_hdf5() (from a job: job.project_hdf5.rewrite_hdf5() ) to update this data! To update all your data run Project.maintenance.update.base_v0_3_to_v0_4('all').\n",
      "2022-09-26 19:50:46,673 - pyiron_log - WARNING - Deprecated data structure! Returned array was converted from dtype='O' to dtype=int64 via `np.array(result.tolist())`.\n",
      "Please run rewrite_hdf5() (from a job: job.project_hdf5.rewrite_hdf5() ) to update this data! To update all your data run Project.maintenance.update.base_v0_3_to_v0_4('all').\n",
      "2022-09-26 19:50:57,006 - pyiron_log - WARNING - Deprecated data structure! Returned array was converted from dtype='O' to dtype=float64 via `np.array(result.tolist())`.\n",
      "Please run rewrite_hdf5() (from a job: job.project_hdf5.rewrite_hdf5() ) to update this data! To update all your data run Project.maintenance.update.base_v0_3_to_v0_4('all').\n",
      "2022-09-26 19:51:07,938 - pyiron_log - WARNING - Deprecated data structure! Returned array was converted from dtype='O' to dtype=float64 via `np.array(result.tolist())`.\n",
      "Please run rewrite_hdf5() (from a job: job.project_hdf5.rewrite_hdf5() ) to update this data! To update all your data run Project.maintenance.update.base_v0_3_to_v0_4('all').\n"
     ]
    },
    {
     "name": "stdout",
     "output_type": "stream",
     "text": [
      "The job hena_1_glass_small_82_723k was saved and received the ID: 13108\n"
     ]
    },
    {
     "name": "stderr",
     "output_type": "stream",
     "text": [
      "/nfshome/deshmukh/miniconda3/envs/vaibhav/lib/python3.9/site-packages/pysqa/utils/remote.py:235: UserWarning: \n",
      "  warnings.warn(stderr.read().decode())\n",
      "100%|██████████| 1/1 [00:00<00:00, 78.82it/s]\n",
      "100%|██████████| 4/4 [00:00<00:00, 158.30it/s]\n",
      "/nfshome/deshmukh/miniconda3/envs/vaibhav/lib/python3.9/site-packages/pysqa/utils/remote.py:235: UserWarning: 2022-09-26 19:51:17,218 - pyiron_log - INFO - job: hena_1_glass_small_82_723k id: 10, status: initialized, submitted: queue id 31659961\n",
      "\n",
      "  warnings.warn(stderr.read().decode())\n"
     ]
    },
    {
     "name": "stdout",
     "output_type": "stream",
     "text": [
      "Queue system id:  31659961\n"
     ]
    },
    {
     "name": "stderr",
     "output_type": "stream",
     "text": [
      "/tmp/ipykernel_39325/1823927583.py:6: DeprecationWarning: pyiron_atomistics.atomistics.structure.has_structure.get_structure(iteration_step=-1) is deprecated.\n",
      "  struct_nvt = job_mini.get_structure(iteration_step=-1) # Last frame from minimization\n",
      "2022-09-26 19:51:28,721 - pyiron_log - WARNING - Deprecated data structure! Returned array was converted from dtype='O' to dtype=float64 via `np.array(result.tolist())`.\n",
      "Please run rewrite_hdf5() (from a job: job.project_hdf5.rewrite_hdf5() ) to update this data! To update all your data run Project.maintenance.update.base_v0_3_to_v0_4('all').\n",
      "2022-09-26 19:51:29,385 - pyiron_log - WARNING - Deprecated data structure! Returned array was converted from dtype='O' to dtype=float64 via `np.array(result.tolist())`.\n",
      "Please run rewrite_hdf5() (from a job: job.project_hdf5.rewrite_hdf5() ) to update this data! To update all your data run Project.maintenance.update.base_v0_3_to_v0_4('all').\n",
      "2022-09-26 19:51:29,683 - pyiron_log - WARNING - Deprecated data structure! Returned array was converted from dtype='O' to dtype=float64 via `np.array(result.tolist())`.\n",
      "Please run rewrite_hdf5() (from a job: job.project_hdf5.rewrite_hdf5() ) to update this data! To update all your data run Project.maintenance.update.base_v0_3_to_v0_4('all').\n",
      "2022-09-26 19:51:31,359 - pyiron_log - WARNING - Deprecated data structure! Returned array was converted from dtype='O' to dtype=int64 via `np.array(result.tolist())`.\n",
      "Please run rewrite_hdf5() (from a job: job.project_hdf5.rewrite_hdf5() ) to update this data! To update all your data run Project.maintenance.update.base_v0_3_to_v0_4('all').\n",
      "2022-09-26 19:51:33,084 - pyiron_log - WARNING - Deprecated data structure! Returned array was converted from dtype='O' to dtype=int64 via `np.array(result.tolist())`.\n",
      "Please run rewrite_hdf5() (from a job: job.project_hdf5.rewrite_hdf5() ) to update this data! To update all your data run Project.maintenance.update.base_v0_3_to_v0_4('all').\n",
      "2022-09-26 19:51:43,414 - pyiron_log - WARNING - Deprecated data structure! Returned array was converted from dtype='O' to dtype=float64 via `np.array(result.tolist())`.\n",
      "Please run rewrite_hdf5() (from a job: job.project_hdf5.rewrite_hdf5() ) to update this data! To update all your data run Project.maintenance.update.base_v0_3_to_v0_4('all').\n",
      "2022-09-26 19:51:54,498 - pyiron_log - WARNING - Deprecated data structure! Returned array was converted from dtype='O' to dtype=float64 via `np.array(result.tolist())`.\n",
      "Please run rewrite_hdf5() (from a job: job.project_hdf5.rewrite_hdf5() ) to update this data! To update all your data run Project.maintenance.update.base_v0_3_to_v0_4('all').\n"
     ]
    },
    {
     "name": "stdout",
     "output_type": "stream",
     "text": [
      "The job hena_1_glass_small_82_773k was saved and received the ID: 13110\n"
     ]
    },
    {
     "name": "stderr",
     "output_type": "stream",
     "text": [
      "/nfshome/deshmukh/miniconda3/envs/vaibhav/lib/python3.9/site-packages/pysqa/utils/remote.py:235: UserWarning: \n",
      "  warnings.warn(stderr.read().decode())\n",
      "100%|██████████| 1/1 [00:00<00:00, 73.79it/s]\n",
      "100%|██████████| 4/4 [00:00<00:00, 159.18it/s]\n",
      "/nfshome/deshmukh/miniconda3/envs/vaibhav/lib/python3.9/site-packages/pysqa/utils/remote.py:235: UserWarning: 2022-09-26 19:52:03,706 - pyiron_log - INFO - job: hena_1_glass_small_82_773k id: 11, status: initialized, submitted: queue id 31659963\n",
      "\n",
      "  warnings.warn(stderr.read().decode())\n"
     ]
    },
    {
     "name": "stdout",
     "output_type": "stream",
     "text": [
      "Queue system id:  31659963\n"
     ]
    },
    {
     "name": "stderr",
     "output_type": "stream",
     "text": [
      "/tmp/ipykernel_39325/1823927583.py:6: DeprecationWarning: pyiron_atomistics.atomistics.structure.has_structure.get_structure(iteration_step=-1) is deprecated.\n",
      "  struct_nvt = job_mini.get_structure(iteration_step=-1) # Last frame from minimization\n",
      "2022-09-26 19:52:15,859 - pyiron_log - WARNING - Deprecated data structure! Returned array was converted from dtype='O' to dtype=float64 via `np.array(result.tolist())`.\n",
      "Please run rewrite_hdf5() (from a job: job.project_hdf5.rewrite_hdf5() ) to update this data! To update all your data run Project.maintenance.update.base_v0_3_to_v0_4('all').\n",
      "2022-09-26 19:52:16,681 - pyiron_log - WARNING - Deprecated data structure! Returned array was converted from dtype='O' to dtype=float64 via `np.array(result.tolist())`.\n",
      "Please run rewrite_hdf5() (from a job: job.project_hdf5.rewrite_hdf5() ) to update this data! To update all your data run Project.maintenance.update.base_v0_3_to_v0_4('all').\n",
      "2022-09-26 19:52:16,979 - pyiron_log - WARNING - Deprecated data structure! Returned array was converted from dtype='O' to dtype=float64 via `np.array(result.tolist())`.\n",
      "Please run rewrite_hdf5() (from a job: job.project_hdf5.rewrite_hdf5() ) to update this data! To update all your data run Project.maintenance.update.base_v0_3_to_v0_4('all').\n",
      "2022-09-26 19:52:18,663 - pyiron_log - WARNING - Deprecated data structure! Returned array was converted from dtype='O' to dtype=int64 via `np.array(result.tolist())`.\n",
      "Please run rewrite_hdf5() (from a job: job.project_hdf5.rewrite_hdf5() ) to update this data! To update all your data run Project.maintenance.update.base_v0_3_to_v0_4('all').\n",
      "2022-09-26 19:52:20,369 - pyiron_log - WARNING - Deprecated data structure! Returned array was converted from dtype='O' to dtype=int64 via `np.array(result.tolist())`.\n",
      "Please run rewrite_hdf5() (from a job: job.project_hdf5.rewrite_hdf5() ) to update this data! To update all your data run Project.maintenance.update.base_v0_3_to_v0_4('all').\n",
      "2022-09-26 19:52:30,977 - pyiron_log - WARNING - Deprecated data structure! Returned array was converted from dtype='O' to dtype=float64 via `np.array(result.tolist())`.\n",
      "Please run rewrite_hdf5() (from a job: job.project_hdf5.rewrite_hdf5() ) to update this data! To update all your data run Project.maintenance.update.base_v0_3_to_v0_4('all').\n",
      "2022-09-26 19:52:41,522 - pyiron_log - WARNING - Deprecated data structure! Returned array was converted from dtype='O' to dtype=float64 via `np.array(result.tolist())`.\n",
      "Please run rewrite_hdf5() (from a job: job.project_hdf5.rewrite_hdf5() ) to update this data! To update all your data run Project.maintenance.update.base_v0_3_to_v0_4('all').\n"
     ]
    },
    {
     "name": "stdout",
     "output_type": "stream",
     "text": [
      "The job hena_1_glass_small_139_523k was saved and received the ID: 13111\n"
     ]
    },
    {
     "name": "stderr",
     "output_type": "stream",
     "text": [
      "/nfshome/deshmukh/miniconda3/envs/vaibhav/lib/python3.9/site-packages/pysqa/utils/remote.py:235: UserWarning: \n",
      "  warnings.warn(stderr.read().decode())\n",
      "100%|██████████| 1/1 [00:00<00:00, 72.51it/s]\n",
      "100%|██████████| 4/4 [00:00<00:00, 156.89it/s]\n",
      "/nfshome/deshmukh/miniconda3/envs/vaibhav/lib/python3.9/site-packages/pysqa/utils/remote.py:235: UserWarning: 2022-09-26 19:52:50,869 - pyiron_log - INFO - job: hena_1_glass_small_139_523k id: 6, status: initialized, submitted: queue id 31659964\n",
      "\n",
      "  warnings.warn(stderr.read().decode())\n"
     ]
    },
    {
     "name": "stdout",
     "output_type": "stream",
     "text": [
      "Queue system id:  31659964\n"
     ]
    },
    {
     "name": "stderr",
     "output_type": "stream",
     "text": [
      "/tmp/ipykernel_39325/1823927583.py:6: DeprecationWarning: pyiron_atomistics.atomistics.structure.has_structure.get_structure(iteration_step=-1) is deprecated.\n",
      "  struct_nvt = job_mini.get_structure(iteration_step=-1) # Last frame from minimization\n",
      "2022-09-26 19:53:03,067 - pyiron_log - WARNING - Deprecated data structure! Returned array was converted from dtype='O' to dtype=float64 via `np.array(result.tolist())`.\n",
      "Please run rewrite_hdf5() (from a job: job.project_hdf5.rewrite_hdf5() ) to update this data! To update all your data run Project.maintenance.update.base_v0_3_to_v0_4('all').\n",
      "2022-09-26 19:53:03,724 - pyiron_log - WARNING - Deprecated data structure! Returned array was converted from dtype='O' to dtype=float64 via `np.array(result.tolist())`.\n",
      "Please run rewrite_hdf5() (from a job: job.project_hdf5.rewrite_hdf5() ) to update this data! To update all your data run Project.maintenance.update.base_v0_3_to_v0_4('all').\n",
      "2022-09-26 19:53:04,022 - pyiron_log - WARNING - Deprecated data structure! Returned array was converted from dtype='O' to dtype=float64 via `np.array(result.tolist())`.\n",
      "Please run rewrite_hdf5() (from a job: job.project_hdf5.rewrite_hdf5() ) to update this data! To update all your data run Project.maintenance.update.base_v0_3_to_v0_4('all').\n",
      "2022-09-26 19:53:05,719 - pyiron_log - WARNING - Deprecated data structure! Returned array was converted from dtype='O' to dtype=int64 via `np.array(result.tolist())`.\n",
      "Please run rewrite_hdf5() (from a job: job.project_hdf5.rewrite_hdf5() ) to update this data! To update all your data run Project.maintenance.update.base_v0_3_to_v0_4('all').\n",
      "2022-09-26 19:53:07,456 - pyiron_log - WARNING - Deprecated data structure! Returned array was converted from dtype='O' to dtype=int64 via `np.array(result.tolist())`.\n",
      "Please run rewrite_hdf5() (from a job: job.project_hdf5.rewrite_hdf5() ) to update this data! To update all your data run Project.maintenance.update.base_v0_3_to_v0_4('all').\n",
      "2022-09-26 19:53:17,795 - pyiron_log - WARNING - Deprecated data structure! Returned array was converted from dtype='O' to dtype=float64 via `np.array(result.tolist())`.\n",
      "Please run rewrite_hdf5() (from a job: job.project_hdf5.rewrite_hdf5() ) to update this data! To update all your data run Project.maintenance.update.base_v0_3_to_v0_4('all').\n",
      "2022-09-26 19:53:28,289 - pyiron_log - WARNING - Deprecated data structure! Returned array was converted from dtype='O' to dtype=float64 via `np.array(result.tolist())`.\n",
      "Please run rewrite_hdf5() (from a job: job.project_hdf5.rewrite_hdf5() ) to update this data! To update all your data run Project.maintenance.update.base_v0_3_to_v0_4('all').\n"
     ]
    },
    {
     "name": "stdout",
     "output_type": "stream",
     "text": [
      "The job hena_1_glass_small_139_573k was saved and received the ID: 13112\n"
     ]
    },
    {
     "name": "stderr",
     "output_type": "stream",
     "text": [
      "/nfshome/deshmukh/miniconda3/envs/vaibhav/lib/python3.9/site-packages/pysqa/utils/remote.py:235: UserWarning: \n",
      "  warnings.warn(stderr.read().decode())\n",
      "100%|██████████| 1/1 [00:00<00:00, 71.30it/s]\n",
      "100%|██████████| 4/4 [00:00<00:00, 169.78it/s]\n",
      "/nfshome/deshmukh/miniconda3/envs/vaibhav/lib/python3.9/site-packages/pysqa/utils/remote.py:235: UserWarning: 2022-09-26 19:53:37,463 - pyiron_log - INFO - job: hena_1_glass_small_139_573k id: 7, status: initialized, submitted: queue id 31659966\n",
      "\n",
      "  warnings.warn(stderr.read().decode())\n"
     ]
    },
    {
     "name": "stdout",
     "output_type": "stream",
     "text": [
      "Queue system id:  31659966\n"
     ]
    },
    {
     "name": "stderr",
     "output_type": "stream",
     "text": [
      "/tmp/ipykernel_39325/1823927583.py:6: DeprecationWarning: pyiron_atomistics.atomistics.structure.has_structure.get_structure(iteration_step=-1) is deprecated.\n",
      "  struct_nvt = job_mini.get_structure(iteration_step=-1) # Last frame from minimization\n",
      "2022-09-26 19:53:49,378 - pyiron_log - WARNING - Deprecated data structure! Returned array was converted from dtype='O' to dtype=float64 via `np.array(result.tolist())`.\n",
      "Please run rewrite_hdf5() (from a job: job.project_hdf5.rewrite_hdf5() ) to update this data! To update all your data run Project.maintenance.update.base_v0_3_to_v0_4('all').\n",
      "2022-09-26 19:53:50,098 - pyiron_log - WARNING - Deprecated data structure! Returned array was converted from dtype='O' to dtype=float64 via `np.array(result.tolist())`.\n",
      "Please run rewrite_hdf5() (from a job: job.project_hdf5.rewrite_hdf5() ) to update this data! To update all your data run Project.maintenance.update.base_v0_3_to_v0_4('all').\n",
      "2022-09-26 19:53:50,597 - pyiron_log - WARNING - Deprecated data structure! Returned array was converted from dtype='O' to dtype=float64 via `np.array(result.tolist())`.\n",
      "Please run rewrite_hdf5() (from a job: job.project_hdf5.rewrite_hdf5() ) to update this data! To update all your data run Project.maintenance.update.base_v0_3_to_v0_4('all').\n",
      "2022-09-26 19:53:52,263 - pyiron_log - WARNING - Deprecated data structure! Returned array was converted from dtype='O' to dtype=int64 via `np.array(result.tolist())`.\n",
      "Please run rewrite_hdf5() (from a job: job.project_hdf5.rewrite_hdf5() ) to update this data! To update all your data run Project.maintenance.update.base_v0_3_to_v0_4('all').\n",
      "2022-09-26 19:53:54,095 - pyiron_log - WARNING - Deprecated data structure! Returned array was converted from dtype='O' to dtype=int64 via `np.array(result.tolist())`.\n",
      "Please run rewrite_hdf5() (from a job: job.project_hdf5.rewrite_hdf5() ) to update this data! To update all your data run Project.maintenance.update.base_v0_3_to_v0_4('all').\n",
      "2022-09-26 19:54:05,126 - pyiron_log - WARNING - Deprecated data structure! Returned array was converted from dtype='O' to dtype=float64 via `np.array(result.tolist())`.\n",
      "Please run rewrite_hdf5() (from a job: job.project_hdf5.rewrite_hdf5() ) to update this data! To update all your data run Project.maintenance.update.base_v0_3_to_v0_4('all').\n",
      "2022-09-26 19:54:16,158 - pyiron_log - WARNING - Deprecated data structure! Returned array was converted from dtype='O' to dtype=float64 via `np.array(result.tolist())`.\n",
      "Please run rewrite_hdf5() (from a job: job.project_hdf5.rewrite_hdf5() ) to update this data! To update all your data run Project.maintenance.update.base_v0_3_to_v0_4('all').\n"
     ]
    },
    {
     "name": "stdout",
     "output_type": "stream",
     "text": [
      "The job hena_1_glass_small_139_623k was saved and received the ID: 13113\n"
     ]
    },
    {
     "name": "stderr",
     "output_type": "stream",
     "text": [
      "/nfshome/deshmukh/miniconda3/envs/vaibhav/lib/python3.9/site-packages/pysqa/utils/remote.py:235: UserWarning: \n",
      "  warnings.warn(stderr.read().decode())\n",
      "100%|██████████| 1/1 [00:00<00:00, 75.52it/s]\n",
      "100%|██████████| 4/4 [00:00<00:00, 156.02it/s]\n",
      "/nfshome/deshmukh/miniconda3/envs/vaibhav/lib/python3.9/site-packages/pysqa/utils/remote.py:235: UserWarning: 2022-09-26 19:54:25,605 - pyiron_log - INFO - job: hena_1_glass_small_139_623k id: 8, status: initialized, submitted: queue id 31659967\n",
      "\n",
      "  warnings.warn(stderr.read().decode())\n"
     ]
    },
    {
     "name": "stdout",
     "output_type": "stream",
     "text": [
      "Queue system id:  31659967\n"
     ]
    },
    {
     "name": "stderr",
     "output_type": "stream",
     "text": [
      "/tmp/ipykernel_39325/1823927583.py:6: DeprecationWarning: pyiron_atomistics.atomistics.structure.has_structure.get_structure(iteration_step=-1) is deprecated.\n",
      "  struct_nvt = job_mini.get_structure(iteration_step=-1) # Last frame from minimization\n",
      "2022-09-26 19:54:37,985 - pyiron_log - WARNING - Deprecated data structure! Returned array was converted from dtype='O' to dtype=float64 via `np.array(result.tolist())`.\n",
      "Please run rewrite_hdf5() (from a job: job.project_hdf5.rewrite_hdf5() ) to update this data! To update all your data run Project.maintenance.update.base_v0_3_to_v0_4('all').\n",
      "2022-09-26 19:54:38,615 - pyiron_log - WARNING - Deprecated data structure! Returned array was converted from dtype='O' to dtype=float64 via `np.array(result.tolist())`.\n",
      "Please run rewrite_hdf5() (from a job: job.project_hdf5.rewrite_hdf5() ) to update this data! To update all your data run Project.maintenance.update.base_v0_3_to_v0_4('all').\n",
      "2022-09-26 19:54:38,915 - pyiron_log - WARNING - Deprecated data structure! Returned array was converted from dtype='O' to dtype=float64 via `np.array(result.tolist())`.\n",
      "Please run rewrite_hdf5() (from a job: job.project_hdf5.rewrite_hdf5() ) to update this data! To update all your data run Project.maintenance.update.base_v0_3_to_v0_4('all').\n",
      "2022-09-26 19:54:40,600 - pyiron_log - WARNING - Deprecated data structure! Returned array was converted from dtype='O' to dtype=int64 via `np.array(result.tolist())`.\n",
      "Please run rewrite_hdf5() (from a job: job.project_hdf5.rewrite_hdf5() ) to update this data! To update all your data run Project.maintenance.update.base_v0_3_to_v0_4('all').\n",
      "2022-09-26 19:54:42,326 - pyiron_log - WARNING - Deprecated data structure! Returned array was converted from dtype='O' to dtype=int64 via `np.array(result.tolist())`.\n",
      "Please run rewrite_hdf5() (from a job: job.project_hdf5.rewrite_hdf5() ) to update this data! To update all your data run Project.maintenance.update.base_v0_3_to_v0_4('all').\n",
      "2022-09-26 19:54:52,575 - pyiron_log - WARNING - Deprecated data structure! Returned array was converted from dtype='O' to dtype=float64 via `np.array(result.tolist())`.\n",
      "Please run rewrite_hdf5() (from a job: job.project_hdf5.rewrite_hdf5() ) to update this data! To update all your data run Project.maintenance.update.base_v0_3_to_v0_4('all').\n",
      "2022-09-26 19:55:03,526 - pyiron_log - WARNING - Deprecated data structure! Returned array was converted from dtype='O' to dtype=float64 via `np.array(result.tolist())`.\n",
      "Please run rewrite_hdf5() (from a job: job.project_hdf5.rewrite_hdf5() ) to update this data! To update all your data run Project.maintenance.update.base_v0_3_to_v0_4('all').\n"
     ]
    },
    {
     "name": "stdout",
     "output_type": "stream",
     "text": [
      "The job hena_1_glass_small_139_673k was saved and received the ID: 13114\n"
     ]
    },
    {
     "name": "stderr",
     "output_type": "stream",
     "text": [
      "/nfshome/deshmukh/miniconda3/envs/vaibhav/lib/python3.9/site-packages/pysqa/utils/remote.py:235: UserWarning: \n",
      "  warnings.warn(stderr.read().decode())\n",
      "100%|██████████| 1/1 [00:00<00:00, 72.22it/s]\n",
      "100%|██████████| 4/4 [00:00<00:00, 167.19it/s]\n",
      "/nfshome/deshmukh/miniconda3/envs/vaibhav/lib/python3.9/site-packages/pysqa/utils/remote.py:235: UserWarning: 2022-09-26 19:55:12,986 - pyiron_log - INFO - job: hena_1_glass_small_139_673k id: 9, status: initialized, submitted: queue id 31659968\n",
      "\n",
      "  warnings.warn(stderr.read().decode())\n"
     ]
    },
    {
     "name": "stdout",
     "output_type": "stream",
     "text": [
      "Queue system id:  31659968\n"
     ]
    },
    {
     "name": "stderr",
     "output_type": "stream",
     "text": [
      "/tmp/ipykernel_39325/1823927583.py:6: DeprecationWarning: pyiron_atomistics.atomistics.structure.has_structure.get_structure(iteration_step=-1) is deprecated.\n",
      "  struct_nvt = job_mini.get_structure(iteration_step=-1) # Last frame from minimization\n",
      "2022-09-26 19:55:24,794 - pyiron_log - WARNING - Deprecated data structure! Returned array was converted from dtype='O' to dtype=float64 via `np.array(result.tolist())`.\n",
      "Please run rewrite_hdf5() (from a job: job.project_hdf5.rewrite_hdf5() ) to update this data! To update all your data run Project.maintenance.update.base_v0_3_to_v0_4('all').\n",
      "2022-09-26 19:55:25,438 - pyiron_log - WARNING - Deprecated data structure! Returned array was converted from dtype='O' to dtype=float64 via `np.array(result.tolist())`.\n",
      "Please run rewrite_hdf5() (from a job: job.project_hdf5.rewrite_hdf5() ) to update this data! To update all your data run Project.maintenance.update.base_v0_3_to_v0_4('all').\n",
      "2022-09-26 19:55:25,737 - pyiron_log - WARNING - Deprecated data structure! Returned array was converted from dtype='O' to dtype=float64 via `np.array(result.tolist())`.\n",
      "Please run rewrite_hdf5() (from a job: job.project_hdf5.rewrite_hdf5() ) to update this data! To update all your data run Project.maintenance.update.base_v0_3_to_v0_4('all').\n",
      "2022-09-26 19:55:27,445 - pyiron_log - WARNING - Deprecated data structure! Returned array was converted from dtype='O' to dtype=int64 via `np.array(result.tolist())`.\n",
      "Please run rewrite_hdf5() (from a job: job.project_hdf5.rewrite_hdf5() ) to update this data! To update all your data run Project.maintenance.update.base_v0_3_to_v0_4('all').\n",
      "2022-09-26 19:55:29,192 - pyiron_log - WARNING - Deprecated data structure! Returned array was converted from dtype='O' to dtype=int64 via `np.array(result.tolist())`.\n",
      "Please run rewrite_hdf5() (from a job: job.project_hdf5.rewrite_hdf5() ) to update this data! To update all your data run Project.maintenance.update.base_v0_3_to_v0_4('all').\n",
      "2022-09-26 19:55:39,528 - pyiron_log - WARNING - Deprecated data structure! Returned array was converted from dtype='O' to dtype=float64 via `np.array(result.tolist())`.\n",
      "Please run rewrite_hdf5() (from a job: job.project_hdf5.rewrite_hdf5() ) to update this data! To update all your data run Project.maintenance.update.base_v0_3_to_v0_4('all').\n",
      "2022-09-26 19:55:50,046 - pyiron_log - WARNING - Deprecated data structure! Returned array was converted from dtype='O' to dtype=float64 via `np.array(result.tolist())`.\n",
      "Please run rewrite_hdf5() (from a job: job.project_hdf5.rewrite_hdf5() ) to update this data! To update all your data run Project.maintenance.update.base_v0_3_to_v0_4('all').\n"
     ]
    },
    {
     "name": "stdout",
     "output_type": "stream",
     "text": [
      "The job hena_1_glass_small_139_723k was saved and received the ID: 13115\n"
     ]
    },
    {
     "name": "stderr",
     "output_type": "stream",
     "text": [
      "/nfshome/deshmukh/miniconda3/envs/vaibhav/lib/python3.9/site-packages/pysqa/utils/remote.py:235: UserWarning: \n",
      "  warnings.warn(stderr.read().decode())\n",
      "100%|██████████| 1/1 [00:00<00:00, 72.42it/s]\n",
      "100%|██████████| 4/4 [00:00<00:00, 173.35it/s]\n",
      "/nfshome/deshmukh/miniconda3/envs/vaibhav/lib/python3.9/site-packages/pysqa/utils/remote.py:235: UserWarning: 2022-09-26 19:55:59,390 - pyiron_log - INFO - job: hena_1_glass_small_139_723k id: 10, status: initialized, submitted: queue id 31660001\n",
      "\n",
      "  warnings.warn(stderr.read().decode())\n"
     ]
    },
    {
     "name": "stdout",
     "output_type": "stream",
     "text": [
      "Queue system id:  31660001\n"
     ]
    },
    {
     "name": "stderr",
     "output_type": "stream",
     "text": [
      "/tmp/ipykernel_39325/1823927583.py:6: DeprecationWarning: pyiron_atomistics.atomistics.structure.has_structure.get_structure(iteration_step=-1) is deprecated.\n",
      "  struct_nvt = job_mini.get_structure(iteration_step=-1) # Last frame from minimization\n",
      "2022-09-26 19:56:11,254 - pyiron_log - WARNING - Deprecated data structure! Returned array was converted from dtype='O' to dtype=float64 via `np.array(result.tolist())`.\n",
      "Please run rewrite_hdf5() (from a job: job.project_hdf5.rewrite_hdf5() ) to update this data! To update all your data run Project.maintenance.update.base_v0_3_to_v0_4('all').\n",
      "2022-09-26 19:56:11,890 - pyiron_log - WARNING - Deprecated data structure! Returned array was converted from dtype='O' to dtype=float64 via `np.array(result.tolist())`.\n",
      "Please run rewrite_hdf5() (from a job: job.project_hdf5.rewrite_hdf5() ) to update this data! To update all your data run Project.maintenance.update.base_v0_3_to_v0_4('all').\n",
      "2022-09-26 19:56:12,193 - pyiron_log - WARNING - Deprecated data structure! Returned array was converted from dtype='O' to dtype=float64 via `np.array(result.tolist())`.\n",
      "Please run rewrite_hdf5() (from a job: job.project_hdf5.rewrite_hdf5() ) to update this data! To update all your data run Project.maintenance.update.base_v0_3_to_v0_4('all').\n",
      "2022-09-26 19:56:13,867 - pyiron_log - WARNING - Deprecated data structure! Returned array was converted from dtype='O' to dtype=int64 via `np.array(result.tolist())`.\n",
      "Please run rewrite_hdf5() (from a job: job.project_hdf5.rewrite_hdf5() ) to update this data! To update all your data run Project.maintenance.update.base_v0_3_to_v0_4('all').\n",
      "2022-09-26 19:56:15,573 - pyiron_log - WARNING - Deprecated data structure! Returned array was converted from dtype='O' to dtype=int64 via `np.array(result.tolist())`.\n",
      "Please run rewrite_hdf5() (from a job: job.project_hdf5.rewrite_hdf5() ) to update this data! To update all your data run Project.maintenance.update.base_v0_3_to_v0_4('all').\n",
      "2022-09-26 19:56:26,267 - pyiron_log - WARNING - Deprecated data structure! Returned array was converted from dtype='O' to dtype=float64 via `np.array(result.tolist())`.\n",
      "Please run rewrite_hdf5() (from a job: job.project_hdf5.rewrite_hdf5() ) to update this data! To update all your data run Project.maintenance.update.base_v0_3_to_v0_4('all').\n",
      "2022-09-26 19:56:36,993 - pyiron_log - WARNING - Deprecated data structure! Returned array was converted from dtype='O' to dtype=float64 via `np.array(result.tolist())`.\n",
      "Please run rewrite_hdf5() (from a job: job.project_hdf5.rewrite_hdf5() ) to update this data! To update all your data run Project.maintenance.update.base_v0_3_to_v0_4('all').\n"
     ]
    },
    {
     "name": "stdout",
     "output_type": "stream",
     "text": [
      "The job hena_1_glass_small_139_773k was saved and received the ID: 13117\n"
     ]
    },
    {
     "name": "stderr",
     "output_type": "stream",
     "text": [
      "/nfshome/deshmukh/miniconda3/envs/vaibhav/lib/python3.9/site-packages/pysqa/utils/remote.py:235: UserWarning: \n",
      "  warnings.warn(stderr.read().decode())\n",
      "100%|██████████| 1/1 [00:00<00:00, 72.93it/s]\n",
      "100%|██████████| 4/4 [00:00<00:00, 149.98it/s]\n",
      "/nfshome/deshmukh/miniconda3/envs/vaibhav/lib/python3.9/site-packages/pysqa/utils/remote.py:235: UserWarning: 2022-09-26 19:56:46,812 - pyiron_log - INFO - job: hena_1_glass_small_139_773k id: 11, status: initialized, submitted: queue id 31660016\n",
      "\n",
      "  warnings.warn(stderr.read().decode())\n"
     ]
    },
    {
     "name": "stdout",
     "output_type": "stream",
     "text": [
      "Queue system id:  31660016\n"
     ]
    },
    {
     "name": "stderr",
     "output_type": "stream",
     "text": [
      "/tmp/ipykernel_39325/1823927583.py:6: DeprecationWarning: pyiron_atomistics.atomistics.structure.has_structure.get_structure(iteration_step=-1) is deprecated.\n",
      "  struct_nvt = job_mini.get_structure(iteration_step=-1) # Last frame from minimization\n",
      "2022-09-26 19:56:59,060 - pyiron_log - WARNING - Deprecated data structure! Returned array was converted from dtype='O' to dtype=float64 via `np.array(result.tolist())`.\n",
      "Please run rewrite_hdf5() (from a job: job.project_hdf5.rewrite_hdf5() ) to update this data! To update all your data run Project.maintenance.update.base_v0_3_to_v0_4('all').\n",
      "2022-09-26 19:56:59,810 - pyiron_log - WARNING - Deprecated data structure! Returned array was converted from dtype='O' to dtype=float64 via `np.array(result.tolist())`.\n",
      "Please run rewrite_hdf5() (from a job: job.project_hdf5.rewrite_hdf5() ) to update this data! To update all your data run Project.maintenance.update.base_v0_3_to_v0_4('all').\n",
      "2022-09-26 19:57:00,128 - pyiron_log - WARNING - Deprecated data structure! Returned array was converted from dtype='O' to dtype=float64 via `np.array(result.tolist())`.\n",
      "Please run rewrite_hdf5() (from a job: job.project_hdf5.rewrite_hdf5() ) to update this data! To update all your data run Project.maintenance.update.base_v0_3_to_v0_4('all').\n",
      "2022-09-26 19:57:01,931 - pyiron_log - WARNING - Deprecated data structure! Returned array was converted from dtype='O' to dtype=int64 via `np.array(result.tolist())`.\n",
      "Please run rewrite_hdf5() (from a job: job.project_hdf5.rewrite_hdf5() ) to update this data! To update all your data run Project.maintenance.update.base_v0_3_to_v0_4('all').\n",
      "2022-09-26 19:57:03,640 - pyiron_log - WARNING - Deprecated data structure! Returned array was converted from dtype='O' to dtype=int64 via `np.array(result.tolist())`.\n",
      "Please run rewrite_hdf5() (from a job: job.project_hdf5.rewrite_hdf5() ) to update this data! To update all your data run Project.maintenance.update.base_v0_3_to_v0_4('all').\n",
      "2022-09-26 19:57:13,647 - pyiron_log - WARNING - Deprecated data structure! Returned array was converted from dtype='O' to dtype=float64 via `np.array(result.tolist())`.\n",
      "Please run rewrite_hdf5() (from a job: job.project_hdf5.rewrite_hdf5() ) to update this data! To update all your data run Project.maintenance.update.base_v0_3_to_v0_4('all').\n",
      "2022-09-26 19:57:24,202 - pyiron_log - WARNING - Deprecated data structure! Returned array was converted from dtype='O' to dtype=float64 via `np.array(result.tolist())`.\n",
      "Please run rewrite_hdf5() (from a job: job.project_hdf5.rewrite_hdf5() ) to update this data! To update all your data run Project.maintenance.update.base_v0_3_to_v0_4('all').\n"
     ]
    },
    {
     "name": "stdout",
     "output_type": "stream",
     "text": [
      "The job hena_1_glass_small_34_523k was saved and received the ID: 13118\n"
     ]
    },
    {
     "name": "stderr",
     "output_type": "stream",
     "text": [
      "/nfshome/deshmukh/miniconda3/envs/vaibhav/lib/python3.9/site-packages/pysqa/utils/remote.py:235: UserWarning: \n",
      "  warnings.warn(stderr.read().decode())\n",
      "100%|██████████| 1/1 [00:00<00:00, 79.51it/s]\n",
      "100%|██████████| 4/4 [00:00<00:00, 175.03it/s]\n",
      "/nfshome/deshmukh/miniconda3/envs/vaibhav/lib/python3.9/site-packages/pysqa/utils/remote.py:235: UserWarning: 2022-09-26 19:57:33,931 - pyiron_log - INFO - job: hena_1_glass_small_34_523k id: 12, status: initialized, submitted: queue id 31660018\n",
      "\n",
      "  warnings.warn(stderr.read().decode())\n"
     ]
    },
    {
     "name": "stdout",
     "output_type": "stream",
     "text": [
      "Queue system id:  31660018\n"
     ]
    },
    {
     "name": "stderr",
     "output_type": "stream",
     "text": [
      "/tmp/ipykernel_39325/1823927583.py:6: DeprecationWarning: pyiron_atomistics.atomistics.structure.has_structure.get_structure(iteration_step=-1) is deprecated.\n",
      "  struct_nvt = job_mini.get_structure(iteration_step=-1) # Last frame from minimization\n",
      "2022-09-26 19:57:46,412 - pyiron_log - WARNING - Deprecated data structure! Returned array was converted from dtype='O' to dtype=float64 via `np.array(result.tolist())`.\n",
      "Please run rewrite_hdf5() (from a job: job.project_hdf5.rewrite_hdf5() ) to update this data! To update all your data run Project.maintenance.update.base_v0_3_to_v0_4('all').\n",
      "2022-09-26 19:57:47,038 - pyiron_log - WARNING - Deprecated data structure! Returned array was converted from dtype='O' to dtype=float64 via `np.array(result.tolist())`.\n",
      "Please run rewrite_hdf5() (from a job: job.project_hdf5.rewrite_hdf5() ) to update this data! To update all your data run Project.maintenance.update.base_v0_3_to_v0_4('all').\n",
      "2022-09-26 19:57:47,335 - pyiron_log - WARNING - Deprecated data structure! Returned array was converted from dtype='O' to dtype=float64 via `np.array(result.tolist())`.\n",
      "Please run rewrite_hdf5() (from a job: job.project_hdf5.rewrite_hdf5() ) to update this data! To update all your data run Project.maintenance.update.base_v0_3_to_v0_4('all').\n",
      "2022-09-26 19:57:49,017 - pyiron_log - WARNING - Deprecated data structure! Returned array was converted from dtype='O' to dtype=int64 via `np.array(result.tolist())`.\n",
      "Please run rewrite_hdf5() (from a job: job.project_hdf5.rewrite_hdf5() ) to update this data! To update all your data run Project.maintenance.update.base_v0_3_to_v0_4('all').\n",
      "2022-09-26 19:57:50,752 - pyiron_log - WARNING - Deprecated data structure! Returned array was converted from dtype='O' to dtype=int64 via `np.array(result.tolist())`.\n",
      "Please run rewrite_hdf5() (from a job: job.project_hdf5.rewrite_hdf5() ) to update this data! To update all your data run Project.maintenance.update.base_v0_3_to_v0_4('all').\n",
      "2022-09-26 19:58:01,563 - pyiron_log - WARNING - Deprecated data structure! Returned array was converted from dtype='O' to dtype=float64 via `np.array(result.tolist())`.\n",
      "Please run rewrite_hdf5() (from a job: job.project_hdf5.rewrite_hdf5() ) to update this data! To update all your data run Project.maintenance.update.base_v0_3_to_v0_4('all').\n",
      "2022-09-26 19:58:12,003 - pyiron_log - WARNING - Deprecated data structure! Returned array was converted from dtype='O' to dtype=float64 via `np.array(result.tolist())`.\n",
      "Please run rewrite_hdf5() (from a job: job.project_hdf5.rewrite_hdf5() ) to update this data! To update all your data run Project.maintenance.update.base_v0_3_to_v0_4('all').\n"
     ]
    },
    {
     "name": "stdout",
     "output_type": "stream",
     "text": [
      "The job hena_1_glass_small_34_573k was saved and received the ID: 13119\n"
     ]
    },
    {
     "name": "stderr",
     "output_type": "stream",
     "text": [
      "/nfshome/deshmukh/miniconda3/envs/vaibhav/lib/python3.9/site-packages/pysqa/utils/remote.py:235: UserWarning: \n",
      "  warnings.warn(stderr.read().decode())\n",
      "100%|██████████| 1/1 [00:00<00:00, 62.32it/s]\n",
      "100%|██████████| 4/4 [00:00<00:00, 168.47it/s]\n",
      "/nfshome/deshmukh/miniconda3/envs/vaibhav/lib/python3.9/site-packages/pysqa/utils/remote.py:235: UserWarning: 2022-09-26 19:58:24,774 - pyiron_log - INFO - job: hena_1_glass_small_34_573k id: 13, status: initialized, submitted: queue id 31660019\n",
      "\n",
      "  warnings.warn(stderr.read().decode())\n"
     ]
    },
    {
     "name": "stdout",
     "output_type": "stream",
     "text": [
      "Queue system id:  31660019\n"
     ]
    },
    {
     "name": "stderr",
     "output_type": "stream",
     "text": [
      "/tmp/ipykernel_39325/1823927583.py:6: DeprecationWarning: pyiron_atomistics.atomistics.structure.has_structure.get_structure(iteration_step=-1) is deprecated.\n",
      "  struct_nvt = job_mini.get_structure(iteration_step=-1) # Last frame from minimization\n",
      "2022-09-26 19:58:37,032 - pyiron_log - WARNING - Deprecated data structure! Returned array was converted from dtype='O' to dtype=float64 via `np.array(result.tolist())`.\n",
      "Please run rewrite_hdf5() (from a job: job.project_hdf5.rewrite_hdf5() ) to update this data! To update all your data run Project.maintenance.update.base_v0_3_to_v0_4('all').\n",
      "2022-09-26 19:58:37,705 - pyiron_log - WARNING - Deprecated data structure! Returned array was converted from dtype='O' to dtype=float64 via `np.array(result.tolist())`.\n",
      "Please run rewrite_hdf5() (from a job: job.project_hdf5.rewrite_hdf5() ) to update this data! To update all your data run Project.maintenance.update.base_v0_3_to_v0_4('all').\n",
      "2022-09-26 19:58:38,007 - pyiron_log - WARNING - Deprecated data structure! Returned array was converted from dtype='O' to dtype=float64 via `np.array(result.tolist())`.\n",
      "Please run rewrite_hdf5() (from a job: job.project_hdf5.rewrite_hdf5() ) to update this data! To update all your data run Project.maintenance.update.base_v0_3_to_v0_4('all').\n",
      "2022-09-26 19:58:39,693 - pyiron_log - WARNING - Deprecated data structure! Returned array was converted from dtype='O' to dtype=int64 via `np.array(result.tolist())`.\n",
      "Please run rewrite_hdf5() (from a job: job.project_hdf5.rewrite_hdf5() ) to update this data! To update all your data run Project.maintenance.update.base_v0_3_to_v0_4('all').\n",
      "2022-09-26 19:58:41,536 - pyiron_log - WARNING - Deprecated data structure! Returned array was converted from dtype='O' to dtype=int64 via `np.array(result.tolist())`.\n",
      "Please run rewrite_hdf5() (from a job: job.project_hdf5.rewrite_hdf5() ) to update this data! To update all your data run Project.maintenance.update.base_v0_3_to_v0_4('all').\n",
      "2022-09-26 19:58:51,880 - pyiron_log - WARNING - Deprecated data structure! Returned array was converted from dtype='O' to dtype=float64 via `np.array(result.tolist())`.\n",
      "Please run rewrite_hdf5() (from a job: job.project_hdf5.rewrite_hdf5() ) to update this data! To update all your data run Project.maintenance.update.base_v0_3_to_v0_4('all').\n",
      "2022-09-26 19:59:02,456 - pyiron_log - WARNING - Deprecated data structure! Returned array was converted from dtype='O' to dtype=float64 via `np.array(result.tolist())`.\n",
      "Please run rewrite_hdf5() (from a job: job.project_hdf5.rewrite_hdf5() ) to update this data! To update all your data run Project.maintenance.update.base_v0_3_to_v0_4('all').\n"
     ]
    },
    {
     "name": "stdout",
     "output_type": "stream",
     "text": [
      "The job hena_1_glass_small_34_623k was saved and received the ID: 13120\n"
     ]
    },
    {
     "name": "stderr",
     "output_type": "stream",
     "text": [
      "/nfshome/deshmukh/miniconda3/envs/vaibhav/lib/python3.9/site-packages/pysqa/utils/remote.py:235: UserWarning: \n",
      "  warnings.warn(stderr.read().decode())\n",
      "100%|██████████| 1/1 [00:00<00:00, 69.80it/s]\n",
      "100%|██████████| 4/4 [00:00<00:00, 178.76it/s]\n",
      "/nfshome/deshmukh/miniconda3/envs/vaibhav/lib/python3.9/site-packages/pysqa/utils/remote.py:235: UserWarning: 2022-09-26 19:59:17,665 - pyiron_log - INFO - job: hena_1_glass_small_34_623k id: 14, status: initialized, submitted: queue id 31660021\n",
      "\n",
      "  warnings.warn(stderr.read().decode())\n"
     ]
    },
    {
     "name": "stdout",
     "output_type": "stream",
     "text": [
      "Queue system id:  31660021\n"
     ]
    },
    {
     "name": "stderr",
     "output_type": "stream",
     "text": [
      "/tmp/ipykernel_39325/1823927583.py:6: DeprecationWarning: pyiron_atomistics.atomistics.structure.has_structure.get_structure(iteration_step=-1) is deprecated.\n",
      "  struct_nvt = job_mini.get_structure(iteration_step=-1) # Last frame from minimization\n",
      "2022-09-26 19:59:29,863 - pyiron_log - WARNING - Deprecated data structure! Returned array was converted from dtype='O' to dtype=float64 via `np.array(result.tolist())`.\n",
      "Please run rewrite_hdf5() (from a job: job.project_hdf5.rewrite_hdf5() ) to update this data! To update all your data run Project.maintenance.update.base_v0_3_to_v0_4('all').\n",
      "2022-09-26 19:59:30,506 - pyiron_log - WARNING - Deprecated data structure! Returned array was converted from dtype='O' to dtype=float64 via `np.array(result.tolist())`.\n",
      "Please run rewrite_hdf5() (from a job: job.project_hdf5.rewrite_hdf5() ) to update this data! To update all your data run Project.maintenance.update.base_v0_3_to_v0_4('all').\n",
      "2022-09-26 19:59:30,806 - pyiron_log - WARNING - Deprecated data structure! Returned array was converted from dtype='O' to dtype=float64 via `np.array(result.tolist())`.\n",
      "Please run rewrite_hdf5() (from a job: job.project_hdf5.rewrite_hdf5() ) to update this data! To update all your data run Project.maintenance.update.base_v0_3_to_v0_4('all').\n",
      "2022-09-26 19:59:32,491 - pyiron_log - WARNING - Deprecated data structure! Returned array was converted from dtype='O' to dtype=int64 via `np.array(result.tolist())`.\n",
      "Please run rewrite_hdf5() (from a job: job.project_hdf5.rewrite_hdf5() ) to update this data! To update all your data run Project.maintenance.update.base_v0_3_to_v0_4('all').\n",
      "2022-09-26 19:59:34,233 - pyiron_log - WARNING - Deprecated data structure! Returned array was converted from dtype='O' to dtype=int64 via `np.array(result.tolist())`.\n",
      "Please run rewrite_hdf5() (from a job: job.project_hdf5.rewrite_hdf5() ) to update this data! To update all your data run Project.maintenance.update.base_v0_3_to_v0_4('all').\n",
      "2022-09-26 19:59:44,462 - pyiron_log - WARNING - Deprecated data structure! Returned array was converted from dtype='O' to dtype=float64 via `np.array(result.tolist())`.\n",
      "Please run rewrite_hdf5() (from a job: job.project_hdf5.rewrite_hdf5() ) to update this data! To update all your data run Project.maintenance.update.base_v0_3_to_v0_4('all').\n",
      "2022-09-26 19:59:54,835 - pyiron_log - WARNING - Deprecated data structure! Returned array was converted from dtype='O' to dtype=float64 via `np.array(result.tolist())`.\n",
      "Please run rewrite_hdf5() (from a job: job.project_hdf5.rewrite_hdf5() ) to update this data! To update all your data run Project.maintenance.update.base_v0_3_to_v0_4('all').\n"
     ]
    },
    {
     "name": "stdout",
     "output_type": "stream",
     "text": [
      "The job hena_1_glass_small_34_673k was saved and received the ID: 13121\n"
     ]
    },
    {
     "name": "stderr",
     "output_type": "stream",
     "text": [
      "/nfshome/deshmukh/miniconda3/envs/vaibhav/lib/python3.9/site-packages/pysqa/utils/remote.py:235: UserWarning: \n",
      "  warnings.warn(stderr.read().decode())\n",
      "100%|██████████| 1/1 [00:00<00:00, 71.94it/s]\n",
      "100%|██████████| 4/4 [00:00<00:00, 187.17it/s]\n",
      "/nfshome/deshmukh/miniconda3/envs/vaibhav/lib/python3.9/site-packages/pysqa/utils/remote.py:235: UserWarning: 2022-09-26 20:00:04,216 - pyiron_log - INFO - job: hena_1_glass_small_34_673k id: 15, status: initialized, submitted: queue id 31660022\n",
      "\n",
      "  warnings.warn(stderr.read().decode())\n"
     ]
    },
    {
     "name": "stdout",
     "output_type": "stream",
     "text": [
      "Queue system id:  31660022\n"
     ]
    },
    {
     "name": "stderr",
     "output_type": "stream",
     "text": [
      "/tmp/ipykernel_39325/1823927583.py:6: DeprecationWarning: pyiron_atomistics.atomistics.structure.has_structure.get_structure(iteration_step=-1) is deprecated.\n",
      "  struct_nvt = job_mini.get_structure(iteration_step=-1) # Last frame from minimization\n",
      "2022-09-26 20:00:16,152 - pyiron_log - WARNING - Deprecated data structure! Returned array was converted from dtype='O' to dtype=float64 via `np.array(result.tolist())`.\n",
      "Please run rewrite_hdf5() (from a job: job.project_hdf5.rewrite_hdf5() ) to update this data! To update all your data run Project.maintenance.update.base_v0_3_to_v0_4('all').\n",
      "2022-09-26 20:00:16,782 - pyiron_log - WARNING - Deprecated data structure! Returned array was converted from dtype='O' to dtype=float64 via `np.array(result.tolist())`.\n",
      "Please run rewrite_hdf5() (from a job: job.project_hdf5.rewrite_hdf5() ) to update this data! To update all your data run Project.maintenance.update.base_v0_3_to_v0_4('all').\n",
      "2022-09-26 20:00:17,078 - pyiron_log - WARNING - Deprecated data structure! Returned array was converted from dtype='O' to dtype=float64 via `np.array(result.tolist())`.\n",
      "Please run rewrite_hdf5() (from a job: job.project_hdf5.rewrite_hdf5() ) to update this data! To update all your data run Project.maintenance.update.base_v0_3_to_v0_4('all').\n",
      "2022-09-26 20:00:18,760 - pyiron_log - WARNING - Deprecated data structure! Returned array was converted from dtype='O' to dtype=int64 via `np.array(result.tolist())`.\n",
      "Please run rewrite_hdf5() (from a job: job.project_hdf5.rewrite_hdf5() ) to update this data! To update all your data run Project.maintenance.update.base_v0_3_to_v0_4('all').\n",
      "2022-09-26 20:00:20,508 - pyiron_log - WARNING - Deprecated data structure! Returned array was converted from dtype='O' to dtype=int64 via `np.array(result.tolist())`.\n",
      "Please run rewrite_hdf5() (from a job: job.project_hdf5.rewrite_hdf5() ) to update this data! To update all your data run Project.maintenance.update.base_v0_3_to_v0_4('all').\n",
      "2022-09-26 20:00:30,889 - pyiron_log - WARNING - Deprecated data structure! Returned array was converted from dtype='O' to dtype=float64 via `np.array(result.tolist())`.\n",
      "Please run rewrite_hdf5() (from a job: job.project_hdf5.rewrite_hdf5() ) to update this data! To update all your data run Project.maintenance.update.base_v0_3_to_v0_4('all').\n",
      "2022-09-26 20:00:42,075 - pyiron_log - WARNING - Deprecated data structure! Returned array was converted from dtype='O' to dtype=float64 via `np.array(result.tolist())`.\n",
      "Please run rewrite_hdf5() (from a job: job.project_hdf5.rewrite_hdf5() ) to update this data! To update all your data run Project.maintenance.update.base_v0_3_to_v0_4('all').\n"
     ]
    },
    {
     "name": "stdout",
     "output_type": "stream",
     "text": [
      "The job hena_1_glass_small_34_723k was saved and received the ID: 13122\n"
     ]
    },
    {
     "name": "stderr",
     "output_type": "stream",
     "text": [
      "/nfshome/deshmukh/miniconda3/envs/vaibhav/lib/python3.9/site-packages/pysqa/utils/remote.py:235: UserWarning: \n",
      "  warnings.warn(stderr.read().decode())\n",
      "100%|██████████| 1/1 [00:00<00:00, 71.68it/s]\n",
      "100%|██████████| 4/4 [00:00<00:00, 166.16it/s]\n",
      "/nfshome/deshmukh/miniconda3/envs/vaibhav/lib/python3.9/site-packages/pysqa/utils/remote.py:235: UserWarning: 2022-09-26 20:00:51,684 - pyiron_log - INFO - job: hena_1_glass_small_34_723k id: 16, status: initialized, submitted: queue id 31660048\n",
      "\n",
      "  warnings.warn(stderr.read().decode())\n"
     ]
    },
    {
     "name": "stdout",
     "output_type": "stream",
     "text": [
      "Queue system id:  31660048\n"
     ]
    },
    {
     "name": "stderr",
     "output_type": "stream",
     "text": [
      "/tmp/ipykernel_39325/1823927583.py:6: DeprecationWarning: pyiron_atomistics.atomistics.structure.has_structure.get_structure(iteration_step=-1) is deprecated.\n",
      "  struct_nvt = job_mini.get_structure(iteration_step=-1) # Last frame from minimization\n",
      "2022-09-26 20:01:03,391 - pyiron_log - WARNING - Deprecated data structure! Returned array was converted from dtype='O' to dtype=float64 via `np.array(result.tolist())`.\n",
      "Please run rewrite_hdf5() (from a job: job.project_hdf5.rewrite_hdf5() ) to update this data! To update all your data run Project.maintenance.update.base_v0_3_to_v0_4('all').\n",
      "2022-09-26 20:01:04,034 - pyiron_log - WARNING - Deprecated data structure! Returned array was converted from dtype='O' to dtype=float64 via `np.array(result.tolist())`.\n",
      "Please run rewrite_hdf5() (from a job: job.project_hdf5.rewrite_hdf5() ) to update this data! To update all your data run Project.maintenance.update.base_v0_3_to_v0_4('all').\n",
      "2022-09-26 20:01:04,338 - pyiron_log - WARNING - Deprecated data structure! Returned array was converted from dtype='O' to dtype=float64 via `np.array(result.tolist())`.\n",
      "Please run rewrite_hdf5() (from a job: job.project_hdf5.rewrite_hdf5() ) to update this data! To update all your data run Project.maintenance.update.base_v0_3_to_v0_4('all').\n",
      "2022-09-26 20:01:06,039 - pyiron_log - WARNING - Deprecated data structure! Returned array was converted from dtype='O' to dtype=int64 via `np.array(result.tolist())`.\n",
      "Please run rewrite_hdf5() (from a job: job.project_hdf5.rewrite_hdf5() ) to update this data! To update all your data run Project.maintenance.update.base_v0_3_to_v0_4('all').\n",
      "2022-09-26 20:01:07,749 - pyiron_log - WARNING - Deprecated data structure! Returned array was converted from dtype='O' to dtype=int64 via `np.array(result.tolist())`.\n",
      "Please run rewrite_hdf5() (from a job: job.project_hdf5.rewrite_hdf5() ) to update this data! To update all your data run Project.maintenance.update.base_v0_3_to_v0_4('all').\n",
      "2022-09-26 20:01:18,146 - pyiron_log - WARNING - Deprecated data structure! Returned array was converted from dtype='O' to dtype=float64 via `np.array(result.tolist())`.\n",
      "Please run rewrite_hdf5() (from a job: job.project_hdf5.rewrite_hdf5() ) to update this data! To update all your data run Project.maintenance.update.base_v0_3_to_v0_4('all').\n",
      "2022-09-26 20:01:28,743 - pyiron_log - WARNING - Deprecated data structure! Returned array was converted from dtype='O' to dtype=float64 via `np.array(result.tolist())`.\n",
      "Please run rewrite_hdf5() (from a job: job.project_hdf5.rewrite_hdf5() ) to update this data! To update all your data run Project.maintenance.update.base_v0_3_to_v0_4('all').\n"
     ]
    },
    {
     "name": "stdout",
     "output_type": "stream",
     "text": [
      "The job hena_1_glass_small_34_773k was saved and received the ID: 13124\n"
     ]
    },
    {
     "name": "stderr",
     "output_type": "stream",
     "text": [
      "/nfshome/deshmukh/miniconda3/envs/vaibhav/lib/python3.9/site-packages/pysqa/utils/remote.py:235: UserWarning: \n",
      "  warnings.warn(stderr.read().decode())\n",
      "100%|██████████| 1/1 [00:00<00:00, 71.19it/s]\n",
      "100%|██████████| 4/4 [00:00<00:00, 173.96it/s]\n",
      "/nfshome/deshmukh/miniconda3/envs/vaibhav/lib/python3.9/site-packages/pysqa/utils/remote.py:235: UserWarning: 2022-09-26 20:01:38,220 - pyiron_log - INFO - job: hena_1_glass_small_34_773k id: 17, status: initialized, submitted: queue id 31660054\n",
      "\n",
      "  warnings.warn(stderr.read().decode())\n"
     ]
    },
    {
     "name": "stdout",
     "output_type": "stream",
     "text": [
      "Queue system id:  31660054\n"
     ]
    },
    {
     "name": "stderr",
     "output_type": "stream",
     "text": [
      "/tmp/ipykernel_39325/1823927583.py:6: DeprecationWarning: pyiron_atomistics.atomistics.structure.has_structure.get_structure(iteration_step=-1) is deprecated.\n",
      "  struct_nvt = job_mini.get_structure(iteration_step=-1) # Last frame from minimization\n",
      "2022-09-26 20:01:49,797 - pyiron_log - WARNING - Deprecated data structure! Returned array was converted from dtype='O' to dtype=float64 via `np.array(result.tolist())`.\n",
      "Please run rewrite_hdf5() (from a job: job.project_hdf5.rewrite_hdf5() ) to update this data! To update all your data run Project.maintenance.update.base_v0_3_to_v0_4('all').\n",
      "2022-09-26 20:01:50,560 - pyiron_log - WARNING - Deprecated data structure! Returned array was converted from dtype='O' to dtype=float64 via `np.array(result.tolist())`.\n",
      "Please run rewrite_hdf5() (from a job: job.project_hdf5.rewrite_hdf5() ) to update this data! To update all your data run Project.maintenance.update.base_v0_3_to_v0_4('all').\n",
      "2022-09-26 20:01:50,873 - pyiron_log - WARNING - Deprecated data structure! Returned array was converted from dtype='O' to dtype=float64 via `np.array(result.tolist())`.\n",
      "Please run rewrite_hdf5() (from a job: job.project_hdf5.rewrite_hdf5() ) to update this data! To update all your data run Project.maintenance.update.base_v0_3_to_v0_4('all').\n",
      "2022-09-26 20:01:52,578 - pyiron_log - WARNING - Deprecated data structure! Returned array was converted from dtype='O' to dtype=int64 via `np.array(result.tolist())`.\n",
      "Please run rewrite_hdf5() (from a job: job.project_hdf5.rewrite_hdf5() ) to update this data! To update all your data run Project.maintenance.update.base_v0_3_to_v0_4('all').\n",
      "2022-09-26 20:01:54,310 - pyiron_log - WARNING - Deprecated data structure! Returned array was converted from dtype='O' to dtype=int64 via `np.array(result.tolist())`.\n",
      "Please run rewrite_hdf5() (from a job: job.project_hdf5.rewrite_hdf5() ) to update this data! To update all your data run Project.maintenance.update.base_v0_3_to_v0_4('all').\n",
      "2022-09-26 20:02:04,713 - pyiron_log - WARNING - Deprecated data structure! Returned array was converted from dtype='O' to dtype=float64 via `np.array(result.tolist())`.\n",
      "Please run rewrite_hdf5() (from a job: job.project_hdf5.rewrite_hdf5() ) to update this data! To update all your data run Project.maintenance.update.base_v0_3_to_v0_4('all').\n",
      "2022-09-26 20:02:16,294 - pyiron_log - WARNING - Deprecated data structure! Returned array was converted from dtype='O' to dtype=float64 via `np.array(result.tolist())`.\n",
      "Please run rewrite_hdf5() (from a job: job.project_hdf5.rewrite_hdf5() ) to update this data! To update all your data run Project.maintenance.update.base_v0_3_to_v0_4('all').\n"
     ]
    },
    {
     "name": "stdout",
     "output_type": "stream",
     "text": [
      "The job hena_1_glass_small_23_523k was saved and received the ID: 13125\n"
     ]
    },
    {
     "name": "stderr",
     "output_type": "stream",
     "text": [
      "/nfshome/deshmukh/miniconda3/envs/vaibhav/lib/python3.9/site-packages/pysqa/utils/remote.py:235: UserWarning: \n",
      "  warnings.warn(stderr.read().decode())\n",
      "100%|██████████| 1/1 [00:00<00:00, 68.38it/s]\n",
      "100%|██████████| 4/4 [00:00<00:00, 155.52it/s]\n",
      "/nfshome/deshmukh/miniconda3/envs/vaibhav/lib/python3.9/site-packages/pysqa/utils/remote.py:235: UserWarning: 2022-09-26 20:02:25,641 - pyiron_log - INFO - job: hena_1_glass_small_23_523k id: 12, status: initialized, submitted: queue id 31660055\n",
      "\n",
      "  warnings.warn(stderr.read().decode())\n"
     ]
    },
    {
     "name": "stdout",
     "output_type": "stream",
     "text": [
      "Queue system id:  31660055\n"
     ]
    },
    {
     "name": "stderr",
     "output_type": "stream",
     "text": [
      "/tmp/ipykernel_39325/1823927583.py:6: DeprecationWarning: pyiron_atomistics.atomistics.structure.has_structure.get_structure(iteration_step=-1) is deprecated.\n",
      "  struct_nvt = job_mini.get_structure(iteration_step=-1) # Last frame from minimization\n",
      "2022-09-26 20:02:37,084 - pyiron_log - WARNING - Deprecated data structure! Returned array was converted from dtype='O' to dtype=float64 via `np.array(result.tolist())`.\n",
      "Please run rewrite_hdf5() (from a job: job.project_hdf5.rewrite_hdf5() ) to update this data! To update all your data run Project.maintenance.update.base_v0_3_to_v0_4('all').\n",
      "2022-09-26 20:02:37,703 - pyiron_log - WARNING - Deprecated data structure! Returned array was converted from dtype='O' to dtype=float64 via `np.array(result.tolist())`.\n",
      "Please run rewrite_hdf5() (from a job: job.project_hdf5.rewrite_hdf5() ) to update this data! To update all your data run Project.maintenance.update.base_v0_3_to_v0_4('all').\n",
      "2022-09-26 20:02:37,997 - pyiron_log - WARNING - Deprecated data structure! Returned array was converted from dtype='O' to dtype=float64 via `np.array(result.tolist())`.\n",
      "Please run rewrite_hdf5() (from a job: job.project_hdf5.rewrite_hdf5() ) to update this data! To update all your data run Project.maintenance.update.base_v0_3_to_v0_4('all').\n",
      "2022-09-26 20:02:39,670 - pyiron_log - WARNING - Deprecated data structure! Returned array was converted from dtype='O' to dtype=int64 via `np.array(result.tolist())`.\n",
      "Please run rewrite_hdf5() (from a job: job.project_hdf5.rewrite_hdf5() ) to update this data! To update all your data run Project.maintenance.update.base_v0_3_to_v0_4('all').\n",
      "2022-09-26 20:02:41,400 - pyiron_log - WARNING - Deprecated data structure! Returned array was converted from dtype='O' to dtype=int64 via `np.array(result.tolist())`.\n",
      "Please run rewrite_hdf5() (from a job: job.project_hdf5.rewrite_hdf5() ) to update this data! To update all your data run Project.maintenance.update.base_v0_3_to_v0_4('all').\n",
      "2022-09-26 20:02:51,596 - pyiron_log - WARNING - Deprecated data structure! Returned array was converted from dtype='O' to dtype=float64 via `np.array(result.tolist())`.\n",
      "Please run rewrite_hdf5() (from a job: job.project_hdf5.rewrite_hdf5() ) to update this data! To update all your data run Project.maintenance.update.base_v0_3_to_v0_4('all').\n",
      "2022-09-26 20:03:02,729 - pyiron_log - WARNING - Deprecated data structure! Returned array was converted from dtype='O' to dtype=float64 via `np.array(result.tolist())`.\n",
      "Please run rewrite_hdf5() (from a job: job.project_hdf5.rewrite_hdf5() ) to update this data! To update all your data run Project.maintenance.update.base_v0_3_to_v0_4('all').\n"
     ]
    },
    {
     "name": "stdout",
     "output_type": "stream",
     "text": [
      "The job hena_1_glass_small_23_573k was saved and received the ID: 13126\n"
     ]
    },
    {
     "name": "stderr",
     "output_type": "stream",
     "text": [
      "/nfshome/deshmukh/miniconda3/envs/vaibhav/lib/python3.9/site-packages/pysqa/utils/remote.py:235: UserWarning: \n",
      "  warnings.warn(stderr.read().decode())\n",
      "100%|██████████| 1/1 [00:00<00:00, 72.48it/s]\n",
      "100%|██████████| 4/4 [00:00<00:00, 160.21it/s]\n",
      "/nfshome/deshmukh/miniconda3/envs/vaibhav/lib/python3.9/site-packages/pysqa/utils/remote.py:235: UserWarning: 2022-09-26 20:03:12,062 - pyiron_log - INFO - job: hena_1_glass_small_23_573k id: 13, status: initialized, submitted: queue id 31660056\n",
      "\n",
      "  warnings.warn(stderr.read().decode())\n"
     ]
    },
    {
     "name": "stdout",
     "output_type": "stream",
     "text": [
      "Queue system id:  31660056\n"
     ]
    },
    {
     "name": "stderr",
     "output_type": "stream",
     "text": [
      "/tmp/ipykernel_39325/1823927583.py:6: DeprecationWarning: pyiron_atomistics.atomistics.structure.has_structure.get_structure(iteration_step=-1) is deprecated.\n",
      "  struct_nvt = job_mini.get_structure(iteration_step=-1) # Last frame from minimization\n",
      "2022-09-26 20:03:24,234 - pyiron_log - WARNING - Deprecated data structure! Returned array was converted from dtype='O' to dtype=float64 via `np.array(result.tolist())`.\n",
      "Please run rewrite_hdf5() (from a job: job.project_hdf5.rewrite_hdf5() ) to update this data! To update all your data run Project.maintenance.update.base_v0_3_to_v0_4('all').\n",
      "2022-09-26 20:03:24,860 - pyiron_log - WARNING - Deprecated data structure! Returned array was converted from dtype='O' to dtype=float64 via `np.array(result.tolist())`.\n",
      "Please run rewrite_hdf5() (from a job: job.project_hdf5.rewrite_hdf5() ) to update this data! To update all your data run Project.maintenance.update.base_v0_3_to_v0_4('all').\n",
      "2022-09-26 20:03:25,165 - pyiron_log - WARNING - Deprecated data structure! Returned array was converted from dtype='O' to dtype=float64 via `np.array(result.tolist())`.\n",
      "Please run rewrite_hdf5() (from a job: job.project_hdf5.rewrite_hdf5() ) to update this data! To update all your data run Project.maintenance.update.base_v0_3_to_v0_4('all').\n",
      "2022-09-26 20:03:26,848 - pyiron_log - WARNING - Deprecated data structure! Returned array was converted from dtype='O' to dtype=int64 via `np.array(result.tolist())`.\n",
      "Please run rewrite_hdf5() (from a job: job.project_hdf5.rewrite_hdf5() ) to update this data! To update all your data run Project.maintenance.update.base_v0_3_to_v0_4('all').\n",
      "2022-09-26 20:03:28,580 - pyiron_log - WARNING - Deprecated data structure! Returned array was converted from dtype='O' to dtype=int64 via `np.array(result.tolist())`.\n",
      "Please run rewrite_hdf5() (from a job: job.project_hdf5.rewrite_hdf5() ) to update this data! To update all your data run Project.maintenance.update.base_v0_3_to_v0_4('all').\n",
      "2022-09-26 20:03:39,009 - pyiron_log - WARNING - Deprecated data structure! Returned array was converted from dtype='O' to dtype=float64 via `np.array(result.tolist())`.\n",
      "Please run rewrite_hdf5() (from a job: job.project_hdf5.rewrite_hdf5() ) to update this data! To update all your data run Project.maintenance.update.base_v0_3_to_v0_4('all').\n",
      "2022-09-26 20:03:49,912 - pyiron_log - WARNING - Deprecated data structure! Returned array was converted from dtype='O' to dtype=float64 via `np.array(result.tolist())`.\n",
      "Please run rewrite_hdf5() (from a job: job.project_hdf5.rewrite_hdf5() ) to update this data! To update all your data run Project.maintenance.update.base_v0_3_to_v0_4('all').\n"
     ]
    },
    {
     "name": "stdout",
     "output_type": "stream",
     "text": [
      "The job hena_1_glass_small_23_623k was saved and received the ID: 13127\n"
     ]
    },
    {
     "name": "stderr",
     "output_type": "stream",
     "text": [
      "/nfshome/deshmukh/miniconda3/envs/vaibhav/lib/python3.9/site-packages/pysqa/utils/remote.py:235: UserWarning: \n",
      "  warnings.warn(stderr.read().decode())\n",
      "100%|██████████| 1/1 [00:00<00:00, 72.65it/s]\n",
      "100%|██████████| 4/4 [00:00<00:00, 163.62it/s]\n",
      "/nfshome/deshmukh/miniconda3/envs/vaibhav/lib/python3.9/site-packages/pysqa/utils/remote.py:235: UserWarning: 2022-09-26 20:03:59,239 - pyiron_log - INFO - job: hena_1_glass_small_23_623k id: 14, status: initialized, submitted: queue id 31660057\n",
      "\n",
      "  warnings.warn(stderr.read().decode())\n"
     ]
    },
    {
     "name": "stdout",
     "output_type": "stream",
     "text": [
      "Queue system id:  31660057\n"
     ]
    },
    {
     "name": "stderr",
     "output_type": "stream",
     "text": [
      "/tmp/ipykernel_39325/1823927583.py:6: DeprecationWarning: pyiron_atomistics.atomistics.structure.has_structure.get_structure(iteration_step=-1) is deprecated.\n",
      "  struct_nvt = job_mini.get_structure(iteration_step=-1) # Last frame from minimization\n",
      "2022-09-26 20:04:10,999 - pyiron_log - WARNING - Deprecated data structure! Returned array was converted from dtype='O' to dtype=float64 via `np.array(result.tolist())`.\n",
      "Please run rewrite_hdf5() (from a job: job.project_hdf5.rewrite_hdf5() ) to update this data! To update all your data run Project.maintenance.update.base_v0_3_to_v0_4('all').\n",
      "2022-09-26 20:04:11,660 - pyiron_log - WARNING - Deprecated data structure! Returned array was converted from dtype='O' to dtype=float64 via `np.array(result.tolist())`.\n",
      "Please run rewrite_hdf5() (from a job: job.project_hdf5.rewrite_hdf5() ) to update this data! To update all your data run Project.maintenance.update.base_v0_3_to_v0_4('all').\n",
      "2022-09-26 20:04:11,965 - pyiron_log - WARNING - Deprecated data structure! Returned array was converted from dtype='O' to dtype=float64 via `np.array(result.tolist())`.\n",
      "Please run rewrite_hdf5() (from a job: job.project_hdf5.rewrite_hdf5() ) to update this data! To update all your data run Project.maintenance.update.base_v0_3_to_v0_4('all').\n",
      "2022-09-26 20:04:13,695 - pyiron_log - WARNING - Deprecated data structure! Returned array was converted from dtype='O' to dtype=int64 via `np.array(result.tolist())`.\n",
      "Please run rewrite_hdf5() (from a job: job.project_hdf5.rewrite_hdf5() ) to update this data! To update all your data run Project.maintenance.update.base_v0_3_to_v0_4('all').\n",
      "2022-09-26 20:04:15,423 - pyiron_log - WARNING - Deprecated data structure! Returned array was converted from dtype='O' to dtype=int64 via `np.array(result.tolist())`.\n",
      "Please run rewrite_hdf5() (from a job: job.project_hdf5.rewrite_hdf5() ) to update this data! To update all your data run Project.maintenance.update.base_v0_3_to_v0_4('all').\n",
      "2022-09-26 20:04:26,043 - pyiron_log - WARNING - Deprecated data structure! Returned array was converted from dtype='O' to dtype=float64 via `np.array(result.tolist())`.\n",
      "Please run rewrite_hdf5() (from a job: job.project_hdf5.rewrite_hdf5() ) to update this data! To update all your data run Project.maintenance.update.base_v0_3_to_v0_4('all').\n",
      "2022-09-26 20:04:37,426 - pyiron_log - WARNING - Deprecated data structure! Returned array was converted from dtype='O' to dtype=float64 via `np.array(result.tolist())`.\n",
      "Please run rewrite_hdf5() (from a job: job.project_hdf5.rewrite_hdf5() ) to update this data! To update all your data run Project.maintenance.update.base_v0_3_to_v0_4('all').\n"
     ]
    },
    {
     "name": "stdout",
     "output_type": "stream",
     "text": [
      "The job hena_1_glass_small_23_673k was saved and received the ID: 13128\n"
     ]
    },
    {
     "name": "stderr",
     "output_type": "stream",
     "text": [
      "/nfshome/deshmukh/miniconda3/envs/vaibhav/lib/python3.9/site-packages/pysqa/utils/remote.py:235: UserWarning: \n",
      "  warnings.warn(stderr.read().decode())\n",
      "100%|██████████| 1/1 [00:00<00:00, 73.02it/s]\n",
      "100%|██████████| 4/4 [00:00<00:00, 158.74it/s]\n",
      "/nfshome/deshmukh/miniconda3/envs/vaibhav/lib/python3.9/site-packages/pysqa/utils/remote.py:235: UserWarning: 2022-09-26 20:04:47,020 - pyiron_log - INFO - job: hena_1_glass_small_23_673k id: 15, status: initialized, submitted: queue id 31660058\n",
      "\n",
      "  warnings.warn(stderr.read().decode())\n"
     ]
    },
    {
     "name": "stdout",
     "output_type": "stream",
     "text": [
      "Queue system id:  31660058\n"
     ]
    },
    {
     "name": "stderr",
     "output_type": "stream",
     "text": [
      "/tmp/ipykernel_39325/1823927583.py:6: DeprecationWarning: pyiron_atomistics.atomistics.structure.has_structure.get_structure(iteration_step=-1) is deprecated.\n",
      "  struct_nvt = job_mini.get_structure(iteration_step=-1) # Last frame from minimization\n",
      "2022-09-26 20:04:57,820 - pyiron_log - WARNING - Deprecated data structure! Returned array was converted from dtype='O' to dtype=float64 via `np.array(result.tolist())`.\n",
      "Please run rewrite_hdf5() (from a job: job.project_hdf5.rewrite_hdf5() ) to update this data! To update all your data run Project.maintenance.update.base_v0_3_to_v0_4('all').\n",
      "2022-09-26 20:04:58,558 - pyiron_log - WARNING - Deprecated data structure! Returned array was converted from dtype='O' to dtype=float64 via `np.array(result.tolist())`.\n",
      "Please run rewrite_hdf5() (from a job: job.project_hdf5.rewrite_hdf5() ) to update this data! To update all your data run Project.maintenance.update.base_v0_3_to_v0_4('all').\n",
      "2022-09-26 20:04:58,953 - pyiron_log - WARNING - Deprecated data structure! Returned array was converted from dtype='O' to dtype=float64 via `np.array(result.tolist())`.\n",
      "Please run rewrite_hdf5() (from a job: job.project_hdf5.rewrite_hdf5() ) to update this data! To update all your data run Project.maintenance.update.base_v0_3_to_v0_4('all').\n",
      "2022-09-26 20:05:00,724 - pyiron_log - WARNING - Deprecated data structure! Returned array was converted from dtype='O' to dtype=int64 via `np.array(result.tolist())`.\n",
      "Please run rewrite_hdf5() (from a job: job.project_hdf5.rewrite_hdf5() ) to update this data! To update all your data run Project.maintenance.update.base_v0_3_to_v0_4('all').\n",
      "2022-09-26 20:05:02,561 - pyiron_log - WARNING - Deprecated data structure! Returned array was converted from dtype='O' to dtype=int64 via `np.array(result.tolist())`.\n",
      "Please run rewrite_hdf5() (from a job: job.project_hdf5.rewrite_hdf5() ) to update this data! To update all your data run Project.maintenance.update.base_v0_3_to_v0_4('all').\n",
      "2022-09-26 20:05:13,538 - pyiron_log - WARNING - Deprecated data structure! Returned array was converted from dtype='O' to dtype=float64 via `np.array(result.tolist())`.\n",
      "Please run rewrite_hdf5() (from a job: job.project_hdf5.rewrite_hdf5() ) to update this data! To update all your data run Project.maintenance.update.base_v0_3_to_v0_4('all').\n",
      "2022-09-26 20:05:24,439 - pyiron_log - WARNING - Deprecated data structure! Returned array was converted from dtype='O' to dtype=float64 via `np.array(result.tolist())`.\n",
      "Please run rewrite_hdf5() (from a job: job.project_hdf5.rewrite_hdf5() ) to update this data! To update all your data run Project.maintenance.update.base_v0_3_to_v0_4('all').\n"
     ]
    },
    {
     "name": "stdout",
     "output_type": "stream",
     "text": [
      "The job hena_1_glass_small_23_723k was saved and received the ID: 13129\n"
     ]
    },
    {
     "name": "stderr",
     "output_type": "stream",
     "text": [
      "/nfshome/deshmukh/miniconda3/envs/vaibhav/lib/python3.9/site-packages/pysqa/utils/remote.py:235: UserWarning: \n",
      "  warnings.warn(stderr.read().decode())\n",
      "100%|██████████| 1/1 [00:00<00:00, 73.22it/s]\n",
      "100%|██████████| 4/4 [00:00<00:00, 149.24it/s]\n",
      "/nfshome/deshmukh/miniconda3/envs/vaibhav/lib/python3.9/site-packages/pysqa/utils/remote.py:235: UserWarning: 2022-09-26 20:05:36,830 - pyiron_log - INFO - job: hena_1_glass_small_23_723k id: 16, status: initialized, submitted: queue id 31660059\n",
      "\n",
      "  warnings.warn(stderr.read().decode())\n"
     ]
    },
    {
     "name": "stdout",
     "output_type": "stream",
     "text": [
      "Queue system id:  31660059\n"
     ]
    },
    {
     "name": "stderr",
     "output_type": "stream",
     "text": [
      "/tmp/ipykernel_39325/1823927583.py:6: DeprecationWarning: pyiron_atomistics.atomistics.structure.has_structure.get_structure(iteration_step=-1) is deprecated.\n",
      "  struct_nvt = job_mini.get_structure(iteration_step=-1) # Last frame from minimization\n",
      "2022-09-26 20:05:49,465 - pyiron_log - WARNING - Deprecated data structure! Returned array was converted from dtype='O' to dtype=float64 via `np.array(result.tolist())`.\n",
      "Please run rewrite_hdf5() (from a job: job.project_hdf5.rewrite_hdf5() ) to update this data! To update all your data run Project.maintenance.update.base_v0_3_to_v0_4('all').\n",
      "2022-09-26 20:05:50,102 - pyiron_log - WARNING - Deprecated data structure! Returned array was converted from dtype='O' to dtype=float64 via `np.array(result.tolist())`.\n",
      "Please run rewrite_hdf5() (from a job: job.project_hdf5.rewrite_hdf5() ) to update this data! To update all your data run Project.maintenance.update.base_v0_3_to_v0_4('all').\n",
      "2022-09-26 20:05:50,401 - pyiron_log - WARNING - Deprecated data structure! Returned array was converted from dtype='O' to dtype=float64 via `np.array(result.tolist())`.\n",
      "Please run rewrite_hdf5() (from a job: job.project_hdf5.rewrite_hdf5() ) to update this data! To update all your data run Project.maintenance.update.base_v0_3_to_v0_4('all').\n",
      "2022-09-26 20:05:52,088 - pyiron_log - WARNING - Deprecated data structure! Returned array was converted from dtype='O' to dtype=int64 via `np.array(result.tolist())`.\n",
      "Please run rewrite_hdf5() (from a job: job.project_hdf5.rewrite_hdf5() ) to update this data! To update all your data run Project.maintenance.update.base_v0_3_to_v0_4('all').\n",
      "2022-09-26 20:05:53,829 - pyiron_log - WARNING - Deprecated data structure! Returned array was converted from dtype='O' to dtype=int64 via `np.array(result.tolist())`.\n",
      "Please run rewrite_hdf5() (from a job: job.project_hdf5.rewrite_hdf5() ) to update this data! To update all your data run Project.maintenance.update.base_v0_3_to_v0_4('all').\n",
      "2022-09-26 20:06:04,483 - pyiron_log - WARNING - Deprecated data structure! Returned array was converted from dtype='O' to dtype=float64 via `np.array(result.tolist())`.\n",
      "Please run rewrite_hdf5() (from a job: job.project_hdf5.rewrite_hdf5() ) to update this data! To update all your data run Project.maintenance.update.base_v0_3_to_v0_4('all').\n",
      "2022-09-26 20:06:14,907 - pyiron_log - WARNING - Deprecated data structure! Returned array was converted from dtype='O' to dtype=float64 via `np.array(result.tolist())`.\n",
      "Please run rewrite_hdf5() (from a job: job.project_hdf5.rewrite_hdf5() ) to update this data! To update all your data run Project.maintenance.update.base_v0_3_to_v0_4('all').\n"
     ]
    },
    {
     "name": "stdout",
     "output_type": "stream",
     "text": [
      "The job hena_1_glass_small_23_773k was saved and received the ID: 13131\n"
     ]
    },
    {
     "name": "stderr",
     "output_type": "stream",
     "text": [
      "/nfshome/deshmukh/miniconda3/envs/vaibhav/lib/python3.9/site-packages/pysqa/utils/remote.py:235: UserWarning: \n",
      "  warnings.warn(stderr.read().decode())\n",
      "100%|██████████| 1/1 [00:00<00:00, 68.85it/s]\n",
      "100%|██████████| 4/4 [00:00<00:00, 168.69it/s]\n",
      "/nfshome/deshmukh/miniconda3/envs/vaibhav/lib/python3.9/site-packages/pysqa/utils/remote.py:235: UserWarning: 2022-09-26 20:06:27,775 - pyiron_log - INFO - job: hena_1_glass_small_23_773k id: 17, status: initialized, submitted: queue id 31660061\n",
      "\n",
      "  warnings.warn(stderr.read().decode())\n"
     ]
    },
    {
     "name": "stdout",
     "output_type": "stream",
     "text": [
      "Queue system id:  31660061\n"
     ]
    },
    {
     "name": "stderr",
     "output_type": "stream",
     "text": [
      "/tmp/ipykernel_39325/1823927583.py:6: DeprecationWarning: pyiron_atomistics.atomistics.structure.has_structure.get_structure(iteration_step=-1) is deprecated.\n",
      "  struct_nvt = job_mini.get_structure(iteration_step=-1) # Last frame from minimization\n",
      "2022-09-26 20:06:40,729 - pyiron_log - WARNING - Deprecated data structure! Returned array was converted from dtype='O' to dtype=float64 via `np.array(result.tolist())`.\n",
      "Please run rewrite_hdf5() (from a job: job.project_hdf5.rewrite_hdf5() ) to update this data! To update all your data run Project.maintenance.update.base_v0_3_to_v0_4('all').\n",
      "2022-09-26 20:06:41,505 - pyiron_log - WARNING - Deprecated data structure! Returned array was converted from dtype='O' to dtype=float64 via `np.array(result.tolist())`.\n",
      "Please run rewrite_hdf5() (from a job: job.project_hdf5.rewrite_hdf5() ) to update this data! To update all your data run Project.maintenance.update.base_v0_3_to_v0_4('all').\n",
      "2022-09-26 20:06:41,800 - pyiron_log - WARNING - Deprecated data structure! Returned array was converted from dtype='O' to dtype=float64 via `np.array(result.tolist())`.\n",
      "Please run rewrite_hdf5() (from a job: job.project_hdf5.rewrite_hdf5() ) to update this data! To update all your data run Project.maintenance.update.base_v0_3_to_v0_4('all').\n",
      "2022-09-26 20:06:43,538 - pyiron_log - WARNING - Deprecated data structure! Returned array was converted from dtype='O' to dtype=int64 via `np.array(result.tolist())`.\n",
      "Please run rewrite_hdf5() (from a job: job.project_hdf5.rewrite_hdf5() ) to update this data! To update all your data run Project.maintenance.update.base_v0_3_to_v0_4('all').\n",
      "2022-09-26 20:06:45,253 - pyiron_log - WARNING - Deprecated data structure! Returned array was converted from dtype='O' to dtype=int64 via `np.array(result.tolist())`.\n",
      "Please run rewrite_hdf5() (from a job: job.project_hdf5.rewrite_hdf5() ) to update this data! To update all your data run Project.maintenance.update.base_v0_3_to_v0_4('all').\n",
      "2022-09-26 20:06:55,525 - pyiron_log - WARNING - Deprecated data structure! Returned array was converted from dtype='O' to dtype=float64 via `np.array(result.tolist())`.\n",
      "Please run rewrite_hdf5() (from a job: job.project_hdf5.rewrite_hdf5() ) to update this data! To update all your data run Project.maintenance.update.base_v0_3_to_v0_4('all').\n",
      "2022-09-26 20:07:06,154 - pyiron_log - WARNING - Deprecated data structure! Returned array was converted from dtype='O' to dtype=float64 via `np.array(result.tolist())`.\n",
      "Please run rewrite_hdf5() (from a job: job.project_hdf5.rewrite_hdf5() ) to update this data! To update all your data run Project.maintenance.update.base_v0_3_to_v0_4('all').\n"
     ]
    },
    {
     "name": "stdout",
     "output_type": "stream",
     "text": [
      "The job hena_1_glass_small_26_523k was saved and received the ID: 13132\n"
     ]
    },
    {
     "name": "stderr",
     "output_type": "stream",
     "text": [
      "/nfshome/deshmukh/miniconda3/envs/vaibhav/lib/python3.9/site-packages/pysqa/utils/remote.py:235: UserWarning: \n",
      "  warnings.warn(stderr.read().decode())\n",
      "100%|██████████| 1/1 [00:00<00:00, 81.49it/s]\n",
      "100%|██████████| 4/4 [00:00<00:00, 110.27it/s]\n",
      "/nfshome/deshmukh/miniconda3/envs/vaibhav/lib/python3.9/site-packages/pysqa/utils/remote.py:235: UserWarning: 2022-09-26 20:07:15,454 - pyiron_log - INFO - job: hena_1_glass_small_26_523k id: 18, status: initialized, submitted: queue id 31660062\n",
      "\n",
      "  warnings.warn(stderr.read().decode())\n"
     ]
    },
    {
     "name": "stdout",
     "output_type": "stream",
     "text": [
      "Queue system id:  31660062\n"
     ]
    },
    {
     "name": "stderr",
     "output_type": "stream",
     "text": [
      "/tmp/ipykernel_39325/1823927583.py:6: DeprecationWarning: pyiron_atomistics.atomistics.structure.has_structure.get_structure(iteration_step=-1) is deprecated.\n",
      "  struct_nvt = job_mini.get_structure(iteration_step=-1) # Last frame from minimization\n",
      "2022-09-26 20:07:27,253 - pyiron_log - WARNING - Deprecated data structure! Returned array was converted from dtype='O' to dtype=float64 via `np.array(result.tolist())`.\n",
      "Please run rewrite_hdf5() (from a job: job.project_hdf5.rewrite_hdf5() ) to update this data! To update all your data run Project.maintenance.update.base_v0_3_to_v0_4('all').\n",
      "2022-09-26 20:07:27,869 - pyiron_log - WARNING - Deprecated data structure! Returned array was converted from dtype='O' to dtype=float64 via `np.array(result.tolist())`.\n",
      "Please run rewrite_hdf5() (from a job: job.project_hdf5.rewrite_hdf5() ) to update this data! To update all your data run Project.maintenance.update.base_v0_3_to_v0_4('all').\n",
      "2022-09-26 20:07:28,163 - pyiron_log - WARNING - Deprecated data structure! Returned array was converted from dtype='O' to dtype=float64 via `np.array(result.tolist())`.\n",
      "Please run rewrite_hdf5() (from a job: job.project_hdf5.rewrite_hdf5() ) to update this data! To update all your data run Project.maintenance.update.base_v0_3_to_v0_4('all').\n",
      "2022-09-26 20:07:29,839 - pyiron_log - WARNING - Deprecated data structure! Returned array was converted from dtype='O' to dtype=int64 via `np.array(result.tolist())`.\n",
      "Please run rewrite_hdf5() (from a job: job.project_hdf5.rewrite_hdf5() ) to update this data! To update all your data run Project.maintenance.update.base_v0_3_to_v0_4('all').\n",
      "2022-09-26 20:07:31,582 - pyiron_log - WARNING - Deprecated data structure! Returned array was converted from dtype='O' to dtype=int64 via `np.array(result.tolist())`.\n",
      "Please run rewrite_hdf5() (from a job: job.project_hdf5.rewrite_hdf5() ) to update this data! To update all your data run Project.maintenance.update.base_v0_3_to_v0_4('all').\n",
      "2022-09-26 20:07:41,760 - pyiron_log - WARNING - Deprecated data structure! Returned array was converted from dtype='O' to dtype=float64 via `np.array(result.tolist())`.\n",
      "Please run rewrite_hdf5() (from a job: job.project_hdf5.rewrite_hdf5() ) to update this data! To update all your data run Project.maintenance.update.base_v0_3_to_v0_4('all').\n",
      "2022-09-26 20:07:53,072 - pyiron_log - WARNING - Deprecated data structure! Returned array was converted from dtype='O' to dtype=float64 via `np.array(result.tolist())`.\n",
      "Please run rewrite_hdf5() (from a job: job.project_hdf5.rewrite_hdf5() ) to update this data! To update all your data run Project.maintenance.update.base_v0_3_to_v0_4('all').\n"
     ]
    },
    {
     "name": "stdout",
     "output_type": "stream",
     "text": [
      "The job hena_1_glass_small_26_573k was saved and received the ID: 13133\n"
     ]
    },
    {
     "name": "stderr",
     "output_type": "stream",
     "text": [
      "/nfshome/deshmukh/miniconda3/envs/vaibhav/lib/python3.9/site-packages/pysqa/utils/remote.py:235: UserWarning: \n",
      "  warnings.warn(stderr.read().decode())\n",
      "100%|██████████| 1/1 [00:00<00:00, 71.68it/s]\n",
      "100%|██████████| 4/4 [00:00<00:00, 167.66it/s]\n",
      "/nfshome/deshmukh/miniconda3/envs/vaibhav/lib/python3.9/site-packages/pysqa/utils/remote.py:235: UserWarning: 2022-09-26 20:08:02,312 - pyiron_log - INFO - job: hena_1_glass_small_26_573k id: 19, status: initialized, submitted: queue id 31660064\n",
      "\n",
      "  warnings.warn(stderr.read().decode())\n"
     ]
    },
    {
     "name": "stdout",
     "output_type": "stream",
     "text": [
      "Queue system id:  31660064\n"
     ]
    },
    {
     "name": "stderr",
     "output_type": "stream",
     "text": [
      "/tmp/ipykernel_39325/1823927583.py:6: DeprecationWarning: pyiron_atomistics.atomistics.structure.has_structure.get_structure(iteration_step=-1) is deprecated.\n",
      "  struct_nvt = job_mini.get_structure(iteration_step=-1) # Last frame from minimization\n",
      "2022-09-26 20:08:13,787 - pyiron_log - WARNING - Deprecated data structure! Returned array was converted from dtype='O' to dtype=float64 via `np.array(result.tolist())`.\n",
      "Please run rewrite_hdf5() (from a job: job.project_hdf5.rewrite_hdf5() ) to update this data! To update all your data run Project.maintenance.update.base_v0_3_to_v0_4('all').\n",
      "2022-09-26 20:08:14,400 - pyiron_log - WARNING - Deprecated data structure! Returned array was converted from dtype='O' to dtype=float64 via `np.array(result.tolist())`.\n",
      "Please run rewrite_hdf5() (from a job: job.project_hdf5.rewrite_hdf5() ) to update this data! To update all your data run Project.maintenance.update.base_v0_3_to_v0_4('all').\n",
      "2022-09-26 20:08:14,694 - pyiron_log - WARNING - Deprecated data structure! Returned array was converted from dtype='O' to dtype=float64 via `np.array(result.tolist())`.\n",
      "Please run rewrite_hdf5() (from a job: job.project_hdf5.rewrite_hdf5() ) to update this data! To update all your data run Project.maintenance.update.base_v0_3_to_v0_4('all').\n",
      "2022-09-26 20:08:16,375 - pyiron_log - WARNING - Deprecated data structure! Returned array was converted from dtype='O' to dtype=int64 via `np.array(result.tolist())`.\n",
      "Please run rewrite_hdf5() (from a job: job.project_hdf5.rewrite_hdf5() ) to update this data! To update all your data run Project.maintenance.update.base_v0_3_to_v0_4('all').\n",
      "2022-09-26 20:08:18,089 - pyiron_log - WARNING - Deprecated data structure! Returned array was converted from dtype='O' to dtype=int64 via `np.array(result.tolist())`.\n",
      "Please run rewrite_hdf5() (from a job: job.project_hdf5.rewrite_hdf5() ) to update this data! To update all your data run Project.maintenance.update.base_v0_3_to_v0_4('all').\n",
      "2022-09-26 20:08:28,460 - pyiron_log - WARNING - Deprecated data structure! Returned array was converted from dtype='O' to dtype=float64 via `np.array(result.tolist())`.\n",
      "Please run rewrite_hdf5() (from a job: job.project_hdf5.rewrite_hdf5() ) to update this data! To update all your data run Project.maintenance.update.base_v0_3_to_v0_4('all').\n",
      "2022-09-26 20:08:39,686 - pyiron_log - WARNING - Deprecated data structure! Returned array was converted from dtype='O' to dtype=float64 via `np.array(result.tolist())`.\n",
      "Please run rewrite_hdf5() (from a job: job.project_hdf5.rewrite_hdf5() ) to update this data! To update all your data run Project.maintenance.update.base_v0_3_to_v0_4('all').\n"
     ]
    },
    {
     "name": "stdout",
     "output_type": "stream",
     "text": [
      "The job hena_1_glass_small_26_623k was saved and received the ID: 13134\n"
     ]
    },
    {
     "name": "stderr",
     "output_type": "stream",
     "text": [
      "/nfshome/deshmukh/miniconda3/envs/vaibhav/lib/python3.9/site-packages/pysqa/utils/remote.py:235: UserWarning: \n",
      "  warnings.warn(stderr.read().decode())\n",
      "100%|██████████| 1/1 [00:00<00:00, 75.50it/s]\n",
      "100%|██████████| 4/4 [00:00<00:00, 163.72it/s]\n",
      "/nfshome/deshmukh/miniconda3/envs/vaibhav/lib/python3.9/site-packages/pysqa/utils/remote.py:235: UserWarning: 2022-09-26 20:08:49,288 - pyiron_log - INFO - job: hena_1_glass_small_26_623k id: 20, status: initialized, submitted: queue id 31660065\n",
      "\n",
      "  warnings.warn(stderr.read().decode())\n"
     ]
    },
    {
     "name": "stdout",
     "output_type": "stream",
     "text": [
      "Queue system id:  31660065\n"
     ]
    },
    {
     "name": "stderr",
     "output_type": "stream",
     "text": [
      "/tmp/ipykernel_39325/1823927583.py:6: DeprecationWarning: pyiron_atomistics.atomistics.structure.has_structure.get_structure(iteration_step=-1) is deprecated.\n",
      "  struct_nvt = job_mini.get_structure(iteration_step=-1) # Last frame from minimization\n",
      "2022-09-26 20:09:01,239 - pyiron_log - WARNING - Deprecated data structure! Returned array was converted from dtype='O' to dtype=float64 via `np.array(result.tolist())`.\n",
      "Please run rewrite_hdf5() (from a job: job.project_hdf5.rewrite_hdf5() ) to update this data! To update all your data run Project.maintenance.update.base_v0_3_to_v0_4('all').\n",
      "2022-09-26 20:09:01,884 - pyiron_log - WARNING - Deprecated data structure! Returned array was converted from dtype='O' to dtype=float64 via `np.array(result.tolist())`.\n",
      "Please run rewrite_hdf5() (from a job: job.project_hdf5.rewrite_hdf5() ) to update this data! To update all your data run Project.maintenance.update.base_v0_3_to_v0_4('all').\n",
      "2022-09-26 20:09:02,189 - pyiron_log - WARNING - Deprecated data structure! Returned array was converted from dtype='O' to dtype=float64 via `np.array(result.tolist())`.\n",
      "Please run rewrite_hdf5() (from a job: job.project_hdf5.rewrite_hdf5() ) to update this data! To update all your data run Project.maintenance.update.base_v0_3_to_v0_4('all').\n",
      "2022-09-26 20:09:03,918 - pyiron_log - WARNING - Deprecated data structure! Returned array was converted from dtype='O' to dtype=int64 via `np.array(result.tolist())`.\n",
      "Please run rewrite_hdf5() (from a job: job.project_hdf5.rewrite_hdf5() ) to update this data! To update all your data run Project.maintenance.update.base_v0_3_to_v0_4('all').\n",
      "2022-09-26 20:09:05,685 - pyiron_log - WARNING - Deprecated data structure! Returned array was converted from dtype='O' to dtype=int64 via `np.array(result.tolist())`.\n",
      "Please run rewrite_hdf5() (from a job: job.project_hdf5.rewrite_hdf5() ) to update this data! To update all your data run Project.maintenance.update.base_v0_3_to_v0_4('all').\n",
      "2022-09-26 20:09:16,115 - pyiron_log - WARNING - Deprecated data structure! Returned array was converted from dtype='O' to dtype=float64 via `np.array(result.tolist())`.\n",
      "Please run rewrite_hdf5() (from a job: job.project_hdf5.rewrite_hdf5() ) to update this data! To update all your data run Project.maintenance.update.base_v0_3_to_v0_4('all').\n",
      "2022-09-26 20:09:26,373 - pyiron_log - WARNING - Deprecated data structure! Returned array was converted from dtype='O' to dtype=float64 via `np.array(result.tolist())`.\n",
      "Please run rewrite_hdf5() (from a job: job.project_hdf5.rewrite_hdf5() ) to update this data! To update all your data run Project.maintenance.update.base_v0_3_to_v0_4('all').\n"
     ]
    },
    {
     "name": "stdout",
     "output_type": "stream",
     "text": [
      "The job hena_1_glass_small_26_673k was saved and received the ID: 13135\n"
     ]
    },
    {
     "name": "stderr",
     "output_type": "stream",
     "text": [
      "/nfshome/deshmukh/miniconda3/envs/vaibhav/lib/python3.9/site-packages/pysqa/utils/remote.py:235: UserWarning: \n",
      "  warnings.warn(stderr.read().decode())\n",
      "100%|██████████| 1/1 [00:00<00:00, 70.94it/s]\n",
      "100%|██████████| 4/4 [00:00<00:00, 161.27it/s]\n",
      "/nfshome/deshmukh/miniconda3/envs/vaibhav/lib/python3.9/site-packages/pysqa/utils/remote.py:235: UserWarning: 2022-09-26 20:09:35,804 - pyiron_log - INFO - job: hena_1_glass_small_26_673k id: 21, status: initialized, submitted: queue id 31660066\n",
      "\n",
      "  warnings.warn(stderr.read().decode())\n"
     ]
    },
    {
     "name": "stdout",
     "output_type": "stream",
     "text": [
      "Queue system id:  31660066\n"
     ]
    },
    {
     "name": "stderr",
     "output_type": "stream",
     "text": [
      "/tmp/ipykernel_39325/1823927583.py:6: DeprecationWarning: pyiron_atomistics.atomistics.structure.has_structure.get_structure(iteration_step=-1) is deprecated.\n",
      "  struct_nvt = job_mini.get_structure(iteration_step=-1) # Last frame from minimization\n",
      "2022-09-26 20:09:48,145 - pyiron_log - WARNING - Deprecated data structure! Returned array was converted from dtype='O' to dtype=float64 via `np.array(result.tolist())`.\n",
      "Please run rewrite_hdf5() (from a job: job.project_hdf5.rewrite_hdf5() ) to update this data! To update all your data run Project.maintenance.update.base_v0_3_to_v0_4('all').\n",
      "2022-09-26 20:09:48,772 - pyiron_log - WARNING - Deprecated data structure! Returned array was converted from dtype='O' to dtype=float64 via `np.array(result.tolist())`.\n",
      "Please run rewrite_hdf5() (from a job: job.project_hdf5.rewrite_hdf5() ) to update this data! To update all your data run Project.maintenance.update.base_v0_3_to_v0_4('all').\n",
      "2022-09-26 20:09:49,081 - pyiron_log - WARNING - Deprecated data structure! Returned array was converted from dtype='O' to dtype=float64 via `np.array(result.tolist())`.\n",
      "Please run rewrite_hdf5() (from a job: job.project_hdf5.rewrite_hdf5() ) to update this data! To update all your data run Project.maintenance.update.base_v0_3_to_v0_4('all').\n",
      "2022-09-26 20:09:50,767 - pyiron_log - WARNING - Deprecated data structure! Returned array was converted from dtype='O' to dtype=int64 via `np.array(result.tolist())`.\n",
      "Please run rewrite_hdf5() (from a job: job.project_hdf5.rewrite_hdf5() ) to update this data! To update all your data run Project.maintenance.update.base_v0_3_to_v0_4('all').\n",
      "2022-09-26 20:09:52,494 - pyiron_log - WARNING - Deprecated data structure! Returned array was converted from dtype='O' to dtype=int64 via `np.array(result.tolist())`.\n",
      "Please run rewrite_hdf5() (from a job: job.project_hdf5.rewrite_hdf5() ) to update this data! To update all your data run Project.maintenance.update.base_v0_3_to_v0_4('all').\n",
      "2022-09-26 20:10:02,818 - pyiron_log - WARNING - Deprecated data structure! Returned array was converted from dtype='O' to dtype=float64 via `np.array(result.tolist())`.\n",
      "Please run rewrite_hdf5() (from a job: job.project_hdf5.rewrite_hdf5() ) to update this data! To update all your data run Project.maintenance.update.base_v0_3_to_v0_4('all').\n",
      "2022-09-26 20:10:13,584 - pyiron_log - WARNING - Deprecated data structure! Returned array was converted from dtype='O' to dtype=float64 via `np.array(result.tolist())`.\n",
      "Please run rewrite_hdf5() (from a job: job.project_hdf5.rewrite_hdf5() ) to update this data! To update all your data run Project.maintenance.update.base_v0_3_to_v0_4('all').\n"
     ]
    },
    {
     "name": "stdout",
     "output_type": "stream",
     "text": [
      "The job hena_1_glass_small_26_723k was saved and received the ID: 13136\n"
     ]
    },
    {
     "name": "stderr",
     "output_type": "stream",
     "text": [
      "/nfshome/deshmukh/miniconda3/envs/vaibhav/lib/python3.9/site-packages/pysqa/utils/remote.py:235: UserWarning: \n",
      "  warnings.warn(stderr.read().decode())\n",
      "100%|██████████| 1/1 [00:00<00:00, 70.93it/s]\n",
      "100%|██████████| 4/4 [00:00<00:00, 169.52it/s]\n",
      "/nfshome/deshmukh/miniconda3/envs/vaibhav/lib/python3.9/site-packages/pysqa/utils/remote.py:235: UserWarning: 2022-09-26 20:10:23,130 - pyiron_log - INFO - job: hena_1_glass_small_26_723k id: 22, status: initialized, submitted: queue id 31660067\n",
      "\n",
      "  warnings.warn(stderr.read().decode())\n"
     ]
    },
    {
     "name": "stdout",
     "output_type": "stream",
     "text": [
      "Queue system id:  31660067\n"
     ]
    },
    {
     "name": "stderr",
     "output_type": "stream",
     "text": [
      "/tmp/ipykernel_39325/1823927583.py:6: DeprecationWarning: pyiron_atomistics.atomistics.structure.has_structure.get_structure(iteration_step=-1) is deprecated.\n",
      "  struct_nvt = job_mini.get_structure(iteration_step=-1) # Last frame from minimization\n",
      "2022-09-26 20:10:34,683 - pyiron_log - WARNING - Deprecated data structure! Returned array was converted from dtype='O' to dtype=float64 via `np.array(result.tolist())`.\n",
      "Please run rewrite_hdf5() (from a job: job.project_hdf5.rewrite_hdf5() ) to update this data! To update all your data run Project.maintenance.update.base_v0_3_to_v0_4('all').\n",
      "2022-09-26 20:10:35,297 - pyiron_log - WARNING - Deprecated data structure! Returned array was converted from dtype='O' to dtype=float64 via `np.array(result.tolist())`.\n",
      "Please run rewrite_hdf5() (from a job: job.project_hdf5.rewrite_hdf5() ) to update this data! To update all your data run Project.maintenance.update.base_v0_3_to_v0_4('all').\n",
      "2022-09-26 20:10:35,589 - pyiron_log - WARNING - Deprecated data structure! Returned array was converted from dtype='O' to dtype=float64 via `np.array(result.tolist())`.\n",
      "Please run rewrite_hdf5() (from a job: job.project_hdf5.rewrite_hdf5() ) to update this data! To update all your data run Project.maintenance.update.base_v0_3_to_v0_4('all').\n",
      "2022-09-26 20:10:37,262 - pyiron_log - WARNING - Deprecated data structure! Returned array was converted from dtype='O' to dtype=int64 via `np.array(result.tolist())`.\n",
      "Please run rewrite_hdf5() (from a job: job.project_hdf5.rewrite_hdf5() ) to update this data! To update all your data run Project.maintenance.update.base_v0_3_to_v0_4('all').\n",
      "2022-09-26 20:10:38,981 - pyiron_log - WARNING - Deprecated data structure! Returned array was converted from dtype='O' to dtype=int64 via `np.array(result.tolist())`.\n",
      "Please run rewrite_hdf5() (from a job: job.project_hdf5.rewrite_hdf5() ) to update this data! To update all your data run Project.maintenance.update.base_v0_3_to_v0_4('all').\n",
      "2022-09-26 20:10:49,155 - pyiron_log - WARNING - Deprecated data structure! Returned array was converted from dtype='O' to dtype=float64 via `np.array(result.tolist())`.\n",
      "Please run rewrite_hdf5() (from a job: job.project_hdf5.rewrite_hdf5() ) to update this data! To update all your data run Project.maintenance.update.base_v0_3_to_v0_4('all').\n",
      "2022-09-26 20:11:00,499 - pyiron_log - WARNING - Deprecated data structure! Returned array was converted from dtype='O' to dtype=float64 via `np.array(result.tolist())`.\n",
      "Please run rewrite_hdf5() (from a job: job.project_hdf5.rewrite_hdf5() ) to update this data! To update all your data run Project.maintenance.update.base_v0_3_to_v0_4('all').\n"
     ]
    },
    {
     "name": "stdout",
     "output_type": "stream",
     "text": [
      "The job hena_1_glass_small_26_773k was saved and received the ID: 13138\n"
     ]
    },
    {
     "name": "stderr",
     "output_type": "stream",
     "text": [
      "/nfshome/deshmukh/miniconda3/envs/vaibhav/lib/python3.9/site-packages/pysqa/utils/remote.py:235: UserWarning: \n",
      "  warnings.warn(stderr.read().decode())\n",
      "100%|██████████| 1/1 [00:00<00:00, 76.69it/s]\n",
      "100%|██████████| 4/4 [00:00<00:00, 183.51it/s]\n"
     ]
    },
    {
     "name": "stdout",
     "output_type": "stream",
     "text": [
      "Queue system id:  31660069\n"
     ]
    },
    {
     "name": "stderr",
     "output_type": "stream",
     "text": [
      "/nfshome/deshmukh/miniconda3/envs/vaibhav/lib/python3.9/site-packages/pysqa/utils/remote.py:235: UserWarning: 2022-09-26 20:11:10,138 - pyiron_log - INFO - job: hena_1_glass_small_26_773k id: 23, status: initialized, submitted: queue id 31660069\n",
      "\n",
      "  warnings.warn(stderr.read().decode())\n"
     ]
    }
   ],
   "source": [
    "for k in strct_no:\n",
    "    for j,i in zip(temp,range(len(temp))):\n",
    "        job_mini = pr['hena_1_%s_rate_1_k_ps'%k]               # Bulk Crystal\n",
    "    \n",
    "        # Get last structure    \n",
    "        struct_nvt = job_mini.get_structure(iteration_step=-1) # Last frame from minimization\n",
    "    \n",
    "        j = pr.create.job.Vasp(\"hena_1_glass_small_%s_%sk\"%(k,j), delete_existing_job=True)\n",
    "        j.calc_md(temperature=temp[i], n_ionic_steps=25000, n_print=1, time_step=1.0)     # AIMD simulations        \n",
    "        j.structure = struct_nvt                               # Intial structure   \n",
    "        j.set_kpoints(scheme=\"GC\")  \n",
    "        j.input.kpoints.set_kpoints_file(size_of_mesh=['1 1 1'])\n",
    "        j.set_exchange_correlation_functional(\"PBE\")           # GGA (PBE) potential, also need to test SCAN, rSCAN, r2SCAN     \n",
    "\n",
    "        #Select PAW potentials \n",
    "        #j.list_potentials()\n",
    "        j.potential.Si = \"Si\"                                  # 4 valence electron, EMAX = 245 (eV)\n",
    "        j.potential.P = \"P\"                                    # 5 valence electron, EMAX = 255 (eV) \n",
    "        j.potential.O = \"O\"                                    # 6 valence electron, EMAX = 400 (eV)   \n",
    "        j.potential.Na = \"Na\"                                  # 7 valence electron with 'p' orbitals, EMAX = 260 (eV) \n",
    "        j.potential.Zr = \"Zr_sv\"                               # 12 valence electron with 's' orbitals, EMAX = 230 (eV)  \n",
    "\n",
    "        # Edit INCAR file \n",
    "        j.input.incar[\"SMASS\"] = 0                             # For noosessh host pyironak condition, accurate cal = 1e-8 (2) -- Conv \n",
    "        j.input.incar[\"ALGO\"] = 'Normal'                       # For convergence use Fast else Normal\n",
    "        # Paralellization \n",
    "        j.input.incar[\"ISYM\"] = 0                              # no symmetry\n",
    "        j.input.incar[\"MAXMIX\"] = 40                           # reuse mixer from one MD step to next\n",
    "        j.input.incar[\"NELMIN\"] = 4                            # number of electronic steps\n",
    "        j.input.incar[\"NCORE\"] = 12                            # Core for calculations  \n",
    "        #j.input.incar[\"KPAR\"] = 12                            # No of K-points treated in parallel, must be divi to IBZKPT  \n",
    "        j.server.cores = 192\n",
    "        j.executable.executable_path = '/home/vd80naku/pyiron/resources/vasp/bin/run_vasp_6.1.2_default_mpi_gamma.sh'\n",
    "        j.server.queue = \"vasp_l_l2\"\n",
    "        j.run()"
   ]
  },
  {
   "cell_type": "code",
   "execution_count": null,
   "metadata": {},
   "outputs": [],
   "source": [
    "for k in strct_no:\n",
    "    for j,i in zip(temp,range(len(temp))):\n",
    "        job_mini = pr_1['hena_2_1_struct_mini_%s'%k]               # Bulk Crystal\n",
    "    \n",
    "        # Get last structure    \n",
    "        struct_nvt = job_mini.get_structure(iteration_step=-1) # Last frame from minimization\n",
    "    \n",
    "        j = pr.create.job.Vasp(\"hena_1_crystal_small_%s_%sk\"%(k,j), delete_existing_job=True)\n",
    "        j.calc_md(temperature=temp[i], n_ionic_steps=25000, n_print=1, time_step=1.0)     # AIMD simulations        \n",
    "        j.structure = struct_nvt                               # Intial structure   \n",
    "        j.set_kpoints(scheme=\"GC\")  \n",
    "        j.input.kpoints.set_kpoints_file(size_of_mesh=['1 1 1'])\n",
    "        j.set_exchange_correlation_functional(\"PBE\")           # GGA (PBE) potential, also need to test SCAN, rSCAN, r2SCAN     \n",
    "\n",
    "        #Select PAW potentials \n",
    "        #j.list_potentials()\n",
    "        j.potential.Si = \"Si\"                                  # 4 valence electron, EMAX = 245 (eV)\n",
    "        j.potential.P = \"P\"                                    # 5 valence electron, EMAX = 255 (eV) \n",
    "        j.potential.O = \"O\"                                    # 6 valence electron, EMAX = 400 (eV)   \n",
    "        j.potential.Na = \"Na\"                                  # 7 valence electron with 'p' orbitals, EMAX = 260 (eV) \n",
    "        j.potential.Zr = \"Zr_sv\"                               # 12 valence electron with 's' orbitals, EMAX = 230 (eV)  \n",
    "\n",
    "        # Edit INCAR file \n",
    "        j.input.incar[\"SMASS\"] = 0                             # For noose hover algo     \n",
    "        j.input.incar[\"MDALGO\"] = 2                            # Nose-Hoover thermostat              \n",
    "        j.input.incar[\"PREC\"] = \"Normal\"\n",
    "        j.input.incar[\"IBRION\"] = 0                            # Conjugate gradient method, det. how the ions are updated and moved (remove if ions are not present)  \n",
    "        j.input.incar[\"ISMEAR\"] = 0                            # O = Gaussian, -1 = Fermi for AIMD \n",
    "        j.input.incar[\"LREAL\"] = \"A\"                           # Projecion in real or reciprocal space   \n",
    "        j.input.incar[\"SIGMA\"] = 0.05                          # 0.03 or 0.05 for gaussian (1)  ----- Conv\n",
    "        j.input.incar[\"EDIFF\"] = 1e-5                          # Global break condition, accurate cal = 1e-8 (2) -- Conv \n",
    "        j.input.incar[\"ALGO\"] = 'Normal'                       # For convergence use Fast else Normal\n",
    "        # Paralellization \n",
    "        j.input.incar[\"ISYM\"] = 0                              # no symmetry\n",
    "        j.input.incar[\"MAXMIX\"] = 40                           # reuse mixer from one MD step to next\n",
    "        j.input.incar[\"NELMIN\"] = 4                            # number of electronic steps\n",
    "        j.input.incar[\"NCORE\"] = 12                            # Core for calculations  \n",
    "        #j.input.incar[\"KPAR\"] = 12                            # No of K-points treated in parallel, must be divi to IBZKPT  \n",
    "        j.server.cores = 192\n",
    "        j.executable.executable_path = '/home/vd80naku/pyiron/resources/vasp/bin/run_vasp_6.1.2_default_mpi_gamma.sh'\n",
    "        j.server.queue = \"vasp_l_l2\"\n",
    "        j.run()"
   ]
  }
 ],
 "metadata": {
  "interpreter": {
   "hash": "c5882173ff5685180b15cb907f22c6bef76d5cc8695d1b8791e985617bfa7d2d"
  },
  "kernelspec": {
   "display_name": "Python 3.9.13 ('vaibhav')",
   "language": "python",
   "name": "python3"
  },
  "language_info": {
   "codemirror_mode": {
    "name": "ipython",
    "version": 3
   },
   "file_extension": ".py",
   "mimetype": "text/x-python",
   "name": "python",
   "nbconvert_exporter": "python",
   "pygments_lexer": "ipython3",
   "version": "3.9.13"
  },
  "orig_nbformat": 4
 },
 "nbformat": 4,
 "nbformat_minor": 2
}
