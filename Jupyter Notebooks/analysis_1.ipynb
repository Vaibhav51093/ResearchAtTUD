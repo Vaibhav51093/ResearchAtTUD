{
 "cells": [
  {
   "cell_type": "code",
   "execution_count": 1,
   "metadata": {},
   "outputs": [],
   "source": [
    "# Structure analysis after mini using lammps CG method for mini \n",
    "# Transfer all the calculations \n",
    "# Import project for post processing \n",
    "import numpy as np\n",
    "%matplotlib inline\n",
    "import matplotlib.pylab as plt\n",
    "from pyiron import Project\n",
    "import lammps_logfile\n",
    "pr = Project(\"/nfshome/deshmukh/pyiron/projects/NASICON/project/hena/hena_2_1/minimization\")"
   ]
  },
  {
   "cell_type": "code",
   "execution_count": 2,
   "metadata": {},
   "outputs": [],
   "source": [
    "# This one will read the lammps log file from zipped file, without extracting the file itself \n",
    "import tarfile\n",
    "import lammps_logfile\n",
    "import os\n",
    "import codecs\n",
    "utf8reader = codecs.getreader('utf-8')\n",
    "\n",
    "# ['Density', 'PotEng', 'Pxx', 'Pxy', 'Pxz', 'Pyy', 'Pyz', 'Pzz', 'Step', 'Temp', 'TotEng', 'Volume']\n",
    "\n",
    "def tar_lammps(job,prop_1,prop_2):\n",
    "    den = []\n",
    "    step = []\n",
    "    job_file_compressed = os.path.join(job.working_directory, [f for f in os.listdir(job.working_directory) if \".tar.bz2\" in f][0])\n",
    "    tar = tarfile.open(job_file_compressed, \"r:bz2\")\n",
    "    for member in tar.getmembers():\n",
    "        if 'log.lammps' == member.name:\n",
    "            f = tar.extractfile(member)\n",
    "            log = lammps_logfile.File(utf8reader(f))\n",
    "            for i in range(log.get_num_partial_logs()):\n",
    "                x = log.get(prop_1, run_num=i)\n",
    "                y = log.get(prop_2, run_num=i)\n",
    "                den.append(y)\n",
    "                step.append(x)\n",
    "    return step, den "
   ]
  },
  {
   "cell_type": "code",
   "execution_count": 3,
   "metadata": {},
   "outputs": [
    {
     "name": "stderr",
     "output_type": "stream",
     "text": [
      "/nfshome/deshmukh/miniconda3/envs/vaibhav/lib/python3.9/site-packages/pysqa/utils/remote.py:235: UserWarning: \n",
      "  warnings.warn(stderr.read().decode())\n",
      "  0%|          | 0/1 [00:00<?, ?it/s]Exception during reset or similar\n",
      "Traceback (most recent call last):\n",
      "  File \"/nfshome/deshmukh/miniconda3/envs/vaibhav/lib/python3.9/site-packages/sqlalchemy/pool/base.py\", line 739, in _finalize_fairy\n",
      "    fairy._reset(pool)\n",
      "  File \"/nfshome/deshmukh/miniconda3/envs/vaibhav/lib/python3.9/site-packages/sqlalchemy/pool/base.py\", line 988, in _reset\n",
      "    pool._dialect.do_rollback(self)\n",
      "  File \"/nfshome/deshmukh/miniconda3/envs/vaibhav/lib/python3.9/site-packages/sqlalchemy/engine/default.py\", line 682, in do_rollback\n",
      "    dbapi_connection.rollback()\n",
      "sqlite3.ProgrammingError: SQLite objects created in a thread can only be used in that same thread. The object was created in thread id 140183277791040 and this is thread id 140178959275776.\n",
      "Exception closing connection <sqlite3.Connection object at 0x7f7e7dae7b70>\n",
      "Traceback (most recent call last):\n",
      "  File \"/nfshome/deshmukh/miniconda3/envs/vaibhav/lib/python3.9/site-packages/sqlalchemy/pool/base.py\", line 739, in _finalize_fairy\n",
      "    fairy._reset(pool)\n",
      "  File \"/nfshome/deshmukh/miniconda3/envs/vaibhav/lib/python3.9/site-packages/sqlalchemy/pool/base.py\", line 988, in _reset\n",
      "    pool._dialect.do_rollback(self)\n",
      "  File \"/nfshome/deshmukh/miniconda3/envs/vaibhav/lib/python3.9/site-packages/sqlalchemy/engine/default.py\", line 682, in do_rollback\n",
      "    dbapi_connection.rollback()\n",
      "sqlite3.ProgrammingError: SQLite objects created in a thread can only be used in that same thread. The object was created in thread id 140183277791040 and this is thread id 140178959275776.\n",
      "\n",
      "During handling of the above exception, another exception occurred:\n",
      "\n",
      "Traceback (most recent call last):\n",
      "  File \"/nfshome/deshmukh/miniconda3/envs/vaibhav/lib/python3.9/site-packages/sqlalchemy/pool/base.py\", line 247, in _close_connection\n",
      "    self._dialect.do_close(connection)\n",
      "  File \"/nfshome/deshmukh/miniconda3/envs/vaibhav/lib/python3.9/site-packages/sqlalchemy/engine/default.py\", line 688, in do_close\n",
      "    dbapi_connection.close()\n",
      "sqlite3.ProgrammingError: SQLite objects created in a thread can only be used in that same thread. The object was created in thread id 140183277791040 and this is thread id 140178959275776.\n",
      "Exception during reset or similar\n",
      "Traceback (most recent call last):\n",
      "  File \"/nfshome/deshmukh/miniconda3/envs/vaibhav/lib/python3.9/site-packages/sqlalchemy/pool/base.py\", line 739, in _finalize_fairy\n",
      "    fairy._reset(pool)\n",
      "  File \"/nfshome/deshmukh/miniconda3/envs/vaibhav/lib/python3.9/site-packages/sqlalchemy/pool/base.py\", line 988, in _reset\n",
      "    pool._dialect.do_rollback(self)\n",
      "  File \"/nfshome/deshmukh/miniconda3/envs/vaibhav/lib/python3.9/site-packages/sqlalchemy/engine/default.py\", line 682, in do_rollback\n",
      "    dbapi_connection.rollback()\n",
      "sqlite3.ProgrammingError: SQLite objects created in a thread can only be used in that same thread. The object was created in thread id 140183277791040 and this is thread id 140178959275776.\n",
      "Exception closing connection <sqlite3.Connection object at 0x7f7e7dae7d50>\n",
      "Traceback (most recent call last):\n",
      "  File \"/nfshome/deshmukh/miniconda3/envs/vaibhav/lib/python3.9/site-packages/sqlalchemy/pool/base.py\", line 739, in _finalize_fairy\n",
      "    fairy._reset(pool)\n",
      "  File \"/nfshome/deshmukh/miniconda3/envs/vaibhav/lib/python3.9/site-packages/sqlalchemy/pool/base.py\", line 988, in _reset\n",
      "    pool._dialect.do_rollback(self)\n",
      "  File \"/nfshome/deshmukh/miniconda3/envs/vaibhav/lib/python3.9/site-packages/sqlalchemy/engine/default.py\", line 682, in do_rollback\n",
      "    dbapi_connection.rollback()\n",
      "sqlite3.ProgrammingError: SQLite objects created in a thread can only be used in that same thread. The object was created in thread id 140183277791040 and this is thread id 140178959275776.\n",
      "\n",
      "During handling of the above exception, another exception occurred:\n",
      "\n",
      "Traceback (most recent call last):\n",
      "  File \"/nfshome/deshmukh/miniconda3/envs/vaibhav/lib/python3.9/site-packages/sqlalchemy/pool/base.py\", line 247, in _close_connection\n",
      "    self._dialect.do_close(connection)\n",
      "  File \"/nfshome/deshmukh/miniconda3/envs/vaibhav/lib/python3.9/site-packages/sqlalchemy/engine/default.py\", line 688, in do_close\n",
      "    dbapi_connection.close()\n",
      "sqlite3.ProgrammingError: SQLite objects created in a thread can only be used in that same thread. The object was created in thread id 140183277791040 and this is thread id 140178959275776.\n",
      "100%|██████████| 1/1 [01:06<00:00, 66.60s/it]\n",
      "100%|██████████| 1/1 [00:00<00:00,  1.37it/s]\n"
     ]
    },
    {
     "name": "stdout",
     "output_type": "stream",
     "text": [
      "The files are already compressed!\n"
     ]
    },
    {
     "name": "stderr",
     "output_type": "stream",
     "text": [
      "/nfshome/deshmukh/miniconda3/envs/vaibhav/lib/python3.9/site-packages/pysqa/utils/remote.py:235: UserWarning: \n",
      "  warnings.warn(stderr.read().decode())\n",
      "100%|██████████| 1/1 [01:20<00:00, 80.54s/it]\n",
      "100%|██████████| 1/1 [00:01<00:00,  1.10s/it]\n"
     ]
    },
    {
     "name": "stdout",
     "output_type": "stream",
     "text": [
      "The files are already compressed!\n"
     ]
    },
    {
     "name": "stderr",
     "output_type": "stream",
     "text": [
      "/nfshome/deshmukh/miniconda3/envs/vaibhav/lib/python3.9/site-packages/pysqa/utils/remote.py:235: UserWarning: \n",
      "  warnings.warn(stderr.read().decode())\n",
      "100%|██████████| 1/1 [01:32<00:00, 92.26s/it]\n",
      "100%|██████████| 1/1 [00:01<00:00,  1.06s/it]\n"
     ]
    },
    {
     "name": "stdout",
     "output_type": "stream",
     "text": [
      "The files are already compressed!\n"
     ]
    },
    {
     "name": "stderr",
     "output_type": "stream",
     "text": [
      "/nfshome/deshmukh/miniconda3/envs/vaibhav/lib/python3.9/site-packages/pysqa/utils/remote.py:235: UserWarning: \n",
      "  warnings.warn(stderr.read().decode())\n",
      "100%|██████████| 1/1 [01:29<00:00, 89.59s/it]\n",
      "100%|██████████| 1/1 [00:01<00:00,  1.41s/it]\n"
     ]
    },
    {
     "name": "stdout",
     "output_type": "stream",
     "text": [
      "The files are already compressed!\n"
     ]
    },
    {
     "name": "stderr",
     "output_type": "stream",
     "text": [
      "/nfshome/deshmukh/miniconda3/envs/vaibhav/lib/python3.9/site-packages/pysqa/utils/remote.py:235: UserWarning: \n",
      "  warnings.warn(stderr.read().decode())\n",
      "100%|██████████| 1/1 [01:32<00:00, 92.54s/it]\n",
      "100%|██████████| 1/1 [00:02<00:00,  2.06s/it]\n"
     ]
    },
    {
     "name": "stdout",
     "output_type": "stream",
     "text": [
      "The files are already compressed!\n"
     ]
    },
    {
     "name": "stderr",
     "output_type": "stream",
     "text": [
      "/nfshome/deshmukh/miniconda3/envs/vaibhav/lib/python3.9/site-packages/pysqa/utils/remote.py:235: UserWarning: \n",
      "  warnings.warn(stderr.read().decode())\n",
      "100%|██████████| 1/1 [01:33<00:00, 93.22s/it]\n",
      "100%|██████████| 1/1 [00:01<00:00,  1.40s/it]\n"
     ]
    },
    {
     "name": "stdout",
     "output_type": "stream",
     "text": [
      "The files are already compressed!\n"
     ]
    },
    {
     "name": "stderr",
     "output_type": "stream",
     "text": [
      "/nfshome/deshmukh/miniconda3/envs/vaibhav/lib/python3.9/site-packages/pysqa/utils/remote.py:235: UserWarning: \n",
      "  warnings.warn(stderr.read().decode())\n",
      "100%|██████████| 1/1 [01:44<00:00, 104.10s/it]\n",
      "100%|██████████| 1/1 [00:01<00:00,  1.51s/it]\n"
     ]
    },
    {
     "name": "stdout",
     "output_type": "stream",
     "text": [
      "The files are already compressed!\n"
     ]
    },
    {
     "name": "stderr",
     "output_type": "stream",
     "text": [
      "/nfshome/deshmukh/miniconda3/envs/vaibhav/lib/python3.9/site-packages/pysqa/utils/remote.py:235: UserWarning: \n",
      "  warnings.warn(stderr.read().decode())\n",
      "100%|██████████| 1/1 [01:38<00:00, 98.13s/it]\n",
      "100%|██████████| 1/1 [00:01<00:00,  1.36s/it]\n"
     ]
    },
    {
     "name": "stdout",
     "output_type": "stream",
     "text": [
      "The files are already compressed!\n"
     ]
    },
    {
     "name": "stderr",
     "output_type": "stream",
     "text": [
      "/nfshome/deshmukh/miniconda3/envs/vaibhav/lib/python3.9/site-packages/pysqa/utils/remote.py:235: UserWarning: \n",
      "  warnings.warn(stderr.read().decode())\n",
      "100%|██████████| 1/1 [01:38<00:00, 98.19s/it]\n",
      "100%|██████████| 1/1 [00:05<00:00,  5.19s/it]\n"
     ]
    },
    {
     "name": "stdout",
     "output_type": "stream",
     "text": [
      "The files are already compressed!\n"
     ]
    },
    {
     "name": "stderr",
     "output_type": "stream",
     "text": [
      "/nfshome/deshmukh/miniconda3/envs/vaibhav/lib/python3.9/site-packages/pysqa/utils/remote.py:235: UserWarning: \n",
      "  warnings.warn(stderr.read().decode())\n",
      "100%|██████████| 1/1 [01:44<00:00, 104.53s/it]\n",
      "100%|██████████| 1/1 [00:01<00:00,  1.23s/it]\n"
     ]
    },
    {
     "name": "stdout",
     "output_type": "stream",
     "text": [
      "The files are already compressed!\n"
     ]
    },
    {
     "name": "stderr",
     "output_type": "stream",
     "text": [
      "/nfshome/deshmukh/miniconda3/envs/vaibhav/lib/python3.9/site-packages/pysqa/utils/remote.py:235: UserWarning: \n",
      "  warnings.warn(stderr.read().decode())\n",
      "100%|██████████| 1/1 [01:49<00:00, 109.84s/it]\n",
      "100%|██████████| 1/1 [00:00<00:00,  1.14it/s]\n"
     ]
    },
    {
     "name": "stdout",
     "output_type": "stream",
     "text": [
      "The files are already compressed!\n"
     ]
    },
    {
     "name": "stderr",
     "output_type": "stream",
     "text": [
      "/nfshome/deshmukh/miniconda3/envs/vaibhav/lib/python3.9/site-packages/pysqa/utils/remote.py:235: UserWarning: \n",
      "  warnings.warn(stderr.read().decode())\n",
      "100%|██████████| 1/1 [01:53<00:00, 113.42s/it]\n",
      "100%|██████████| 1/1 [00:01<00:00,  1.26s/it]\n"
     ]
    },
    {
     "name": "stdout",
     "output_type": "stream",
     "text": [
      "The files are already compressed!\n"
     ]
    },
    {
     "name": "stderr",
     "output_type": "stream",
     "text": [
      "/nfshome/deshmukh/miniconda3/envs/vaibhav/lib/python3.9/site-packages/pysqa/utils/remote.py:235: UserWarning: \n",
      "  warnings.warn(stderr.read().decode())\n",
      "100%|██████████| 1/1 [01:39<00:00, 99.36s/it]\n",
      "100%|██████████| 1/1 [00:01<00:00,  1.35s/it]\n"
     ]
    },
    {
     "name": "stdout",
     "output_type": "stream",
     "text": [
      "The files are already compressed!\n"
     ]
    },
    {
     "name": "stderr",
     "output_type": "stream",
     "text": [
      "/nfshome/deshmukh/miniconda3/envs/vaibhav/lib/python3.9/site-packages/pysqa/utils/remote.py:235: UserWarning: \n",
      "  warnings.warn(stderr.read().decode())\n",
      "100%|██████████| 1/1 [01:44<00:00, 104.74s/it]\n",
      "100%|██████████| 1/1 [00:00<00:00,  1.17it/s]\n"
     ]
    },
    {
     "name": "stdout",
     "output_type": "stream",
     "text": [
      "The files are already compressed!\n"
     ]
    },
    {
     "name": "stderr",
     "output_type": "stream",
     "text": [
      "/nfshome/deshmukh/miniconda3/envs/vaibhav/lib/python3.9/site-packages/pysqa/utils/remote.py:235: UserWarning: \n",
      "  warnings.warn(stderr.read().decode())\n",
      "100%|██████████| 1/1 [01:53<00:00, 113.59s/it]\n",
      "100%|██████████| 1/1 [00:00<00:00,  1.33it/s]\n"
     ]
    },
    {
     "name": "stdout",
     "output_type": "stream",
     "text": [
      "The files are already compressed!\n"
     ]
    },
    {
     "name": "stderr",
     "output_type": "stream",
     "text": [
      "/nfshome/deshmukh/miniconda3/envs/vaibhav/lib/python3.9/site-packages/pysqa/utils/remote.py:235: UserWarning: \n",
      "  warnings.warn(stderr.read().decode())\n",
      "100%|██████████| 1/1 [01:45<00:00, 105.13s/it]\n",
      "100%|██████████| 1/1 [00:00<00:00,  1.45it/s]\n"
     ]
    },
    {
     "name": "stdout",
     "output_type": "stream",
     "text": [
      "The files are already compressed!\n"
     ]
    },
    {
     "name": "stderr",
     "output_type": "stream",
     "text": [
      "/nfshome/deshmukh/miniconda3/envs/vaibhav/lib/python3.9/site-packages/pysqa/utils/remote.py:235: UserWarning: \n",
      "  warnings.warn(stderr.read().decode())\n",
      "100%|██████████| 1/1 [01:46<00:00, 106.59s/it]\n",
      "100%|██████████| 1/1 [00:00<00:00,  1.08it/s]\n"
     ]
    },
    {
     "name": "stdout",
     "output_type": "stream",
     "text": [
      "The files are already compressed!\n"
     ]
    },
    {
     "name": "stderr",
     "output_type": "stream",
     "text": [
      "/nfshome/deshmukh/miniconda3/envs/vaibhav/lib/python3.9/site-packages/pysqa/utils/remote.py:235: UserWarning: \n",
      "  warnings.warn(stderr.read().decode())\n",
      "100%|██████████| 1/1 [01:42<00:00, 102.52s/it]\n",
      "100%|██████████| 1/1 [00:00<00:00,  1.21it/s]\n"
     ]
    },
    {
     "name": "stdout",
     "output_type": "stream",
     "text": [
      "The files are already compressed!\n"
     ]
    },
    {
     "name": "stderr",
     "output_type": "stream",
     "text": [
      "/nfshome/deshmukh/miniconda3/envs/vaibhav/lib/python3.9/site-packages/pysqa/utils/remote.py:235: UserWarning: \n",
      "  warnings.warn(stderr.read().decode())\n",
      "100%|██████████| 1/1 [01:45<00:00, 105.77s/it]\n",
      "100%|██████████| 1/1 [00:00<00:00,  1.33it/s]\n"
     ]
    },
    {
     "name": "stdout",
     "output_type": "stream",
     "text": [
      "The files are already compressed!\n"
     ]
    },
    {
     "name": "stderr",
     "output_type": "stream",
     "text": [
      "/nfshome/deshmukh/miniconda3/envs/vaibhav/lib/python3.9/site-packages/pysqa/utils/remote.py:235: UserWarning: \n",
      "  warnings.warn(stderr.read().decode())\n",
      "100%|██████████| 1/1 [01:42<00:00, 102.79s/it]\n",
      "100%|██████████| 1/1 [00:00<00:00,  1.23it/s]\n"
     ]
    },
    {
     "name": "stdout",
     "output_type": "stream",
     "text": [
      "The files are already compressed!\n"
     ]
    },
    {
     "name": "stderr",
     "output_type": "stream",
     "text": [
      "/nfshome/deshmukh/miniconda3/envs/vaibhav/lib/python3.9/site-packages/pysqa/utils/remote.py:235: UserWarning: \n",
      "  warnings.warn(stderr.read().decode())\n",
      "100%|██████████| 1/1 [01:41<00:00, 101.53s/it]\n",
      "100%|██████████| 1/1 [00:01<00:00,  1.07s/it]\n"
     ]
    },
    {
     "name": "stdout",
     "output_type": "stream",
     "text": [
      "The files are already compressed!\n"
     ]
    },
    {
     "name": "stderr",
     "output_type": "stream",
     "text": [
      "/nfshome/deshmukh/miniconda3/envs/vaibhav/lib/python3.9/site-packages/pysqa/utils/remote.py:235: UserWarning: \n",
      "  warnings.warn(stderr.read().decode())\n",
      "100%|██████████| 1/1 [01:46<00:00, 106.93s/it]\n",
      "100%|██████████| 1/1 [00:00<00:00,  1.14it/s]\n"
     ]
    },
    {
     "name": "stdout",
     "output_type": "stream",
     "text": [
      "The files are already compressed!\n"
     ]
    },
    {
     "name": "stderr",
     "output_type": "stream",
     "text": [
      "/nfshome/deshmukh/miniconda3/envs/vaibhav/lib/python3.9/site-packages/pysqa/utils/remote.py:235: UserWarning: \n",
      "  warnings.warn(stderr.read().decode())\n",
      "100%|██████████| 1/1 [01:41<00:00, 101.34s/it]\n",
      "100%|██████████| 1/1 [00:00<00:00,  1.10it/s]\n"
     ]
    },
    {
     "name": "stdout",
     "output_type": "stream",
     "text": [
      "The files are already compressed!\n"
     ]
    },
    {
     "name": "stderr",
     "output_type": "stream",
     "text": [
      "/nfshome/deshmukh/miniconda3/envs/vaibhav/lib/python3.9/site-packages/pysqa/utils/remote.py:235: UserWarning: \n",
      "  warnings.warn(stderr.read().decode())\n",
      "100%|██████████| 1/1 [01:45<00:00, 105.32s/it]\n",
      "100%|██████████| 1/1 [00:01<00:00,  1.37s/it]\n"
     ]
    },
    {
     "name": "stdout",
     "output_type": "stream",
     "text": [
      "The files are already compressed!\n"
     ]
    },
    {
     "name": "stderr",
     "output_type": "stream",
     "text": [
      "/nfshome/deshmukh/miniconda3/envs/vaibhav/lib/python3.9/site-packages/pysqa/utils/remote.py:235: UserWarning: \n",
      "  warnings.warn(stderr.read().decode())\n",
      "100%|██████████| 1/1 [01:39<00:00, 99.42s/it]\n",
      "100%|██████████| 1/1 [00:00<00:00,  1.33it/s]\n"
     ]
    },
    {
     "name": "stdout",
     "output_type": "stream",
     "text": [
      "The files are already compressed!\n"
     ]
    },
    {
     "name": "stderr",
     "output_type": "stream",
     "text": [
      "/nfshome/deshmukh/miniconda3/envs/vaibhav/lib/python3.9/site-packages/pysqa/utils/remote.py:235: UserWarning: \n",
      "  warnings.warn(stderr.read().decode())\n",
      "100%|██████████| 1/1 [01:44<00:00, 105.00s/it]\n",
      "100%|██████████| 1/1 [00:00<00:00,  1.30it/s]\n"
     ]
    },
    {
     "name": "stdout",
     "output_type": "stream",
     "text": [
      "The files are already compressed!\n"
     ]
    },
    {
     "name": "stderr",
     "output_type": "stream",
     "text": [
      "/nfshome/deshmukh/miniconda3/envs/vaibhav/lib/python3.9/site-packages/pysqa/utils/remote.py:235: UserWarning: \n",
      "  warnings.warn(stderr.read().decode())\n",
      "100%|██████████| 1/1 [01:38<00:00, 98.21s/it]\n",
      "100%|██████████| 1/1 [00:00<00:00,  1.35it/s]\n"
     ]
    },
    {
     "name": "stdout",
     "output_type": "stream",
     "text": [
      "The files are already compressed!\n"
     ]
    },
    {
     "name": "stderr",
     "output_type": "stream",
     "text": [
      "/nfshome/deshmukh/miniconda3/envs/vaibhav/lib/python3.9/site-packages/pysqa/utils/remote.py:235: UserWarning: \n",
      "  warnings.warn(stderr.read().decode())\n",
      "100%|██████████| 1/1 [01:36<00:00, 96.57s/it]\n",
      "100%|██████████| 1/1 [00:01<00:00,  1.45s/it]\n"
     ]
    },
    {
     "name": "stdout",
     "output_type": "stream",
     "text": [
      "The files are already compressed!\n"
     ]
    },
    {
     "name": "stderr",
     "output_type": "stream",
     "text": [
      "/nfshome/deshmukh/miniconda3/envs/vaibhav/lib/python3.9/site-packages/pysqa/utils/remote.py:235: UserWarning: \n",
      "  warnings.warn(stderr.read().decode())\n",
      "100%|██████████| 1/1 [01:51<00:00, 111.12s/it]\n",
      "100%|██████████| 1/1 [00:01<00:00,  1.27s/it]\n"
     ]
    },
    {
     "name": "stdout",
     "output_type": "stream",
     "text": [
      "The files are already compressed!\n"
     ]
    },
    {
     "name": "stderr",
     "output_type": "stream",
     "text": [
      "/nfshome/deshmukh/miniconda3/envs/vaibhav/lib/python3.9/site-packages/pysqa/utils/remote.py:235: UserWarning: \n",
      "  warnings.warn(stderr.read().decode())\n",
      "100%|██████████| 1/1 [01:47<00:00, 107.91s/it]\n",
      "100%|██████████| 1/1 [00:00<00:00,  1.29it/s]\n"
     ]
    },
    {
     "name": "stdout",
     "output_type": "stream",
     "text": [
      "The files are already compressed!\n"
     ]
    },
    {
     "name": "stderr",
     "output_type": "stream",
     "text": [
      "/nfshome/deshmukh/miniconda3/envs/vaibhav/lib/python3.9/site-packages/pysqa/utils/remote.py:235: UserWarning: \n",
      "  warnings.warn(stderr.read().decode())\n",
      "100%|██████████| 1/1 [01:42<00:00, 102.33s/it]\n",
      "100%|██████████| 1/1 [00:00<00:00,  1.39it/s]\n"
     ]
    },
    {
     "name": "stdout",
     "output_type": "stream",
     "text": [
      "The files are already compressed!\n"
     ]
    },
    {
     "name": "stderr",
     "output_type": "stream",
     "text": [
      "/nfshome/deshmukh/miniconda3/envs/vaibhav/lib/python3.9/site-packages/pysqa/utils/remote.py:235: UserWarning: \n",
      "  warnings.warn(stderr.read().decode())\n",
      "100%|██████████| 1/1 [01:45<00:00, 105.21s/it]\n",
      "100%|██████████| 1/1 [00:00<00:00,  1.24it/s]\n"
     ]
    },
    {
     "name": "stdout",
     "output_type": "stream",
     "text": [
      "The files are already compressed!\n"
     ]
    },
    {
     "name": "stderr",
     "output_type": "stream",
     "text": [
      "/nfshome/deshmukh/miniconda3/envs/vaibhav/lib/python3.9/site-packages/pysqa/utils/remote.py:235: UserWarning: \n",
      "  warnings.warn(stderr.read().decode())\n",
      "100%|██████████| 1/1 [01:41<00:00, 101.91s/it]\n",
      "100%|██████████| 1/1 [00:01<00:00,  1.09s/it]\n"
     ]
    },
    {
     "name": "stdout",
     "output_type": "stream",
     "text": [
      "The files are already compressed!\n"
     ]
    },
    {
     "name": "stderr",
     "output_type": "stream",
     "text": [
      "/nfshome/deshmukh/miniconda3/envs/vaibhav/lib/python3.9/site-packages/pysqa/utils/remote.py:235: UserWarning: \n",
      "  warnings.warn(stderr.read().decode())\n",
      "100%|██████████| 1/1 [01:44<00:00, 104.36s/it]\n",
      "100%|██████████| 1/1 [00:01<00:00,  1.24s/it]\n"
     ]
    },
    {
     "name": "stdout",
     "output_type": "stream",
     "text": [
      "The files are already compressed!\n"
     ]
    },
    {
     "name": "stderr",
     "output_type": "stream",
     "text": [
      "/nfshome/deshmukh/miniconda3/envs/vaibhav/lib/python3.9/site-packages/pysqa/utils/remote.py:235: UserWarning: \n",
      "  warnings.warn(stderr.read().decode())\n",
      "100%|██████████| 1/1 [01:42<00:00, 102.75s/it]\n",
      "100%|██████████| 1/1 [00:00<00:00,  1.42it/s]\n"
     ]
    },
    {
     "name": "stdout",
     "output_type": "stream",
     "text": [
      "The files are already compressed!\n"
     ]
    },
    {
     "name": "stderr",
     "output_type": "stream",
     "text": [
      "/nfshome/deshmukh/miniconda3/envs/vaibhav/lib/python3.9/site-packages/pysqa/utils/remote.py:235: UserWarning: \n",
      "  warnings.warn(stderr.read().decode())\n",
      "100%|██████████| 1/1 [01:47<00:00, 107.82s/it]\n",
      "100%|██████████| 1/1 [00:00<00:00,  1.43it/s]\n"
     ]
    },
    {
     "name": "stdout",
     "output_type": "stream",
     "text": [
      "The files are already compressed!\n"
     ]
    },
    {
     "name": "stderr",
     "output_type": "stream",
     "text": [
      "/nfshome/deshmukh/miniconda3/envs/vaibhav/lib/python3.9/site-packages/pysqa/utils/remote.py:235: UserWarning: \n",
      "  warnings.warn(stderr.read().decode())\n",
      "100%|██████████| 1/1 [01:47<00:00, 107.91s/it]\n",
      "100%|██████████| 1/1 [00:01<00:00,  1.08s/it]\n"
     ]
    },
    {
     "name": "stdout",
     "output_type": "stream",
     "text": [
      "The files are already compressed!\n"
     ]
    },
    {
     "name": "stderr",
     "output_type": "stream",
     "text": [
      "/nfshome/deshmukh/miniconda3/envs/vaibhav/lib/python3.9/site-packages/pysqa/utils/remote.py:235: UserWarning: \n",
      "  warnings.warn(stderr.read().decode())\n",
      "100%|██████████| 1/1 [01:52<00:00, 112.98s/it]\n",
      "100%|██████████| 1/1 [00:01<00:00,  1.24s/it]\n"
     ]
    },
    {
     "name": "stdout",
     "output_type": "stream",
     "text": [
      "The files are already compressed!\n"
     ]
    },
    {
     "name": "stderr",
     "output_type": "stream",
     "text": [
      "/nfshome/deshmukh/miniconda3/envs/vaibhav/lib/python3.9/site-packages/pysqa/utils/remote.py:235: UserWarning: \n",
      "  warnings.warn(stderr.read().decode())\n",
      "100%|██████████| 1/1 [01:50<00:00, 110.99s/it]\n",
      "100%|██████████| 1/1 [00:01<00:00,  1.27s/it]\n"
     ]
    },
    {
     "name": "stdout",
     "output_type": "stream",
     "text": [
      "The files are already compressed!\n"
     ]
    },
    {
     "name": "stderr",
     "output_type": "stream",
     "text": [
      "/nfshome/deshmukh/miniconda3/envs/vaibhav/lib/python3.9/site-packages/pysqa/utils/remote.py:235: UserWarning: \n",
      "  warnings.warn(stderr.read().decode())\n",
      "100%|██████████| 1/1 [01:46<00:00, 106.30s/it]\n",
      "100%|██████████| 1/1 [00:00<00:00,  1.33it/s]\n"
     ]
    },
    {
     "name": "stdout",
     "output_type": "stream",
     "text": [
      "The files are already compressed!\n"
     ]
    },
    {
     "name": "stderr",
     "output_type": "stream",
     "text": [
      "/nfshome/deshmukh/miniconda3/envs/vaibhav/lib/python3.9/site-packages/pysqa/utils/remote.py:235: UserWarning: \n",
      "  warnings.warn(stderr.read().decode())\n",
      "100%|██████████| 1/1 [01:46<00:00, 106.13s/it]\n",
      "100%|██████████| 1/1 [00:01<00:00,  1.31s/it]\n"
     ]
    },
    {
     "name": "stdout",
     "output_type": "stream",
     "text": [
      "The files are already compressed!\n"
     ]
    },
    {
     "name": "stderr",
     "output_type": "stream",
     "text": [
      "/nfshome/deshmukh/miniconda3/envs/vaibhav/lib/python3.9/site-packages/pysqa/utils/remote.py:235: UserWarning: \n",
      "  warnings.warn(stderr.read().decode())\n",
      "100%|██████████| 1/1 [01:46<00:00, 106.94s/it]\n",
      "100%|██████████| 1/1 [00:01<00:00,  1.32s/it]\n"
     ]
    },
    {
     "name": "stdout",
     "output_type": "stream",
     "text": [
      "The files are already compressed!\n"
     ]
    },
    {
     "name": "stderr",
     "output_type": "stream",
     "text": [
      "/nfshome/deshmukh/miniconda3/envs/vaibhav/lib/python3.9/site-packages/pysqa/utils/remote.py:235: UserWarning: \n",
      "  warnings.warn(stderr.read().decode())\n",
      "100%|██████████| 1/1 [01:44<00:00, 104.91s/it]\n",
      "100%|██████████| 1/1 [00:00<00:00,  1.34it/s]\n"
     ]
    },
    {
     "name": "stdout",
     "output_type": "stream",
     "text": [
      "The files are already compressed!\n"
     ]
    },
    {
     "name": "stderr",
     "output_type": "stream",
     "text": [
      "/nfshome/deshmukh/miniconda3/envs/vaibhav/lib/python3.9/site-packages/pysqa/utils/remote.py:235: UserWarning: \n",
      "  warnings.warn(stderr.read().decode())\n",
      "100%|██████████| 1/1 [01:47<00:00, 107.99s/it]\n",
      "100%|██████████| 1/1 [00:00<00:00,  1.25it/s]\n"
     ]
    },
    {
     "name": "stdout",
     "output_type": "stream",
     "text": [
      "The files are already compressed!\n"
     ]
    },
    {
     "name": "stderr",
     "output_type": "stream",
     "text": [
      "/nfshome/deshmukh/miniconda3/envs/vaibhav/lib/python3.9/site-packages/pysqa/utils/remote.py:235: UserWarning: \n",
      "  warnings.warn(stderr.read().decode())\n",
      "100%|██████████| 1/1 [01:44<00:00, 104.59s/it]\n",
      "100%|██████████| 1/1 [00:00<00:00,  1.36it/s]\n"
     ]
    },
    {
     "name": "stdout",
     "output_type": "stream",
     "text": [
      "The files are already compressed!\n"
     ]
    },
    {
     "name": "stderr",
     "output_type": "stream",
     "text": [
      "/nfshome/deshmukh/miniconda3/envs/vaibhav/lib/python3.9/site-packages/pysqa/utils/remote.py:235: UserWarning: \n",
      "  warnings.warn(stderr.read().decode())\n",
      "100%|██████████| 1/1 [01:44<00:00, 104.88s/it]\n",
      "100%|██████████| 1/1 [00:01<00:00,  1.08s/it]\n"
     ]
    },
    {
     "name": "stdout",
     "output_type": "stream",
     "text": [
      "The files are already compressed!\n"
     ]
    },
    {
     "name": "stderr",
     "output_type": "stream",
     "text": [
      "/nfshome/deshmukh/miniconda3/envs/vaibhav/lib/python3.9/site-packages/pysqa/utils/remote.py:235: UserWarning: \n",
      "  warnings.warn(stderr.read().decode())\n",
      "100%|██████████| 1/1 [01:42<00:00, 102.86s/it]\n",
      "100%|██████████| 1/1 [00:01<00:00,  1.41s/it]\n"
     ]
    },
    {
     "name": "stdout",
     "output_type": "stream",
     "text": [
      "The files are already compressed!\n"
     ]
    },
    {
     "name": "stderr",
     "output_type": "stream",
     "text": [
      "/nfshome/deshmukh/miniconda3/envs/vaibhav/lib/python3.9/site-packages/pysqa/utils/remote.py:235: UserWarning: \n",
      "  warnings.warn(stderr.read().decode())\n",
      "100%|██████████| 1/1 [01:36<00:00, 96.32s/it]\n",
      "100%|██████████| 1/1 [00:01<00:00,  1.37s/it]\n"
     ]
    },
    {
     "name": "stdout",
     "output_type": "stream",
     "text": [
      "The files are already compressed!\n"
     ]
    },
    {
     "name": "stderr",
     "output_type": "stream",
     "text": [
      "/nfshome/deshmukh/miniconda3/envs/vaibhav/lib/python3.9/site-packages/pysqa/utils/remote.py:235: UserWarning: \n",
      "  warnings.warn(stderr.read().decode())\n",
      "100%|██████████| 1/1 [01:35<00:00, 95.17s/it]\n",
      "100%|██████████| 1/1 [00:01<00:00,  1.47s/it]\n"
     ]
    },
    {
     "name": "stdout",
     "output_type": "stream",
     "text": [
      "The files are already compressed!\n"
     ]
    },
    {
     "name": "stderr",
     "output_type": "stream",
     "text": [
      "/nfshome/deshmukh/miniconda3/envs/vaibhav/lib/python3.9/site-packages/pysqa/utils/remote.py:235: UserWarning: \n",
      "  warnings.warn(stderr.read().decode())\n",
      "100%|██████████| 1/1 [01:54<00:00, 114.44s/it]\n",
      "100%|██████████| 1/1 [00:01<00:00,  1.30s/it]\n"
     ]
    },
    {
     "name": "stdout",
     "output_type": "stream",
     "text": [
      "The files are already compressed!\n"
     ]
    },
    {
     "name": "stderr",
     "output_type": "stream",
     "text": [
      "/nfshome/deshmukh/miniconda3/envs/vaibhav/lib/python3.9/site-packages/pysqa/utils/remote.py:235: UserWarning: \n",
      "  warnings.warn(stderr.read().decode())\n",
      "100%|██████████| 1/1 [01:47<00:00, 107.54s/it]\n",
      "100%|██████████| 1/1 [00:00<00:00,  1.10it/s]\n"
     ]
    },
    {
     "name": "stdout",
     "output_type": "stream",
     "text": [
      "The files are already compressed!\n"
     ]
    },
    {
     "name": "stderr",
     "output_type": "stream",
     "text": [
      "/nfshome/deshmukh/miniconda3/envs/vaibhav/lib/python3.9/site-packages/pysqa/utils/remote.py:235: UserWarning: \n",
      "  warnings.warn(stderr.read().decode())\n",
      "100%|██████████| 1/1 [01:46<00:00, 106.45s/it]\n",
      "100%|██████████| 1/1 [00:00<00:00,  1.32it/s]\n"
     ]
    },
    {
     "name": "stdout",
     "output_type": "stream",
     "text": [
      "The files are already compressed!\n"
     ]
    },
    {
     "name": "stderr",
     "output_type": "stream",
     "text": [
      "/nfshome/deshmukh/miniconda3/envs/vaibhav/lib/python3.9/site-packages/pysqa/utils/remote.py:235: UserWarning: \n",
      "  warnings.warn(stderr.read().decode())\n",
      "100%|██████████| 1/1 [01:38<00:00, 98.72s/it]\n",
      "100%|██████████| 1/1 [00:01<00:00,  1.33s/it]\n"
     ]
    },
    {
     "name": "stdout",
     "output_type": "stream",
     "text": [
      "The files are already compressed!\n"
     ]
    },
    {
     "name": "stderr",
     "output_type": "stream",
     "text": [
      "/nfshome/deshmukh/miniconda3/envs/vaibhav/lib/python3.9/site-packages/pysqa/utils/remote.py:235: UserWarning: \n",
      "  warnings.warn(stderr.read().decode())\n",
      "100%|██████████| 1/1 [01:45<00:00, 105.50s/it]\n",
      "100%|██████████| 1/1 [00:01<00:00,  1.30s/it]\n"
     ]
    },
    {
     "name": "stdout",
     "output_type": "stream",
     "text": [
      "The files are already compressed!\n"
     ]
    },
    {
     "name": "stderr",
     "output_type": "stream",
     "text": [
      "/nfshome/deshmukh/miniconda3/envs/vaibhav/lib/python3.9/site-packages/pysqa/utils/remote.py:235: UserWarning: \n",
      "  warnings.warn(stderr.read().decode())\n",
      "100%|██████████| 1/1 [01:46<00:00, 106.58s/it]\n",
      "100%|██████████| 1/1 [00:00<00:00,  1.30it/s]\n"
     ]
    },
    {
     "name": "stdout",
     "output_type": "stream",
     "text": [
      "The files are already compressed!\n"
     ]
    },
    {
     "name": "stderr",
     "output_type": "stream",
     "text": [
      "/nfshome/deshmukh/miniconda3/envs/vaibhav/lib/python3.9/site-packages/pysqa/utils/remote.py:235: UserWarning: \n",
      "  warnings.warn(stderr.read().decode())\n",
      "100%|██████████| 1/1 [01:43<00:00, 103.09s/it]\n",
      "100%|██████████| 1/1 [00:00<00:00,  1.28it/s]\n"
     ]
    },
    {
     "name": "stdout",
     "output_type": "stream",
     "text": [
      "The files are already compressed!\n"
     ]
    },
    {
     "name": "stderr",
     "output_type": "stream",
     "text": [
      "/nfshome/deshmukh/miniconda3/envs/vaibhav/lib/python3.9/site-packages/pysqa/utils/remote.py:235: UserWarning: \n",
      "  warnings.warn(stderr.read().decode())\n",
      "100%|██████████| 1/1 [01:49<00:00, 109.31s/it]\n",
      "100%|██████████| 1/1 [00:00<00:00,  1.21it/s]\n"
     ]
    },
    {
     "name": "stdout",
     "output_type": "stream",
     "text": [
      "The files are already compressed!\n"
     ]
    },
    {
     "name": "stderr",
     "output_type": "stream",
     "text": [
      "/nfshome/deshmukh/miniconda3/envs/vaibhav/lib/python3.9/site-packages/pysqa/utils/remote.py:235: UserWarning: \n",
      "  warnings.warn(stderr.read().decode())\n",
      "100%|██████████| 1/1 [01:45<00:00, 105.42s/it]\n",
      "100%|██████████| 1/1 [00:01<00:00,  1.18s/it]\n"
     ]
    },
    {
     "name": "stdout",
     "output_type": "stream",
     "text": [
      "The files are already compressed!\n"
     ]
    },
    {
     "name": "stderr",
     "output_type": "stream",
     "text": [
      "/nfshome/deshmukh/miniconda3/envs/vaibhav/lib/python3.9/site-packages/pysqa/utils/remote.py:235: UserWarning: \n",
      "  warnings.warn(stderr.read().decode())\n",
      "100%|██████████| 1/1 [01:49<00:00, 109.82s/it]\n",
      "100%|██████████| 1/1 [00:00<00:00,  1.19it/s]\n"
     ]
    },
    {
     "name": "stdout",
     "output_type": "stream",
     "text": [
      "The files are already compressed!\n"
     ]
    },
    {
     "name": "stderr",
     "output_type": "stream",
     "text": [
      "/nfshome/deshmukh/miniconda3/envs/vaibhav/lib/python3.9/site-packages/pysqa/utils/remote.py:235: UserWarning: \n",
      "  warnings.warn(stderr.read().decode())\n",
      "100%|██████████| 1/1 [01:53<00:00, 113.41s/it]\n",
      "100%|██████████| 1/1 [00:01<00:00,  1.34s/it]\n"
     ]
    },
    {
     "name": "stdout",
     "output_type": "stream",
     "text": [
      "The files are already compressed!\n"
     ]
    },
    {
     "name": "stderr",
     "output_type": "stream",
     "text": [
      "/nfshome/deshmukh/miniconda3/envs/vaibhav/lib/python3.9/site-packages/pysqa/utils/remote.py:235: UserWarning: \n",
      "  warnings.warn(stderr.read().decode())\n",
      "100%|██████████| 1/1 [01:49<00:00, 109.20s/it]\n",
      "100%|██████████| 1/1 [00:01<00:00,  1.31s/it]\n"
     ]
    },
    {
     "name": "stdout",
     "output_type": "stream",
     "text": [
      "The files are already compressed!\n"
     ]
    },
    {
     "name": "stderr",
     "output_type": "stream",
     "text": [
      "/nfshome/deshmukh/miniconda3/envs/vaibhav/lib/python3.9/site-packages/pysqa/utils/remote.py:235: UserWarning: \n",
      "  warnings.warn(stderr.read().decode())\n",
      "100%|██████████| 1/1 [01:46<00:00, 106.88s/it]\n",
      "100%|██████████| 1/1 [00:00<00:00,  1.05it/s]\n"
     ]
    },
    {
     "name": "stdout",
     "output_type": "stream",
     "text": [
      "The files are already compressed!\n"
     ]
    },
    {
     "name": "stderr",
     "output_type": "stream",
     "text": [
      "/nfshome/deshmukh/miniconda3/envs/vaibhav/lib/python3.9/site-packages/pysqa/utils/remote.py:235: UserWarning: \n",
      "  warnings.warn(stderr.read().decode())\n",
      "100%|██████████| 1/1 [01:49<00:00, 109.88s/it]\n",
      "100%|██████████| 1/1 [00:01<00:00,  1.25s/it]\n"
     ]
    },
    {
     "name": "stdout",
     "output_type": "stream",
     "text": [
      "The files are already compressed!\n"
     ]
    },
    {
     "name": "stderr",
     "output_type": "stream",
     "text": [
      "/nfshome/deshmukh/miniconda3/envs/vaibhav/lib/python3.9/site-packages/pysqa/utils/remote.py:235: UserWarning: \n",
      "  warnings.warn(stderr.read().decode())\n",
      "100%|██████████| 1/1 [01:45<00:00, 105.15s/it]\n",
      "100%|██████████| 1/1 [00:01<00:00,  1.29s/it]\n"
     ]
    },
    {
     "name": "stdout",
     "output_type": "stream",
     "text": [
      "The files are already compressed!\n"
     ]
    },
    {
     "name": "stderr",
     "output_type": "stream",
     "text": [
      "/nfshome/deshmukh/miniconda3/envs/vaibhav/lib/python3.9/site-packages/pysqa/utils/remote.py:235: UserWarning: \n",
      "  warnings.warn(stderr.read().decode())\n",
      "100%|██████████| 1/1 [01:45<00:00, 105.73s/it]\n",
      "100%|██████████| 1/1 [00:01<00:00,  1.10s/it]\n"
     ]
    },
    {
     "name": "stdout",
     "output_type": "stream",
     "text": [
      "The files are already compressed!\n"
     ]
    },
    {
     "name": "stderr",
     "output_type": "stream",
     "text": [
      "/nfshome/deshmukh/miniconda3/envs/vaibhav/lib/python3.9/site-packages/pysqa/utils/remote.py:235: UserWarning: \n",
      "  warnings.warn(stderr.read().decode())\n",
      "100%|██████████| 1/1 [01:39<00:00, 99.34s/it]\n",
      "100%|██████████| 1/1 [00:00<00:00,  1.14it/s]\n"
     ]
    },
    {
     "name": "stdout",
     "output_type": "stream",
     "text": [
      "The files are already compressed!\n"
     ]
    }
   ],
   "source": [
    "q_rate = [46, 18, 15, 31, 3, 33, 40, 19, 32, 13, 45] #46\n",
    "q_tem = [523,573,623,673,723,773]\n",
    "   \n",
    "import random\n",
    "# Crystal calculations\n",
    "for i in q_rate: \n",
    "    for j in q_tem:\n",
    "        job = pr['hena_1_struct_eq_%sk_%s'%(j,i)]\n",
    "        job.transfer_from_remote()\n",
    "        job.compress()"
   ]
  },
  {
   "cell_type": "code",
   "execution_count": 5,
   "metadata": {},
   "outputs": [],
   "source": [
    "job_1 = pr['hena_1_struct_eq_300k_46']\n",
    "step,den = tar_lammps(job_1,\"Step\",\"Density\")"
   ]
  },
  {
   "cell_type": "code",
   "execution_count": 6,
   "metadata": {},
   "outputs": [],
   "source": [
    "job_2 = pr['hena_1_struct_eq_300k_18']\n",
    "step_2,den_2 = tar_lammps(job_2,\"Step\",\"Density\")"
   ]
  },
  {
   "cell_type": "code",
   "execution_count": 7,
   "metadata": {},
   "outputs": [],
   "source": [
    "job_3 = pr['hena_1_struct_eq_300k_15']\n",
    "step_3,den_3 = tar_lammps(job_3,\"Step\",\"Density\")"
   ]
  },
  {
   "cell_type": "code",
   "execution_count": 8,
   "metadata": {},
   "outputs": [],
   "source": [
    "job_4 = pr['hena_1_struct_eq_300k_31']\n",
    "step_4,den_4 = tar_lammps(job_4,\"Step\",\"Density\")"
   ]
  },
  {
   "cell_type": "code",
   "execution_count": 9,
   "metadata": {},
   "outputs": [],
   "source": [
    "job_5 = pr['hena_1_struct_eq_300k_3']\n",
    "step_5,den_5 = tar_lammps(job_5,\"Step\",\"Density\")"
   ]
  },
  {
   "cell_type": "code",
   "execution_count": 10,
   "metadata": {},
   "outputs": [],
   "source": [
    "job_6 = pr['hena_1_struct_eq_300k_33']\n",
    "step_6,den_6 = tar_lammps(job_6,\"Step\",\"Density\")"
   ]
  },
  {
   "cell_type": "code",
   "execution_count": 11,
   "metadata": {},
   "outputs": [],
   "source": [
    "job_7 = pr['hena_1_struct_eq_300k_40']\n",
    "step_7,den_7 = tar_lammps(job_7,\"Step\",\"Density\")\n",
    "#step,volume = tar_lammps(job_1,\"Step\",\"PotEng\")  "
   ]
  },
  {
   "cell_type": "code",
   "execution_count": 12,
   "metadata": {},
   "outputs": [],
   "source": [
    "job_8 = pr['hena_1_struct_eq_300k_19']\n",
    "step_8,den_8 = tar_lammps(job_8,\"Step\",\"Density\")"
   ]
  },
  {
   "cell_type": "code",
   "execution_count": 13,
   "metadata": {},
   "outputs": [],
   "source": [
    "job_9 = pr['hena_1_struct_eq_300k_32']\n",
    "step_9,den_9 = tar_lammps(job_9,\"Step\",\"Density\")"
   ]
  },
  {
   "cell_type": "code",
   "execution_count": 14,
   "metadata": {},
   "outputs": [],
   "source": [
    "job_10 = pr['hena_1_struct_eq_300k_13']\n",
    "step_10,den_10 = tar_lammps(job_10,\"Step\",\"Density\")"
   ]
  },
  {
   "cell_type": "code",
   "execution_count": 15,
   "metadata": {},
   "outputs": [],
   "source": [
    "job_11 = pr['hena_1_struct_eq_300k_45']\n",
    "step_11,den_11 = tar_lammps(job_11,\"Step\",\"Density\")"
   ]
  },
  {
   "cell_type": "code",
   "execution_count": 16,
   "metadata": {},
   "outputs": [
    {
     "name": "stdout",
     "output_type": "stream",
     "text": [
      "3.2494890201833333 0.009082522085785201\n"
     ]
    }
   ],
   "source": [
    "# Plot running avg. \n",
    "print(np.mean(den[1][5000:17000]), np.std(den[1][5000:17000]))"
   ]
  },
  {
   "cell_type": "code",
   "execution_count": 17,
   "metadata": {},
   "outputs": [
    {
     "name": "stdout",
     "output_type": "stream",
     "text": [
      "3.243507721875 0.009276831741805982\n"
     ]
    }
   ],
   "source": [
    "# Plot running avg. \n",
    "print(np.mean(den_2[1][5000:17000]), np.std(den_2[1][5000:17000]))"
   ]
  },
  {
   "cell_type": "code",
   "execution_count": 18,
   "metadata": {},
   "outputs": [
    {
     "name": "stdout",
     "output_type": "stream",
     "text": [
      "3.250037857491667 0.009136982531889775\n"
     ]
    }
   ],
   "source": [
    "# Plot running avg. \n",
    "print(np.mean(den_3[1][5000:17000]), np.std(den_3[1][5000:17000]))"
   ]
  },
  {
   "cell_type": "code",
   "execution_count": 19,
   "metadata": {},
   "outputs": [
    {
     "name": "stdout",
     "output_type": "stream",
     "text": [
      "3.254570399375 0.00919641234429449\n"
     ]
    }
   ],
   "source": [
    "# Plot running avg. \n",
    "print(np.mean(den_4[1][5000:17000]), np.std(den_4[1][5000:17000]))"
   ]
  },
  {
   "cell_type": "code",
   "execution_count": 20,
   "metadata": {},
   "outputs": [
    {
     "name": "stdout",
     "output_type": "stream",
     "text": [
      "3.2603802077333337 0.009146893732355273\n"
     ]
    }
   ],
   "source": [
    "# Plot running avg. \n",
    "print(np.mean(den_5[1][5000:17000]), np.std(den_5[1][5000:17000]))"
   ]
  },
  {
   "cell_type": "code",
   "execution_count": 21,
   "metadata": {},
   "outputs": [
    {
     "name": "stdout",
     "output_type": "stream",
     "text": [
      "3.2502634916666673 0.009792363674654974\n"
     ]
    }
   ],
   "source": [
    "# Plot running avg. \n",
    "print(np.mean(den_6[1][5000:17000]), np.std(den_6[1][5000:17000]))"
   ]
  },
  {
   "cell_type": "code",
   "execution_count": 22,
   "metadata": {},
   "outputs": [
    {
     "name": "stdout",
     "output_type": "stream",
     "text": [
      "3.2525915023583334 0.009022621571377983\n"
     ]
    }
   ],
   "source": [
    "# Plot running avg. \n",
    "print(np.mean(den_7[1][5000:17000]), np.std(den_7[1][5000:17000]))"
   ]
  }
 ],
 "metadata": {
  "interpreter": {
   "hash": "c5882173ff5685180b15cb907f22c6bef76d5cc8695d1b8791e985617bfa7d2d"
  },
  "kernelspec": {
   "display_name": "Python 3.9.13 ('vaibhav')",
   "language": "python",
   "name": "python3"
  },
  "language_info": {
   "codemirror_mode": {
    "name": "ipython",
    "version": 3
   },
   "file_extension": ".py",
   "mimetype": "text/x-python",
   "name": "python",
   "nbconvert_exporter": "python",
   "pygments_lexer": "ipython3",
   "version": "3.9.13"
  },
  "orig_nbformat": 4,
  "vscode": {
   "interpreter": {
    "hash": "c5882173ff5685180b15cb907f22c6bef76d5cc8695d1b8791e985617bfa7d2d"
   }
  }
 },
 "nbformat": 4,
 "nbformat_minor": 2
}
