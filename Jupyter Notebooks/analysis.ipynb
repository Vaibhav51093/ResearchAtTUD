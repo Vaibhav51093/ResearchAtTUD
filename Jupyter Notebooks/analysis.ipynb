{
 "cells": [
  {
   "cell_type": "code",
   "execution_count": 1,
   "metadata": {},
   "outputs": [],
   "source": [
    "# Structure analysis after mini using lammps CG method for mini \n",
    "# Transfer all the calculations \n",
    "# Import project for post processing \n",
    "import numpy as np\n",
    "%matplotlib inline\n",
    "import matplotlib.pylab as plt\n",
    "from pyiron import Project\n",
    "pr = Project(\"/nfshome/deshmukh/pyiron/projects/NASICON/project/hena/hena_1/minimization\")\n",
    "import lammps_logfile"
   ]
  },
  {
   "cell_type": "code",
   "execution_count": null,
   "metadata": {},
   "outputs": [],
   "source": [
    "q_rate = [42,15, 16, 8, 36, 31, 6, 21, 40, 22, 50] #42\n",
    "q_tem = [523,573,623,673,723,773]\n",
    "import random\n",
    "# Crystal calculations \n",
    "#for i in q_rate: \n",
    "#    for j in q_tem:\n",
    "#        job = pr['hena_1_struct_eq_%sk_%s'%(j,i)]\n",
    "#        job.transfer_from_remote()\n",
    "#        job.compress()\n"
   ]
  },
  {
   "cell_type": "code",
   "execution_count": 2,
   "metadata": {},
   "outputs": [],
   "source": [
    "# This one will read the lammps log file from zipped file, without extracting the file itself \n",
    "import tarfile\n",
    "import lammps_logfile\n",
    "import os\n",
    "import codecs\n",
    "utf8reader = codecs.getreader('utf-8')\n",
    "\n",
    "# ['Density', 'PotEng', 'Pxx', 'Pxy', 'Pxz', 'Pyy', 'Pyz', 'Pzz', 'Step', 'Temp', 'TotEng', 'Volume']\n",
    "\n",
    "\n",
    "def tar_lammps(job,prop_1,prop_2):\n",
    "    den = []\n",
    "    step = []\n",
    "    job_file_compressed = os.path.join(job.working_directory, [f for f in os.listdir(job.working_directory) if \".tar.bz2\" in f][0])\n",
    "    tar = tarfile.open(job_file_compressed, \"r:bz2\")\n",
    "    for member in tar.getmembers():\n",
    "        if 'log.lammps' == member.name:\n",
    "            f = tar.extractfile(member)\n",
    "            log = lammps_logfile.File(utf8reader(f))\n",
    "            for i in range(log.get_num_partial_logs()):\n",
    "                x = log.get(prop_1, run_num=i)\n",
    "                y = log.get(prop_2, run_num=i)\n",
    "                den.append(y)\n",
    "                step.append(x)\n",
    "    return step, den "
   ]
  },
  {
   "cell_type": "code",
   "execution_count": 3,
   "metadata": {},
   "outputs": [],
   "source": [
    "# This one will read the lammps log file from zipped file, without extracting the file itself \n",
    "import tarfile\n",
    "import lammps_logfile\n",
    "import os\n",
    "import codecs\n",
    "utf8reader = codecs.getreader('utf-8')\n",
    "\n",
    "# ['Density', 'PotEng', 'Pxx', 'Pxy', 'Pxz', 'Pyy', 'Pyz', 'Pzz', 'Step', 'Temp', 'TotEng', 'Volume']\n",
    "\n",
    "\n",
    "def tar_lammps_2(job,prop_1,prop_2):\n",
    "    den = []\n",
    "    step = []\n",
    "    job_file_compressed = os.path.join(job, [f for f in os.listdir(job) if \".tar.bz2\" in f][0])\n",
    "    tar = tarfile.open(job_file_compressed, \"r:bz2\")\n",
    "    for member in tar.getmembers():\n",
    "        if 'log.lammps' == member.name:\n",
    "            f = tar.extractfile(member)\n",
    "            log = lammps_logfile.File(utf8reader(f))\n",
    "            for i in range(log.get_num_partial_logs()):\n",
    "                x = log.get(prop_1, run_num=i)\n",
    "                y = log.get(prop_2, run_num=i)\n",
    "                den.append(y)\n",
    "                step.append(x)\n",
    "    return step, den "
   ]
  },
  {
   "cell_type": "code",
   "execution_count": 5,
   "metadata": {},
   "outputs": [],
   "source": [
    "step,den = tar_lammps_2('/nfshome/deshmukh/pyiron/projects/NASICON/project/hena/hena_1/minimization/hena_1_struct_eq_300k_42_hdf5/hena_1_struct_eq_300k_42',\"Step\",\"Density\")"
   ]
  },
  {
   "cell_type": "code",
   "execution_count": 6,
   "metadata": {},
   "outputs": [
    {
     "data": {
      "text/plain": [
       "[array([0.000e+00, 1.000e+02, 2.000e+02, ..., 4.998e+05, 4.999e+05,\n",
       "        5.000e+05]),\n",
       " array([0.0000e+00, 1.0000e+02, 2.0000e+02, ..., 1.9998e+06, 1.9999e+06,\n",
       "        2.0000e+06]),\n",
       " array([0.0000e+00, 1.0000e+02, 2.0000e+02, ..., 1.9998e+06, 1.9999e+06,\n",
       "        2.0000e+06]),\n",
       " array([0.0000e+00, 1.0000e+02, 2.0000e+02, ..., 9.9998e+06, 9.9999e+06,\n",
       "        1.0000e+07])]"
      ]
     },
     "execution_count": 6,
     "metadata": {},
     "output_type": "execute_result"
    }
   ],
   "source": [
    "step"
   ]
  },
  {
   "cell_type": "code",
   "execution_count": 3,
   "metadata": {},
   "outputs": [],
   "source": [
    "#plt.plot(step[1][5000:17000],den[1][5000:17000])\n",
    "#plt.axhline(y=np.mean(den[1][5000:17000]), color='red')"
   ]
  },
  {
   "cell_type": "code",
   "execution_count": 3,
   "metadata": {},
   "outputs": [],
   "source": [
    "#list = [42,15, 16, 8, 36, 31, 6, 21, 40, 22, 50] # 42 is already transfered \n",
    "job_1 = pr['hena_1_struct_eq_300k_42']\n",
    "step,den = tar_lammps(job_1,\"Step\",\"Density\")"
   ]
  },
  {
   "cell_type": "code",
   "execution_count": 4,
   "metadata": {},
   "outputs": [],
   "source": [
    "job_2 = pr['hena_1_struct_eq_300k_15']\n",
    "step_2,den_2 = tar_lammps(job_2,\"Step\",\"Density\")"
   ]
  },
  {
   "cell_type": "code",
   "execution_count": 5,
   "metadata": {},
   "outputs": [],
   "source": [
    "job_3 = pr['hena_1_struct_eq_300k_16']\n",
    "step_3,den_3 = tar_lammps(job_3,\"Step\",\"Density\")"
   ]
  },
  {
   "cell_type": "code",
   "execution_count": 6,
   "metadata": {},
   "outputs": [],
   "source": [
    "job_4 = pr['hena_1_struct_eq_300k_8']\n",
    "step_4,den_4 = tar_lammps(job_4,\"Step\",\"Density\")"
   ]
  },
  {
   "cell_type": "code",
   "execution_count": 7,
   "metadata": {},
   "outputs": [],
   "source": [
    "job_5 = pr['hena_1_struct_eq_300k_36']\n",
    "step_5,den_5 = tar_lammps(job_5,\"Step\",\"Density\")"
   ]
  },
  {
   "cell_type": "code",
   "execution_count": 8,
   "metadata": {},
   "outputs": [],
   "source": [
    "job_6 = pr['hena_1_struct_eq_300k_31']\n",
    "step_6,den_6 = tar_lammps(job_6,\"Step\",\"Density\")"
   ]
  },
  {
   "cell_type": "code",
   "execution_count": 9,
   "metadata": {},
   "outputs": [],
   "source": [
    "job_7 = pr['hena_1_struct_eq_300k_6']\n",
    "step_7,den_7 = tar_lammps(job_7,\"Step\",\"Density\")\n",
    "#step,volume = tar_lammps(job_1,\"Step\",\"PotEng\")  "
   ]
  },
  {
   "cell_type": "code",
   "execution_count": 10,
   "metadata": {},
   "outputs": [],
   "source": [
    "job_8 = pr['hena_1_struct_eq_300k_21']\n",
    "step_8,den_8 = tar_lammps(job_8,\"Step\",\"Density\")"
   ]
  },
  {
   "cell_type": "code",
   "execution_count": 11,
   "metadata": {},
   "outputs": [],
   "source": [
    "job_9 = pr['hena_1_struct_eq_300k_40']\n",
    "step_9,den_9 = tar_lammps(job_9,\"Step\",\"Density\")"
   ]
  },
  {
   "cell_type": "code",
   "execution_count": 12,
   "metadata": {},
   "outputs": [],
   "source": [
    "job_10 = pr['hena_1_struct_eq_300k_22']\n",
    "step_10,den_10 = tar_lammps(job_10,\"Step\",\"Density\")"
   ]
  },
  {
   "cell_type": "code",
   "execution_count": 13,
   "metadata": {},
   "outputs": [],
   "source": [
    "job_11 = pr['hena_1_struct_eq_300k_50']\n",
    "step_11,den_11 = tar_lammps(job_11,\"Step\",\"Density\")"
   ]
  },
  {
   "cell_type": "code",
   "execution_count": 14,
   "metadata": {},
   "outputs": [
    {
     "name": "stdout",
     "output_type": "stream",
     "text": [
      "3.4721896442583335 0.010652732413894275\n"
     ]
    }
   ],
   "source": [
    "# Plot running avg. \n",
    "print(np.mean(den[1][5000:17000]), np.std(den[1][5000:17000]))"
   ]
  },
  {
   "cell_type": "code",
   "execution_count": 15,
   "metadata": {},
   "outputs": [
    {
     "name": "stdout",
     "output_type": "stream",
     "text": [
      "3.4305222588166666 0.010680453596879547\n"
     ]
    }
   ],
   "source": [
    "# Plot running avg. \n",
    "print(np.mean(den_2[1][5000:17000]), np.std(den_2[1][5000:17000]))"
   ]
  },
  {
   "cell_type": "code",
   "execution_count": 16,
   "metadata": {},
   "outputs": [
    {
     "name": "stdout",
     "output_type": "stream",
     "text": [
      "3.4503349355000004 0.01352088545115191\n"
     ]
    }
   ],
   "source": [
    "# Plot running avg. \n",
    "print(np.mean(den_3[1][5000:17000]), np.std(den_3[1][5000:17000]))"
   ]
  },
  {
   "cell_type": "code",
   "execution_count": 17,
   "metadata": {},
   "outputs": [
    {
     "name": "stdout",
     "output_type": "stream",
     "text": [
      "3.362611643875 0.01054267056112053\n"
     ]
    }
   ],
   "source": [
    "# Plot running avg. \n",
    "print(np.mean(den_4[1][5000:17000]), np.std(den_4[1][5000:17000]))"
   ]
  },
  {
   "cell_type": "code",
   "execution_count": 18,
   "metadata": {},
   "outputs": [
    {
     "name": "stdout",
     "output_type": "stream",
     "text": [
      "3.388393623808333 0.010641193835630268\n"
     ]
    }
   ],
   "source": [
    "# Plot running avg. \n",
    "print(np.mean(den_5[1][5000:17000]), np.std(den_5[1][5000:17000]))"
   ]
  },
  {
   "cell_type": "code",
   "execution_count": 19,
   "metadata": {},
   "outputs": [
    {
     "name": "stdout",
     "output_type": "stream",
     "text": [
      "3.420225730191667 0.010798999475969413\n"
     ]
    }
   ],
   "source": [
    "# Plot running avg. \n",
    "print(np.mean(den_6[1][5000:17000]), np.std(den_6[1][5000:17000]))"
   ]
  },
  {
   "cell_type": "code",
   "execution_count": 20,
   "metadata": {},
   "outputs": [
    {
     "name": "stdout",
     "output_type": "stream",
     "text": [
      "3.451258968075 0.010937489877491012\n"
     ]
    }
   ],
   "source": [
    "# Plot running avg. \n",
    "print(np.mean(den_7[1][5000:17000]), np.std(den_7[1][5000:17000]))"
   ]
  },
  {
   "cell_type": "code",
   "execution_count": 22,
   "metadata": {},
   "outputs": [
    {
     "name": "stdout",
     "output_type": "stream",
     "text": [
      "3.4390757772 0.010522287296379218\n"
     ]
    }
   ],
   "source": [
    "# Plot running avg. \n",
    "print(np.mean(den_8[1][5000:17000]), np.std(den_8[1][5000:17000]))"
   ]
  },
  {
   "cell_type": "code",
   "execution_count": 23,
   "metadata": {},
   "outputs": [
    {
     "name": "stdout",
     "output_type": "stream",
     "text": [
      "3.4221646033833335 0.011615269271770756\n"
     ]
    }
   ],
   "source": [
    "# Plot running avg. \n",
    "print(np.mean(den_9[1][5000:17000]), np.std(den_9[1][5000:17000]))"
   ]
  },
  {
   "cell_type": "code",
   "execution_count": 24,
   "metadata": {},
   "outputs": [
    {
     "name": "stdout",
     "output_type": "stream",
     "text": [
      "3.3707122976833332 0.011007100305747558\n"
     ]
    }
   ],
   "source": [
    "# Plot running avg. \n",
    "print(np.mean(den_10[1][5000:17000]), np.std(den_10[1][5000:17000]))"
   ]
  },
  {
   "cell_type": "code",
   "execution_count": 25,
   "metadata": {},
   "outputs": [
    {
     "name": "stdout",
     "output_type": "stream",
     "text": [
      "3.4357167421083337 0.010703848353712526\n"
     ]
    }
   ],
   "source": [
    "# Plot running avg. \n",
    "print(np.mean(den_11[1][5000:17000]), np.std(den_11[1][5000:17000]))"
   ]
  },
  {
   "cell_type": "code",
   "execution_count": 21,
   "metadata": {},
   "outputs": [
    {
     "ename": "KeyboardInterrupt",
     "evalue": "",
     "output_type": "error",
     "traceback": [
      "\u001b[0;31m---------------------------------------------------------------------------\u001b[0m",
      "\u001b[0;31mKeyboardInterrupt\u001b[0m                         Traceback (most recent call last)",
      "\u001b[1;32m/nfshome/deshmukh/vaibhav/HeNa/analysis.ipynb Cell 22\u001b[0m in \u001b[0;36m<cell line: 1>\u001b[0;34m()\u001b[0m\n\u001b[0;32m----> <a href='vscode-notebook-cell://ssh-remote%2Bmogli226.mm.mw.tu-darmstadt.de/nfshome/deshmukh/vaibhav/HeNa/analysis.ipynb#W4sdnNjb2RlLXJlbW90ZQ%3D%3D?line=0'>1</a>\u001b[0m tm,den \u001b[39m=\u001b[39m tar_lammps(job_1,\u001b[39m\"\u001b[39;49m\u001b[39mTemp\u001b[39;49m\u001b[39m\"\u001b[39;49m,\u001b[39m\"\u001b[39;49m\u001b[39mDensity\u001b[39;49m\u001b[39m\"\u001b[39;49m)\n\u001b[1;32m      <a href='vscode-notebook-cell://ssh-remote%2Bmogli226.mm.mw.tu-darmstadt.de/nfshome/deshmukh/vaibhav/HeNa/analysis.ipynb#W4sdnNjb2RlLXJlbW90ZQ%3D%3D?line=1'>2</a>\u001b[0m temp \u001b[39m=\u001b[39m tm[\u001b[39m1\u001b[39m][\u001b[39m5000\u001b[39m:\u001b[39m17000\u001b[39m]\n\u001b[1;32m      <a href='vscode-notebook-cell://ssh-remote%2Bmogli226.mm.mw.tu-darmstadt.de/nfshome/deshmukh/vaibhav/HeNa/analysis.ipynb#W4sdnNjb2RlLXJlbW90ZQ%3D%3D?line=2'>3</a>\u001b[0m dens \u001b[39m=\u001b[39m den[\u001b[39m1\u001b[39m][\u001b[39m5000\u001b[39m:\u001b[39m17000\u001b[39m]\n",
      "\u001b[1;32m/nfshome/deshmukh/vaibhav/HeNa/analysis.ipynb Cell 22\u001b[0m in \u001b[0;36mtar_lammps\u001b[0;34m(job, prop_1, prop_2)\u001b[0m\n\u001b[1;32m     <a href='vscode-notebook-cell://ssh-remote%2Bmogli226.mm.mw.tu-darmstadt.de/nfshome/deshmukh/vaibhav/HeNa/analysis.ipynb#W4sdnNjb2RlLXJlbW90ZQ%3D%3D?line=12'>13</a>\u001b[0m job_file_compressed \u001b[39m=\u001b[39m os\u001b[39m.\u001b[39mpath\u001b[39m.\u001b[39mjoin(job\u001b[39m.\u001b[39mworking_directory, [f \u001b[39mfor\u001b[39;00m f \u001b[39min\u001b[39;00m os\u001b[39m.\u001b[39mlistdir(job\u001b[39m.\u001b[39mworking_directory) \u001b[39mif\u001b[39;00m \u001b[39m\"\u001b[39m\u001b[39m.tar.bz2\u001b[39m\u001b[39m\"\u001b[39m \u001b[39min\u001b[39;00m f][\u001b[39m0\u001b[39m])\n\u001b[1;32m     <a href='vscode-notebook-cell://ssh-remote%2Bmogli226.mm.mw.tu-darmstadt.de/nfshome/deshmukh/vaibhav/HeNa/analysis.ipynb#W4sdnNjb2RlLXJlbW90ZQ%3D%3D?line=13'>14</a>\u001b[0m tar \u001b[39m=\u001b[39m tarfile\u001b[39m.\u001b[39mopen(job_file_compressed, \u001b[39m\"\u001b[39m\u001b[39mr:bz2\u001b[39m\u001b[39m\"\u001b[39m)\n\u001b[0;32m---> <a href='vscode-notebook-cell://ssh-remote%2Bmogli226.mm.mw.tu-darmstadt.de/nfshome/deshmukh/vaibhav/HeNa/analysis.ipynb#W4sdnNjb2RlLXJlbW90ZQ%3D%3D?line=14'>15</a>\u001b[0m \u001b[39mfor\u001b[39;00m member \u001b[39min\u001b[39;00m tar\u001b[39m.\u001b[39;49mgetmembers():\n\u001b[1;32m     <a href='vscode-notebook-cell://ssh-remote%2Bmogli226.mm.mw.tu-darmstadt.de/nfshome/deshmukh/vaibhav/HeNa/analysis.ipynb#W4sdnNjb2RlLXJlbW90ZQ%3D%3D?line=15'>16</a>\u001b[0m     \u001b[39mif\u001b[39;00m \u001b[39m'\u001b[39m\u001b[39mlog.lammps\u001b[39m\u001b[39m'\u001b[39m \u001b[39m==\u001b[39m member\u001b[39m.\u001b[39mname:\n\u001b[1;32m     <a href='vscode-notebook-cell://ssh-remote%2Bmogli226.mm.mw.tu-darmstadt.de/nfshome/deshmukh/vaibhav/HeNa/analysis.ipynb#W4sdnNjb2RlLXJlbW90ZQ%3D%3D?line=16'>17</a>\u001b[0m         f \u001b[39m=\u001b[39m tar\u001b[39m.\u001b[39mextractfile(member)\n",
      "File \u001b[0;32m~/miniconda3/envs/vaibhav/lib/python3.9/tarfile.py:1808\u001b[0m, in \u001b[0;36mTarFile.getmembers\u001b[0;34m(self)\u001b[0m\n\u001b[1;32m   1806\u001b[0m \u001b[39mself\u001b[39m\u001b[39m.\u001b[39m_check()\n\u001b[1;32m   1807\u001b[0m \u001b[39mif\u001b[39;00m \u001b[39mnot\u001b[39;00m \u001b[39mself\u001b[39m\u001b[39m.\u001b[39m_loaded:    \u001b[39m# if we want to obtain a list of\u001b[39;00m\n\u001b[0;32m-> 1808\u001b[0m     \u001b[39mself\u001b[39;49m\u001b[39m.\u001b[39;49m_load()        \u001b[39m# all members, we first have to\u001b[39;00m\n\u001b[1;32m   1809\u001b[0m                         \u001b[39m# scan the whole archive.\u001b[39;00m\n\u001b[1;32m   1810\u001b[0m \u001b[39mreturn\u001b[39;00m \u001b[39mself\u001b[39m\u001b[39m.\u001b[39mmembers\n",
      "File \u001b[0;32m~/miniconda3/envs/vaibhav/lib/python3.9/tarfile.py:2406\u001b[0m, in \u001b[0;36mTarFile._load\u001b[0;34m(self)\u001b[0m\n\u001b[1;32m   2402\u001b[0m \u001b[39m\"\"\"Read through the entire archive file and look for readable\u001b[39;00m\n\u001b[1;32m   2403\u001b[0m \u001b[39m   members.\u001b[39;00m\n\u001b[1;32m   2404\u001b[0m \u001b[39m\"\"\"\u001b[39;00m\n\u001b[1;32m   2405\u001b[0m \u001b[39mwhile\u001b[39;00m \u001b[39mTrue\u001b[39;00m:\n\u001b[0;32m-> 2406\u001b[0m     tarinfo \u001b[39m=\u001b[39m \u001b[39mself\u001b[39;49m\u001b[39m.\u001b[39;49mnext()\n\u001b[1;32m   2407\u001b[0m     \u001b[39mif\u001b[39;00m tarinfo \u001b[39mis\u001b[39;00m \u001b[39mNone\u001b[39;00m:\n\u001b[1;32m   2408\u001b[0m         \u001b[39mbreak\u001b[39;00m\n",
      "File \u001b[0;32m~/miniconda3/envs/vaibhav/lib/python3.9/tarfile.py:2328\u001b[0m, in \u001b[0;36mTarFile.next\u001b[0;34m(self)\u001b[0m\n\u001b[1;32m   2326\u001b[0m \u001b[39m# Advance the file pointer.\u001b[39;00m\n\u001b[1;32m   2327\u001b[0m \u001b[39mif\u001b[39;00m \u001b[39mself\u001b[39m\u001b[39m.\u001b[39moffset \u001b[39m!=\u001b[39m \u001b[39mself\u001b[39m\u001b[39m.\u001b[39mfileobj\u001b[39m.\u001b[39mtell():\n\u001b[0;32m-> 2328\u001b[0m     \u001b[39mself\u001b[39;49m\u001b[39m.\u001b[39;49mfileobj\u001b[39m.\u001b[39;49mseek(\u001b[39mself\u001b[39;49m\u001b[39m.\u001b[39;49moffset \u001b[39m-\u001b[39;49m \u001b[39m1\u001b[39;49m)\n\u001b[1;32m   2329\u001b[0m     \u001b[39mif\u001b[39;00m \u001b[39mnot\u001b[39;00m \u001b[39mself\u001b[39m\u001b[39m.\u001b[39mfileobj\u001b[39m.\u001b[39mread(\u001b[39m1\u001b[39m):\n\u001b[1;32m   2330\u001b[0m         \u001b[39mraise\u001b[39;00m ReadError(\u001b[39m\"\u001b[39m\u001b[39munexpected end of data\u001b[39m\u001b[39m\"\u001b[39m)\n",
      "File \u001b[0;32m~/miniconda3/envs/vaibhav/lib/python3.9/bz2.py:275\u001b[0m, in \u001b[0;36mBZ2File.seek\u001b[0;34m(self, offset, whence)\u001b[0m\n\u001b[1;32m    273\u001b[0m \u001b[39mwith\u001b[39;00m \u001b[39mself\u001b[39m\u001b[39m.\u001b[39m_lock:\n\u001b[1;32m    274\u001b[0m     \u001b[39mself\u001b[39m\u001b[39m.\u001b[39m_check_can_seek()\n\u001b[0;32m--> 275\u001b[0m     \u001b[39mreturn\u001b[39;00m \u001b[39mself\u001b[39;49m\u001b[39m.\u001b[39;49m_buffer\u001b[39m.\u001b[39;49mseek(offset, whence)\n",
      "File \u001b[0;32m~/miniconda3/envs/vaibhav/lib/python3.9/_compression.py:143\u001b[0m, in \u001b[0;36mDecompressReader.seek\u001b[0;34m(self, offset, whence)\u001b[0m\n\u001b[1;32m    141\u001b[0m \u001b[39m# Read and discard data until we reach the desired position.\u001b[39;00m\n\u001b[1;32m    142\u001b[0m \u001b[39mwhile\u001b[39;00m offset \u001b[39m>\u001b[39m \u001b[39m0\u001b[39m:\n\u001b[0;32m--> 143\u001b[0m     data \u001b[39m=\u001b[39m \u001b[39mself\u001b[39;49m\u001b[39m.\u001b[39;49mread(\u001b[39mmin\u001b[39;49m(io\u001b[39m.\u001b[39;49mDEFAULT_BUFFER_SIZE, offset))\n\u001b[1;32m    144\u001b[0m     \u001b[39mif\u001b[39;00m \u001b[39mnot\u001b[39;00m data:\n\u001b[1;32m    145\u001b[0m         \u001b[39mbreak\u001b[39;00m\n",
      "File \u001b[0;32m~/miniconda3/envs/vaibhav/lib/python3.9/_compression.py:103\u001b[0m, in \u001b[0;36mDecompressReader.read\u001b[0;34m(self, size)\u001b[0m\n\u001b[1;32m    101\u001b[0m     \u001b[39melse\u001b[39;00m:\n\u001b[1;32m    102\u001b[0m         rawblock \u001b[39m=\u001b[39m \u001b[39mb\u001b[39m\u001b[39m\"\u001b[39m\u001b[39m\"\u001b[39m\n\u001b[0;32m--> 103\u001b[0m     data \u001b[39m=\u001b[39m \u001b[39mself\u001b[39;49m\u001b[39m.\u001b[39;49m_decompressor\u001b[39m.\u001b[39;49mdecompress(rawblock, size)\n\u001b[1;32m    104\u001b[0m \u001b[39mif\u001b[39;00m data:\n\u001b[1;32m    105\u001b[0m     \u001b[39mbreak\u001b[39;00m\n",
      "\u001b[0;31mKeyboardInterrupt\u001b[0m: "
     ]
    }
   ],
   "source": [
    "tm,den = tar_lammps(job_1,\"Temp\",\"Density\")\n",
    "temp = tm[1][5000:17000]\n",
    "dens = den[1][5000:17000]"
   ]
  },
  {
   "cell_type": "code",
   "execution_count": 14,
   "metadata": {},
   "outputs": [],
   "source": [
    "tm_2,den_2 = tar_lammps(job_2,\"Temp\",\"Density\")\n",
    "temp_2 = tm_2[1][5000:17000]\n",
    "dens_2 = den_2[1][5000:17000]"
   ]
  },
  {
   "cell_type": "code",
   "execution_count": null,
   "metadata": {},
   "outputs": [],
   "source": [
    "tm_3,den_3 = tar_lammps(job_3,\"Temp\",\"Density\")\n",
    "temp_3 = tm_3[1][5000:17000]\n",
    "dens_3 = den_3[1][5000:17000]"
   ]
  },
  {
   "cell_type": "code",
   "execution_count": null,
   "metadata": {},
   "outputs": [],
   "source": [
    "tm_4,den_4 = tar_lammps(job_4,\"Temp\",\"Density\")\n",
    "temp_4 = tm_4[1][5000:17000]\n",
    "dens_4 = den_4[1][5000:17000]"
   ]
  },
  {
   "cell_type": "code",
   "execution_count": null,
   "metadata": {},
   "outputs": [],
   "source": [
    "tm_3,den_3 = tar_lammps(job_3,\"Temp\",\"Density\")\n",
    "temp_3 = tm_3[1][5000:17000]\n",
    "dens_3 = den_3[1][5000:17000]"
   ]
  },
  {
   "cell_type": "code",
   "execution_count": 7,
   "metadata": {},
   "outputs": [],
   "source": [
    "step,volume = tar_lammps(job_1,\"Step\",\"Volume\")\n",
    "st = step[1][5000:17000]\n",
    "vol = volume[1][5000:17000]"
   ]
  },
  {
   "cell_type": "code",
   "execution_count": 12,
   "metadata": {},
   "outputs": [],
   "source": [
    "pt,tot = tar_lammps(job_1,\"PotEng\",\"TotEng\")\n",
    "#pot_eng = pt[1][5000:17000]\n",
    "#tot = tot[1][5000:17000]"
   ]
  },
  {
   "cell_type": "code",
   "execution_count": 11,
   "metadata": {},
   "outputs": [
    {
     "name": "stdout",
     "output_type": "stream",
     "text": [
      "3.4721896442583335 0.010652732413894275\n"
     ]
    }
   ],
   "source": [
    "print(np.mean(dens),np.std(dens))             # average density "
   ]
  },
  {
   "cell_type": "code",
   "execution_count": 13,
   "metadata": {},
   "outputs": [
    {
     "name": "stdout",
     "output_type": "stream",
     "text": [
      "300.0743988983333 11.148489438335517\n"
     ]
    }
   ],
   "source": [
    "print(np.mean(temp),np.std(temp))  "
   ]
  }
 ],
 "metadata": {
  "kernelspec": {
   "display_name": "Python 3.9.10 ('base')",
   "language": "python",
   "name": "python3"
  },
  "language_info": {
   "codemirror_mode": {
    "name": "ipython",
    "version": 3
   },
   "file_extension": ".py",
   "mimetype": "text/x-python",
   "name": "python",
   "nbconvert_exporter": "python",
   "pygments_lexer": "ipython3",
   "version": "3.9.13"
  },
  "orig_nbformat": 4,
  "vscode": {
   "interpreter": {
    "hash": "dcb2045c0046e0ec6feeab23b827c595cdeda8eab870e0a3bc059342d5390819"
   }
  }
 },
 "nbformat": 4,
 "nbformat_minor": 2
}
