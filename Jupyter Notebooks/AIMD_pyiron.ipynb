{
 "cells": [
  {
   "cell_type": "code",
   "execution_count": 7,
   "metadata": {},
   "outputs": [
    {
     "name": "stdout",
     "output_type": "stream",
     "text": [
      "\u001b[0m\u001b[01;32mAIMD_pyiron.ipynb\u001b[0m*  \u001b[01;32mpyiron.log\u001b[0m*\n"
     ]
    }
   ],
   "source": [
    "# Calculate formation energy \n",
    "from pyiron import Project, ase_to_pyiron\n",
    "import matplotlib.pyplot as plt\n",
    "import numpy as np\n",
    "from pyiron import Project\n",
    "from ase.io import read, write\n",
    "from pyiron import ase_to_pyiron\n",
    "import ase\n",
    "import os\n",
    "import time\n",
    "%ls"
   ]
  },
  {
   "cell_type": "code",
   "execution_count": 8,
   "metadata": {},
   "outputs": [],
   "source": [
    "pr = Project(\"/nfshome/deshmukh/pyiron/projects/NASICON/project/hena/hena_1/minimization_small\")\n",
    "pr_1 = Project(\"/nfshome/deshmukh/pyiron/projects/NASICON/project/hena/hena_2_2/minimization_small\")   "
   ]
  },
  {
   "cell_type": "code",
   "execution_count": 15,
   "metadata": {},
   "outputs": [],
   "source": [
    "strct_no = [44, 50, 34] #, 26, 4, 42, 46, 45, 38, 17, 21] \n",
    "strct_no_1 = [82, 139,  34,  23,  26] #, 26, 4, 42, 46, 45, 38, 17, 21]\n",
    "strct_no_2 = [74,   2,  63, 112, 117] #, 26, 4, 42, 46, 45, 38, 17, 21]\n",
    "temp = [523, 573, 623, 673, 723, 773]\n"
   ]
  },
  {
   "cell_type": "code",
   "execution_count": 16,
   "metadata": {},
   "outputs": [
    {
     "name": "stderr",
     "output_type": "stream",
     "text": [
      "/tmp/ipykernel_4102271/3163531724.py:5: DeprecationWarning: pyiron_atomistics.lammps.base.get_final_structure is deprecated: use get_structure() instead.\n",
      "  atom = len(job.get_final_structure())\n",
      "2023-05-20 20:59:08,559 - pyiron_log - WARNING - Deprecated data structure! Returned array was converted from dtype='O' to dtype=float64 via `np.array(result.tolist())`.\n",
      "Please run rewrite_hdf5() (from a job: job.project_hdf5.rewrite_hdf5() ) to update this data! To update all your data run Project.maintenance.update.base_v0_3_to_v0_4('all').\n",
      "2023-05-20 20:59:08,589 - pyiron_log - WARNING - Deprecated data structure! Returned array was converted from dtype='O' to dtype=float64 via `np.array(result.tolist())`.\n",
      "Please run rewrite_hdf5() (from a job: job.project_hdf5.rewrite_hdf5() ) to update this data! To update all your data run Project.maintenance.update.base_v0_3_to_v0_4('all').\n",
      "2023-05-20 20:59:08,618 - pyiron_log - WARNING - Deprecated data structure! Returned array was converted from dtype='O' to dtype=float64 via `np.array(result.tolist())`.\n",
      "Please run rewrite_hdf5() (from a job: job.project_hdf5.rewrite_hdf5() ) to update this data! To update all your data run Project.maintenance.update.base_v0_3_to_v0_4('all').\n",
      "2023-05-20 20:59:08,648 - pyiron_log - WARNING - Deprecated data structure! Returned array was converted from dtype='O' to dtype=int64 via `np.array(result.tolist())`.\n",
      "Please run rewrite_hdf5() (from a job: job.project_hdf5.rewrite_hdf5() ) to update this data! To update all your data run Project.maintenance.update.base_v0_3_to_v0_4('all').\n",
      "2023-05-20 20:59:08,678 - pyiron_log - WARNING - Deprecated data structure! Returned array was converted from dtype='O' to dtype=int64 via `np.array(result.tolist())`.\n",
      "Please run rewrite_hdf5() (from a job: job.project_hdf5.rewrite_hdf5() ) to update this data! To update all your data run Project.maintenance.update.base_v0_3_to_v0_4('all').\n",
      "2023-05-20 20:59:08,712 - pyiron_log - WARNING - Deprecated data structure! Returned array was converted from dtype='O' to dtype=float64 via `np.array(result.tolist())`.\n",
      "Please run rewrite_hdf5() (from a job: job.project_hdf5.rewrite_hdf5() ) to update this data! To update all your data run Project.maintenance.update.base_v0_3_to_v0_4('all').\n",
      "2023-05-20 20:59:08,748 - pyiron_log - WARNING - Deprecated data structure! Returned array was converted from dtype='O' to dtype=float64 via `np.array(result.tolist())`.\n",
      "Please run rewrite_hdf5() (from a job: job.project_hdf5.rewrite_hdf5() ) to update this data! To update all your data run Project.maintenance.update.base_v0_3_to_v0_4('all').\n",
      "/tmp/ipykernel_4102271/3163531724.py:5: DeprecationWarning: pyiron_atomistics.lammps.base.get_final_structure is deprecated: use get_structure() instead.\n",
      "  atom = len(job.get_final_structure())\n",
      "2023-05-20 20:59:09,013 - pyiron_log - WARNING - Deprecated data structure! Returned array was converted from dtype='O' to dtype=float64 via `np.array(result.tolist())`.\n",
      "Please run rewrite_hdf5() (from a job: job.project_hdf5.rewrite_hdf5() ) to update this data! To update all your data run Project.maintenance.update.base_v0_3_to_v0_4('all').\n",
      "2023-05-20 20:59:09,043 - pyiron_log - WARNING - Deprecated data structure! Returned array was converted from dtype='O' to dtype=float64 via `np.array(result.tolist())`.\n",
      "Please run rewrite_hdf5() (from a job: job.project_hdf5.rewrite_hdf5() ) to update this data! To update all your data run Project.maintenance.update.base_v0_3_to_v0_4('all').\n",
      "2023-05-20 20:59:09,073 - pyiron_log - WARNING - Deprecated data structure! Returned array was converted from dtype='O' to dtype=float64 via `np.array(result.tolist())`.\n",
      "Please run rewrite_hdf5() (from a job: job.project_hdf5.rewrite_hdf5() ) to update this data! To update all your data run Project.maintenance.update.base_v0_3_to_v0_4('all').\n",
      "2023-05-20 20:59:09,103 - pyiron_log - WARNING - Deprecated data structure! Returned array was converted from dtype='O' to dtype=int64 via `np.array(result.tolist())`.\n",
      "Please run rewrite_hdf5() (from a job: job.project_hdf5.rewrite_hdf5() ) to update this data! To update all your data run Project.maintenance.update.base_v0_3_to_v0_4('all').\n",
      "2023-05-20 20:59:09,140 - pyiron_log - WARNING - Deprecated data structure! Returned array was converted from dtype='O' to dtype=int64 via `np.array(result.tolist())`.\n",
      "Please run rewrite_hdf5() (from a job: job.project_hdf5.rewrite_hdf5() ) to update this data! To update all your data run Project.maintenance.update.base_v0_3_to_v0_4('all').\n",
      "2023-05-20 20:59:09,176 - pyiron_log - WARNING - Deprecated data structure! Returned array was converted from dtype='O' to dtype=float64 via `np.array(result.tolist())`.\n",
      "Please run rewrite_hdf5() (from a job: job.project_hdf5.rewrite_hdf5() ) to update this data! To update all your data run Project.maintenance.update.base_v0_3_to_v0_4('all').\n",
      "2023-05-20 20:59:09,218 - pyiron_log - WARNING - Deprecated data structure! Returned array was converted from dtype='O' to dtype=float64 via `np.array(result.tolist())`.\n",
      "Please run rewrite_hdf5() (from a job: job.project_hdf5.rewrite_hdf5() ) to update this data! To update all your data run Project.maintenance.update.base_v0_3_to_v0_4('all').\n",
      "/tmp/ipykernel_4102271/3163531724.py:5: DeprecationWarning: pyiron_atomistics.lammps.base.get_final_structure is deprecated: use get_structure() instead.\n",
      "  atom = len(job.get_final_structure())\n",
      "2023-05-20 20:59:09,499 - pyiron_log - WARNING - Deprecated data structure! Returned array was converted from dtype='O' to dtype=float64 via `np.array(result.tolist())`.\n",
      "Please run rewrite_hdf5() (from a job: job.project_hdf5.rewrite_hdf5() ) to update this data! To update all your data run Project.maintenance.update.base_v0_3_to_v0_4('all').\n",
      "2023-05-20 20:59:09,530 - pyiron_log - WARNING - Deprecated data structure! Returned array was converted from dtype='O' to dtype=float64 via `np.array(result.tolist())`.\n",
      "Please run rewrite_hdf5() (from a job: job.project_hdf5.rewrite_hdf5() ) to update this data! To update all your data run Project.maintenance.update.base_v0_3_to_v0_4('all').\n",
      "2023-05-20 20:59:09,559 - pyiron_log - WARNING - Deprecated data structure! Returned array was converted from dtype='O' to dtype=float64 via `np.array(result.tolist())`.\n",
      "Please run rewrite_hdf5() (from a job: job.project_hdf5.rewrite_hdf5() ) to update this data! To update all your data run Project.maintenance.update.base_v0_3_to_v0_4('all').\n",
      "2023-05-20 20:59:09,588 - pyiron_log - WARNING - Deprecated data structure! Returned array was converted from dtype='O' to dtype=int64 via `np.array(result.tolist())`.\n",
      "Please run rewrite_hdf5() (from a job: job.project_hdf5.rewrite_hdf5() ) to update this data! To update all your data run Project.maintenance.update.base_v0_3_to_v0_4('all').\n",
      "2023-05-20 20:59:09,618 - pyiron_log - WARNING - Deprecated data structure! Returned array was converted from dtype='O' to dtype=int64 via `np.array(result.tolist())`.\n",
      "Please run rewrite_hdf5() (from a job: job.project_hdf5.rewrite_hdf5() ) to update this data! To update all your data run Project.maintenance.update.base_v0_3_to_v0_4('all').\n",
      "2023-05-20 20:59:09,653 - pyiron_log - WARNING - Deprecated data structure! Returned array was converted from dtype='O' to dtype=float64 via `np.array(result.tolist())`.\n",
      "Please run rewrite_hdf5() (from a job: job.project_hdf5.rewrite_hdf5() ) to update this data! To update all your data run Project.maintenance.update.base_v0_3_to_v0_4('all').\n",
      "2023-05-20 20:59:09,688 - pyiron_log - WARNING - Deprecated data structure! Returned array was converted from dtype='O' to dtype=float64 via `np.array(result.tolist())`.\n",
      "Please run rewrite_hdf5() (from a job: job.project_hdf5.rewrite_hdf5() ) to update this data! To update all your data run Project.maintenance.update.base_v0_3_to_v0_4('all').\n"
     ]
    }
   ],
   "source": [
    "# Analyse the energy \n",
    "en = []\n",
    "for i in strct_no:\n",
    "    job = pr['hena_1_struct_mini_%s'%i]\n",
    "    atom = len(job.get_final_structure())\n",
    "    en.append(job['output/generic/energy_tot'][-1]/atom)\n"
   ]
  },
  {
   "cell_type": "code",
   "execution_count": 17,
   "metadata": {},
   "outputs": [
    {
     "data": {
      "text/plain": [
       "[<matplotlib.lines.Line2D at 0x7f62e25b0b20>]"
      ]
     },
     "execution_count": 17,
     "metadata": {},
     "output_type": "execute_result"
    },
    {
     "data": {
      "image/png": "[encoded data removed]",
      "text/plain": [
       "<Figure size 432x288 with 1 Axes>"
      ]
     },
     "metadata": {
      "needs_background": "light"
     },
     "output_type": "display_data"
    }
   ],
   "source": [
    "plt.plot(strct_no, en, 'o')"
   ]
  },
  {
   "cell_type": "code",
   "execution_count": 18,
   "metadata": {},
   "outputs": [
    {
     "name": "stderr",
     "output_type": "stream",
     "text": [
      "/tmp/ipykernel_4102271/3393919357.py:4: DeprecationWarning: pyiron_atomistics.lammps.base.get_final_structure is deprecated: use get_structure() instead.\n",
      "  atom = len(job.get_final_structure())\n",
      "2023-05-20 20:59:12,817 - pyiron_log - WARNING - Deprecated data structure! Returned array was converted from dtype='O' to dtype=float64 via `np.array(result.tolist())`.\n",
      "Please run rewrite_hdf5() (from a job: job.project_hdf5.rewrite_hdf5() ) to update this data! To update all your data run Project.maintenance.update.base_v0_3_to_v0_4('all').\n",
      "2023-05-20 20:59:12,846 - pyiron_log - WARNING - Deprecated data structure! Returned array was converted from dtype='O' to dtype=float64 via `np.array(result.tolist())`.\n",
      "Please run rewrite_hdf5() (from a job: job.project_hdf5.rewrite_hdf5() ) to update this data! To update all your data run Project.maintenance.update.base_v0_3_to_v0_4('all').\n",
      "2023-05-20 20:59:12,876 - pyiron_log - WARNING - Deprecated data structure! Returned array was converted from dtype='O' to dtype=float64 via `np.array(result.tolist())`.\n",
      "Please run rewrite_hdf5() (from a job: job.project_hdf5.rewrite_hdf5() ) to update this data! To update all your data run Project.maintenance.update.base_v0_3_to_v0_4('all').\n",
      "2023-05-20 20:59:12,906 - pyiron_log - WARNING - Deprecated data structure! Returned array was converted from dtype='O' to dtype=int64 via `np.array(result.tolist())`.\n",
      "Please run rewrite_hdf5() (from a job: job.project_hdf5.rewrite_hdf5() ) to update this data! To update all your data run Project.maintenance.update.base_v0_3_to_v0_4('all').\n",
      "2023-05-20 20:59:12,937 - pyiron_log - WARNING - Deprecated data structure! Returned array was converted from dtype='O' to dtype=int64 via `np.array(result.tolist())`.\n",
      "Please run rewrite_hdf5() (from a job: job.project_hdf5.rewrite_hdf5() ) to update this data! To update all your data run Project.maintenance.update.base_v0_3_to_v0_4('all').\n",
      "2023-05-20 20:59:12,976 - pyiron_log - WARNING - Deprecated data structure! Returned array was converted from dtype='O' to dtype=float64 via `np.array(result.tolist())`.\n",
      "Please run rewrite_hdf5() (from a job: job.project_hdf5.rewrite_hdf5() ) to update this data! To update all your data run Project.maintenance.update.base_v0_3_to_v0_4('all').\n",
      "2023-05-20 20:59:13,018 - pyiron_log - WARNING - Deprecated data structure! Returned array was converted from dtype='O' to dtype=float64 via `np.array(result.tolist())`.\n",
      "Please run rewrite_hdf5() (from a job: job.project_hdf5.rewrite_hdf5() ) to update this data! To update all your data run Project.maintenance.update.base_v0_3_to_v0_4('all').\n",
      "/tmp/ipykernel_4102271/3393919357.py:4: DeprecationWarning: pyiron_atomistics.lammps.base.get_final_structure is deprecated: use get_structure() instead.\n",
      "  atom = len(job.get_final_structure())\n",
      "2023-05-20 20:59:13,296 - pyiron_log - WARNING - Deprecated data structure! Returned array was converted from dtype='O' to dtype=float64 via `np.array(result.tolist())`.\n",
      "Please run rewrite_hdf5() (from a job: job.project_hdf5.rewrite_hdf5() ) to update this data! To update all your data run Project.maintenance.update.base_v0_3_to_v0_4('all').\n",
      "2023-05-20 20:59:13,326 - pyiron_log - WARNING - Deprecated data structure! Returned array was converted from dtype='O' to dtype=float64 via `np.array(result.tolist())`.\n",
      "Please run rewrite_hdf5() (from a job: job.project_hdf5.rewrite_hdf5() ) to update this data! To update all your data run Project.maintenance.update.base_v0_3_to_v0_4('all').\n",
      "2023-05-20 20:59:13,355 - pyiron_log - WARNING - Deprecated data structure! Returned array was converted from dtype='O' to dtype=float64 via `np.array(result.tolist())`.\n",
      "Please run rewrite_hdf5() (from a job: job.project_hdf5.rewrite_hdf5() ) to update this data! To update all your data run Project.maintenance.update.base_v0_3_to_v0_4('all').\n",
      "2023-05-20 20:59:13,386 - pyiron_log - WARNING - Deprecated data structure! Returned array was converted from dtype='O' to dtype=int64 via `np.array(result.tolist())`.\n",
      "Please run rewrite_hdf5() (from a job: job.project_hdf5.rewrite_hdf5() ) to update this data! To update all your data run Project.maintenance.update.base_v0_3_to_v0_4('all').\n",
      "2023-05-20 20:59:13,416 - pyiron_log - WARNING - Deprecated data structure! Returned array was converted from dtype='O' to dtype=int64 via `np.array(result.tolist())`.\n",
      "Please run rewrite_hdf5() (from a job: job.project_hdf5.rewrite_hdf5() ) to update this data! To update all your data run Project.maintenance.update.base_v0_3_to_v0_4('all').\n",
      "2023-05-20 20:59:13,457 - pyiron_log - WARNING - Deprecated data structure! Returned array was converted from dtype='O' to dtype=float64 via `np.array(result.tolist())`.\n",
      "Please run rewrite_hdf5() (from a job: job.project_hdf5.rewrite_hdf5() ) to update this data! To update all your data run Project.maintenance.update.base_v0_3_to_v0_4('all').\n",
      "2023-05-20 20:59:13,629 - pyiron_log - WARNING - Deprecated data structure! Returned array was converted from dtype='O' to dtype=float64 via `np.array(result.tolist())`.\n",
      "Please run rewrite_hdf5() (from a job: job.project_hdf5.rewrite_hdf5() ) to update this data! To update all your data run Project.maintenance.update.base_v0_3_to_v0_4('all').\n",
      "/tmp/ipykernel_4102271/3393919357.py:4: DeprecationWarning: pyiron_atomistics.lammps.base.get_final_structure is deprecated: use get_structure() instead.\n",
      "  atom = len(job.get_final_structure())\n",
      "2023-05-20 20:59:13,902 - pyiron_log - WARNING - Deprecated data structure! Returned array was converted from dtype='O' to dtype=float64 via `np.array(result.tolist())`.\n",
      "Please run rewrite_hdf5() (from a job: job.project_hdf5.rewrite_hdf5() ) to update this data! To update all your data run Project.maintenance.update.base_v0_3_to_v0_4('all').\n",
      "2023-05-20 20:59:13,932 - pyiron_log - WARNING - Deprecated data structure! Returned array was converted from dtype='O' to dtype=float64 via `np.array(result.tolist())`.\n",
      "Please run rewrite_hdf5() (from a job: job.project_hdf5.rewrite_hdf5() ) to update this data! To update all your data run Project.maintenance.update.base_v0_3_to_v0_4('all').\n",
      "2023-05-20 20:59:13,960 - pyiron_log - WARNING - Deprecated data structure! Returned array was converted from dtype='O' to dtype=float64 via `np.array(result.tolist())`.\n",
      "Please run rewrite_hdf5() (from a job: job.project_hdf5.rewrite_hdf5() ) to update this data! To update all your data run Project.maintenance.update.base_v0_3_to_v0_4('all').\n",
      "2023-05-20 20:59:13,992 - pyiron_log - WARNING - Deprecated data structure! Returned array was converted from dtype='O' to dtype=int64 via `np.array(result.tolist())`.\n",
      "Please run rewrite_hdf5() (from a job: job.project_hdf5.rewrite_hdf5() ) to update this data! To update all your data run Project.maintenance.update.base_v0_3_to_v0_4('all').\n",
      "2023-05-20 20:59:14,022 - pyiron_log - WARNING - Deprecated data structure! Returned array was converted from dtype='O' to dtype=int64 via `np.array(result.tolist())`.\n",
      "Please run rewrite_hdf5() (from a job: job.project_hdf5.rewrite_hdf5() ) to update this data! To update all your data run Project.maintenance.update.base_v0_3_to_v0_4('all').\n",
      "2023-05-20 20:59:14,061 - pyiron_log - WARNING - Deprecated data structure! Returned array was converted from dtype='O' to dtype=float64 via `np.array(result.tolist())`.\n",
      "Please run rewrite_hdf5() (from a job: job.project_hdf5.rewrite_hdf5() ) to update this data! To update all your data run Project.maintenance.update.base_v0_3_to_v0_4('all').\n",
      "2023-05-20 20:59:14,101 - pyiron_log - WARNING - Deprecated data structure! Returned array was converted from dtype='O' to dtype=float64 via `np.array(result.tolist())`.\n",
      "Please run rewrite_hdf5() (from a job: job.project_hdf5.rewrite_hdf5() ) to update this data! To update all your data run Project.maintenance.update.base_v0_3_to_v0_4('all').\n",
      "/tmp/ipykernel_4102271/3393919357.py:4: DeprecationWarning: pyiron_atomistics.lammps.base.get_final_structure is deprecated: use get_structure() instead.\n",
      "  atom = len(job.get_final_structure())\n",
      "2023-05-20 20:59:14,392 - pyiron_log - WARNING - Deprecated data structure! Returned array was converted from dtype='O' to dtype=float64 via `np.array(result.tolist())`.\n",
      "Please run rewrite_hdf5() (from a job: job.project_hdf5.rewrite_hdf5() ) to update this data! To update all your data run Project.maintenance.update.base_v0_3_to_v0_4('all').\n",
      "2023-05-20 20:59:14,423 - pyiron_log - WARNING - Deprecated data structure! Returned array was converted from dtype='O' to dtype=float64 via `np.array(result.tolist())`.\n",
      "Please run rewrite_hdf5() (from a job: job.project_hdf5.rewrite_hdf5() ) to update this data! To update all your data run Project.maintenance.update.base_v0_3_to_v0_4('all').\n",
      "2023-05-20 20:59:14,452 - pyiron_log - WARNING - Deprecated data structure! Returned array was converted from dtype='O' to dtype=float64 via `np.array(result.tolist())`.\n",
      "Please run rewrite_hdf5() (from a job: job.project_hdf5.rewrite_hdf5() ) to update this data! To update all your data run Project.maintenance.update.base_v0_3_to_v0_4('all').\n",
      "2023-05-20 20:59:14,482 - pyiron_log - WARNING - Deprecated data structure! Returned array was converted from dtype='O' to dtype=int64 via `np.array(result.tolist())`.\n",
      "Please run rewrite_hdf5() (from a job: job.project_hdf5.rewrite_hdf5() ) to update this data! To update all your data run Project.maintenance.update.base_v0_3_to_v0_4('all').\n",
      "2023-05-20 20:59:14,530 - pyiron_log - WARNING - Deprecated data structure! Returned array was converted from dtype='O' to dtype=int64 via `np.array(result.tolist())`.\n",
      "Please run rewrite_hdf5() (from a job: job.project_hdf5.rewrite_hdf5() ) to update this data! To update all your data run Project.maintenance.update.base_v0_3_to_v0_4('all').\n",
      "2023-05-20 20:59:14,567 - pyiron_log - WARNING - Deprecated data structure! Returned array was converted from dtype='O' to dtype=float64 via `np.array(result.tolist())`.\n",
      "Please run rewrite_hdf5() (from a job: job.project_hdf5.rewrite_hdf5() ) to update this data! To update all your data run Project.maintenance.update.base_v0_3_to_v0_4('all').\n",
      "2023-05-20 20:59:14,733 - pyiron_log - WARNING - Deprecated data structure! Returned array was converted from dtype='O' to dtype=float64 via `np.array(result.tolist())`.\n",
      "Please run rewrite_hdf5() (from a job: job.project_hdf5.rewrite_hdf5() ) to update this data! To update all your data run Project.maintenance.update.base_v0_3_to_v0_4('all').\n",
      "/tmp/ipykernel_4102271/3393919357.py:4: DeprecationWarning: pyiron_atomistics.lammps.base.get_final_structure is deprecated: use get_structure() instead.\n",
      "  atom = len(job.get_final_structure())\n",
      "2023-05-20 20:59:15,040 - pyiron_log - WARNING - Deprecated data structure! Returned array was converted from dtype='O' to dtype=float64 via `np.array(result.tolist())`.\n",
      "Please run rewrite_hdf5() (from a job: job.project_hdf5.rewrite_hdf5() ) to update this data! To update all your data run Project.maintenance.update.base_v0_3_to_v0_4('all').\n",
      "2023-05-20 20:59:15,072 - pyiron_log - WARNING - Deprecated data structure! Returned array was converted from dtype='O' to dtype=float64 via `np.array(result.tolist())`.\n",
      "Please run rewrite_hdf5() (from a job: job.project_hdf5.rewrite_hdf5() ) to update this data! To update all your data run Project.maintenance.update.base_v0_3_to_v0_4('all').\n",
      "2023-05-20 20:59:15,101 - pyiron_log - WARNING - Deprecated data structure! Returned array was converted from dtype='O' to dtype=float64 via `np.array(result.tolist())`.\n",
      "Please run rewrite_hdf5() (from a job: job.project_hdf5.rewrite_hdf5() ) to update this data! To update all your data run Project.maintenance.update.base_v0_3_to_v0_4('all').\n",
      "2023-05-20 20:59:15,132 - pyiron_log - WARNING - Deprecated data structure! Returned array was converted from dtype='O' to dtype=int64 via `np.array(result.tolist())`.\n",
      "Please run rewrite_hdf5() (from a job: job.project_hdf5.rewrite_hdf5() ) to update this data! To update all your data run Project.maintenance.update.base_v0_3_to_v0_4('all').\n",
      "2023-05-20 20:59:15,162 - pyiron_log - WARNING - Deprecated data structure! Returned array was converted from dtype='O' to dtype=int64 via `np.array(result.tolist())`.\n",
      "Please run rewrite_hdf5() (from a job: job.project_hdf5.rewrite_hdf5() ) to update this data! To update all your data run Project.maintenance.update.base_v0_3_to_v0_4('all').\n",
      "2023-05-20 20:59:15,198 - pyiron_log - WARNING - Deprecated data structure! Returned array was converted from dtype='O' to dtype=float64 via `np.array(result.tolist())`.\n",
      "Please run rewrite_hdf5() (from a job: job.project_hdf5.rewrite_hdf5() ) to update this data! To update all your data run Project.maintenance.update.base_v0_3_to_v0_4('all').\n",
      "2023-05-20 20:59:15,236 - pyiron_log - WARNING - Deprecated data structure! Returned array was converted from dtype='O' to dtype=float64 via `np.array(result.tolist())`.\n",
      "Please run rewrite_hdf5() (from a job: job.project_hdf5.rewrite_hdf5() ) to update this data! To update all your data run Project.maintenance.update.base_v0_3_to_v0_4('all').\n"
     ]
    }
   ],
   "source": [
    "en_2 = []\n",
    "for i in strct_no_1:\n",
    "    job = pr_1['hena_2_1_struct_mini_%s'%i]\n",
    "    atom = len(job.get_final_structure())\n",
    "    en_2.append(job['output/generic/energy_tot'][-1]/atom)"
   ]
  },
  {
   "cell_type": "code",
   "execution_count": 19,
   "metadata": {},
   "outputs": [
    {
     "data": {
      "text/plain": [
       "[<matplotlib.lines.Line2D at 0x7f62e25ca1f0>]"
      ]
     },
     "execution_count": 19,
     "metadata": {},
     "output_type": "execute_result"
    },
    {
     "data": {
      "image/png": "[encoded data removed]",
      "text/plain": [
       "<Figure size 432x288 with 1 Axes>"
      ]
     },
     "metadata": {
      "needs_background": "light"
     },
     "output_type": "display_data"
    }
   ],
   "source": [
    "plt.plot(strct_no_1, en_2, 'o')"
   ]
  },
  {
   "cell_type": "code",
   "execution_count": 21,
   "metadata": {},
   "outputs": [
    {
     "name": "stderr",
     "output_type": "stream",
     "text": [
      "/tmp/ipykernel_4102271/1063779799.py:4: DeprecationWarning: pyiron_atomistics.lammps.base.get_final_structure is deprecated: use get_structure() instead.\n",
      "  atom = len(job.get_final_structure())\n",
      "2023-05-20 21:00:00,314 - pyiron_log - WARNING - Deprecated data structure! Returned array was converted from dtype='O' to dtype=float64 via `np.array(result.tolist())`.\n",
      "Please run rewrite_hdf5() (from a job: job.project_hdf5.rewrite_hdf5() ) to update this data! To update all your data run Project.maintenance.update.base_v0_3_to_v0_4('all').\n",
      "2023-05-20 21:00:00,345 - pyiron_log - WARNING - Deprecated data structure! Returned array was converted from dtype='O' to dtype=float64 via `np.array(result.tolist())`.\n",
      "Please run rewrite_hdf5() (from a job: job.project_hdf5.rewrite_hdf5() ) to update this data! To update all your data run Project.maintenance.update.base_v0_3_to_v0_4('all').\n",
      "2023-05-20 21:00:00,375 - pyiron_log - WARNING - Deprecated data structure! Returned array was converted from dtype='O' to dtype=float64 via `np.array(result.tolist())`.\n",
      "Please run rewrite_hdf5() (from a job: job.project_hdf5.rewrite_hdf5() ) to update this data! To update all your data run Project.maintenance.update.base_v0_3_to_v0_4('all').\n",
      "2023-05-20 21:00:00,408 - pyiron_log - WARNING - Deprecated data structure! Returned array was converted from dtype='O' to dtype=int64 via `np.array(result.tolist())`.\n",
      "Please run rewrite_hdf5() (from a job: job.project_hdf5.rewrite_hdf5() ) to update this data! To update all your data run Project.maintenance.update.base_v0_3_to_v0_4('all').\n",
      "2023-05-20 21:00:00,441 - pyiron_log - WARNING - Deprecated data structure! Returned array was converted from dtype='O' to dtype=int64 via `np.array(result.tolist())`.\n",
      "Please run rewrite_hdf5() (from a job: job.project_hdf5.rewrite_hdf5() ) to update this data! To update all your data run Project.maintenance.update.base_v0_3_to_v0_4('all').\n",
      "2023-05-20 21:00:00,485 - pyiron_log - WARNING - Deprecated data structure! Returned array was converted from dtype='O' to dtype=float64 via `np.array(result.tolist())`.\n",
      "Please run rewrite_hdf5() (from a job: job.project_hdf5.rewrite_hdf5() ) to update this data! To update all your data run Project.maintenance.update.base_v0_3_to_v0_4('all').\n",
      "2023-05-20 21:00:00,528 - pyiron_log - WARNING - Deprecated data structure! Returned array was converted from dtype='O' to dtype=float64 via `np.array(result.tolist())`.\n",
      "Please run rewrite_hdf5() (from a job: job.project_hdf5.rewrite_hdf5() ) to update this data! To update all your data run Project.maintenance.update.base_v0_3_to_v0_4('all').\n",
      "/tmp/ipykernel_4102271/1063779799.py:4: DeprecationWarning: pyiron_atomistics.lammps.base.get_final_structure is deprecated: use get_structure() instead.\n",
      "  atom = len(job.get_final_structure())\n",
      "2023-05-20 21:00:01,050 - pyiron_log - WARNING - Deprecated data structure! Returned array was converted from dtype='O' to dtype=float64 via `np.array(result.tolist())`.\n",
      "Please run rewrite_hdf5() (from a job: job.project_hdf5.rewrite_hdf5() ) to update this data! To update all your data run Project.maintenance.update.base_v0_3_to_v0_4('all').\n",
      "2023-05-20 21:00:01,081 - pyiron_log - WARNING - Deprecated data structure! Returned array was converted from dtype='O' to dtype=float64 via `np.array(result.tolist())`.\n",
      "Please run rewrite_hdf5() (from a job: job.project_hdf5.rewrite_hdf5() ) to update this data! To update all your data run Project.maintenance.update.base_v0_3_to_v0_4('all').\n",
      "2023-05-20 21:00:01,110 - pyiron_log - WARNING - Deprecated data structure! Returned array was converted from dtype='O' to dtype=float64 via `np.array(result.tolist())`.\n",
      "Please run rewrite_hdf5() (from a job: job.project_hdf5.rewrite_hdf5() ) to update this data! To update all your data run Project.maintenance.update.base_v0_3_to_v0_4('all').\n",
      "2023-05-20 21:00:01,157 - pyiron_log - WARNING - Deprecated data structure! Returned array was converted from dtype='O' to dtype=int64 via `np.array(result.tolist())`.\n",
      "Please run rewrite_hdf5() (from a job: job.project_hdf5.rewrite_hdf5() ) to update this data! To update all your data run Project.maintenance.update.base_v0_3_to_v0_4('all').\n",
      "2023-05-20 21:00:01,188 - pyiron_log - WARNING - Deprecated data structure! Returned array was converted from dtype='O' to dtype=int64 via `np.array(result.tolist())`.\n",
      "Please run rewrite_hdf5() (from a job: job.project_hdf5.rewrite_hdf5() ) to update this data! To update all your data run Project.maintenance.update.base_v0_3_to_v0_4('all').\n",
      "2023-05-20 21:00:01,226 - pyiron_log - WARNING - Deprecated data structure! Returned array was converted from dtype='O' to dtype=float64 via `np.array(result.tolist())`.\n",
      "Please run rewrite_hdf5() (from a job: job.project_hdf5.rewrite_hdf5() ) to update this data! To update all your data run Project.maintenance.update.base_v0_3_to_v0_4('all').\n",
      "2023-05-20 21:00:01,265 - pyiron_log - WARNING - Deprecated data structure! Returned array was converted from dtype='O' to dtype=float64 via `np.array(result.tolist())`.\n",
      "Please run rewrite_hdf5() (from a job: job.project_hdf5.rewrite_hdf5() ) to update this data! To update all your data run Project.maintenance.update.base_v0_3_to_v0_4('all').\n",
      "/tmp/ipykernel_4102271/1063779799.py:4: DeprecationWarning: pyiron_atomistics.lammps.base.get_final_structure is deprecated: use get_structure() instead.\n",
      "  atom = len(job.get_final_structure())\n",
      "2023-05-20 21:00:01,656 - pyiron_log - WARNING - Deprecated data structure! Returned array was converted from dtype='O' to dtype=float64 via `np.array(result.tolist())`.\n",
      "Please run rewrite_hdf5() (from a job: job.project_hdf5.rewrite_hdf5() ) to update this data! To update all your data run Project.maintenance.update.base_v0_3_to_v0_4('all').\n",
      "2023-05-20 21:00:01,685 - pyiron_log - WARNING - Deprecated data structure! Returned array was converted from dtype='O' to dtype=float64 via `np.array(result.tolist())`.\n",
      "Please run rewrite_hdf5() (from a job: job.project_hdf5.rewrite_hdf5() ) to update this data! To update all your data run Project.maintenance.update.base_v0_3_to_v0_4('all').\n",
      "2023-05-20 21:00:01,713 - pyiron_log - WARNING - Deprecated data structure! Returned array was converted from dtype='O' to dtype=float64 via `np.array(result.tolist())`.\n",
      "Please run rewrite_hdf5() (from a job: job.project_hdf5.rewrite_hdf5() ) to update this data! To update all your data run Project.maintenance.update.base_v0_3_to_v0_4('all').\n",
      "2023-05-20 21:00:01,745 - pyiron_log - WARNING - Deprecated data structure! Returned array was converted from dtype='O' to dtype=int64 via `np.array(result.tolist())`.\n",
      "Please run rewrite_hdf5() (from a job: job.project_hdf5.rewrite_hdf5() ) to update this data! To update all your data run Project.maintenance.update.base_v0_3_to_v0_4('all').\n",
      "2023-05-20 21:00:01,776 - pyiron_log - WARNING - Deprecated data structure! Returned array was converted from dtype='O' to dtype=int64 via `np.array(result.tolist())`.\n",
      "Please run rewrite_hdf5() (from a job: job.project_hdf5.rewrite_hdf5() ) to update this data! To update all your data run Project.maintenance.update.base_v0_3_to_v0_4('all').\n",
      "2023-05-20 21:00:01,814 - pyiron_log - WARNING - Deprecated data structure! Returned array was converted from dtype='O' to dtype=float64 via `np.array(result.tolist())`.\n",
      "Please run rewrite_hdf5() (from a job: job.project_hdf5.rewrite_hdf5() ) to update this data! To update all your data run Project.maintenance.update.base_v0_3_to_v0_4('all').\n",
      "2023-05-20 21:00:01,857 - pyiron_log - WARNING - Deprecated data structure! Returned array was converted from dtype='O' to dtype=float64 via `np.array(result.tolist())`.\n",
      "Please run rewrite_hdf5() (from a job: job.project_hdf5.rewrite_hdf5() ) to update this data! To update all your data run Project.maintenance.update.base_v0_3_to_v0_4('all').\n",
      "/tmp/ipykernel_4102271/1063779799.py:4: DeprecationWarning: pyiron_atomistics.lammps.base.get_final_structure is deprecated: use get_structure() instead.\n",
      "  atom = len(job.get_final_structure())\n",
      "2023-05-20 21:00:02,455 - pyiron_log - WARNING - Deprecated data structure! Returned array was converted from dtype='O' to dtype=float64 via `np.array(result.tolist())`.\n",
      "Please run rewrite_hdf5() (from a job: job.project_hdf5.rewrite_hdf5() ) to update this data! To update all your data run Project.maintenance.update.base_v0_3_to_v0_4('all').\n",
      "2023-05-20 21:00:02,486 - pyiron_log - WARNING - Deprecated data structure! Returned array was converted from dtype='O' to dtype=float64 via `np.array(result.tolist())`.\n",
      "Please run rewrite_hdf5() (from a job: job.project_hdf5.rewrite_hdf5() ) to update this data! To update all your data run Project.maintenance.update.base_v0_3_to_v0_4('all').\n",
      "2023-05-20 21:00:02,515 - pyiron_log - WARNING - Deprecated data structure! Returned array was converted from dtype='O' to dtype=float64 via `np.array(result.tolist())`.\n",
      "Please run rewrite_hdf5() (from a job: job.project_hdf5.rewrite_hdf5() ) to update this data! To update all your data run Project.maintenance.update.base_v0_3_to_v0_4('all').\n",
      "2023-05-20 21:00:02,563 - pyiron_log - WARNING - Deprecated data structure! Returned array was converted from dtype='O' to dtype=int64 via `np.array(result.tolist())`.\n",
      "Please run rewrite_hdf5() (from a job: job.project_hdf5.rewrite_hdf5() ) to update this data! To update all your data run Project.maintenance.update.base_v0_3_to_v0_4('all').\n",
      "2023-05-20 21:00:02,593 - pyiron_log - WARNING - Deprecated data structure! Returned array was converted from dtype='O' to dtype=int64 via `np.array(result.tolist())`.\n",
      "Please run rewrite_hdf5() (from a job: job.project_hdf5.rewrite_hdf5() ) to update this data! To update all your data run Project.maintenance.update.base_v0_3_to_v0_4('all').\n",
      "2023-05-20 21:00:02,633 - pyiron_log - WARNING - Deprecated data structure! Returned array was converted from dtype='O' to dtype=float64 via `np.array(result.tolist())`.\n",
      "Please run rewrite_hdf5() (from a job: job.project_hdf5.rewrite_hdf5() ) to update this data! To update all your data run Project.maintenance.update.base_v0_3_to_v0_4('all').\n",
      "2023-05-20 21:00:02,673 - pyiron_log - WARNING - Deprecated data structure! Returned array was converted from dtype='O' to dtype=float64 via `np.array(result.tolist())`.\n",
      "Please run rewrite_hdf5() (from a job: job.project_hdf5.rewrite_hdf5() ) to update this data! To update all your data run Project.maintenance.update.base_v0_3_to_v0_4('all').\n",
      "/tmp/ipykernel_4102271/1063779799.py:4: DeprecationWarning: pyiron_atomistics.lammps.base.get_final_structure is deprecated: use get_structure() instead.\n",
      "  atom = len(job.get_final_structure())\n",
      "2023-05-20 21:00:03,025 - pyiron_log - WARNING - Deprecated data structure! Returned array was converted from dtype='O' to dtype=float64 via `np.array(result.tolist())`.\n",
      "Please run rewrite_hdf5() (from a job: job.project_hdf5.rewrite_hdf5() ) to update this data! To update all your data run Project.maintenance.update.base_v0_3_to_v0_4('all').\n",
      "2023-05-20 21:00:03,054 - pyiron_log - WARNING - Deprecated data structure! Returned array was converted from dtype='O' to dtype=float64 via `np.array(result.tolist())`.\n",
      "Please run rewrite_hdf5() (from a job: job.project_hdf5.rewrite_hdf5() ) to update this data! To update all your data run Project.maintenance.update.base_v0_3_to_v0_4('all').\n",
      "2023-05-20 21:00:03,083 - pyiron_log - WARNING - Deprecated data structure! Returned array was converted from dtype='O' to dtype=float64 via `np.array(result.tolist())`.\n",
      "Please run rewrite_hdf5() (from a job: job.project_hdf5.rewrite_hdf5() ) to update this data! To update all your data run Project.maintenance.update.base_v0_3_to_v0_4('all').\n",
      "2023-05-20 21:00:03,115 - pyiron_log - WARNING - Deprecated data structure! Returned array was converted from dtype='O' to dtype=int64 via `np.array(result.tolist())`.\n",
      "Please run rewrite_hdf5() (from a job: job.project_hdf5.rewrite_hdf5() ) to update this data! To update all your data run Project.maintenance.update.base_v0_3_to_v0_4('all').\n",
      "2023-05-20 21:00:03,147 - pyiron_log - WARNING - Deprecated data structure! Returned array was converted from dtype='O' to dtype=int64 via `np.array(result.tolist())`.\n",
      "Please run rewrite_hdf5() (from a job: job.project_hdf5.rewrite_hdf5() ) to update this data! To update all your data run Project.maintenance.update.base_v0_3_to_v0_4('all').\n",
      "2023-05-20 21:00:03,185 - pyiron_log - WARNING - Deprecated data structure! Returned array was converted from dtype='O' to dtype=float64 via `np.array(result.tolist())`.\n",
      "Please run rewrite_hdf5() (from a job: job.project_hdf5.rewrite_hdf5() ) to update this data! To update all your data run Project.maintenance.update.base_v0_3_to_v0_4('all').\n",
      "2023-05-20 21:00:03,341 - pyiron_log - WARNING - Deprecated data structure! Returned array was converted from dtype='O' to dtype=float64 via `np.array(result.tolist())`.\n",
      "Please run rewrite_hdf5() (from a job: job.project_hdf5.rewrite_hdf5() ) to update this data! To update all your data run Project.maintenance.update.base_v0_3_to_v0_4('all').\n"
     ]
    }
   ],
   "source": [
    "en_3 = []\n",
    "for i in strct_no_2:\n",
    "    job = pr_1['hena_2_1_struct_mini_%s'%i]\n",
    "    atom = len(job.get_final_structure())\n",
    "    en_3.append(job['output/generic/energy_tot'][-1]/atom)"
   ]
  },
  {
   "cell_type": "code",
   "execution_count": 22,
   "metadata": {},
   "outputs": [
    {
     "data": {
      "text/plain": [
       "[<matplotlib.lines.Line2D at 0x7f62e25bd070>]"
      ]
     },
     "execution_count": 22,
     "metadata": {},
     "output_type": "execute_result"
    },
    {
     "data": {
      "image/png": "[encoded data removed]",
      "text/plain": [
       "<Figure size 432x288 with 1 Axes>"
      ]
     },
     "metadata": {
      "needs_background": "light"
     },
     "output_type": "display_data"
    }
   ],
   "source": [
    "plt.plot(strct_no_2, en_3, 'o')"
   ]
  },
  {
   "cell_type": "code",
   "execution_count": 13,
   "metadata": {},
   "outputs": [
    {
     "name": "stderr",
     "output_type": "stream",
     "text": [
      "/tmp/ipykernel_657052/1274795633.py:6: DeprecationWarning: pyiron_atomistics.atomistics.structure.has_structure.get_structure(iteration_step=-1) is deprecated.\n",
      "  struct_nvt = job_mini.get_structure(iteration_step=-1) # Last frame from minimization\n",
      "2022-09-26 00:57:17,142 - pyiron_log - WARNING - Deprecated data structure! Returned array was converted from dtype='O' to dtype=float64 via `np.array(result.tolist())`.\n",
      "Please run rewrite_hdf5() (from a job: job.project_hdf5.rewrite_hdf5() ) to update this data! To update all your data run Project.maintenance.update.base_v0_3_to_v0_4('all').\n",
      "2022-09-26 00:57:17,188 - pyiron_log - WARNING - Deprecated data structure! Returned array was converted from dtype='O' to dtype=float64 via `np.array(result.tolist())`.\n",
      "Please run rewrite_hdf5() (from a job: job.project_hdf5.rewrite_hdf5() ) to update this data! To update all your data run Project.maintenance.update.base_v0_3_to_v0_4('all').\n",
      "2022-09-26 00:57:17,220 - pyiron_log - WARNING - Deprecated data structure! Returned array was converted from dtype='O' to dtype=float64 via `np.array(result.tolist())`.\n",
      "Please run rewrite_hdf5() (from a job: job.project_hdf5.rewrite_hdf5() ) to update this data! To update all your data run Project.maintenance.update.base_v0_3_to_v0_4('all').\n",
      "2022-09-26 00:57:17,252 - pyiron_log - WARNING - Deprecated data structure! Returned array was converted from dtype='O' to dtype=int64 via `np.array(result.tolist())`.\n",
      "Please run rewrite_hdf5() (from a job: job.project_hdf5.rewrite_hdf5() ) to update this data! To update all your data run Project.maintenance.update.base_v0_3_to_v0_4('all').\n",
      "2022-09-26 00:57:17,285 - pyiron_log - WARNING - Deprecated data structure! Returned array was converted from dtype='O' to dtype=int64 via `np.array(result.tolist())`.\n",
      "Please run rewrite_hdf5() (from a job: job.project_hdf5.rewrite_hdf5() ) to update this data! To update all your data run Project.maintenance.update.base_v0_3_to_v0_4('all').\n",
      "2022-09-26 00:57:17,320 - pyiron_log - WARNING - Deprecated data structure! Returned array was converted from dtype='O' to dtype=float64 via `np.array(result.tolist())`.\n",
      "Please run rewrite_hdf5() (from a job: job.project_hdf5.rewrite_hdf5() ) to update this data! To update all your data run Project.maintenance.update.base_v0_3_to_v0_4('all').\n",
      "2022-09-26 00:57:17,355 - pyiron_log - WARNING - Deprecated data structure! Returned array was converted from dtype='O' to dtype=float64 via `np.array(result.tolist())`.\n",
      "Please run rewrite_hdf5() (from a job: job.project_hdf5.rewrite_hdf5() ) to update this data! To update all your data run Project.maintenance.update.base_v0_3_to_v0_4('all').\n"
     ]
    },
    {
     "name": "stdout",
     "output_type": "stream",
     "text": [
      "The job hena_1_crystal_small_44_523k was saved and received the ID: 13047\n"
     ]
    },
    {
     "name": "stderr",
     "output_type": "stream",
     "text": [
      "/nfshome/deshmukh/miniconda3/envs/vaibhav/lib/python3.9/site-packages/pysqa/utils/remote.py:235: UserWarning: \n",
      "  warnings.warn(stderr.read().decode())\n",
      "100%|██████████| 1/1 [00:00<00:00, 112.68it/s]\n",
      "100%|██████████| 4/4 [00:00<00:00, 199.31it/s]\n",
      "/nfshome/deshmukh/miniconda3/envs/vaibhav/lib/python3.9/site-packages/pysqa/utils/remote.py:235: UserWarning: 2022-09-26 00:57:26,341 - pyiron_log - INFO - job: hena_1_crystal_small_44_523k id: 1, status: initialized, submitted: queue id 31642046\n",
      "\n",
      "  warnings.warn(stderr.read().decode())\n"
     ]
    },
    {
     "name": "stdout",
     "output_type": "stream",
     "text": [
      "Queue system id:  31642046\n"
     ]
    },
    {
     "name": "stderr",
     "output_type": "stream",
     "text": [
      "/tmp/ipykernel_657052/1274795633.py:6: DeprecationWarning: pyiron_atomistics.atomistics.structure.has_structure.get_structure(iteration_step=-1) is deprecated.\n",
      "  struct_nvt = job_mini.get_structure(iteration_step=-1) # Last frame from minimization\n",
      "2022-09-26 00:57:27,259 - pyiron_log - WARNING - Deprecated data structure! Returned array was converted from dtype='O' to dtype=float64 via `np.array(result.tolist())`.\n",
      "Please run rewrite_hdf5() (from a job: job.project_hdf5.rewrite_hdf5() ) to update this data! To update all your data run Project.maintenance.update.base_v0_3_to_v0_4('all').\n",
      "2022-09-26 00:57:27,291 - pyiron_log - WARNING - Deprecated data structure! Returned array was converted from dtype='O' to dtype=float64 via `np.array(result.tolist())`.\n",
      "Please run rewrite_hdf5() (from a job: job.project_hdf5.rewrite_hdf5() ) to update this data! To update all your data run Project.maintenance.update.base_v0_3_to_v0_4('all').\n",
      "2022-09-26 00:57:27,319 - pyiron_log - WARNING - Deprecated data structure! Returned array was converted from dtype='O' to dtype=float64 via `np.array(result.tolist())`.\n",
      "Please run rewrite_hdf5() (from a job: job.project_hdf5.rewrite_hdf5() ) to update this data! To update all your data run Project.maintenance.update.base_v0_3_to_v0_4('all').\n",
      "2022-09-26 00:57:27,348 - pyiron_log - WARNING - Deprecated data structure! Returned array was converted from dtype='O' to dtype=int64 via `np.array(result.tolist())`.\n",
      "Please run rewrite_hdf5() (from a job: job.project_hdf5.rewrite_hdf5() ) to update this data! To update all your data run Project.maintenance.update.base_v0_3_to_v0_4('all').\n",
      "2022-09-26 00:57:27,379 - pyiron_log - WARNING - Deprecated data structure! Returned array was converted from dtype='O' to dtype=int64 via `np.array(result.tolist())`.\n",
      "Please run rewrite_hdf5() (from a job: job.project_hdf5.rewrite_hdf5() ) to update this data! To update all your data run Project.maintenance.update.base_v0_3_to_v0_4('all').\n",
      "2022-09-26 00:57:27,414 - pyiron_log - WARNING - Deprecated data structure! Returned array was converted from dtype='O' to dtype=float64 via `np.array(result.tolist())`.\n",
      "Please run rewrite_hdf5() (from a job: job.project_hdf5.rewrite_hdf5() ) to update this data! To update all your data run Project.maintenance.update.base_v0_3_to_v0_4('all').\n",
      "2022-09-26 00:57:27,449 - pyiron_log - WARNING - Deprecated data structure! Returned array was converted from dtype='O' to dtype=float64 via `np.array(result.tolist())`.\n",
      "Please run rewrite_hdf5() (from a job: job.project_hdf5.rewrite_hdf5() ) to update this data! To update all your data run Project.maintenance.update.base_v0_3_to_v0_4('all').\n"
     ]
    },
    {
     "name": "stdout",
     "output_type": "stream",
     "text": [
      "The job hena_1_crystal_small_44_573k was saved and received the ID: 13048\n"
     ]
    },
    {
     "name": "stderr",
     "output_type": "stream",
     "text": [
      "/nfshome/deshmukh/miniconda3/envs/vaibhav/lib/python3.9/site-packages/pysqa/utils/remote.py:235: UserWarning: \n",
      "  warnings.warn(stderr.read().decode())\n",
      "100%|██████████| 1/1 [00:00<00:00, 131.46it/s]\n",
      "100%|██████████| 4/4 [00:00<00:00, 203.15it/s]\n",
      "/nfshome/deshmukh/miniconda3/envs/vaibhav/lib/python3.9/site-packages/pysqa/utils/remote.py:235: UserWarning: 2022-09-26 00:57:36,213 - pyiron_log - INFO - job: hena_1_crystal_small_44_573k id: 2, status: initialized, submitted: queue id 31642049\n",
      "\n",
      "  warnings.warn(stderr.read().decode())\n"
     ]
    },
    {
     "name": "stdout",
     "output_type": "stream",
     "text": [
      "Queue system id:  31642049\n"
     ]
    },
    {
     "name": "stderr",
     "output_type": "stream",
     "text": [
      "/tmp/ipykernel_657052/1274795633.py:6: DeprecationWarning: pyiron_atomistics.atomistics.structure.has_structure.get_structure(iteration_step=-1) is deprecated.\n",
      "  struct_nvt = job_mini.get_structure(iteration_step=-1) # Last frame from minimization\n",
      "2022-09-26 00:57:37,126 - pyiron_log - WARNING - Deprecated data structure! Returned array was converted from dtype='O' to dtype=float64 via `np.array(result.tolist())`.\n",
      "Please run rewrite_hdf5() (from a job: job.project_hdf5.rewrite_hdf5() ) to update this data! To update all your data run Project.maintenance.update.base_v0_3_to_v0_4('all').\n",
      "2022-09-26 00:57:37,168 - pyiron_log - WARNING - Deprecated data structure! Returned array was converted from dtype='O' to dtype=float64 via `np.array(result.tolist())`.\n",
      "Please run rewrite_hdf5() (from a job: job.project_hdf5.rewrite_hdf5() ) to update this data! To update all your data run Project.maintenance.update.base_v0_3_to_v0_4('all').\n",
      "2022-09-26 00:57:37,197 - pyiron_log - WARNING - Deprecated data structure! Returned array was converted from dtype='O' to dtype=float64 via `np.array(result.tolist())`.\n",
      "Please run rewrite_hdf5() (from a job: job.project_hdf5.rewrite_hdf5() ) to update this data! To update all your data run Project.maintenance.update.base_v0_3_to_v0_4('all').\n",
      "2022-09-26 00:57:37,230 - pyiron_log - WARNING - Deprecated data structure! Returned array was converted from dtype='O' to dtype=int64 via `np.array(result.tolist())`.\n",
      "Please run rewrite_hdf5() (from a job: job.project_hdf5.rewrite_hdf5() ) to update this data! To update all your data run Project.maintenance.update.base_v0_3_to_v0_4('all').\n",
      "2022-09-26 00:57:37,260 - pyiron_log - WARNING - Deprecated data structure! Returned array was converted from dtype='O' to dtype=int64 via `np.array(result.tolist())`.\n",
      "Please run rewrite_hdf5() (from a job: job.project_hdf5.rewrite_hdf5() ) to update this data! To update all your data run Project.maintenance.update.base_v0_3_to_v0_4('all').\n",
      "2022-09-26 00:57:37,294 - pyiron_log - WARNING - Deprecated data structure! Returned array was converted from dtype='O' to dtype=float64 via `np.array(result.tolist())`.\n",
      "Please run rewrite_hdf5() (from a job: job.project_hdf5.rewrite_hdf5() ) to update this data! To update all your data run Project.maintenance.update.base_v0_3_to_v0_4('all').\n",
      "2022-09-26 00:57:37,449 - pyiron_log - WARNING - Deprecated data structure! Returned array was converted from dtype='O' to dtype=float64 via `np.array(result.tolist())`.\n",
      "Please run rewrite_hdf5() (from a job: job.project_hdf5.rewrite_hdf5() ) to update this data! To update all your data run Project.maintenance.update.base_v0_3_to_v0_4('all').\n"
     ]
    },
    {
     "name": "stdout",
     "output_type": "stream",
     "text": [
      "The job hena_1_crystal_small_44_623k was saved and received the ID: 13049\n"
     ]
    },
    {
     "name": "stderr",
     "output_type": "stream",
     "text": [
      "/nfshome/deshmukh/miniconda3/envs/vaibhav/lib/python3.9/site-packages/pysqa/utils/remote.py:235: UserWarning: \n",
      "  warnings.warn(stderr.read().decode())\n",
      "100%|██████████| 1/1 [00:00<00:00, 137.14it/s]\n",
      "100%|██████████| 4/4 [00:00<00:00, 194.31it/s]\n",
      "/nfshome/deshmukh/miniconda3/envs/vaibhav/lib/python3.9/site-packages/pysqa/utils/remote.py:235: UserWarning: 2022-09-26 00:57:45,968 - pyiron_log - INFO - job: hena_1_crystal_small_44_623k id: 3, status: initialized, submitted: queue id 31642056\n",
      "\n",
      "  warnings.warn(stderr.read().decode())\n"
     ]
    },
    {
     "name": "stdout",
     "output_type": "stream",
     "text": [
      "Queue system id:  31642056\n"
     ]
    },
    {
     "name": "stderr",
     "output_type": "stream",
     "text": [
      "/tmp/ipykernel_657052/1274795633.py:6: DeprecationWarning: pyiron_atomistics.atomistics.structure.has_structure.get_structure(iteration_step=-1) is deprecated.\n",
      "  struct_nvt = job_mini.get_structure(iteration_step=-1) # Last frame from minimization\n",
      "2022-09-26 00:57:46,909 - pyiron_log - WARNING - Deprecated data structure! Returned array was converted from dtype='O' to dtype=float64 via `np.array(result.tolist())`.\n",
      "Please run rewrite_hdf5() (from a job: job.project_hdf5.rewrite_hdf5() ) to update this data! To update all your data run Project.maintenance.update.base_v0_3_to_v0_4('all').\n",
      "2022-09-26 00:57:46,939 - pyiron_log - WARNING - Deprecated data structure! Returned array was converted from dtype='O' to dtype=float64 via `np.array(result.tolist())`.\n",
      "Please run rewrite_hdf5() (from a job: job.project_hdf5.rewrite_hdf5() ) to update this data! To update all your data run Project.maintenance.update.base_v0_3_to_v0_4('all').\n",
      "2022-09-26 00:57:46,971 - pyiron_log - WARNING - Deprecated data structure! Returned array was converted from dtype='O' to dtype=float64 via `np.array(result.tolist())`.\n",
      "Please run rewrite_hdf5() (from a job: job.project_hdf5.rewrite_hdf5() ) to update this data! To update all your data run Project.maintenance.update.base_v0_3_to_v0_4('all').\n",
      "2022-09-26 00:57:47,000 - pyiron_log - WARNING - Deprecated data structure! Returned array was converted from dtype='O' to dtype=int64 via `np.array(result.tolist())`.\n",
      "Please run rewrite_hdf5() (from a job: job.project_hdf5.rewrite_hdf5() ) to update this data! To update all your data run Project.maintenance.update.base_v0_3_to_v0_4('all').\n",
      "2022-09-26 00:57:47,030 - pyiron_log - WARNING - Deprecated data structure! Returned array was converted from dtype='O' to dtype=int64 via `np.array(result.tolist())`.\n",
      "Please run rewrite_hdf5() (from a job: job.project_hdf5.rewrite_hdf5() ) to update this data! To update all your data run Project.maintenance.update.base_v0_3_to_v0_4('all').\n",
      "2022-09-26 00:57:47,065 - pyiron_log - WARNING - Deprecated data structure! Returned array was converted from dtype='O' to dtype=float64 via `np.array(result.tolist())`.\n",
      "Please run rewrite_hdf5() (from a job: job.project_hdf5.rewrite_hdf5() ) to update this data! To update all your data run Project.maintenance.update.base_v0_3_to_v0_4('all').\n",
      "2022-09-26 00:57:47,099 - pyiron_log - WARNING - Deprecated data structure! Returned array was converted from dtype='O' to dtype=float64 via `np.array(result.tolist())`.\n",
      "Please run rewrite_hdf5() (from a job: job.project_hdf5.rewrite_hdf5() ) to update this data! To update all your data run Project.maintenance.update.base_v0_3_to_v0_4('all').\n"
     ]
    },
    {
     "name": "stdout",
     "output_type": "stream",
     "text": [
      "The job hena_1_crystal_small_44_673k was saved and received the ID: 13050\n"
     ]
    },
    {
     "name": "stderr",
     "output_type": "stream",
     "text": [
      "/nfshome/deshmukh/miniconda3/envs/vaibhav/lib/python3.9/site-packages/pysqa/utils/remote.py:235: UserWarning: \n",
      "  warnings.warn(stderr.read().decode())\n",
      "100%|██████████| 1/1 [00:00<00:00, 111.54it/s]\n",
      "100%|██████████| 4/4 [00:00<00:00, 198.95it/s]\n",
      "/nfshome/deshmukh/miniconda3/envs/vaibhav/lib/python3.9/site-packages/pysqa/utils/remote.py:235: UserWarning: 2022-09-26 00:57:55,795 - pyiron_log - INFO - job: hena_1_crystal_small_44_673k id: 4, status: initialized, submitted: queue id 31642057\n",
      "\n",
      "  warnings.warn(stderr.read().decode())\n"
     ]
    },
    {
     "name": "stdout",
     "output_type": "stream",
     "text": [
      "Queue system id:  31642057\n"
     ]
    },
    {
     "name": "stderr",
     "output_type": "stream",
     "text": [
      "/tmp/ipykernel_657052/1274795633.py:6: DeprecationWarning: pyiron_atomistics.atomistics.structure.has_structure.get_structure(iteration_step=-1) is deprecated.\n",
      "  struct_nvt = job_mini.get_structure(iteration_step=-1) # Last frame from minimization\n",
      "2022-09-26 00:57:56,766 - pyiron_log - WARNING - Deprecated data structure! Returned array was converted from dtype='O' to dtype=float64 via `np.array(result.tolist())`.\n",
      "Please run rewrite_hdf5() (from a job: job.project_hdf5.rewrite_hdf5() ) to update this data! To update all your data run Project.maintenance.update.base_v0_3_to_v0_4('all').\n",
      "2022-09-26 00:57:56,797 - pyiron_log - WARNING - Deprecated data structure! Returned array was converted from dtype='O' to dtype=float64 via `np.array(result.tolist())`.\n",
      "Please run rewrite_hdf5() (from a job: job.project_hdf5.rewrite_hdf5() ) to update this data! To update all your data run Project.maintenance.update.base_v0_3_to_v0_4('all').\n",
      "2022-09-26 00:57:56,834 - pyiron_log - WARNING - Deprecated data structure! Returned array was converted from dtype='O' to dtype=float64 via `np.array(result.tolist())`.\n",
      "Please run rewrite_hdf5() (from a job: job.project_hdf5.rewrite_hdf5() ) to update this data! To update all your data run Project.maintenance.update.base_v0_3_to_v0_4('all').\n",
      "2022-09-26 00:57:56,863 - pyiron_log - WARNING - Deprecated data structure! Returned array was converted from dtype='O' to dtype=int64 via `np.array(result.tolist())`.\n",
      "Please run rewrite_hdf5() (from a job: job.project_hdf5.rewrite_hdf5() ) to update this data! To update all your data run Project.maintenance.update.base_v0_3_to_v0_4('all').\n",
      "2022-09-26 00:57:56,893 - pyiron_log - WARNING - Deprecated data structure! Returned array was converted from dtype='O' to dtype=int64 via `np.array(result.tolist())`.\n",
      "Please run rewrite_hdf5() (from a job: job.project_hdf5.rewrite_hdf5() ) to update this data! To update all your data run Project.maintenance.update.base_v0_3_to_v0_4('all').\n",
      "2022-09-26 00:57:56,928 - pyiron_log - WARNING - Deprecated data structure! Returned array was converted from dtype='O' to dtype=float64 via `np.array(result.tolist())`.\n",
      "Please run rewrite_hdf5() (from a job: job.project_hdf5.rewrite_hdf5() ) to update this data! To update all your data run Project.maintenance.update.base_v0_3_to_v0_4('all').\n",
      "2022-09-26 00:57:56,967 - pyiron_log - WARNING - Deprecated data structure! Returned array was converted from dtype='O' to dtype=float64 via `np.array(result.tolist())`.\n",
      "Please run rewrite_hdf5() (from a job: job.project_hdf5.rewrite_hdf5() ) to update this data! To update all your data run Project.maintenance.update.base_v0_3_to_v0_4('all').\n"
     ]
    },
    {
     "name": "stdout",
     "output_type": "stream",
     "text": [
      "The job hena_1_crystal_small_44_723k was saved and received the ID: 13051\n"
     ]
    },
    {
     "name": "stderr",
     "output_type": "stream",
     "text": [
      "/nfshome/deshmukh/miniconda3/envs/vaibhav/lib/python3.9/site-packages/pysqa/utils/remote.py:235: UserWarning: \n",
      "  warnings.warn(stderr.read().decode())\n",
      "100%|██████████| 1/1 [00:00<00:00, 115.16it/s]\n",
      "100%|██████████| 4/4 [00:00<00:00, 206.54it/s]\n",
      "/nfshome/deshmukh/miniconda3/envs/vaibhav/lib/python3.9/site-packages/pysqa/utils/remote.py:235: UserWarning: 2022-09-26 00:58:05,873 - pyiron_log - INFO - job: hena_1_crystal_small_44_723k id: 5, status: initialized, submitted: queue id 31642059\n",
      "\n",
      "  warnings.warn(stderr.read().decode())\n"
     ]
    },
    {
     "name": "stdout",
     "output_type": "stream",
     "text": [
      "Queue system id:  31642059\n"
     ]
    },
    {
     "name": "stderr",
     "output_type": "stream",
     "text": [
      "/tmp/ipykernel_657052/1274795633.py:6: DeprecationWarning: pyiron_atomistics.atomistics.structure.has_structure.get_structure(iteration_step=-1) is deprecated.\n",
      "  struct_nvt = job_mini.get_structure(iteration_step=-1) # Last frame from minimization\n",
      "2022-09-26 00:58:06,867 - pyiron_log - WARNING - Deprecated data structure! Returned array was converted from dtype='O' to dtype=float64 via `np.array(result.tolist())`.\n",
      "Please run rewrite_hdf5() (from a job: job.project_hdf5.rewrite_hdf5() ) to update this data! To update all your data run Project.maintenance.update.base_v0_3_to_v0_4('all').\n",
      "2022-09-26 00:58:06,901 - pyiron_log - WARNING - Deprecated data structure! Returned array was converted from dtype='O' to dtype=float64 via `np.array(result.tolist())`.\n",
      "Please run rewrite_hdf5() (from a job: job.project_hdf5.rewrite_hdf5() ) to update this data! To update all your data run Project.maintenance.update.base_v0_3_to_v0_4('all').\n",
      "2022-09-26 00:58:06,933 - pyiron_log - WARNING - Deprecated data structure! Returned array was converted from dtype='O' to dtype=float64 via `np.array(result.tolist())`.\n",
      "Please run rewrite_hdf5() (from a job: job.project_hdf5.rewrite_hdf5() ) to update this data! To update all your data run Project.maintenance.update.base_v0_3_to_v0_4('all').\n",
      "2022-09-26 00:58:06,964 - pyiron_log - WARNING - Deprecated data structure! Returned array was converted from dtype='O' to dtype=int64 via `np.array(result.tolist())`.\n",
      "Please run rewrite_hdf5() (from a job: job.project_hdf5.rewrite_hdf5() ) to update this data! To update all your data run Project.maintenance.update.base_v0_3_to_v0_4('all').\n",
      "2022-09-26 00:58:06,996 - pyiron_log - WARNING - Deprecated data structure! Returned array was converted from dtype='O' to dtype=int64 via `np.array(result.tolist())`.\n",
      "Please run rewrite_hdf5() (from a job: job.project_hdf5.rewrite_hdf5() ) to update this data! To update all your data run Project.maintenance.update.base_v0_3_to_v0_4('all').\n",
      "2022-09-26 00:58:07,034 - pyiron_log - WARNING - Deprecated data structure! Returned array was converted from dtype='O' to dtype=float64 via `np.array(result.tolist())`.\n",
      "Please run rewrite_hdf5() (from a job: job.project_hdf5.rewrite_hdf5() ) to update this data! To update all your data run Project.maintenance.update.base_v0_3_to_v0_4('all').\n",
      "2022-09-26 00:58:07,069 - pyiron_log - WARNING - Deprecated data structure! Returned array was converted from dtype='O' to dtype=float64 via `np.array(result.tolist())`.\n",
      "Please run rewrite_hdf5() (from a job: job.project_hdf5.rewrite_hdf5() ) to update this data! To update all your data run Project.maintenance.update.base_v0_3_to_v0_4('all').\n"
     ]
    },
    {
     "name": "stdout",
     "output_type": "stream",
     "text": [
      "The job hena_1_crystal_small_44_773k was saved and received the ID: 13052\n"
     ]
    },
    {
     "name": "stderr",
     "output_type": "stream",
     "text": [
      "/nfshome/deshmukh/miniconda3/envs/vaibhav/lib/python3.9/site-packages/pysqa/utils/remote.py:235: UserWarning: \n",
      "  warnings.warn(stderr.read().decode())\n",
      "100%|██████████| 1/1 [00:00<00:00, 102.29it/s]\n",
      "100%|██████████| 4/4 [00:00<00:00, 164.92it/s]\n",
      "/nfshome/deshmukh/miniconda3/envs/vaibhav/lib/python3.9/site-packages/pysqa/utils/remote.py:235: UserWarning: 2022-09-26 00:58:15,766 - pyiron_log - INFO - job: hena_1_crystal_small_44_773k id: 6, status: initialized, submitted: queue id 31642065\n",
      "\n",
      "  warnings.warn(stderr.read().decode())\n"
     ]
    },
    {
     "name": "stdout",
     "output_type": "stream",
     "text": [
      "Queue system id:  31642065\n"
     ]
    },
    {
     "name": "stderr",
     "output_type": "stream",
     "text": [
      "/tmp/ipykernel_657052/1274795633.py:6: DeprecationWarning: pyiron_atomistics.atomistics.structure.has_structure.get_structure(iteration_step=-1) is deprecated.\n",
      "  struct_nvt = job_mini.get_structure(iteration_step=-1) # Last frame from minimization\n",
      "2022-09-26 00:58:16,717 - pyiron_log - WARNING - Deprecated data structure! Returned array was converted from dtype='O' to dtype=float64 via `np.array(result.tolist())`.\n",
      "Please run rewrite_hdf5() (from a job: job.project_hdf5.rewrite_hdf5() ) to update this data! To update all your data run Project.maintenance.update.base_v0_3_to_v0_4('all').\n",
      "2022-09-26 00:58:16,748 - pyiron_log - WARNING - Deprecated data structure! Returned array was converted from dtype='O' to dtype=float64 via `np.array(result.tolist())`.\n",
      "Please run rewrite_hdf5() (from a job: job.project_hdf5.rewrite_hdf5() ) to update this data! To update all your data run Project.maintenance.update.base_v0_3_to_v0_4('all').\n",
      "2022-09-26 00:58:16,780 - pyiron_log - WARNING - Deprecated data structure! Returned array was converted from dtype='O' to dtype=float64 via `np.array(result.tolist())`.\n",
      "Please run rewrite_hdf5() (from a job: job.project_hdf5.rewrite_hdf5() ) to update this data! To update all your data run Project.maintenance.update.base_v0_3_to_v0_4('all').\n",
      "2022-09-26 00:58:16,813 - pyiron_log - WARNING - Deprecated data structure! Returned array was converted from dtype='O' to dtype=int64 via `np.array(result.tolist())`.\n",
      "Please run rewrite_hdf5() (from a job: job.project_hdf5.rewrite_hdf5() ) to update this data! To update all your data run Project.maintenance.update.base_v0_3_to_v0_4('all').\n",
      "2022-09-26 00:58:16,845 - pyiron_log - WARNING - Deprecated data structure! Returned array was converted from dtype='O' to dtype=int64 via `np.array(result.tolist())`.\n",
      "Please run rewrite_hdf5() (from a job: job.project_hdf5.rewrite_hdf5() ) to update this data! To update all your data run Project.maintenance.update.base_v0_3_to_v0_4('all').\n",
      "2022-09-26 00:58:16,885 - pyiron_log - WARNING - Deprecated data structure! Returned array was converted from dtype='O' to dtype=float64 via `np.array(result.tolist())`.\n",
      "Please run rewrite_hdf5() (from a job: job.project_hdf5.rewrite_hdf5() ) to update this data! To update all your data run Project.maintenance.update.base_v0_3_to_v0_4('all').\n",
      "2022-09-26 00:58:17,040 - pyiron_log - WARNING - Deprecated data structure! Returned array was converted from dtype='O' to dtype=float64 via `np.array(result.tolist())`.\n",
      "Please run rewrite_hdf5() (from a job: job.project_hdf5.rewrite_hdf5() ) to update this data! To update all your data run Project.maintenance.update.base_v0_3_to_v0_4('all').\n"
     ]
    },
    {
     "name": "stdout",
     "output_type": "stream",
     "text": [
      "The job hena_1_crystal_small_50_523k was saved and received the ID: 13053\n"
     ]
    },
    {
     "name": "stderr",
     "output_type": "stream",
     "text": [
      "/nfshome/deshmukh/miniconda3/envs/vaibhav/lib/python3.9/site-packages/pysqa/utils/remote.py:235: UserWarning: \n",
      "  warnings.warn(stderr.read().decode())\n",
      "100%|██████████| 1/1 [00:00<00:00, 97.95it/s]\n",
      "100%|██████████| 4/4 [00:00<00:00, 195.52it/s]\n",
      "/nfshome/deshmukh/miniconda3/envs/vaibhav/lib/python3.9/site-packages/pysqa/utils/remote.py:235: UserWarning: 2022-09-26 00:58:25,888 - pyiron_log - INFO - job: hena_1_crystal_small_50_523k id: 7, status: initialized, submitted: queue id 31642069\n",
      "\n",
      "  warnings.warn(stderr.read().decode())\n"
     ]
    },
    {
     "name": "stdout",
     "output_type": "stream",
     "text": [
      "Queue system id:  31642069\n"
     ]
    },
    {
     "name": "stderr",
     "output_type": "stream",
     "text": [
      "/tmp/ipykernel_657052/1274795633.py:6: DeprecationWarning: pyiron_atomistics.atomistics.structure.has_structure.get_structure(iteration_step=-1) is deprecated.\n",
      "  struct_nvt = job_mini.get_structure(iteration_step=-1) # Last frame from minimization\n",
      "2022-09-26 00:58:26,852 - pyiron_log - WARNING - Deprecated data structure! Returned array was converted from dtype='O' to dtype=float64 via `np.array(result.tolist())`.\n",
      "Please run rewrite_hdf5() (from a job: job.project_hdf5.rewrite_hdf5() ) to update this data! To update all your data run Project.maintenance.update.base_v0_3_to_v0_4('all').\n",
      "2022-09-26 00:58:26,884 - pyiron_log - WARNING - Deprecated data structure! Returned array was converted from dtype='O' to dtype=float64 via `np.array(result.tolist())`.\n",
      "Please run rewrite_hdf5() (from a job: job.project_hdf5.rewrite_hdf5() ) to update this data! To update all your data run Project.maintenance.update.base_v0_3_to_v0_4('all').\n",
      "2022-09-26 00:58:26,913 - pyiron_log - WARNING - Deprecated data structure! Returned array was converted from dtype='O' to dtype=float64 via `np.array(result.tolist())`.\n",
      "Please run rewrite_hdf5() (from a job: job.project_hdf5.rewrite_hdf5() ) to update this data! To update all your data run Project.maintenance.update.base_v0_3_to_v0_4('all').\n",
      "2022-09-26 00:58:26,944 - pyiron_log - WARNING - Deprecated data structure! Returned array was converted from dtype='O' to dtype=int64 via `np.array(result.tolist())`.\n",
      "Please run rewrite_hdf5() (from a job: job.project_hdf5.rewrite_hdf5() ) to update this data! To update all your data run Project.maintenance.update.base_v0_3_to_v0_4('all').\n",
      "2022-09-26 00:58:26,974 - pyiron_log - WARNING - Deprecated data structure! Returned array was converted from dtype='O' to dtype=int64 via `np.array(result.tolist())`.\n",
      "Please run rewrite_hdf5() (from a job: job.project_hdf5.rewrite_hdf5() ) to update this data! To update all your data run Project.maintenance.update.base_v0_3_to_v0_4('all').\n",
      "2022-09-26 00:58:27,012 - pyiron_log - WARNING - Deprecated data structure! Returned array was converted from dtype='O' to dtype=float64 via `np.array(result.tolist())`.\n",
      "Please run rewrite_hdf5() (from a job: job.project_hdf5.rewrite_hdf5() ) to update this data! To update all your data run Project.maintenance.update.base_v0_3_to_v0_4('all').\n",
      "2022-09-26 00:58:27,050 - pyiron_log - WARNING - Deprecated data structure! Returned array was converted from dtype='O' to dtype=float64 via `np.array(result.tolist())`.\n",
      "Please run rewrite_hdf5() (from a job: job.project_hdf5.rewrite_hdf5() ) to update this data! To update all your data run Project.maintenance.update.base_v0_3_to_v0_4('all').\n"
     ]
    },
    {
     "name": "stdout",
     "output_type": "stream",
     "text": [
      "The job hena_1_crystal_small_50_573k was saved and received the ID: 13054\n"
     ]
    },
    {
     "name": "stderr",
     "output_type": "stream",
     "text": [
      "/nfshome/deshmukh/miniconda3/envs/vaibhav/lib/python3.9/site-packages/pysqa/utils/remote.py:235: UserWarning: \n",
      "  warnings.warn(stderr.read().decode())\n",
      "100%|██████████| 1/1 [00:00<00:00, 89.83it/s]\n",
      "100%|██████████| 4/4 [00:00<00:00, 201.02it/s]\n",
      "/nfshome/deshmukh/miniconda3/envs/vaibhav/lib/python3.9/site-packages/pysqa/utils/remote.py:235: UserWarning: 2022-09-26 00:58:36,074 - pyiron_log - INFO - job: hena_1_crystal_small_50_573k id: 8, status: initialized, submitted: queue id 31642073\n",
      "\n",
      "  warnings.warn(stderr.read().decode())\n"
     ]
    },
    {
     "name": "stdout",
     "output_type": "stream",
     "text": [
      "Queue system id:  31642073\n"
     ]
    },
    {
     "name": "stderr",
     "output_type": "stream",
     "text": [
      "/tmp/ipykernel_657052/1274795633.py:6: DeprecationWarning: pyiron_atomistics.atomistics.structure.has_structure.get_structure(iteration_step=-1) is deprecated.\n",
      "  struct_nvt = job_mini.get_structure(iteration_step=-1) # Last frame from minimization\n",
      "2022-09-26 00:58:37,034 - pyiron_log - WARNING - Deprecated data structure! Returned array was converted from dtype='O' to dtype=float64 via `np.array(result.tolist())`.\n",
      "Please run rewrite_hdf5() (from a job: job.project_hdf5.rewrite_hdf5() ) to update this data! To update all your data run Project.maintenance.update.base_v0_3_to_v0_4('all').\n",
      "2022-09-26 00:58:37,068 - pyiron_log - WARNING - Deprecated data structure! Returned array was converted from dtype='O' to dtype=float64 via `np.array(result.tolist())`.\n",
      "Please run rewrite_hdf5() (from a job: job.project_hdf5.rewrite_hdf5() ) to update this data! To update all your data run Project.maintenance.update.base_v0_3_to_v0_4('all').\n",
      "2022-09-26 00:58:37,098 - pyiron_log - WARNING - Deprecated data structure! Returned array was converted from dtype='O' to dtype=float64 via `np.array(result.tolist())`.\n",
      "Please run rewrite_hdf5() (from a job: job.project_hdf5.rewrite_hdf5() ) to update this data! To update all your data run Project.maintenance.update.base_v0_3_to_v0_4('all').\n",
      "2022-09-26 00:58:37,130 - pyiron_log - WARNING - Deprecated data structure! Returned array was converted from dtype='O' to dtype=int64 via `np.array(result.tolist())`.\n",
      "Please run rewrite_hdf5() (from a job: job.project_hdf5.rewrite_hdf5() ) to update this data! To update all your data run Project.maintenance.update.base_v0_3_to_v0_4('all').\n",
      "2022-09-26 00:58:37,161 - pyiron_log - WARNING - Deprecated data structure! Returned array was converted from dtype='O' to dtype=int64 via `np.array(result.tolist())`.\n",
      "Please run rewrite_hdf5() (from a job: job.project_hdf5.rewrite_hdf5() ) to update this data! To update all your data run Project.maintenance.update.base_v0_3_to_v0_4('all').\n",
      "2022-09-26 00:58:37,208 - pyiron_log - WARNING - Deprecated data structure! Returned array was converted from dtype='O' to dtype=float64 via `np.array(result.tolist())`.\n",
      "Please run rewrite_hdf5() (from a job: job.project_hdf5.rewrite_hdf5() ) to update this data! To update all your data run Project.maintenance.update.base_v0_3_to_v0_4('all').\n",
      "2022-09-26 00:58:37,246 - pyiron_log - WARNING - Deprecated data structure! Returned array was converted from dtype='O' to dtype=float64 via `np.array(result.tolist())`.\n",
      "Please run rewrite_hdf5() (from a job: job.project_hdf5.rewrite_hdf5() ) to update this data! To update all your data run Project.maintenance.update.base_v0_3_to_v0_4('all').\n"
     ]
    },
    {
     "name": "stdout",
     "output_type": "stream",
     "text": [
      "The job hena_1_crystal_small_50_623k was saved and received the ID: 13055\n"
     ]
    },
    {
     "name": "stderr",
     "output_type": "stream",
     "text": [
      "/nfshome/deshmukh/miniconda3/envs/vaibhav/lib/python3.9/site-packages/pysqa/utils/remote.py:235: UserWarning: \n",
      "  warnings.warn(stderr.read().decode())\n",
      "100%|██████████| 1/1 [00:00<00:00, 88.51it/s]\n",
      "100%|██████████| 4/4 [00:00<00:00, 191.17it/s]\n",
      "/nfshome/deshmukh/miniconda3/envs/vaibhav/lib/python3.9/site-packages/pysqa/utils/remote.py:235: UserWarning: 2022-09-26 00:58:46,000 - pyiron_log - INFO - job: hena_1_crystal_small_50_623k id: 9, status: initialized, submitted: queue id 31642079\n",
      "\n",
      "  warnings.warn(stderr.read().decode())\n"
     ]
    },
    {
     "name": "stdout",
     "output_type": "stream",
     "text": [
      "Queue system id:  31642079\n"
     ]
    },
    {
     "name": "stderr",
     "output_type": "stream",
     "text": [
      "/tmp/ipykernel_657052/1274795633.py:6: DeprecationWarning: pyiron_atomistics.atomistics.structure.has_structure.get_structure(iteration_step=-1) is deprecated.\n",
      "  struct_nvt = job_mini.get_structure(iteration_step=-1) # Last frame from minimization\n",
      "2022-09-26 00:58:46,936 - pyiron_log - WARNING - Deprecated data structure! Returned array was converted from dtype='O' to dtype=float64 via `np.array(result.tolist())`.\n",
      "Please run rewrite_hdf5() (from a job: job.project_hdf5.rewrite_hdf5() ) to update this data! To update all your data run Project.maintenance.update.base_v0_3_to_v0_4('all').\n",
      "2022-09-26 00:58:46,966 - pyiron_log - WARNING - Deprecated data structure! Returned array was converted from dtype='O' to dtype=float64 via `np.array(result.tolist())`.\n",
      "Please run rewrite_hdf5() (from a job: job.project_hdf5.rewrite_hdf5() ) to update this data! To update all your data run Project.maintenance.update.base_v0_3_to_v0_4('all').\n",
      "2022-09-26 00:58:46,995 - pyiron_log - WARNING - Deprecated data structure! Returned array was converted from dtype='O' to dtype=float64 via `np.array(result.tolist())`.\n",
      "Please run rewrite_hdf5() (from a job: job.project_hdf5.rewrite_hdf5() ) to update this data! To update all your data run Project.maintenance.update.base_v0_3_to_v0_4('all').\n",
      "2022-09-26 00:58:47,026 - pyiron_log - WARNING - Deprecated data structure! Returned array was converted from dtype='O' to dtype=int64 via `np.array(result.tolist())`.\n",
      "Please run rewrite_hdf5() (from a job: job.project_hdf5.rewrite_hdf5() ) to update this data! To update all your data run Project.maintenance.update.base_v0_3_to_v0_4('all').\n",
      "2022-09-26 00:58:47,056 - pyiron_log - WARNING - Deprecated data structure! Returned array was converted from dtype='O' to dtype=int64 via `np.array(result.tolist())`.\n",
      "Please run rewrite_hdf5() (from a job: job.project_hdf5.rewrite_hdf5() ) to update this data! To update all your data run Project.maintenance.update.base_v0_3_to_v0_4('all').\n",
      "2022-09-26 00:58:47,210 - pyiron_log - WARNING - Deprecated data structure! Returned array was converted from dtype='O' to dtype=float64 via `np.array(result.tolist())`.\n",
      "Please run rewrite_hdf5() (from a job: job.project_hdf5.rewrite_hdf5() ) to update this data! To update all your data run Project.maintenance.update.base_v0_3_to_v0_4('all').\n",
      "2022-09-26 00:58:47,249 - pyiron_log - WARNING - Deprecated data structure! Returned array was converted from dtype='O' to dtype=float64 via `np.array(result.tolist())`.\n",
      "Please run rewrite_hdf5() (from a job: job.project_hdf5.rewrite_hdf5() ) to update this data! To update all your data run Project.maintenance.update.base_v0_3_to_v0_4('all').\n"
     ]
    },
    {
     "name": "stdout",
     "output_type": "stream",
     "text": [
      "The job hena_1_crystal_small_50_673k was saved and received the ID: 13056\n"
     ]
    },
    {
     "name": "stderr",
     "output_type": "stream",
     "text": [
      "/nfshome/deshmukh/miniconda3/envs/vaibhav/lib/python3.9/site-packages/pysqa/utils/remote.py:235: UserWarning: \n",
      "  warnings.warn(stderr.read().decode())\n",
      "100%|██████████| 1/1 [00:00<00:00, 94.18it/s]\n",
      "100%|██████████| 4/4 [00:00<00:00, 189.41it/s]\n",
      "/nfshome/deshmukh/miniconda3/envs/vaibhav/lib/python3.9/site-packages/pysqa/utils/remote.py:235: UserWarning: 2022-09-26 00:58:56,217 - pyiron_log - INFO - job: hena_1_crystal_small_50_673k id: 10, status: initialized, submitted: queue id 31642081\n",
      "\n",
      "  warnings.warn(stderr.read().decode())\n"
     ]
    },
    {
     "name": "stdout",
     "output_type": "stream",
     "text": [
      "Queue system id:  31642081\n"
     ]
    },
    {
     "name": "stderr",
     "output_type": "stream",
     "text": [
      "/tmp/ipykernel_657052/1274795633.py:6: DeprecationWarning: pyiron_atomistics.atomistics.structure.has_structure.get_structure(iteration_step=-1) is deprecated.\n",
      "  struct_nvt = job_mini.get_structure(iteration_step=-1) # Last frame from minimization\n",
      "2022-09-26 00:58:57,245 - pyiron_log - WARNING - Deprecated data structure! Returned array was converted from dtype='O' to dtype=float64 via `np.array(result.tolist())`.\n",
      "Please run rewrite_hdf5() (from a job: job.project_hdf5.rewrite_hdf5() ) to update this data! To update all your data run Project.maintenance.update.base_v0_3_to_v0_4('all').\n",
      "2022-09-26 00:58:57,275 - pyiron_log - WARNING - Deprecated data structure! Returned array was converted from dtype='O' to dtype=float64 via `np.array(result.tolist())`.\n",
      "Please run rewrite_hdf5() (from a job: job.project_hdf5.rewrite_hdf5() ) to update this data! To update all your data run Project.maintenance.update.base_v0_3_to_v0_4('all').\n",
      "2022-09-26 00:58:57,304 - pyiron_log - WARNING - Deprecated data structure! Returned array was converted from dtype='O' to dtype=float64 via `np.array(result.tolist())`.\n",
      "Please run rewrite_hdf5() (from a job: job.project_hdf5.rewrite_hdf5() ) to update this data! To update all your data run Project.maintenance.update.base_v0_3_to_v0_4('all').\n",
      "2022-09-26 00:58:57,334 - pyiron_log - WARNING - Deprecated data structure! Returned array was converted from dtype='O' to dtype=int64 via `np.array(result.tolist())`.\n",
      "Please run rewrite_hdf5() (from a job: job.project_hdf5.rewrite_hdf5() ) to update this data! To update all your data run Project.maintenance.update.base_v0_3_to_v0_4('all').\n",
      "2022-09-26 00:58:57,365 - pyiron_log - WARNING - Deprecated data structure! Returned array was converted from dtype='O' to dtype=int64 via `np.array(result.tolist())`.\n",
      "Please run rewrite_hdf5() (from a job: job.project_hdf5.rewrite_hdf5() ) to update this data! To update all your data run Project.maintenance.update.base_v0_3_to_v0_4('all').\n",
      "2022-09-26 00:58:57,403 - pyiron_log - WARNING - Deprecated data structure! Returned array was converted from dtype='O' to dtype=float64 via `np.array(result.tolist())`.\n",
      "Please run rewrite_hdf5() (from a job: job.project_hdf5.rewrite_hdf5() ) to update this data! To update all your data run Project.maintenance.update.base_v0_3_to_v0_4('all').\n",
      "2022-09-26 00:58:57,441 - pyiron_log - WARNING - Deprecated data structure! Returned array was converted from dtype='O' to dtype=float64 via `np.array(result.tolist())`.\n",
      "Please run rewrite_hdf5() (from a job: job.project_hdf5.rewrite_hdf5() ) to update this data! To update all your data run Project.maintenance.update.base_v0_3_to_v0_4('all').\n"
     ]
    },
    {
     "name": "stdout",
     "output_type": "stream",
     "text": [
      "The job hena_1_crystal_small_50_723k was saved and received the ID: 13057\n"
     ]
    },
    {
     "name": "stderr",
     "output_type": "stream",
     "text": [
      "/nfshome/deshmukh/miniconda3/envs/vaibhav/lib/python3.9/site-packages/pysqa/utils/remote.py:235: UserWarning: \n",
      "  warnings.warn(stderr.read().decode())\n",
      "100%|██████████| 1/1 [00:00<00:00, 100.69it/s]\n",
      "100%|██████████| 4/4 [00:00<00:00, 186.46it/s]\n",
      "/nfshome/deshmukh/miniconda3/envs/vaibhav/lib/python3.9/site-packages/pysqa/utils/remote.py:235: UserWarning: 2022-09-26 00:59:06,103 - pyiron_log - INFO - job: hena_1_crystal_small_50_723k id: 11, status: initialized, submitted: queue id 31642086\n",
      "\n",
      "  warnings.warn(stderr.read().decode())\n"
     ]
    },
    {
     "name": "stdout",
     "output_type": "stream",
     "text": [
      "Queue system id:  31642086\n"
     ]
    },
    {
     "name": "stderr",
     "output_type": "stream",
     "text": [
      "/tmp/ipykernel_657052/1274795633.py:6: DeprecationWarning: pyiron_atomistics.atomistics.structure.has_structure.get_structure(iteration_step=-1) is deprecated.\n",
      "  struct_nvt = job_mini.get_structure(iteration_step=-1) # Last frame from minimization\n",
      "2022-09-26 00:59:07,016 - pyiron_log - WARNING - Deprecated data structure! Returned array was converted from dtype='O' to dtype=float64 via `np.array(result.tolist())`.\n",
      "Please run rewrite_hdf5() (from a job: job.project_hdf5.rewrite_hdf5() ) to update this data! To update all your data run Project.maintenance.update.base_v0_3_to_v0_4('all').\n",
      "2022-09-26 00:59:07,045 - pyiron_log - WARNING - Deprecated data structure! Returned array was converted from dtype='O' to dtype=float64 via `np.array(result.tolist())`.\n",
      "Please run rewrite_hdf5() (from a job: job.project_hdf5.rewrite_hdf5() ) to update this data! To update all your data run Project.maintenance.update.base_v0_3_to_v0_4('all').\n",
      "2022-09-26 00:59:07,074 - pyiron_log - WARNING - Deprecated data structure! Returned array was converted from dtype='O' to dtype=float64 via `np.array(result.tolist())`.\n",
      "Please run rewrite_hdf5() (from a job: job.project_hdf5.rewrite_hdf5() ) to update this data! To update all your data run Project.maintenance.update.base_v0_3_to_v0_4('all').\n",
      "2022-09-26 00:59:07,104 - pyiron_log - WARNING - Deprecated data structure! Returned array was converted from dtype='O' to dtype=int64 via `np.array(result.tolist())`.\n",
      "Please run rewrite_hdf5() (from a job: job.project_hdf5.rewrite_hdf5() ) to update this data! To update all your data run Project.maintenance.update.base_v0_3_to_v0_4('all').\n",
      "2022-09-26 00:59:07,134 - pyiron_log - WARNING - Deprecated data structure! Returned array was converted from dtype='O' to dtype=int64 via `np.array(result.tolist())`.\n",
      "Please run rewrite_hdf5() (from a job: job.project_hdf5.rewrite_hdf5() ) to update this data! To update all your data run Project.maintenance.update.base_v0_3_to_v0_4('all').\n",
      "2022-09-26 00:59:07,171 - pyiron_log - WARNING - Deprecated data structure! Returned array was converted from dtype='O' to dtype=float64 via `np.array(result.tolist())`.\n",
      "Please run rewrite_hdf5() (from a job: job.project_hdf5.rewrite_hdf5() ) to update this data! To update all your data run Project.maintenance.update.base_v0_3_to_v0_4('all').\n",
      "2022-09-26 00:59:07,209 - pyiron_log - WARNING - Deprecated data structure! Returned array was converted from dtype='O' to dtype=float64 via `np.array(result.tolist())`.\n",
      "Please run rewrite_hdf5() (from a job: job.project_hdf5.rewrite_hdf5() ) to update this data! To update all your data run Project.maintenance.update.base_v0_3_to_v0_4('all').\n"
     ]
    },
    {
     "name": "stdout",
     "output_type": "stream",
     "text": [
      "The job hena_1_crystal_small_50_773k was saved and received the ID: 13058\n"
     ]
    },
    {
     "name": "stderr",
     "output_type": "stream",
     "text": [
      "/nfshome/deshmukh/miniconda3/envs/vaibhav/lib/python3.9/site-packages/pysqa/utils/remote.py:235: UserWarning: \n",
      "  warnings.warn(stderr.read().decode())\n",
      "100%|██████████| 1/1 [00:00<00:00, 99.13it/s]\n",
      "100%|██████████| 4/4 [00:00<00:00, 149.03it/s]\n",
      "/nfshome/deshmukh/miniconda3/envs/vaibhav/lib/python3.9/site-packages/pysqa/utils/remote.py:235: UserWarning: 2022-09-26 00:59:15,831 - pyiron_log - INFO - job: hena_1_crystal_small_50_773k id: 12, status: initialized, submitted: queue id 31642094\n",
      "\n",
      "  warnings.warn(stderr.read().decode())\n"
     ]
    },
    {
     "name": "stdout",
     "output_type": "stream",
     "text": [
      "Queue system id:  31642094\n"
     ]
    },
    {
     "name": "stderr",
     "output_type": "stream",
     "text": [
      "/tmp/ipykernel_657052/1274795633.py:6: DeprecationWarning: pyiron_atomistics.atomistics.structure.has_structure.get_structure(iteration_step=-1) is deprecated.\n",
      "  struct_nvt = job_mini.get_structure(iteration_step=-1) # Last frame from minimization\n",
      "2022-09-26 00:59:16,750 - pyiron_log - WARNING - Deprecated data structure! Returned array was converted from dtype='O' to dtype=float64 via `np.array(result.tolist())`.\n",
      "Please run rewrite_hdf5() (from a job: job.project_hdf5.rewrite_hdf5() ) to update this data! To update all your data run Project.maintenance.update.base_v0_3_to_v0_4('all').\n",
      "2022-09-26 00:59:16,780 - pyiron_log - WARNING - Deprecated data structure! Returned array was converted from dtype='O' to dtype=float64 via `np.array(result.tolist())`.\n",
      "Please run rewrite_hdf5() (from a job: job.project_hdf5.rewrite_hdf5() ) to update this data! To update all your data run Project.maintenance.update.base_v0_3_to_v0_4('all').\n",
      "2022-09-26 00:59:16,809 - pyiron_log - WARNING - Deprecated data structure! Returned array was converted from dtype='O' to dtype=float64 via `np.array(result.tolist())`.\n",
      "Please run rewrite_hdf5() (from a job: job.project_hdf5.rewrite_hdf5() ) to update this data! To update all your data run Project.maintenance.update.base_v0_3_to_v0_4('all').\n",
      "2022-09-26 00:59:16,840 - pyiron_log - WARNING - Deprecated data structure! Returned array was converted from dtype='O' to dtype=int64 via `np.array(result.tolist())`.\n",
      "Please run rewrite_hdf5() (from a job: job.project_hdf5.rewrite_hdf5() ) to update this data! To update all your data run Project.maintenance.update.base_v0_3_to_v0_4('all').\n",
      "2022-09-26 00:59:16,871 - pyiron_log - WARNING - Deprecated data structure! Returned array was converted from dtype='O' to dtype=int64 via `np.array(result.tolist())`.\n",
      "Please run rewrite_hdf5() (from a job: job.project_hdf5.rewrite_hdf5() ) to update this data! To update all your data run Project.maintenance.update.base_v0_3_to_v0_4('all').\n",
      "2022-09-26 00:59:17,026 - pyiron_log - WARNING - Deprecated data structure! Returned array was converted from dtype='O' to dtype=float64 via `np.array(result.tolist())`.\n",
      "Please run rewrite_hdf5() (from a job: job.project_hdf5.rewrite_hdf5() ) to update this data! To update all your data run Project.maintenance.update.base_v0_3_to_v0_4('all').\n",
      "2022-09-26 00:59:17,065 - pyiron_log - WARNING - Deprecated data structure! Returned array was converted from dtype='O' to dtype=float64 via `np.array(result.tolist())`.\n",
      "Please run rewrite_hdf5() (from a job: job.project_hdf5.rewrite_hdf5() ) to update this data! To update all your data run Project.maintenance.update.base_v0_3_to_v0_4('all').\n"
     ]
    },
    {
     "name": "stdout",
     "output_type": "stream",
     "text": [
      "The job hena_1_crystal_small_34_523k was saved and received the ID: 13059\n"
     ]
    },
    {
     "name": "stderr",
     "output_type": "stream",
     "text": [
      "/nfshome/deshmukh/miniconda3/envs/vaibhav/lib/python3.9/site-packages/pysqa/utils/remote.py:235: UserWarning: \n",
      "  warnings.warn(stderr.read().decode())\n",
      "100%|██████████| 1/1 [00:00<00:00, 97.10it/s]\n",
      "100%|██████████| 4/4 [00:00<00:00, 134.59it/s]\n",
      "/nfshome/deshmukh/miniconda3/envs/vaibhav/lib/python3.9/site-packages/pysqa/utils/remote.py:235: UserWarning: 2022-09-26 00:59:25,925 - pyiron_log - INFO - job: hena_1_crystal_small_34_523k id: 1, status: initialized, submitted: queue id 31642100\n",
      "\n",
      "  warnings.warn(stderr.read().decode())\n"
     ]
    },
    {
     "name": "stdout",
     "output_type": "stream",
     "text": [
      "Queue system id:  31642100\n"
     ]
    },
    {
     "name": "stderr",
     "output_type": "stream",
     "text": [
      "/tmp/ipykernel_657052/1274795633.py:6: DeprecationWarning: pyiron_atomistics.atomistics.structure.has_structure.get_structure(iteration_step=-1) is deprecated.\n",
      "  struct_nvt = job_mini.get_structure(iteration_step=-1) # Last frame from minimization\n",
      "2022-09-26 00:59:26,904 - pyiron_log - WARNING - Deprecated data structure! Returned array was converted from dtype='O' to dtype=float64 via `np.array(result.tolist())`.\n",
      "Please run rewrite_hdf5() (from a job: job.project_hdf5.rewrite_hdf5() ) to update this data! To update all your data run Project.maintenance.update.base_v0_3_to_v0_4('all').\n",
      "2022-09-26 00:59:26,934 - pyiron_log - WARNING - Deprecated data structure! Returned array was converted from dtype='O' to dtype=float64 via `np.array(result.tolist())`.\n",
      "Please run rewrite_hdf5() (from a job: job.project_hdf5.rewrite_hdf5() ) to update this data! To update all your data run Project.maintenance.update.base_v0_3_to_v0_4('all').\n",
      "2022-09-26 00:59:26,974 - pyiron_log - WARNING - Deprecated data structure! Returned array was converted from dtype='O' to dtype=float64 via `np.array(result.tolist())`.\n",
      "Please run rewrite_hdf5() (from a job: job.project_hdf5.rewrite_hdf5() ) to update this data! To update all your data run Project.maintenance.update.base_v0_3_to_v0_4('all').\n",
      "2022-09-26 00:59:27,004 - pyiron_log - WARNING - Deprecated data structure! Returned array was converted from dtype='O' to dtype=int64 via `np.array(result.tolist())`.\n",
      "Please run rewrite_hdf5() (from a job: job.project_hdf5.rewrite_hdf5() ) to update this data! To update all your data run Project.maintenance.update.base_v0_3_to_v0_4('all').\n",
      "2022-09-26 00:59:27,037 - pyiron_log - WARNING - Deprecated data structure! Returned array was converted from dtype='O' to dtype=int64 via `np.array(result.tolist())`.\n",
      "Please run rewrite_hdf5() (from a job: job.project_hdf5.rewrite_hdf5() ) to update this data! To update all your data run Project.maintenance.update.base_v0_3_to_v0_4('all').\n",
      "2022-09-26 00:59:27,075 - pyiron_log - WARNING - Deprecated data structure! Returned array was converted from dtype='O' to dtype=float64 via `np.array(result.tolist())`.\n",
      "Please run rewrite_hdf5() (from a job: job.project_hdf5.rewrite_hdf5() ) to update this data! To update all your data run Project.maintenance.update.base_v0_3_to_v0_4('all').\n",
      "2022-09-26 00:59:27,113 - pyiron_log - WARNING - Deprecated data structure! Returned array was converted from dtype='O' to dtype=float64 via `np.array(result.tolist())`.\n",
      "Please run rewrite_hdf5() (from a job: job.project_hdf5.rewrite_hdf5() ) to update this data! To update all your data run Project.maintenance.update.base_v0_3_to_v0_4('all').\n"
     ]
    },
    {
     "name": "stdout",
     "output_type": "stream",
     "text": [
      "The job hena_1_crystal_small_34_573k was saved and received the ID: 13060\n"
     ]
    },
    {
     "name": "stderr",
     "output_type": "stream",
     "text": [
      "/nfshome/deshmukh/miniconda3/envs/vaibhav/lib/python3.9/site-packages/pysqa/utils/remote.py:235: UserWarning: \n",
      "  warnings.warn(stderr.read().decode())\n",
      "100%|██████████| 1/1 [00:00<00:00, 101.73it/s]\n",
      "100%|██████████| 4/4 [00:00<00:00, 192.02it/s]\n",
      "/nfshome/deshmukh/miniconda3/envs/vaibhav/lib/python3.9/site-packages/pysqa/utils/remote.py:235: UserWarning: 2022-09-26 00:59:36,028 - pyiron_log - INFO - job: hena_1_crystal_small_34_573k id: 2, status: initialized, submitted: queue id 31642106\n",
      "\n",
      "  warnings.warn(stderr.read().decode())\n"
     ]
    },
    {
     "name": "stdout",
     "output_type": "stream",
     "text": [
      "Queue system id:  31642106\n"
     ]
    },
    {
     "name": "stderr",
     "output_type": "stream",
     "text": [
      "/tmp/ipykernel_657052/1274795633.py:6: DeprecationWarning: pyiron_atomistics.atomistics.structure.has_structure.get_structure(iteration_step=-1) is deprecated.\n",
      "  struct_nvt = job_mini.get_structure(iteration_step=-1) # Last frame from minimization\n",
      "2022-09-26 00:59:36,984 - pyiron_log - WARNING - Deprecated data structure! Returned array was converted from dtype='O' to dtype=float64 via `np.array(result.tolist())`.\n",
      "Please run rewrite_hdf5() (from a job: job.project_hdf5.rewrite_hdf5() ) to update this data! To update all your data run Project.maintenance.update.base_v0_3_to_v0_4('all').\n",
      "2022-09-26 00:59:37,013 - pyiron_log - WARNING - Deprecated data structure! Returned array was converted from dtype='O' to dtype=float64 via `np.array(result.tolist())`.\n",
      "Please run rewrite_hdf5() (from a job: job.project_hdf5.rewrite_hdf5() ) to update this data! To update all your data run Project.maintenance.update.base_v0_3_to_v0_4('all').\n",
      "2022-09-26 00:59:37,042 - pyiron_log - WARNING - Deprecated data structure! Returned array was converted from dtype='O' to dtype=float64 via `np.array(result.tolist())`.\n",
      "Please run rewrite_hdf5() (from a job: job.project_hdf5.rewrite_hdf5() ) to update this data! To update all your data run Project.maintenance.update.base_v0_3_to_v0_4('all').\n",
      "2022-09-26 00:59:37,072 - pyiron_log - WARNING - Deprecated data structure! Returned array was converted from dtype='O' to dtype=int64 via `np.array(result.tolist())`.\n",
      "Please run rewrite_hdf5() (from a job: job.project_hdf5.rewrite_hdf5() ) to update this data! To update all your data run Project.maintenance.update.base_v0_3_to_v0_4('all').\n",
      "2022-09-26 00:59:37,108 - pyiron_log - WARNING - Deprecated data structure! Returned array was converted from dtype='O' to dtype=int64 via `np.array(result.tolist())`.\n",
      "Please run rewrite_hdf5() (from a job: job.project_hdf5.rewrite_hdf5() ) to update this data! To update all your data run Project.maintenance.update.base_v0_3_to_v0_4('all').\n",
      "2022-09-26 00:59:37,145 - pyiron_log - WARNING - Deprecated data structure! Returned array was converted from dtype='O' to dtype=float64 via `np.array(result.tolist())`.\n",
      "Please run rewrite_hdf5() (from a job: job.project_hdf5.rewrite_hdf5() ) to update this data! To update all your data run Project.maintenance.update.base_v0_3_to_v0_4('all').\n",
      "2022-09-26 00:59:37,184 - pyiron_log - WARNING - Deprecated data structure! Returned array was converted from dtype='O' to dtype=float64 via `np.array(result.tolist())`.\n",
      "Please run rewrite_hdf5() (from a job: job.project_hdf5.rewrite_hdf5() ) to update this data! To update all your data run Project.maintenance.update.base_v0_3_to_v0_4('all').\n"
     ]
    },
    {
     "name": "stdout",
     "output_type": "stream",
     "text": [
      "The job hena_1_crystal_small_34_623k was saved and received the ID: 13061\n"
     ]
    },
    {
     "name": "stderr",
     "output_type": "stream",
     "text": [
      "/nfshome/deshmukh/miniconda3/envs/vaibhav/lib/python3.9/site-packages/pysqa/utils/remote.py:235: UserWarning: \n",
      "  warnings.warn(stderr.read().decode())\n",
      "100%|██████████| 1/1 [00:00<00:00, 93.61it/s]\n",
      "100%|██████████| 4/4 [00:00<00:00, 159.59it/s]\n",
      "/nfshome/deshmukh/miniconda3/envs/vaibhav/lib/python3.9/site-packages/pysqa/utils/remote.py:235: UserWarning: 2022-09-26 00:59:46,154 - pyiron_log - INFO - job: hena_1_crystal_small_34_623k id: 3, status: initialized, submitted: queue id 31642112\n",
      "\n",
      "  warnings.warn(stderr.read().decode())\n"
     ]
    },
    {
     "name": "stdout",
     "output_type": "stream",
     "text": [
      "Queue system id:  31642112\n"
     ]
    },
    {
     "name": "stderr",
     "output_type": "stream",
     "text": [
      "/tmp/ipykernel_657052/1274795633.py:6: DeprecationWarning: pyiron_atomistics.atomistics.structure.has_structure.get_structure(iteration_step=-1) is deprecated.\n",
      "  struct_nvt = job_mini.get_structure(iteration_step=-1) # Last frame from minimization\n",
      "2022-09-26 00:59:47,178 - pyiron_log - WARNING - Deprecated data structure! Returned array was converted from dtype='O' to dtype=float64 via `np.array(result.tolist())`.\n",
      "Please run rewrite_hdf5() (from a job: job.project_hdf5.rewrite_hdf5() ) to update this data! To update all your data run Project.maintenance.update.base_v0_3_to_v0_4('all').\n",
      "2022-09-26 00:59:47,207 - pyiron_log - WARNING - Deprecated data structure! Returned array was converted from dtype='O' to dtype=float64 via `np.array(result.tolist())`.\n",
      "Please run rewrite_hdf5() (from a job: job.project_hdf5.rewrite_hdf5() ) to update this data! To update all your data run Project.maintenance.update.base_v0_3_to_v0_4('all').\n",
      "2022-09-26 00:59:47,240 - pyiron_log - WARNING - Deprecated data structure! Returned array was converted from dtype='O' to dtype=float64 via `np.array(result.tolist())`.\n",
      "Please run rewrite_hdf5() (from a job: job.project_hdf5.rewrite_hdf5() ) to update this data! To update all your data run Project.maintenance.update.base_v0_3_to_v0_4('all').\n",
      "2022-09-26 00:59:47,273 - pyiron_log - WARNING - Deprecated data structure! Returned array was converted from dtype='O' to dtype=int64 via `np.array(result.tolist())`.\n",
      "Please run rewrite_hdf5() (from a job: job.project_hdf5.rewrite_hdf5() ) to update this data! To update all your data run Project.maintenance.update.base_v0_3_to_v0_4('all').\n",
      "2022-09-26 00:59:47,304 - pyiron_log - WARNING - Deprecated data structure! Returned array was converted from dtype='O' to dtype=int64 via `np.array(result.tolist())`.\n",
      "Please run rewrite_hdf5() (from a job: job.project_hdf5.rewrite_hdf5() ) to update this data! To update all your data run Project.maintenance.update.base_v0_3_to_v0_4('all').\n",
      "2022-09-26 00:59:47,459 - pyiron_log - WARNING - Deprecated data structure! Returned array was converted from dtype='O' to dtype=float64 via `np.array(result.tolist())`.\n",
      "Please run rewrite_hdf5() (from a job: job.project_hdf5.rewrite_hdf5() ) to update this data! To update all your data run Project.maintenance.update.base_v0_3_to_v0_4('all').\n",
      "2022-09-26 00:59:47,498 - pyiron_log - WARNING - Deprecated data structure! Returned array was converted from dtype='O' to dtype=float64 via `np.array(result.tolist())`.\n",
      "Please run rewrite_hdf5() (from a job: job.project_hdf5.rewrite_hdf5() ) to update this data! To update all your data run Project.maintenance.update.base_v0_3_to_v0_4('all').\n"
     ]
    },
    {
     "name": "stdout",
     "output_type": "stream",
     "text": [
      "The job hena_1_crystal_small_34_673k was saved and received the ID: 13062\n"
     ]
    },
    {
     "name": "stderr",
     "output_type": "stream",
     "text": [
      "/nfshome/deshmukh/miniconda3/envs/vaibhav/lib/python3.9/site-packages/pysqa/utils/remote.py:235: UserWarning: \n",
      "  warnings.warn(stderr.read().decode())\n",
      "100%|██████████| 1/1 [00:00<00:00, 97.63it/s]\n",
      "100%|██████████| 4/4 [00:00<00:00, 198.16it/s]\n",
      "/nfshome/deshmukh/miniconda3/envs/vaibhav/lib/python3.9/site-packages/pysqa/utils/remote.py:235: UserWarning: 2022-09-26 00:59:56,328 - pyiron_log - INFO - job: hena_1_crystal_small_34_673k id: 4, status: initialized, submitted: queue id 31642117\n",
      "\n",
      "  warnings.warn(stderr.read().decode())\n"
     ]
    },
    {
     "name": "stdout",
     "output_type": "stream",
     "text": [
      "Queue system id:  31642117\n"
     ]
    },
    {
     "name": "stderr",
     "output_type": "stream",
     "text": [
      "/tmp/ipykernel_657052/1274795633.py:6: DeprecationWarning: pyiron_atomistics.atomistics.structure.has_structure.get_structure(iteration_step=-1) is deprecated.\n",
      "  struct_nvt = job_mini.get_structure(iteration_step=-1) # Last frame from minimization\n",
      "2022-09-26 00:59:57,246 - pyiron_log - WARNING - Deprecated data structure! Returned array was converted from dtype='O' to dtype=float64 via `np.array(result.tolist())`.\n",
      "Please run rewrite_hdf5() (from a job: job.project_hdf5.rewrite_hdf5() ) to update this data! To update all your data run Project.maintenance.update.base_v0_3_to_v0_4('all').\n",
      "2022-09-26 00:59:57,279 - pyiron_log - WARNING - Deprecated data structure! Returned array was converted from dtype='O' to dtype=float64 via `np.array(result.tolist())`.\n",
      "Please run rewrite_hdf5() (from a job: job.project_hdf5.rewrite_hdf5() ) to update this data! To update all your data run Project.maintenance.update.base_v0_3_to_v0_4('all').\n",
      "2022-09-26 00:59:57,318 - pyiron_log - WARNING - Deprecated data structure! Returned array was converted from dtype='O' to dtype=float64 via `np.array(result.tolist())`.\n",
      "Please run rewrite_hdf5() (from a job: job.project_hdf5.rewrite_hdf5() ) to update this data! To update all your data run Project.maintenance.update.base_v0_3_to_v0_4('all').\n",
      "2022-09-26 00:59:57,348 - pyiron_log - WARNING - Deprecated data structure! Returned array was converted from dtype='O' to dtype=int64 via `np.array(result.tolist())`.\n",
      "Please run rewrite_hdf5() (from a job: job.project_hdf5.rewrite_hdf5() ) to update this data! To update all your data run Project.maintenance.update.base_v0_3_to_v0_4('all').\n",
      "2022-09-26 00:59:57,379 - pyiron_log - WARNING - Deprecated data structure! Returned array was converted from dtype='O' to dtype=int64 via `np.array(result.tolist())`.\n",
      "Please run rewrite_hdf5() (from a job: job.project_hdf5.rewrite_hdf5() ) to update this data! To update all your data run Project.maintenance.update.base_v0_3_to_v0_4('all').\n",
      "2022-09-26 00:59:57,417 - pyiron_log - WARNING - Deprecated data structure! Returned array was converted from dtype='O' to dtype=float64 via `np.array(result.tolist())`.\n",
      "Please run rewrite_hdf5() (from a job: job.project_hdf5.rewrite_hdf5() ) to update this data! To update all your data run Project.maintenance.update.base_v0_3_to_v0_4('all').\n",
      "2022-09-26 00:59:57,454 - pyiron_log - WARNING - Deprecated data structure! Returned array was converted from dtype='O' to dtype=float64 via `np.array(result.tolist())`.\n",
      "Please run rewrite_hdf5() (from a job: job.project_hdf5.rewrite_hdf5() ) to update this data! To update all your data run Project.maintenance.update.base_v0_3_to_v0_4('all').\n"
     ]
    },
    {
     "name": "stdout",
     "output_type": "stream",
     "text": [
      "The job hena_1_crystal_small_34_723k was saved and received the ID: 13063\n"
     ]
    },
    {
     "name": "stderr",
     "output_type": "stream",
     "text": [
      "/nfshome/deshmukh/miniconda3/envs/vaibhav/lib/python3.9/site-packages/pysqa/utils/remote.py:235: UserWarning: \n",
      "  warnings.warn(stderr.read().decode())\n",
      "100%|██████████| 1/1 [00:00<00:00, 105.10it/s]\n",
      "100%|██████████| 4/4 [00:00<00:00, 190.44it/s]\n",
      "/nfshome/deshmukh/miniconda3/envs/vaibhav/lib/python3.9/site-packages/pysqa/utils/remote.py:235: UserWarning: 2022-09-26 01:00:06,284 - pyiron_log - INFO - job: hena_1_crystal_small_34_723k id: 5, status: initialized, submitted: queue id 31642118\n",
      "\n",
      "  warnings.warn(stderr.read().decode())\n"
     ]
    },
    {
     "name": "stdout",
     "output_type": "stream",
     "text": [
      "Queue system id:  31642118\n"
     ]
    },
    {
     "name": "stderr",
     "output_type": "stream",
     "text": [
      "/tmp/ipykernel_657052/1274795633.py:6: DeprecationWarning: pyiron_atomistics.atomistics.structure.has_structure.get_structure(iteration_step=-1) is deprecated.\n",
      "  struct_nvt = job_mini.get_structure(iteration_step=-1) # Last frame from minimization\n",
      "2022-09-26 01:00:07,216 - pyiron_log - WARNING - Deprecated data structure! Returned array was converted from dtype='O' to dtype=float64 via `np.array(result.tolist())`.\n",
      "Please run rewrite_hdf5() (from a job: job.project_hdf5.rewrite_hdf5() ) to update this data! To update all your data run Project.maintenance.update.base_v0_3_to_v0_4('all').\n",
      "2022-09-26 01:00:07,255 - pyiron_log - WARNING - Deprecated data structure! Returned array was converted from dtype='O' to dtype=float64 via `np.array(result.tolist())`.\n",
      "Please run rewrite_hdf5() (from a job: job.project_hdf5.rewrite_hdf5() ) to update this data! To update all your data run Project.maintenance.update.base_v0_3_to_v0_4('all').\n",
      "2022-09-26 01:00:07,284 - pyiron_log - WARNING - Deprecated data structure! Returned array was converted from dtype='O' to dtype=float64 via `np.array(result.tolist())`.\n",
      "Please run rewrite_hdf5() (from a job: job.project_hdf5.rewrite_hdf5() ) to update this data! To update all your data run Project.maintenance.update.base_v0_3_to_v0_4('all').\n",
      "2022-09-26 01:00:07,319 - pyiron_log - WARNING - Deprecated data structure! Returned array was converted from dtype='O' to dtype=int64 via `np.array(result.tolist())`.\n",
      "Please run rewrite_hdf5() (from a job: job.project_hdf5.rewrite_hdf5() ) to update this data! To update all your data run Project.maintenance.update.base_v0_3_to_v0_4('all').\n",
      "2022-09-26 01:00:07,348 - pyiron_log - WARNING - Deprecated data structure! Returned array was converted from dtype='O' to dtype=int64 via `np.array(result.tolist())`.\n",
      "Please run rewrite_hdf5() (from a job: job.project_hdf5.rewrite_hdf5() ) to update this data! To update all your data run Project.maintenance.update.base_v0_3_to_v0_4('all').\n",
      "2022-09-26 01:00:07,387 - pyiron_log - WARNING - Deprecated data structure! Returned array was converted from dtype='O' to dtype=float64 via `np.array(result.tolist())`.\n",
      "Please run rewrite_hdf5() (from a job: job.project_hdf5.rewrite_hdf5() ) to update this data! To update all your data run Project.maintenance.update.base_v0_3_to_v0_4('all').\n",
      "2022-09-26 01:00:07,429 - pyiron_log - WARNING - Deprecated data structure! Returned array was converted from dtype='O' to dtype=float64 via `np.array(result.tolist())`.\n",
      "Please run rewrite_hdf5() (from a job: job.project_hdf5.rewrite_hdf5() ) to update this data! To update all your data run Project.maintenance.update.base_v0_3_to_v0_4('all').\n"
     ]
    },
    {
     "name": "stdout",
     "output_type": "stream",
     "text": [
      "The job hena_1_crystal_small_34_773k was saved and received the ID: 13064\n"
     ]
    },
    {
     "name": "stderr",
     "output_type": "stream",
     "text": [
      "/nfshome/deshmukh/miniconda3/envs/vaibhav/lib/python3.9/site-packages/pysqa/utils/remote.py:235: UserWarning: \n",
      "  warnings.warn(stderr.read().decode())\n",
      "100%|██████████| 1/1 [00:00<00:00, 86.54it/s]\n",
      "100%|██████████| 4/4 [00:00<00:00, 159.45it/s]\n"
     ]
    },
    {
     "name": "stdout",
     "output_type": "stream",
     "text": [
      "Queue system id:  31642123\n"
     ]
    },
    {
     "name": "stderr",
     "output_type": "stream",
     "text": [
      "/nfshome/deshmukh/miniconda3/envs/vaibhav/lib/python3.9/site-packages/pysqa/utils/remote.py:235: UserWarning: 2022-09-26 01:00:16,290 - pyiron_log - INFO - job: hena_1_crystal_small_34_773k id: 6, status: initialized, submitted: queue id 31642123\n",
      "\n",
      "  warnings.warn(stderr.read().decode())\n"
     ]
    }
   ],
   "source": [
    "for k in strct_no:\n",
    "    for j,i in zip(temp,range(len(temp))):\n",
    "        job_mini = pr['hena_1_struct_mini_%s'%k]               # Bulk Crystal\n",
    "    \n",
    "        # Get last structure    \n",
    "        struct_nvt = job_mini.get_structure(iteration_step=-1) # Last frame from minimization\n",
    "    \n",
    "        j = pr.create.job.Vasp(\"hena_1_crystal_small_%s_%sk\"%(k,j), delete_existing_job=True)\n",
    "        j.calc_md(temperature=temp[i], n_ionic_steps=25000, n_print=1, time_step=1.0)     # AIMD simulations        \n",
    "        j.structure = struct_nvt                               # Intial structure   \n",
    "        j.set_kpoints(scheme=\"GC\")  \n",
    "        j.input.kpoints.set_kpoints_file(size_of_mesh=['1 1 1'])\n",
    "        j.set_exchange_correlation_functional(\"PBE\")           # GGA (PBE) potential, also need to test SCAN, rSCAN, r2SCAN     \n",
    "\n",
    "        #Select PAW potentials \n",
    "        #j.list_potentials()\n",
    "        j.potential.Si = \"Si\"                                  # 4 valence electron, EMAX = 245 (eV)\n",
    "        j.potential.P = \"P\"                                    # 5 valence electron, EMAX = 255 (eV) \n",
    "        j.potential.O = \"O\"                                    # 6 valence electron, EMAX = 400 (eV)   \n",
    "        j.potential.Na = \"Na\"                                  # 7 valence electron with 'p' orbitals, EMAX = 260 (eV) \n",
    "        j.potential.Zr = \"Zr_sv\"                               # 12 valence electron with 's' orbitals, EMAX = 230 (eV)  \n",
    "\n",
    "        # Edit INCAR file \n",
    "        j.input.incar[\"SMASS\"] = 0                             # For noose hover algo     \n",
    "        j.input.incar[\"MDALGO\"] = 2                            # Nose-Hoover thermostat              \n",
    "        j.input.incar[\"PREC\"] = \"Normal\"\n",
    "        j.input.incar[\"IBRION\"] = 0                            # Conjugate gradient method, det. how the ions are updated and moved (remove if ions are not present)  \n",
    "        j.input.incar[\"ISMEAR\"] = 0                            # O = Gaussian, -1 = Fermi for AIMD \n",
    "        j.input.incar[\"LREAL\"] = \"A\"                           # Projecion in real or reciprocal space   \n",
    "        j.input.incar[\"SIGMA\"] = 0.05                          # 0.03 or 0.05 for gaussian (1)  ----- Conv\n",
    "        j.input.incar[\"EDIFF\"] = 1e-5                          # Global break condition, accurate cal = 1e-8 (2) -- Conv \n",
    "        j.input.incar[\"ALGO\"] = 'Normal'                       # For convergence use Fast else Normal\n",
    "        # Paralellization \n",
    "        j.input.incar[\"ISYM\"] = 0                              # no symmetry\n",
    "        j.input.incar[\"MAXMIX\"] = 40                           # reuse mixer from one MD step to next\n",
    "        j.input.incar[\"NELMIN\"] = 4                            # number of electronic steps\n",
    "        j.input.incar[\"NCORE\"] = 12                            # Core for calculations  \n",
    "        #j.input.incar[\"KPAR\"] = 12                            # No of K-points treated in parallel, must be divi to IBZKPT  \n",
    "        j.server.cores = 192\n",
    "        j.executable.executable_path = '/home/vd80naku/pyiron/resources/vasp/bin/run_vasp_6.1.2_default_mpi_gamma.sh'\n",
    "        j.server.queue = \"vasp_l_l2\"\n",
    "        j.run()"
   ]
  }
 ],
 "metadata": {
  "kernelspec": {
   "display_name": "Python 3.9.13 ('vaibhav')",
   "language": "python",
   "name": "python3"
  },
  "language_info": {
   "codemirror_mode": {
    "name": "ipython",
    "version": 3
   },
   "file_extension": ".py",
   "mimetype": "text/x-python",
   "name": "python",
   "nbconvert_exporter": "python",
   "pygments_lexer": "ipython3",
   "version": "3.9.13"
  },
  "orig_nbformat": 4,
  "vscode": {
   "interpreter": {
    "hash": "c5882173ff5685180b15cb907f22c6bef76d5cc8695d1b8791e985617bfa7d2d"
   }
  }
 },
 "nbformat": 4,
 "nbformat_minor": 2
}
