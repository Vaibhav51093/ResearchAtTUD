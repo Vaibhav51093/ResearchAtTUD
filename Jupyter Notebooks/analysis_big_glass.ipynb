{
 "cells": [
  {
   "cell_type": "code",
   "execution_count": 1,
   "metadata": {},
   "outputs": [],
   "source": [
    "# Direct lammps script implemetation in pyiron \n",
    "from pyiron import Project\n",
    "import numpy as np\n",
    "import pandas\n",
    "from jinja2 import Template\n",
    "import matplotlib.pyplot as plt \n",
    "import scipy.constants as sc\n",
    "from scipy.integrate import cumtrapz\n",
    "import os\n",
    "import sys  \n",
    "sys.path.insert(0, '/nfshome/deshmukh/vaibhav/scripts')\n",
    "import analysis_msd as ms\n",
    "import analysis_msd_2 as ms_2\n",
    "# Project \n",
    "#pr_1 = Project(\"/nfshome/deshmukh/pyiron/projects/NASICON/project/hena/hena_1/minimization\")           #! Path for postprocessing \n",
    "pr = Project(\"/nfshome/deshmukh/pyiron/projects/NASICON/project/hena/hena_1/glass\")  "
   ]
  },
  {
   "cell_type": "code",
   "execution_count": 2,
   "metadata": {},
   "outputs": [],
   "source": [
    "#x,y = ms.lammps_log.tar_lammps_2(path='/nfshome/deshmukh/pyiron/projects/NASICON/project/hena/hena_1/glass/hena_1_43_rate_1_k_ps_hdf5/hena_1_43_rate_1_k_ps/hena_1_43_rate_1_k_ps.tar.bz2',prop_1='density',prop_2='step')"
   ]
  },
  {
   "cell_type": "code",
   "execution_count": 3,
   "metadata": {},
   "outputs": [],
   "source": [
    "#ms.lammps_log.last_struct_ovito(path='/nfshome/deshmukh/pyiron/projects/NASICON/project/hena/hena_1/glass/hena_1_43_rate_1_k_ps_hdf5/hena_1_43_rate_1_k_ps/hena_1_43_rate_1_k_ps.tar.bz2',file_2='last_galss_43.xyz')\n",
    "ms_2.oviot.last_struct(path_line='/nfshome/deshmukh/pyiron/projects/NASICON/project/hena/hena_1/glass/hena_1_47_rate_1_k_ps_hdf5/hena_1_47_rate_1_k_ps/dump.out',outfile='glass_last_47.data')"
   ]
  },
  {
   "cell_type": "code",
   "execution_count": null,
   "metadata": {},
   "outputs": [],
   "source": [
    "import lammps_logfile"
   ]
  },
  {
   "cell_type": "code",
   "execution_count": 9,
   "metadata": {},
   "outputs": [],
   "source": [
    "file = lammps_logfile.File('log.lammps')"
   ]
  },
  {
   "cell_type": "code",
   "execution_count": 34,
   "metadata": {},
   "outputs": [],
   "source": [
    "den = []\n",
    "step = []\n",
    "\n",
    "for i in range(file.get_num_partial_logs()):\n",
    "    x = file.get('Volume', run_num=i)\n",
    "    y = file.get('Temp', run_num=i)\n",
    "    den.append(y)\n",
    "    step.append(x)"
   ]
  },
  {
   "cell_type": "code",
   "execution_count": 35,
   "metadata": {},
   "outputs": [
    {
     "data": {
      "text/plain": [
       "<matplotlib.collections.PathCollection at 0x7ff3f9bd12e0>"
      ]
     },
     "execution_count": 35,
     "metadata": {},
     "output_type": "execute_result"
    },
    {
     "data": {
      "image/png": "[encoded data removed]",
      "text/plain": [
       "<Figure size 432x288 with 1 Axes>"
      ]
     },
     "metadata": {
      "needs_background": "light"
     },
     "output_type": "display_data"
    }
   ],
   "source": [
    "plt.scatter(step[3],den[3])"
   ]
  },
  {
   "cell_type": "code",
   "execution_count": 19,
   "metadata": {},
   "outputs": [],
   "source": [
    "strct_no = [43, 47, 4, 13, 42, 10, 5, 26, 28, 30, 25] \n",
    "\n",
    "import random\n",
    "# Crystal calculations \n",
    "#for k in strct_no:\n",
    "#    job = pr['hena_1_%s_rate_1_k_ps'%k]\n",
    "#    job.transfer_from_remote()\n",
    "#    job.compress()"
   ]
  },
  {
   "cell_type": "code",
   "execution_count": 21,
   "metadata": {},
   "outputs": [
    {
     "data": {
      "text/plain": [
       "{'groups': [], 'nodes': []}"
      ]
     },
     "execution_count": 21,
     "metadata": {},
     "output_type": "execute_result"
    }
   ],
   "source": [
    "pr.create_hdf(path='/nfshome/deshmukh/pyiron/projects/NASICON/project/hena/hena_1/glass/hena_1_43_rate_1_k_ps_hdf5/hena_1_43_rate_1_k_ps',job_name='hena_1_13_rate_1_k_ps')"
   ]
  },
  {
   "cell_type": "code",
   "execution_count": 22,
   "metadata": {},
   "outputs": [
    {
     "ename": "OSError",
     "evalue": "Unable to open file (file signature not found)",
     "output_type": "error",
     "traceback": [
      "\u001b[0;31m---------------------------------------------------------------------------\u001b[0m",
      "\u001b[0;31mOSError\u001b[0m                                   Traceback (most recent call last)",
      "\u001b[1;32m/nfshome/deshmukh/vaibhav/HeNa/analysis_big_glass.ipynb Cell 4'\u001b[0m in \u001b[0;36m<cell line: 1>\u001b[0;34m()\u001b[0m\n\u001b[0;32m----> <a href='vscode-notebook-cell:/nfshome/deshmukh/vaibhav/HeNa/analysis_big_glass.ipynb#ch0000002?line=0'>1</a>\u001b[0m job \u001b[39m=\u001b[39m pr[\u001b[39m'\u001b[39;49m\u001b[39mhena_1_13_rate_1_k_ps\u001b[39;49m\u001b[39m'\u001b[39;49m]\n",
      "File \u001b[0;32m~/miniconda3/envs/vaibhav/lib/python3.9/site-packages/pyiron_base/project/generic.py:1427\u001b[0m, in \u001b[0;36mProject.__getitem__\u001b[0;34m(self, item)\u001b[0m\n\u001b[1;32m   <a href='file:///nfshome/deshmukh/miniconda3/envs/vaibhav/lib/python3.9/site-packages/pyiron_base/project/generic.py?line=1422'>1423</a>\u001b[0m         \u001b[39mexcept\u001b[39;00m \u001b[39mValueError\u001b[39;00m:\n\u001b[1;32m   <a href='file:///nfshome/deshmukh/miniconda3/envs/vaibhav/lib/python3.9/site-packages/pyiron_base/project/generic.py?line=1423'>1424</a>\u001b[0m             \u001b[39mreturn\u001b[39;00m \u001b[39mself\u001b[39m\u001b[39m.\u001b[39m_get_item_helper(\n\u001b[1;32m   <a href='file:///nfshome/deshmukh/miniconda3/envs/vaibhav/lib/python3.9/site-packages/pyiron_base/project/generic.py?line=1424'>1425</a>\u001b[0m                 item\u001b[39m=\u001b[39mitem_lst[\u001b[39m0\u001b[39m], convert_to_object\u001b[39m=\u001b[39m\u001b[39mTrue\u001b[39;00m\n\u001b[1;32m   <a href='file:///nfshome/deshmukh/miniconda3/envs/vaibhav/lib/python3.9/site-packages/pyiron_base/project/generic.py?line=1425'>1426</a>\u001b[0m             )\u001b[39m.\u001b[39m\u001b[39m__getitem__\u001b[39m(\u001b[39m\"\u001b[39m\u001b[39m/\u001b[39m\u001b[39m\"\u001b[39m\u001b[39m.\u001b[39mjoin(item_lst[\u001b[39m1\u001b[39m:]))\n\u001b[0;32m-> <a href='file:///nfshome/deshmukh/miniconda3/envs/vaibhav/lib/python3.9/site-packages/pyiron_base/project/generic.py?line=1426'>1427</a>\u001b[0m \u001b[39mreturn\u001b[39;00m \u001b[39mself\u001b[39;49m\u001b[39m.\u001b[39;49m_get_item_helper(item\u001b[39m=\u001b[39;49mitem, convert_to_object\u001b[39m=\u001b[39;49m\u001b[39mTrue\u001b[39;49;00m)\n",
      "File \u001b[0;32m~/miniconda3/envs/vaibhav/lib/python3.9/site-packages/pyiron_base/project/generic.py:1458\u001b[0m, in \u001b[0;36mProject._get_item_helper\u001b[0;34m(self, item, convert_to_object)\u001b[0m\n\u001b[1;32m   <a href='file:///nfshome/deshmukh/miniconda3/envs/vaibhav/lib/python3.9/site-packages/pyiron_base/project/generic.py?line=1455'>1456</a>\u001b[0m     \u001b[39mif\u001b[39;00m \u001b[39mself\u001b[39m\u001b[39m.\u001b[39m_inspect_mode \u001b[39mor\u001b[39;00m \u001b[39mnot\u001b[39;00m convert_to_object:\n\u001b[1;32m   <a href='file:///nfshome/deshmukh/miniconda3/envs/vaibhav/lib/python3.9/site-packages/pyiron_base/project/generic.py?line=1456'>1457</a>\u001b[0m         \u001b[39mreturn\u001b[39;00m \u001b[39mself\u001b[39m\u001b[39m.\u001b[39minspect(item)\n\u001b[0;32m-> <a href='file:///nfshome/deshmukh/miniconda3/envs/vaibhav/lib/python3.9/site-packages/pyiron_base/project/generic.py?line=1457'>1458</a>\u001b[0m     \u001b[39mreturn\u001b[39;00m \u001b[39mself\u001b[39;49m\u001b[39m.\u001b[39;49mload(item)\n\u001b[1;32m   <a href='file:///nfshome/deshmukh/miniconda3/envs/vaibhav/lib/python3.9/site-packages/pyiron_base/project/generic.py?line=1458'>1459</a>\u001b[0m \u001b[39mif\u001b[39;00m item \u001b[39min\u001b[39;00m \u001b[39mself\u001b[39m\u001b[39m.\u001b[39mlist_files(extension\u001b[39m=\u001b[39m\u001b[39m\"\u001b[39m\u001b[39mh5\u001b[39m\u001b[39m\"\u001b[39m):\n\u001b[1;32m   <a href='file:///nfshome/deshmukh/miniconda3/envs/vaibhav/lib/python3.9/site-packages/pyiron_base/project/generic.py?line=1459'>1460</a>\u001b[0m     file_name \u001b[39m=\u001b[39m posixpath\u001b[39m.\u001b[39mjoin(\u001b[39mself\u001b[39m\u001b[39m.\u001b[39mpath, \u001b[39m\"\u001b[39m\u001b[39m{}\u001b[39;00m\u001b[39m.h5\u001b[39m\u001b[39m\"\u001b[39m\u001b[39m.\u001b[39mformat(item))\n",
      "File \u001b[0;32m~/miniconda3/envs/vaibhav/lib/python3.9/site-packages/pyiron_base/project/generic.py:801\u001b[0m, in \u001b[0;36mProject.load\u001b[0;34m(self, job_specifier, convert_to_object)\u001b[0m\n\u001b[1;32m    <a href='file:///nfshome/deshmukh/miniconda3/envs/vaibhav/lib/python3.9/site-packages/pyiron_base/project/generic.py?line=796'>797</a>\u001b[0m     state\u001b[39m.\u001b[39mlogger\u001b[39m.\u001b[39mwarning(\n\u001b[1;32m    <a href='file:///nfshome/deshmukh/miniconda3/envs/vaibhav/lib/python3.9/site-packages/pyiron_base/project/generic.py?line=797'>798</a>\u001b[0m         \u001b[39m\"\u001b[39m\u001b[39mJob \u001b[39m\u001b[39m'\u001b[39m\u001b[39m%s\u001b[39;00m\u001b[39m'\u001b[39m\u001b[39m does not exist and cannot be loaded\u001b[39m\u001b[39m\"\u001b[39m, job_specifier\n\u001b[1;32m    <a href='file:///nfshome/deshmukh/miniconda3/envs/vaibhav/lib/python3.9/site-packages/pyiron_base/project/generic.py?line=798'>799</a>\u001b[0m     )\n\u001b[1;32m    <a href='file:///nfshome/deshmukh/miniconda3/envs/vaibhav/lib/python3.9/site-packages/pyiron_base/project/generic.py?line=799'>800</a>\u001b[0m     \u001b[39mreturn\u001b[39;00m \u001b[39mNone\u001b[39;00m\n\u001b[0;32m--> <a href='file:///nfshome/deshmukh/miniconda3/envs/vaibhav/lib/python3.9/site-packages/pyiron_base/project/generic.py?line=800'>801</a>\u001b[0m \u001b[39mreturn\u001b[39;00m \u001b[39mself\u001b[39;49m\u001b[39m.\u001b[39;49mload_from_jobpath(\n\u001b[1;32m    <a href='file:///nfshome/deshmukh/miniconda3/envs/vaibhav/lib/python3.9/site-packages/pyiron_base/project/generic.py?line=801'>802</a>\u001b[0m     job_id\u001b[39m=\u001b[39;49mjob_id, convert_to_object\u001b[39m=\u001b[39;49mconvert_to_object\n\u001b[1;32m    <a href='file:///nfshome/deshmukh/miniconda3/envs/vaibhav/lib/python3.9/site-packages/pyiron_base/project/generic.py?line=802'>803</a>\u001b[0m )\n",
      "File \u001b[0;32m~/miniconda3/envs/vaibhav/lib/python3.9/site-packages/pyiron_atomistics/project.py:230\u001b[0m, in \u001b[0;36mProject.load_from_jobpath\u001b[0;34m(self, job_id, db_entry, convert_to_object)\u001b[0m\n\u001b[1;32m    <a href='file:///nfshome/deshmukh/miniconda3/envs/vaibhav/lib/python3.9/site-packages/pyiron_atomistics/project.py?line=215'>216</a>\u001b[0m \u001b[39mdef\u001b[39;00m \u001b[39mload_from_jobpath\u001b[39m(\u001b[39mself\u001b[39m, job_id\u001b[39m=\u001b[39m\u001b[39mNone\u001b[39;00m, db_entry\u001b[39m=\u001b[39m\u001b[39mNone\u001b[39;00m, convert_to_object\u001b[39m=\u001b[39m\u001b[39mTrue\u001b[39;00m):\n\u001b[1;32m    <a href='file:///nfshome/deshmukh/miniconda3/envs/vaibhav/lib/python3.9/site-packages/pyiron_atomistics/project.py?line=216'>217</a>\u001b[0m     \u001b[39m\"\"\"\u001b[39;00m\n\u001b[1;32m    <a href='file:///nfshome/deshmukh/miniconda3/envs/vaibhav/lib/python3.9/site-packages/pyiron_atomistics/project.py?line=217'>218</a>\u001b[0m \u001b[39m    Internal function to load an existing job either based on the job ID or based on the database entry dictionary.\u001b[39;00m\n\u001b[1;32m    <a href='file:///nfshome/deshmukh/miniconda3/envs/vaibhav/lib/python3.9/site-packages/pyiron_atomistics/project.py?line=218'>219</a>\u001b[0m \n\u001b[0;32m   (...)\u001b[0m\n\u001b[1;32m    <a href='file:///nfshome/deshmukh/miniconda3/envs/vaibhav/lib/python3.9/site-packages/pyiron_atomistics/project.py?line=227'>228</a>\u001b[0m \u001b[39m        GenericJob, JobCore: Either the full GenericJob object or just a reduced JobCore object\u001b[39;00m\n\u001b[1;32m    <a href='file:///nfshome/deshmukh/miniconda3/envs/vaibhav/lib/python3.9/site-packages/pyiron_atomistics/project.py?line=228'>229</a>\u001b[0m \u001b[39m    \"\"\"\u001b[39;00m\n\u001b[0;32m--> <a href='file:///nfshome/deshmukh/miniconda3/envs/vaibhav/lib/python3.9/site-packages/pyiron_atomistics/project.py?line=229'>230</a>\u001b[0m     job \u001b[39m=\u001b[39m \u001b[39msuper\u001b[39;49m(Project, \u001b[39mself\u001b[39;49m)\u001b[39m.\u001b[39;49mload_from_jobpath(\n\u001b[1;32m    <a href='file:///nfshome/deshmukh/miniconda3/envs/vaibhav/lib/python3.9/site-packages/pyiron_atomistics/project.py?line=230'>231</a>\u001b[0m         job_id\u001b[39m=\u001b[39;49mjob_id, db_entry\u001b[39m=\u001b[39;49mdb_entry, convert_to_object\u001b[39m=\u001b[39;49mconvert_to_object\n\u001b[1;32m    <a href='file:///nfshome/deshmukh/miniconda3/envs/vaibhav/lib/python3.9/site-packages/pyiron_atomistics/project.py?line=231'>232</a>\u001b[0m     )\n\u001b[1;32m    <a href='file:///nfshome/deshmukh/miniconda3/envs/vaibhav/lib/python3.9/site-packages/pyiron_atomistics/project.py?line=232'>233</a>\u001b[0m     job\u001b[39m.\u001b[39mproject_hdf5\u001b[39m.\u001b[39m_project \u001b[39m=\u001b[39m \u001b[39mself\u001b[39m\u001b[39m.\u001b[39m\u001b[39m__class__\u001b[39m(path\u001b[39m=\u001b[39mjob\u001b[39m.\u001b[39mproject_hdf5\u001b[39m.\u001b[39mfile_path)\n\u001b[1;32m    <a href='file:///nfshome/deshmukh/miniconda3/envs/vaibhav/lib/python3.9/site-packages/pyiron_atomistics/project.py?line=233'>234</a>\u001b[0m     \u001b[39mreturn\u001b[39;00m job\n",
      "File \u001b[0;32m~/miniconda3/envs/vaibhav/lib/python3.9/site-packages/pyiron_base/project/generic.py:823\u001b[0m, in \u001b[0;36mProject.load_from_jobpath\u001b[0;34m(self, job_id, db_entry, convert_to_object)\u001b[0m\n\u001b[1;32m    <a href='file:///nfshome/deshmukh/miniconda3/envs/vaibhav/lib/python3.9/site-packages/pyiron_base/project/generic.py?line=820'>821</a>\u001b[0m job \u001b[39m=\u001b[39m jobpath(db\u001b[39m=\u001b[39m\u001b[39mself\u001b[39m\u001b[39m.\u001b[39mdb, job_id\u001b[39m=\u001b[39mjob_id, user\u001b[39m=\u001b[39m\u001b[39mself\u001b[39m\u001b[39m.\u001b[39muser)\n\u001b[1;32m    <a href='file:///nfshome/deshmukh/miniconda3/envs/vaibhav/lib/python3.9/site-packages/pyiron_base/project/generic.py?line=821'>822</a>\u001b[0m \u001b[39mif\u001b[39;00m convert_to_object:\n\u001b[0;32m--> <a href='file:///nfshome/deshmukh/miniconda3/envs/vaibhav/lib/python3.9/site-packages/pyiron_base/project/generic.py?line=822'>823</a>\u001b[0m     job \u001b[39m=\u001b[39m job\u001b[39m.\u001b[39;49mto_object()\n\u001b[1;32m    <a href='file:///nfshome/deshmukh/miniconda3/envs/vaibhav/lib/python3.9/site-packages/pyiron_base/project/generic.py?line=823'>824</a>\u001b[0m     job\u001b[39m.\u001b[39mreset_job_id(job_id\u001b[39m=\u001b[39mjob_id)\n\u001b[1;32m    <a href='file:///nfshome/deshmukh/miniconda3/envs/vaibhav/lib/python3.9/site-packages/pyiron_base/project/generic.py?line=824'>825</a>\u001b[0m     job\u001b[39m.\u001b[39mset_input_to_read_only()\n",
      "File \u001b[0;32m~/miniconda3/envs/vaibhav/lib/python3.9/site-packages/pyiron_base/job/core.py:479\u001b[0m, in \u001b[0;36mJobCore.to_object\u001b[0;34m(self, object_type, **qwargs)\u001b[0m\n\u001b[1;32m    <a href='file:///nfshome/deshmukh/miniconda3/envs/vaibhav/lib/python3.9/site-packages/pyiron_base/job/core.py?line=467'>468</a>\u001b[0m \u001b[39mdef\u001b[39;00m \u001b[39mto_object\u001b[39m(\u001b[39mself\u001b[39m, object_type\u001b[39m=\u001b[39m\u001b[39mNone\u001b[39;00m, \u001b[39m*\u001b[39m\u001b[39m*\u001b[39mqwargs):\n\u001b[1;32m    <a href='file:///nfshome/deshmukh/miniconda3/envs/vaibhav/lib/python3.9/site-packages/pyiron_base/job/core.py?line=468'>469</a>\u001b[0m     \u001b[39m\"\"\"\u001b[39;00m\n\u001b[1;32m    <a href='file:///nfshome/deshmukh/miniconda3/envs/vaibhav/lib/python3.9/site-packages/pyiron_base/job/core.py?line=469'>470</a>\u001b[0m \u001b[39m    Load the full pyiron object from an HDF5 file\u001b[39;00m\n\u001b[1;32m    <a href='file:///nfshome/deshmukh/miniconda3/envs/vaibhav/lib/python3.9/site-packages/pyiron_base/job/core.py?line=470'>471</a>\u001b[0m \n\u001b[0;32m   (...)\u001b[0m\n\u001b[1;32m    <a href='file:///nfshome/deshmukh/miniconda3/envs/vaibhav/lib/python3.9/site-packages/pyiron_base/job/core.py?line=476'>477</a>\u001b[0m \u001b[39m        GenericJob: pyiron object\u001b[39;00m\n\u001b[1;32m    <a href='file:///nfshome/deshmukh/miniconda3/envs/vaibhav/lib/python3.9/site-packages/pyiron_base/job/core.py?line=477'>478</a>\u001b[0m \u001b[39m    \"\"\"\u001b[39;00m\n\u001b[0;32m--> <a href='file:///nfshome/deshmukh/miniconda3/envs/vaibhav/lib/python3.9/site-packages/pyiron_base/job/core.py?line=478'>479</a>\u001b[0m     \u001b[39mif\u001b[39;00m \u001b[39mself\u001b[39;49m\u001b[39m.\u001b[39;49mproject_hdf5\u001b[39m.\u001b[39;49mis_empty:\n\u001b[1;32m    <a href='file:///nfshome/deshmukh/miniconda3/envs/vaibhav/lib/python3.9/site-packages/pyiron_base/job/core.py?line=479'>480</a>\u001b[0m         \u001b[39mraise\u001b[39;00m \u001b[39mValueError\u001b[39;00m(\n\u001b[1;32m    <a href='file:///nfshome/deshmukh/miniconda3/envs/vaibhav/lib/python3.9/site-packages/pyiron_base/job/core.py?line=480'>481</a>\u001b[0m             \u001b[39m'\u001b[39m\u001b[39mThe HDF5 file of this job with the job_name: \u001b[39m\u001b[39m\"\u001b[39m\u001b[39m'\u001b[39m\n\u001b[1;32m    <a href='file:///nfshome/deshmukh/miniconda3/envs/vaibhav/lib/python3.9/site-packages/pyiron_base/job/core.py?line=481'>482</a>\u001b[0m             \u001b[39m+\u001b[39m \u001b[39mself\u001b[39m\u001b[39m.\u001b[39mjob_name\n\u001b[1;32m    <a href='file:///nfshome/deshmukh/miniconda3/envs/vaibhav/lib/python3.9/site-packages/pyiron_base/job/core.py?line=482'>483</a>\u001b[0m             \u001b[39m+\u001b[39m \u001b[39m'\u001b[39m\u001b[39m\"\u001b[39m\u001b[39m is empty, so it can not be loaded.\u001b[39m\u001b[39m'\u001b[39m\n\u001b[1;32m    <a href='file:///nfshome/deshmukh/miniconda3/envs/vaibhav/lib/python3.9/site-packages/pyiron_base/job/core.py?line=483'>484</a>\u001b[0m         )\n\u001b[1;32m    <a href='file:///nfshome/deshmukh/miniconda3/envs/vaibhav/lib/python3.9/site-packages/pyiron_base/job/core.py?line=484'>485</a>\u001b[0m     \u001b[39mreturn\u001b[39;00m \u001b[39mself\u001b[39m\u001b[39m.\u001b[39mproject_hdf5\u001b[39m.\u001b[39mto_object(object_type, \u001b[39m*\u001b[39m\u001b[39m*\u001b[39mqwargs)\n",
      "File \u001b[0;32m~/miniconda3/envs/vaibhav/lib/python3.9/site-packages/pyiron_base/generic/hdfio.py:391\u001b[0m, in \u001b[0;36mFileHDFio.is_empty\u001b[0;34m(self)\u001b[0m\n\u001b[1;32m    <a href='file:///nfshome/deshmukh/miniconda3/envs/vaibhav/lib/python3.9/site-packages/pyiron_base/generic/hdfio.py?line=383'>384</a>\u001b[0m \u001b[39m\"\"\"\u001b[39;00m\n\u001b[1;32m    <a href='file:///nfshome/deshmukh/miniconda3/envs/vaibhav/lib/python3.9/site-packages/pyiron_base/generic/hdfio.py?line=384'>385</a>\u001b[0m \u001b[39mCheck if the HDF5 file is empty\u001b[39;00m\n\u001b[1;32m    <a href='file:///nfshome/deshmukh/miniconda3/envs/vaibhav/lib/python3.9/site-packages/pyiron_base/generic/hdfio.py?line=385'>386</a>\u001b[0m \n\u001b[1;32m    <a href='file:///nfshome/deshmukh/miniconda3/envs/vaibhav/lib/python3.9/site-packages/pyiron_base/generic/hdfio.py?line=386'>387</a>\u001b[0m \u001b[39mReturns:\u001b[39;00m\n\u001b[1;32m    <a href='file:///nfshome/deshmukh/miniconda3/envs/vaibhav/lib/python3.9/site-packages/pyiron_base/generic/hdfio.py?line=387'>388</a>\u001b[0m \u001b[39m    bool: [True/False]\u001b[39;00m\n\u001b[1;32m    <a href='file:///nfshome/deshmukh/miniconda3/envs/vaibhav/lib/python3.9/site-packages/pyiron_base/generic/hdfio.py?line=388'>389</a>\u001b[0m \u001b[39m\"\"\"\u001b[39;00m\n\u001b[1;32m    <a href='file:///nfshome/deshmukh/miniconda3/envs/vaibhav/lib/python3.9/site-packages/pyiron_base/generic/hdfio.py?line=389'>390</a>\u001b[0m \u001b[39mif\u001b[39;00m \u001b[39mself\u001b[39m\u001b[39m.\u001b[39mfile_exists:\n\u001b[0;32m--> <a href='file:///nfshome/deshmukh/miniconda3/envs/vaibhav/lib/python3.9/site-packages/pyiron_base/generic/hdfio.py?line=390'>391</a>\u001b[0m     \u001b[39mwith\u001b[39;00m open_hdf5(\u001b[39mself\u001b[39;49m\u001b[39m.\u001b[39;49mfile_name) \u001b[39mas\u001b[39;00m h:\n\u001b[1;32m    <a href='file:///nfshome/deshmukh/miniconda3/envs/vaibhav/lib/python3.9/site-packages/pyiron_base/generic/hdfio.py?line=391'>392</a>\u001b[0m         \u001b[39mreturn\u001b[39;00m \u001b[39mlen\u001b[39m(h\u001b[39m.\u001b[39mkeys()) \u001b[39m==\u001b[39m \u001b[39m0\u001b[39m\n\u001b[1;32m    <a href='file:///nfshome/deshmukh/miniconda3/envs/vaibhav/lib/python3.9/site-packages/pyiron_base/generic/hdfio.py?line=392'>393</a>\u001b[0m \u001b[39melse\u001b[39;00m:\n",
      "File \u001b[0;32m~/miniconda3/envs/vaibhav/lib/python3.9/site-packages/pyiron_base/generic/hdfio.py:71\u001b[0m, in \u001b[0;36mopen_hdf5\u001b[0;34m(filename, mode, swmr)\u001b[0m\n\u001b[1;32m     <a href='file:///nfshome/deshmukh/miniconda3/envs/vaibhav/lib/python3.9/site-packages/pyiron_base/generic/hdfio.py?line=68'>69</a>\u001b[0m     \u001b[39mreturn\u001b[39;00m store\n\u001b[1;32m     <a href='file:///nfshome/deshmukh/miniconda3/envs/vaibhav/lib/python3.9/site-packages/pyiron_base/generic/hdfio.py?line=69'>70</a>\u001b[0m \u001b[39melse\u001b[39;00m:\n\u001b[0;32m---> <a href='file:///nfshome/deshmukh/miniconda3/envs/vaibhav/lib/python3.9/site-packages/pyiron_base/generic/hdfio.py?line=70'>71</a>\u001b[0m     \u001b[39mreturn\u001b[39;00m h5py\u001b[39m.\u001b[39;49mFile(filename, mode\u001b[39m=\u001b[39;49mmode, libver\u001b[39m=\u001b[39;49m\u001b[39m\"\u001b[39;49m\u001b[39mlatest\u001b[39;49m\u001b[39m\"\u001b[39;49m, swmr\u001b[39m=\u001b[39;49mswmr)\n",
      "File \u001b[0;32m~/miniconda3/envs/vaibhav/lib/python3.9/site-packages/h5py/_hl/files.py:507\u001b[0m, in \u001b[0;36mFile.__init__\u001b[0;34m(self, name, mode, driver, libver, userblock_size, swmr, rdcc_nslots, rdcc_nbytes, rdcc_w0, track_order, fs_strategy, fs_persist, fs_threshold, fs_page_size, page_buf_size, min_meta_keep, min_raw_keep, locking, **kwds)\u001b[0m\n\u001b[1;32m    <a href='file:///nfshome/deshmukh/miniconda3/envs/vaibhav/lib/python3.9/site-packages/h5py/_hl/files.py?line=501'>502</a>\u001b[0m     fapl \u001b[39m=\u001b[39m make_fapl(driver, libver, rdcc_nslots, rdcc_nbytes, rdcc_w0,\n\u001b[1;32m    <a href='file:///nfshome/deshmukh/miniconda3/envs/vaibhav/lib/python3.9/site-packages/h5py/_hl/files.py?line=502'>503</a>\u001b[0m                      locking, page_buf_size, min_meta_keep, min_raw_keep, \u001b[39m*\u001b[39m\u001b[39m*\u001b[39mkwds)\n\u001b[1;32m    <a href='file:///nfshome/deshmukh/miniconda3/envs/vaibhav/lib/python3.9/site-packages/h5py/_hl/files.py?line=503'>504</a>\u001b[0m     fcpl \u001b[39m=\u001b[39m make_fcpl(track_order\u001b[39m=\u001b[39mtrack_order, fs_strategy\u001b[39m=\u001b[39mfs_strategy,\n\u001b[1;32m    <a href='file:///nfshome/deshmukh/miniconda3/envs/vaibhav/lib/python3.9/site-packages/h5py/_hl/files.py?line=504'>505</a>\u001b[0m                      fs_persist\u001b[39m=\u001b[39mfs_persist, fs_threshold\u001b[39m=\u001b[39mfs_threshold,\n\u001b[1;32m    <a href='file:///nfshome/deshmukh/miniconda3/envs/vaibhav/lib/python3.9/site-packages/h5py/_hl/files.py?line=505'>506</a>\u001b[0m                      fs_page_size\u001b[39m=\u001b[39mfs_page_size)\n\u001b[0;32m--> <a href='file:///nfshome/deshmukh/miniconda3/envs/vaibhav/lib/python3.9/site-packages/h5py/_hl/files.py?line=506'>507</a>\u001b[0m     fid \u001b[39m=\u001b[39m make_fid(name, mode, userblock_size, fapl, fcpl, swmr\u001b[39m=\u001b[39;49mswmr)\n\u001b[1;32m    <a href='file:///nfshome/deshmukh/miniconda3/envs/vaibhav/lib/python3.9/site-packages/h5py/_hl/files.py?line=508'>509</a>\u001b[0m \u001b[39mif\u001b[39;00m \u001b[39misinstance\u001b[39m(libver, \u001b[39mtuple\u001b[39m):\n\u001b[1;32m    <a href='file:///nfshome/deshmukh/miniconda3/envs/vaibhav/lib/python3.9/site-packages/h5py/_hl/files.py?line=509'>510</a>\u001b[0m     \u001b[39mself\u001b[39m\u001b[39m.\u001b[39m_libver \u001b[39m=\u001b[39m libver\n",
      "File \u001b[0;32m~/miniconda3/envs/vaibhav/lib/python3.9/site-packages/h5py/_hl/files.py:220\u001b[0m, in \u001b[0;36mmake_fid\u001b[0;34m(name, mode, userblock_size, fapl, fcpl, swmr)\u001b[0m\n\u001b[1;32m    <a href='file:///nfshome/deshmukh/miniconda3/envs/vaibhav/lib/python3.9/site-packages/h5py/_hl/files.py?line=217'>218</a>\u001b[0m     \u001b[39mif\u001b[39;00m swmr \u001b[39mand\u001b[39;00m swmr_support:\n\u001b[1;32m    <a href='file:///nfshome/deshmukh/miniconda3/envs/vaibhav/lib/python3.9/site-packages/h5py/_hl/files.py?line=218'>219</a>\u001b[0m         flags \u001b[39m|\u001b[39m\u001b[39m=\u001b[39m h5f\u001b[39m.\u001b[39mACC_SWMR_READ\n\u001b[0;32m--> <a href='file:///nfshome/deshmukh/miniconda3/envs/vaibhav/lib/python3.9/site-packages/h5py/_hl/files.py?line=219'>220</a>\u001b[0m     fid \u001b[39m=\u001b[39m h5f\u001b[39m.\u001b[39;49mopen(name, flags, fapl\u001b[39m=\u001b[39;49mfapl)\n\u001b[1;32m    <a href='file:///nfshome/deshmukh/miniconda3/envs/vaibhav/lib/python3.9/site-packages/h5py/_hl/files.py?line=220'>221</a>\u001b[0m \u001b[39melif\u001b[39;00m mode \u001b[39m==\u001b[39m \u001b[39m'\u001b[39m\u001b[39mr+\u001b[39m\u001b[39m'\u001b[39m:\n\u001b[1;32m    <a href='file:///nfshome/deshmukh/miniconda3/envs/vaibhav/lib/python3.9/site-packages/h5py/_hl/files.py?line=221'>222</a>\u001b[0m     fid \u001b[39m=\u001b[39m h5f\u001b[39m.\u001b[39mopen(name, h5f\u001b[39m.\u001b[39mACC_RDWR, fapl\u001b[39m=\u001b[39mfapl)\n",
      "File \u001b[0;32mh5py/_objects.pyx:54\u001b[0m, in \u001b[0;36mh5py._objects.with_phil.wrapper\u001b[0;34m()\u001b[0m\n",
      "File \u001b[0;32mh5py/_objects.pyx:55\u001b[0m, in \u001b[0;36mh5py._objects.with_phil.wrapper\u001b[0;34m()\u001b[0m\n",
      "File \u001b[0;32mh5py/h5f.pyx:106\u001b[0m, in \u001b[0;36mh5py.h5f.open\u001b[0;34m()\u001b[0m\n",
      "\u001b[0;31mOSError\u001b[0m: Unable to open file (file signature not found)"
     ]
    }
   ],
   "source": [
    "job = pr['hena_1_13_rate_1_k_ps']\n",
    "#job.transfer_from_remote()\n",
    "#job.compress()"
   ]
  },
  {
   "cell_type": "code",
   "execution_count": 16,
   "metadata": {},
   "outputs": [
    {
     "data": {
      "text/plain": [
       "'glass'"
      ]
     },
     "execution_count": 16,
     "metadata": {},
     "output_type": "execute_result"
    }
   ],
   "source": [
    "job.copy_to"
   ]
  },
  {
   "cell_type": "code",
   "execution_count": 17,
   "metadata": {},
   "outputs": [
    {
     "ename": "AttributeError",
     "evalue": "'Project' object has no attribute 'rewrite_hdf5'",
     "output_type": "error",
     "traceback": [
      "\u001b[0;31m---------------------------------------------------------------------------\u001b[0m",
      "\u001b[0;31mAttributeError\u001b[0m                            Traceback (most recent call last)",
      "\u001b[1;32m/nfshome/deshmukh/vaibhav/HeNa/analysis_big_glass.ipynb Cell 5'\u001b[0m in \u001b[0;36m<cell line: 1>\u001b[0;34m()\u001b[0m\n\u001b[0;32m----> <a href='vscode-notebook-cell:/nfshome/deshmukh/vaibhav/HeNa/analysis_big_glass.ipynb#ch0000003?line=0'>1</a>\u001b[0m pr\u001b[39m.\u001b[39;49mrewrite_hdf5(job)\n",
      "\u001b[0;31mAttributeError\u001b[0m: 'Project' object has no attribute 'rewrite_hdf5'"
     ]
    }
   ],
   "source": []
  },
  {
   "cell_type": "code",
   "execution_count": 19,
   "metadata": {},
   "outputs": [
    {
     "data": {
      "text/plain": [
       "'/nfshome/deshmukh/pyiron/projects/NASICON/project/hena/hena_1/glass/hena_1_43_rate_1_k_ps_hdf5/hena_1_43_rate_1_k_ps'"
      ]
     },
     "execution_count": 19,
     "metadata": {},
     "output_type": "execute_result"
    }
   ],
   "source": [
    "pr.get_job_working_directory(job_specifier='hena_1_43_rate_1_k_ps')"
   ]
  },
  {
   "cell_type": "code",
   "execution_count": 12,
   "metadata": {},
   "outputs": [
    {
     "ename": "AttributeError",
     "evalue": "'Project' object has no attribute 'rewrite_hdf5'",
     "output_type": "error",
     "traceback": [
      "\u001b[0;31m---------------------------------------------------------------------------\u001b[0m",
      "\u001b[0;31mAttributeError\u001b[0m                            Traceback (most recent call last)",
      "\u001b[1;32m/nfshome/deshmukh/vaibhav/HeNa/analysis_big_glass.ipynb Cell 4'\u001b[0m in \u001b[0;36m<cell line: 1>\u001b[0;34m()\u001b[0m\n\u001b[0;32m----> <a href='vscode-notebook-cell:/nfshome/deshmukh/vaibhav/HeNa/analysis_big_glass.ipynb#ch0000003?line=0'>1</a>\u001b[0m pr\u001b[39m.\u001b[39;49mrewrite_hdf5(job_name\u001b[39m=\u001b[39m\u001b[39m'\u001b[39m\u001b[39mhena_1_43_rate_1_k_ps\u001b[39m\u001b[39m'\u001b[39m)\n",
      "\u001b[0;31mAttributeError\u001b[0m: 'Project' object has no attribute 'rewrite_hdf5'"
     ]
    }
   ],
   "source": [
    "pr.create_hdf(path='/nfshome/deshmukh/pyiron/projects/NASICON/project/hena/hena_1/glass',job_name='hena_1_43_rate_1_k_ps')"
   ]
  }
 ],
 "metadata": {
  "interpreter": {
   "hash": "c5882173ff5685180b15cb907f22c6bef76d5cc8695d1b8791e985617bfa7d2d"
  },
  "kernelspec": {
   "display_name": "Python 3.9.13 ('vaibhav')",
   "language": "python",
   "name": "python3"
  },
  "language_info": {
   "codemirror_mode": {
    "name": "ipython",
    "version": 3
   },
   "file_extension": ".py",
   "mimetype": "text/x-python",
   "name": "python",
   "nbconvert_exporter": "python",
   "pygments_lexer": "ipython3",
   "version": "3.9.13"
  },
  "orig_nbformat": 4
 },
 "nbformat": 4,
 "nbformat_minor": 2
}
