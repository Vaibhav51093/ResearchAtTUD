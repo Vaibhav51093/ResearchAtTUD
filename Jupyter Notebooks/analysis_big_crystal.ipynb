{
 "cells": [
  {
   "cell_type": "code",
   "execution_count": 1,
   "metadata": {},
   "outputs": [],
   "source": [
    "# Direct lammps script implemetation in pyiron \n",
    "from tempfile import tempdir\n",
    "from pyiron import Project\n",
    "import numpy as np\n",
    "import pandas\n",
    "from jinja2 import Template\n",
    "import matplotlib.pyplot as plt \n",
    "import scipy.constants as sc\n",
    "from scipy.integrate import cumtrapz\n",
    "import os\n",
    "import sys\n",
    "sys.path.insert(0, '/nfshome/deshmukh/vaibhav/scripts')\n",
    "import analysis_msd as ms"
   ]
  },
  {
   "cell_type": "code",
   "execution_count": 2,
   "metadata": {},
   "outputs": [],
   "source": [
    "# Project \n",
    "pr = Project(\"/nfshome/deshmukh/pyiron/projects/NASICON/project/hena/hena_1/minimization\")"
   ]
  },
  {
   "cell_type": "code",
   "execution_count": 4,
   "metadata": {},
   "outputs": [],
   "source": [
    "q_rate = [43]#, 47, 4, 13, 42] #, 10, 5, 26, 28, 30, 25] #42\n",
    "q_tem = [523,573,623,673,723,773]    #300 remained\n",
    "import random\n",
    "# Crystal calculations \n",
    "#for i in q_rate: \n",
    "#    for j in q_tem:\n",
    "#        job = pr['hena_1_struct_eq_big_%sk_%s'%(j,i)]\n",
    "#        job.transfer_from_remote()\n",
    "#        job.compress()"
   ]
  },
  {
   "cell_type": "code",
   "execution_count": 5,
   "metadata": {},
   "outputs": [
    {
     "name": "stdout",
     "output_type": "stream",
     "text": [
      "dump_nvt_prod.out\n"
     ]
    }
   ],
   "source": [
    "for i in q_rate:\n",
    "    for j in q_tem: \n",
    "        ms.ovito_msd.diff(job=pr['hena_1_struct_eq_big_%sk_%s'%(j,i)],filename='dump_nvt_prod.out',file_2='msd_na_big_ch_%sk_%s.txt'%(j,i),step=2,dump_write=200,step_ovito=10)"
   ]
  }
 ],
 "metadata": {
  "interpreter": {
   "hash": "c5882173ff5685180b15cb907f22c6bef76d5cc8695d1b8791e985617bfa7d2d"
  },
  "kernelspec": {
   "display_name": "Python 3.9.13 ('vaibhav')",
   "language": "python",
   "name": "python3"
  },
  "language_info": {
   "codemirror_mode": {
    "name": "ipython",
    "version": 3
   },
   "file_extension": ".py",
   "mimetype": "text/x-python",
   "name": "python",
   "nbconvert_exporter": "python",
   "pygments_lexer": "ipython3",
   "version": "3.9.13"
  },
  "orig_nbformat": 4
 },
 "nbformat": 4,
 "nbformat_minor": 2
}
