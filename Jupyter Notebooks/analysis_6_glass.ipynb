{
 "cells": [
  {
   "cell_type": "code",
   "execution_count": 2,
   "metadata": {},
   "outputs": [],
   "source": [
    "from pyiron import Project\n",
    "from pyiron import ase_to_pyiron, pyiron_to_ase\n",
    "import sys  \n",
    "sys.path.insert(0, '/nfshome/deshmukh/vaibhav/scripts')\n",
    "import analysis_msd as ms"
   ]
  },
  {
   "cell_type": "code",
   "execution_count": null,
   "metadata": {},
   "outputs": [],
   "source": [
    "li = [573,623,673,723,773]\n",
    "for i in li:\n",
    "    ms.ovito_msd.diff_2(path_line='/nfshome/deshmukh/pyiron/projects/NASICON/project/hena/hena_2_2/glass/glass_hena_2/glass_6_%s/dump_nvt_prod.out'%i,file_2='msd_na_big_glass_%sk_6.txt'%i,step=2.00, dump_write=200, step_ovito=1)"
   ]
  }
 ],
 "metadata": {
  "interpreter": {
   "hash": "c5882173ff5685180b15cb907f22c6bef76d5cc8695d1b8791e985617bfa7d2d"
  },
  "kernelspec": {
   "display_name": "Python 3.9.13 ('vaibhav')",
   "language": "python",
   "name": "python3"
  },
  "language_info": {
   "codemirror_mode": {
    "name": "ipython",
    "version": 3
   },
   "file_extension": ".py",
   "mimetype": "text/x-python",
   "name": "python",
   "nbconvert_exporter": "python",
   "pygments_lexer": "ipython3",
   "version": "3.9.13"
  },
  "orig_nbformat": 4,
  "vscode": {
   "interpreter": {
    "hash": "c5882173ff5685180b15cb907f22c6bef76d5cc8695d1b8791e985617bfa7d2d"
   }
  }
 },
 "nbformat": 4,
 "nbformat_minor": 2
}
