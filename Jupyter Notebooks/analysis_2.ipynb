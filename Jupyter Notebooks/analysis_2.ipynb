{
 "cells": [
  {
   "cell_type": "code",
   "execution_count": 1,
   "metadata": {},
   "outputs": [],
   "source": [
    "# Structure analysis after mini using lammps CG method for mini \n",
    "# Transfer all the calculations \n",
    "# Import project for post processing \n",
    "import numpy as np\n",
    "%matplotlib inline\n",
    "import matplotlib.pylab as plt\n",
    "from pyiron import Project\n",
    "import lammps_logfile\n",
    "pr = Project(\"/nfshome/deshmukh/pyiron/projects/NASICON/project/hena/hena_2_2/minimization\")"
   ]
  },
  {
   "cell_type": "code",
   "execution_count": 2,
   "metadata": {},
   "outputs": [],
   "source": [
    "# This one will read the lammps log file from zipped file, without extracting the file itself \n",
    "import tarfile\n",
    "import lammps_logfile\n",
    "import os\n",
    "import codecs\n",
    "utf8reader = codecs.getreader('utf-8')\n",
    "\n",
    "# ['Density', 'PotEng', 'Pxx', 'Pxy', 'Pxz', 'Pyy', 'Pyz', 'Pzz', 'Step', 'Temp', 'TotEng', 'Volume']\n",
    "\n",
    "def tar_lammps(job,prop_1,prop_2):\n",
    "    den = []\n",
    "    step = []\n",
    "    job_file_compressed = os.path.join(job.working_directory, [f for f in os.listdir(job.working_directory) if \".tar.bz2\" in f][0])\n",
    "    tar = tarfile.open(job_file_compressed, \"r:bz2\")\n",
    "    for member in tar.getmembers():\n",
    "        if 'log.lammps' == member.name:\n",
    "            f = tar.extractfile(member)\n",
    "            log = lammps_logfile.File(utf8reader(f))\n",
    "            for i in range(log.get_num_partial_logs()):\n",
    "                x = log.get(prop_1, run_num=i)\n",
    "                y = log.get(prop_2, run_num=i)\n",
    "                den.append(y)\n",
    "                step.append(x)\n",
    "    return step, den "
   ]
  },
  {
   "cell_type": "code",
   "execution_count": 3,
   "metadata": {},
   "outputs": [
    {
     "name": "stderr",
     "output_type": "stream",
     "text": [
      "/nfshome/deshmukh/miniconda3/envs/vaibhav/lib/python3.9/site-packages/pysqa/utils/remote.py:235: UserWarning: \n",
      "  warnings.warn(stderr.read().decode())\n",
      "  0%|          | 0/1 [00:00<?, ?it/s]Exception during reset or similar\n",
      "Traceback (most recent call last):\n",
      "  File \"/nfshome/deshmukh/miniconda3/envs/vaibhav/lib/python3.9/site-packages/sqlalchemy/pool/base.py\", line 739, in _finalize_fairy\n",
      "    fairy._reset(pool)\n",
      "  File \"/nfshome/deshmukh/miniconda3/envs/vaibhav/lib/python3.9/site-packages/sqlalchemy/pool/base.py\", line 988, in _reset\n",
      "    pool._dialect.do_rollback(self)\n",
      "  File \"/nfshome/deshmukh/miniconda3/envs/vaibhav/lib/python3.9/site-packages/sqlalchemy/engine/default.py\", line 682, in do_rollback\n",
      "    dbapi_connection.rollback()\n",
      "sqlite3.ProgrammingError: SQLite objects created in a thread can only be used in that same thread. The object was created in thread id 140389203085120 and this is thread id 140384884569856.\n",
      "Exception closing connection <sqlite3.Connection object at 0x7fae6fad4c60>\n",
      "Traceback (most recent call last):\n",
      "  File \"/nfshome/deshmukh/miniconda3/envs/vaibhav/lib/python3.9/site-packages/sqlalchemy/pool/base.py\", line 739, in _finalize_fairy\n",
      "    fairy._reset(pool)\n",
      "  File \"/nfshome/deshmukh/miniconda3/envs/vaibhav/lib/python3.9/site-packages/sqlalchemy/pool/base.py\", line 988, in _reset\n",
      "    pool._dialect.do_rollback(self)\n",
      "  File \"/nfshome/deshmukh/miniconda3/envs/vaibhav/lib/python3.9/site-packages/sqlalchemy/engine/default.py\", line 682, in do_rollback\n",
      "    dbapi_connection.rollback()\n",
      "sqlite3.ProgrammingError: SQLite objects created in a thread can only be used in that same thread. The object was created in thread id 140389203085120 and this is thread id 140384884569856.\n",
      "\n",
      "During handling of the above exception, another exception occurred:\n",
      "\n",
      "Traceback (most recent call last):\n",
      "  File \"/nfshome/deshmukh/miniconda3/envs/vaibhav/lib/python3.9/site-packages/sqlalchemy/pool/base.py\", line 247, in _close_connection\n",
      "    self._dialect.do_close(connection)\n",
      "  File \"/nfshome/deshmukh/miniconda3/envs/vaibhav/lib/python3.9/site-packages/sqlalchemy/engine/default.py\", line 688, in do_close\n",
      "    dbapi_connection.close()\n",
      "sqlite3.ProgrammingError: SQLite objects created in a thread can only be used in that same thread. The object was created in thread id 140389203085120 and this is thread id 140384884569856.\n",
      "Exception during reset or similar\n",
      "Traceback (most recent call last):\n",
      "  File \"/nfshome/deshmukh/miniconda3/envs/vaibhav/lib/python3.9/site-packages/sqlalchemy/pool/base.py\", line 739, in _finalize_fairy\n",
      "    fairy._reset(pool)\n",
      "  File \"/nfshome/deshmukh/miniconda3/envs/vaibhav/lib/python3.9/site-packages/sqlalchemy/pool/base.py\", line 988, in _reset\n",
      "    pool._dialect.do_rollback(self)\n",
      "  File \"/nfshome/deshmukh/miniconda3/envs/vaibhav/lib/python3.9/site-packages/sqlalchemy/engine/default.py\", line 682, in do_rollback\n",
      "    dbapi_connection.rollback()\n",
      "sqlite3.ProgrammingError: SQLite objects created in a thread can only be used in that same thread. The object was created in thread id 140389203085120 and this is thread id 140384884569856.\n",
      "Exception closing connection <sqlite3.Connection object at 0x7fae6fad4d50>\n",
      "Traceback (most recent call last):\n",
      "  File \"/nfshome/deshmukh/miniconda3/envs/vaibhav/lib/python3.9/site-packages/sqlalchemy/pool/base.py\", line 739, in _finalize_fairy\n",
      "    fairy._reset(pool)\n",
      "  File \"/nfshome/deshmukh/miniconda3/envs/vaibhav/lib/python3.9/site-packages/sqlalchemy/pool/base.py\", line 988, in _reset\n",
      "    pool._dialect.do_rollback(self)\n",
      "  File \"/nfshome/deshmukh/miniconda3/envs/vaibhav/lib/python3.9/site-packages/sqlalchemy/engine/default.py\", line 682, in do_rollback\n",
      "    dbapi_connection.rollback()\n",
      "sqlite3.ProgrammingError: SQLite objects created in a thread can only be used in that same thread. The object was created in thread id 140389203085120 and this is thread id 140384884569856.\n",
      "\n",
      "During handling of the above exception, another exception occurred:\n",
      "\n",
      "Traceback (most recent call last):\n",
      "  File \"/nfshome/deshmukh/miniconda3/envs/vaibhav/lib/python3.9/site-packages/sqlalchemy/pool/base.py\", line 247, in _close_connection\n",
      "    self._dialect.do_close(connection)\n",
      "  File \"/nfshome/deshmukh/miniconda3/envs/vaibhav/lib/python3.9/site-packages/sqlalchemy/engine/default.py\", line 688, in do_close\n",
      "    dbapi_connection.close()\n",
      "sqlite3.ProgrammingError: SQLite objects created in a thread can only be used in that same thread. The object was created in thread id 140389203085120 and this is thread id 140384884569856.\n",
      "100%|██████████| 1/1 [01:29<00:00, 89.76s/it]\n",
      "100%|██████████| 1/1 [00:01<00:00,  1.01s/it]\n"
     ]
    },
    {
     "name": "stdout",
     "output_type": "stream",
     "text": [
      "The files are already compressed!\n"
     ]
    },
    {
     "name": "stderr",
     "output_type": "stream",
     "text": [
      "/nfshome/deshmukh/miniconda3/envs/vaibhav/lib/python3.9/site-packages/pysqa/utils/remote.py:235: UserWarning: \n",
      "  warnings.warn(stderr.read().decode())\n",
      "100%|██████████| 1/1 [01:30<00:00, 90.82s/it]\n",
      "100%|██████████| 1/1 [00:01<00:00,  1.12s/it]\n"
     ]
    },
    {
     "name": "stdout",
     "output_type": "stream",
     "text": [
      "The files are already compressed!\n"
     ]
    },
    {
     "name": "stderr",
     "output_type": "stream",
     "text": [
      "/nfshome/deshmukh/miniconda3/envs/vaibhav/lib/python3.9/site-packages/pysqa/utils/remote.py:235: UserWarning: \n",
      "  warnings.warn(stderr.read().decode())\n",
      "100%|██████████| 1/1 [01:27<00:00, 87.69s/it]\n",
      "100%|██████████| 1/1 [00:01<00:00,  1.15s/it]\n"
     ]
    },
    {
     "name": "stdout",
     "output_type": "stream",
     "text": [
      "The files are already compressed!\n"
     ]
    },
    {
     "name": "stderr",
     "output_type": "stream",
     "text": [
      "/nfshome/deshmukh/miniconda3/envs/vaibhav/lib/python3.9/site-packages/pysqa/utils/remote.py:235: UserWarning: \n",
      "  warnings.warn(stderr.read().decode())\n",
      "100%|██████████| 1/1 [01:36<00:00, 96.87s/it]\n",
      "100%|██████████| 1/1 [00:01<00:00,  1.08s/it]\n"
     ]
    },
    {
     "name": "stdout",
     "output_type": "stream",
     "text": [
      "The files are already compressed!\n"
     ]
    },
    {
     "name": "stderr",
     "output_type": "stream",
     "text": [
      "/nfshome/deshmukh/miniconda3/envs/vaibhav/lib/python3.9/site-packages/pysqa/utils/remote.py:235: UserWarning: \n",
      "  warnings.warn(stderr.read().decode())\n",
      "100%|██████████| 1/1 [01:36<00:00, 96.05s/it]\n",
      "100%|██████████| 1/1 [00:01<00:00,  1.08s/it]\n"
     ]
    },
    {
     "name": "stdout",
     "output_type": "stream",
     "text": [
      "The files are already compressed!\n"
     ]
    },
    {
     "name": "stderr",
     "output_type": "stream",
     "text": [
      "/nfshome/deshmukh/miniconda3/envs/vaibhav/lib/python3.9/site-packages/pysqa/utils/remote.py:235: UserWarning: \n",
      "  warnings.warn(stderr.read().decode())\n",
      "100%|██████████| 1/1 [01:44<00:00, 104.25s/it]\n",
      "100%|██████████| 1/1 [00:01<00:00,  1.20s/it]\n"
     ]
    },
    {
     "name": "stdout",
     "output_type": "stream",
     "text": [
      "The files are already compressed!\n"
     ]
    },
    {
     "name": "stderr",
     "output_type": "stream",
     "text": [
      "/nfshome/deshmukh/miniconda3/envs/vaibhav/lib/python3.9/site-packages/pysqa/utils/remote.py:235: UserWarning: \n",
      "  warnings.warn(stderr.read().decode())\n",
      "100%|██████████| 1/1 [01:42<00:00, 102.31s/it]\n",
      "100%|██████████| 1/1 [00:00<00:00,  1.14it/s]\n"
     ]
    },
    {
     "name": "stdout",
     "output_type": "stream",
     "text": [
      "The files are already compressed!\n"
     ]
    },
    {
     "name": "stderr",
     "output_type": "stream",
     "text": [
      "/nfshome/deshmukh/miniconda3/envs/vaibhav/lib/python3.9/site-packages/pysqa/utils/remote.py:235: UserWarning: \n",
      "  warnings.warn(stderr.read().decode())\n",
      "100%|██████████| 1/1 [01:41<00:00, 101.42s/it]\n",
      "100%|██████████| 1/1 [00:00<00:00,  1.45it/s]\n"
     ]
    },
    {
     "name": "stdout",
     "output_type": "stream",
     "text": [
      "The files are already compressed!\n"
     ]
    },
    {
     "name": "stderr",
     "output_type": "stream",
     "text": [
      "/nfshome/deshmukh/miniconda3/envs/vaibhav/lib/python3.9/site-packages/pysqa/utils/remote.py:235: UserWarning: \n",
      "  warnings.warn(stderr.read().decode())\n",
      "100%|██████████| 1/1 [01:45<00:00, 105.46s/it]\n",
      "100%|██████████| 1/1 [00:00<00:00,  1.34it/s]\n"
     ]
    },
    {
     "name": "stdout",
     "output_type": "stream",
     "text": [
      "The files are already compressed!\n"
     ]
    },
    {
     "name": "stderr",
     "output_type": "stream",
     "text": [
      "/nfshome/deshmukh/miniconda3/envs/vaibhav/lib/python3.9/site-packages/pysqa/utils/remote.py:235: UserWarning: \n",
      "  warnings.warn(stderr.read().decode())\n",
      "100%|██████████| 1/1 [01:46<00:00, 106.30s/it]\n",
      "100%|██████████| 1/1 [00:00<00:00,  1.42it/s]\n"
     ]
    },
    {
     "name": "stdout",
     "output_type": "stream",
     "text": [
      "The files are already compressed!\n"
     ]
    },
    {
     "name": "stderr",
     "output_type": "stream",
     "text": [
      "/nfshome/deshmukh/miniconda3/envs/vaibhav/lib/python3.9/site-packages/pysqa/utils/remote.py:235: UserWarning: \n",
      "  warnings.warn(stderr.read().decode())\n",
      "100%|██████████| 1/1 [01:53<00:00, 113.86s/it]\n",
      "100%|██████████| 1/1 [00:01<00:00,  1.44s/it]\n"
     ]
    },
    {
     "name": "stdout",
     "output_type": "stream",
     "text": [
      "The files are already compressed!\n"
     ]
    },
    {
     "name": "stderr",
     "output_type": "stream",
     "text": [
      "/nfshome/deshmukh/miniconda3/envs/vaibhav/lib/python3.9/site-packages/pysqa/utils/remote.py:235: UserWarning: \n",
      "  warnings.warn(stderr.read().decode())\n",
      "100%|██████████| 1/1 [01:45<00:00, 105.93s/it]\n",
      "100%|██████████| 1/1 [00:00<00:00,  1.16it/s]\n"
     ]
    },
    {
     "name": "stdout",
     "output_type": "stream",
     "text": [
      "The files are already compressed!\n"
     ]
    },
    {
     "name": "stderr",
     "output_type": "stream",
     "text": [
      "/nfshome/deshmukh/miniconda3/envs/vaibhav/lib/python3.9/site-packages/pysqa/utils/remote.py:235: UserWarning: \n",
      "  warnings.warn(stderr.read().decode())\n",
      "100%|██████████| 1/1 [01:44<00:00, 104.49s/it]\n",
      "100%|██████████| 1/1 [00:00<00:00,  1.35it/s]\n"
     ]
    },
    {
     "name": "stdout",
     "output_type": "stream",
     "text": [
      "The files are already compressed!\n"
     ]
    },
    {
     "name": "stderr",
     "output_type": "stream",
     "text": [
      "/nfshome/deshmukh/miniconda3/envs/vaibhav/lib/python3.9/site-packages/pysqa/utils/remote.py:235: UserWarning: \n",
      "  warnings.warn(stderr.read().decode())\n",
      "100%|██████████| 1/1 [01:51<00:00, 111.45s/it]\n",
      "100%|██████████| 1/1 [00:00<00:00,  1.41it/s]\n"
     ]
    },
    {
     "name": "stdout",
     "output_type": "stream",
     "text": [
      "The files are already compressed!\n"
     ]
    },
    {
     "name": "stderr",
     "output_type": "stream",
     "text": [
      "/nfshome/deshmukh/miniconda3/envs/vaibhav/lib/python3.9/site-packages/pysqa/utils/remote.py:235: UserWarning: \n",
      "  warnings.warn(stderr.read().decode())\n",
      "100%|██████████| 1/1 [01:41<00:00, 101.25s/it]\n",
      "100%|██████████| 1/1 [00:00<00:00,  1.44it/s]\n"
     ]
    },
    {
     "name": "stdout",
     "output_type": "stream",
     "text": [
      "The files are already compressed!\n"
     ]
    },
    {
     "name": "stderr",
     "output_type": "stream",
     "text": [
      "/nfshome/deshmukh/miniconda3/envs/vaibhav/lib/python3.9/site-packages/pysqa/utils/remote.py:235: UserWarning: \n",
      "  warnings.warn(stderr.read().decode())\n",
      "100%|██████████| 1/1 [01:43<00:00, 103.95s/it]\n",
      "100%|██████████| 1/1 [00:01<00:00,  1.24s/it]\n"
     ]
    },
    {
     "name": "stdout",
     "output_type": "stream",
     "text": [
      "The files are already compressed!\n"
     ]
    },
    {
     "name": "stderr",
     "output_type": "stream",
     "text": [
      "/nfshome/deshmukh/miniconda3/envs/vaibhav/lib/python3.9/site-packages/pysqa/utils/remote.py:235: UserWarning: \n",
      "  warnings.warn(stderr.read().decode())\n",
      "100%|██████████| 1/1 [01:36<00:00, 96.08s/it]\n",
      "100%|██████████| 1/1 [00:01<00:00,  1.54s/it]\n"
     ]
    },
    {
     "name": "stdout",
     "output_type": "stream",
     "text": [
      "The files are already compressed!\n"
     ]
    },
    {
     "name": "stderr",
     "output_type": "stream",
     "text": [
      "/nfshome/deshmukh/miniconda3/envs/vaibhav/lib/python3.9/site-packages/pysqa/utils/remote.py:235: UserWarning: \n",
      "  warnings.warn(stderr.read().decode())\n",
      "100%|██████████| 1/1 [01:37<00:00, 97.80s/it]\n",
      "100%|██████████| 1/1 [00:08<00:00,  8.84s/it]\n"
     ]
    },
    {
     "name": "stdout",
     "output_type": "stream",
     "text": [
      "The files are already compressed!\n"
     ]
    },
    {
     "name": "stderr",
     "output_type": "stream",
     "text": [
      "/nfshome/deshmukh/miniconda3/envs/vaibhav/lib/python3.9/site-packages/pysqa/utils/remote.py:235: UserWarning: \n",
      "  warnings.warn(stderr.read().decode())\n",
      "100%|██████████| 1/1 [01:37<00:00, 97.96s/it]\n",
      "100%|██████████| 1/1 [00:01<00:00,  1.26s/it]\n"
     ]
    },
    {
     "name": "stdout",
     "output_type": "stream",
     "text": [
      "The files are already compressed!\n"
     ]
    },
    {
     "name": "stderr",
     "output_type": "stream",
     "text": [
      "/nfshome/deshmukh/miniconda3/envs/vaibhav/lib/python3.9/site-packages/pysqa/utils/remote.py:235: UserWarning: \n",
      "  warnings.warn(stderr.read().decode())\n",
      "100%|██████████| 1/1 [01:38<00:00, 98.94s/it]\n",
      "100%|██████████| 1/1 [00:01<00:00,  1.33s/it]\n"
     ]
    },
    {
     "name": "stdout",
     "output_type": "stream",
     "text": [
      "The files are already compressed!\n"
     ]
    },
    {
     "name": "stderr",
     "output_type": "stream",
     "text": [
      "/nfshome/deshmukh/miniconda3/envs/vaibhav/lib/python3.9/site-packages/pysqa/utils/remote.py:235: UserWarning: \n",
      "  warnings.warn(stderr.read().decode())\n",
      "100%|██████████| 1/1 [01:44<00:00, 104.49s/it]\n",
      "100%|██████████| 1/1 [00:01<00:00,  1.36s/it]\n"
     ]
    },
    {
     "name": "stdout",
     "output_type": "stream",
     "text": [
      "The files are already compressed!\n"
     ]
    },
    {
     "name": "stderr",
     "output_type": "stream",
     "text": [
      "/nfshome/deshmukh/miniconda3/envs/vaibhav/lib/python3.9/site-packages/pysqa/utils/remote.py:235: UserWarning: \n",
      "  warnings.warn(stderr.read().decode())\n",
      "100%|██████████| 1/1 [01:40<00:00, 100.41s/it]\n",
      "100%|██████████| 1/1 [00:01<00:00,  1.73s/it]\n"
     ]
    },
    {
     "name": "stdout",
     "output_type": "stream",
     "text": [
      "The files are already compressed!\n"
     ]
    },
    {
     "name": "stderr",
     "output_type": "stream",
     "text": [
      "/nfshome/deshmukh/miniconda3/envs/vaibhav/lib/python3.9/site-packages/pysqa/utils/remote.py:235: UserWarning: \n",
      "  warnings.warn(stderr.read().decode())\n",
      "100%|██████████| 1/1 [01:44<00:00, 104.37s/it]\n",
      "100%|██████████| 1/1 [00:01<00:00,  1.36s/it]\n"
     ]
    },
    {
     "name": "stdout",
     "output_type": "stream",
     "text": [
      "The files are already compressed!\n"
     ]
    },
    {
     "name": "stderr",
     "output_type": "stream",
     "text": [
      "/nfshome/deshmukh/miniconda3/envs/vaibhav/lib/python3.9/site-packages/pysqa/utils/remote.py:235: UserWarning: \n",
      "  warnings.warn(stderr.read().decode())\n",
      "100%|██████████| 1/1 [01:42<00:00, 102.48s/it]\n",
      "100%|██████████| 1/1 [00:00<00:00,  1.44it/s]\n"
     ]
    },
    {
     "name": "stdout",
     "output_type": "stream",
     "text": [
      "The files are already compressed!\n"
     ]
    },
    {
     "name": "stderr",
     "output_type": "stream",
     "text": [
      "/nfshome/deshmukh/miniconda3/envs/vaibhav/lib/python3.9/site-packages/pysqa/utils/remote.py:235: UserWarning: \n",
      "  warnings.warn(stderr.read().decode())\n",
      "100%|██████████| 1/1 [01:43<00:00, 103.17s/it]\n",
      "100%|██████████| 1/1 [00:00<00:00,  1.33it/s]\n"
     ]
    },
    {
     "name": "stdout",
     "output_type": "stream",
     "text": [
      "The files are already compressed!\n"
     ]
    },
    {
     "name": "stderr",
     "output_type": "stream",
     "text": [
      "/nfshome/deshmukh/miniconda3/envs/vaibhav/lib/python3.9/site-packages/pysqa/utils/remote.py:235: UserWarning: \n",
      "  warnings.warn(stderr.read().decode())\n",
      "100%|██████████| 1/1 [01:40<00:00, 100.95s/it]\n",
      "100%|██████████| 1/1 [00:00<00:00,  1.16it/s]\n"
     ]
    },
    {
     "name": "stdout",
     "output_type": "stream",
     "text": [
      "The files are already compressed!\n"
     ]
    },
    {
     "name": "stderr",
     "output_type": "stream",
     "text": [
      "/nfshome/deshmukh/miniconda3/envs/vaibhav/lib/python3.9/site-packages/pysqa/utils/remote.py:235: UserWarning: \n",
      "  warnings.warn(stderr.read().decode())\n",
      "100%|██████████| 1/1 [01:44<00:00, 104.49s/it]\n",
      "100%|██████████| 1/1 [00:01<00:00,  1.01s/it]\n"
     ]
    },
    {
     "name": "stdout",
     "output_type": "stream",
     "text": [
      "The files are already compressed!\n"
     ]
    },
    {
     "name": "stderr",
     "output_type": "stream",
     "text": [
      "/nfshome/deshmukh/miniconda3/envs/vaibhav/lib/python3.9/site-packages/pysqa/utils/remote.py:235: UserWarning: \n",
      "  warnings.warn(stderr.read().decode())\n",
      "100%|██████████| 1/1 [01:46<00:00, 106.78s/it]\n",
      "100%|██████████| 1/1 [00:01<00:00,  1.30s/it]\n"
     ]
    },
    {
     "name": "stdout",
     "output_type": "stream",
     "text": [
      "The files are already compressed!\n"
     ]
    },
    {
     "name": "stderr",
     "output_type": "stream",
     "text": [
      "/nfshome/deshmukh/miniconda3/envs/vaibhav/lib/python3.9/site-packages/pysqa/utils/remote.py:235: UserWarning: \n",
      "  warnings.warn(stderr.read().decode())\n",
      "100%|██████████| 1/1 [01:47<00:00, 107.75s/it]\n",
      "100%|██████████| 1/1 [00:00<00:00,  1.31it/s]\n"
     ]
    },
    {
     "name": "stdout",
     "output_type": "stream",
     "text": [
      "The files are already compressed!\n"
     ]
    },
    {
     "name": "stderr",
     "output_type": "stream",
     "text": [
      "/nfshome/deshmukh/miniconda3/envs/vaibhav/lib/python3.9/site-packages/pysqa/utils/remote.py:235: UserWarning: \n",
      "  warnings.warn(stderr.read().decode())\n",
      "100%|██████████| 1/1 [01:39<00:00, 99.64s/it]\n",
      "100%|██████████| 1/1 [00:00<00:00,  1.45it/s]\n"
     ]
    },
    {
     "name": "stdout",
     "output_type": "stream",
     "text": [
      "The files are already compressed!\n"
     ]
    },
    {
     "name": "stderr",
     "output_type": "stream",
     "text": [
      "/nfshome/deshmukh/miniconda3/envs/vaibhav/lib/python3.9/site-packages/pysqa/utils/remote.py:235: UserWarning: \n",
      "  warnings.warn(stderr.read().decode())\n",
      "100%|██████████| 1/1 [01:42<00:00, 102.25s/it]\n",
      "100%|██████████| 1/1 [00:01<00:00,  1.35s/it]\n"
     ]
    },
    {
     "name": "stdout",
     "output_type": "stream",
     "text": [
      "The files are already compressed!\n"
     ]
    },
    {
     "name": "stderr",
     "output_type": "stream",
     "text": [
      "/nfshome/deshmukh/miniconda3/envs/vaibhav/lib/python3.9/site-packages/pysqa/utils/remote.py:235: UserWarning: \n",
      "  warnings.warn(stderr.read().decode())\n",
      "100%|██████████| 1/1 [01:41<00:00, 101.01s/it]\n",
      "100%|██████████| 1/1 [00:01<00:00,  1.35s/it]\n"
     ]
    },
    {
     "name": "stdout",
     "output_type": "stream",
     "text": [
      "The files are already compressed!\n"
     ]
    },
    {
     "name": "stderr",
     "output_type": "stream",
     "text": [
      "/nfshome/deshmukh/miniconda3/envs/vaibhav/lib/python3.9/site-packages/pysqa/utils/remote.py:235: UserWarning: \n",
      "  warnings.warn(stderr.read().decode())\n",
      "100%|██████████| 1/1 [01:48<00:00, 108.55s/it]\n",
      "100%|██████████| 1/1 [00:01<00:00,  1.09s/it]\n"
     ]
    },
    {
     "name": "stdout",
     "output_type": "stream",
     "text": [
      "The files are already compressed!\n"
     ]
    },
    {
     "name": "stderr",
     "output_type": "stream",
     "text": [
      "/nfshome/deshmukh/miniconda3/envs/vaibhav/lib/python3.9/site-packages/pysqa/utils/remote.py:235: UserWarning: \n",
      "  warnings.warn(stderr.read().decode())\n",
      "100%|██████████| 1/1 [01:46<00:00, 106.24s/it]\n",
      "100%|██████████| 1/1 [00:00<00:00,  1.39it/s]\n"
     ]
    },
    {
     "name": "stdout",
     "output_type": "stream",
     "text": [
      "The files are already compressed!\n"
     ]
    },
    {
     "name": "stderr",
     "output_type": "stream",
     "text": [
      "/nfshome/deshmukh/miniconda3/envs/vaibhav/lib/python3.9/site-packages/pysqa/utils/remote.py:235: UserWarning: \n",
      "  warnings.warn(stderr.read().decode())\n",
      "100%|██████████| 1/1 [01:43<00:00, 103.88s/it]\n",
      "100%|██████████| 1/1 [00:00<00:00,  1.43it/s]\n"
     ]
    },
    {
     "name": "stdout",
     "output_type": "stream",
     "text": [
      "The files are already compressed!\n"
     ]
    },
    {
     "name": "stderr",
     "output_type": "stream",
     "text": [
      "/nfshome/deshmukh/miniconda3/envs/vaibhav/lib/python3.9/site-packages/pysqa/utils/remote.py:235: UserWarning: \n",
      "  warnings.warn(stderr.read().decode())\n",
      "100%|██████████| 1/1 [01:48<00:00, 108.60s/it]\n",
      "100%|██████████| 1/1 [00:01<00:00,  1.28s/it]\n"
     ]
    },
    {
     "name": "stdout",
     "output_type": "stream",
     "text": [
      "The files are already compressed!\n"
     ]
    },
    {
     "name": "stderr",
     "output_type": "stream",
     "text": [
      "/nfshome/deshmukh/miniconda3/envs/vaibhav/lib/python3.9/site-packages/pysqa/utils/remote.py:235: UserWarning: \n",
      "  warnings.warn(stderr.read().decode())\n",
      "100%|██████████| 1/1 [01:52<00:00, 112.93s/it]\n",
      "100%|██████████| 1/1 [00:01<00:00,  1.16s/it]\n"
     ]
    },
    {
     "name": "stdout",
     "output_type": "stream",
     "text": [
      "The files are already compressed!\n"
     ]
    },
    {
     "name": "stderr",
     "output_type": "stream",
     "text": [
      "/nfshome/deshmukh/miniconda3/envs/vaibhav/lib/python3.9/site-packages/pysqa/utils/remote.py:235: UserWarning: \n",
      "  warnings.warn(stderr.read().decode())\n",
      "100%|██████████| 1/1 [01:50<00:00, 110.98s/it]\n",
      "100%|██████████| 1/1 [00:01<00:00,  1.25s/it]\n"
     ]
    },
    {
     "name": "stdout",
     "output_type": "stream",
     "text": [
      "The files are already compressed!\n"
     ]
    },
    {
     "name": "stderr",
     "output_type": "stream",
     "text": [
      "/nfshome/deshmukh/miniconda3/envs/vaibhav/lib/python3.9/site-packages/pysqa/utils/remote.py:235: UserWarning: \n",
      "  warnings.warn(stderr.read().decode())\n",
      "100%|██████████| 1/1 [01:43<00:00, 103.60s/it]\n",
      "100%|██████████| 1/1 [00:00<00:00,  1.49it/s]\n"
     ]
    },
    {
     "name": "stdout",
     "output_type": "stream",
     "text": [
      "The files are already compressed!\n"
     ]
    },
    {
     "name": "stderr",
     "output_type": "stream",
     "text": [
      "/nfshome/deshmukh/miniconda3/envs/vaibhav/lib/python3.9/site-packages/pysqa/utils/remote.py:235: UserWarning: \n",
      "  warnings.warn(stderr.read().decode())\n",
      "100%|██████████| 1/1 [01:48<00:00, 108.41s/it]\n",
      "100%|██████████| 1/1 [00:01<00:00,  1.35s/it]\n"
     ]
    },
    {
     "name": "stdout",
     "output_type": "stream",
     "text": [
      "The files are already compressed!\n"
     ]
    },
    {
     "name": "stderr",
     "output_type": "stream",
     "text": [
      "/nfshome/deshmukh/miniconda3/envs/vaibhav/lib/python3.9/site-packages/pysqa/utils/remote.py:235: UserWarning: \n",
      "  warnings.warn(stderr.read().decode())\n",
      "100%|██████████| 1/1 [01:46<00:00, 106.88s/it]\n",
      "100%|██████████| 1/1 [00:01<00:00,  1.33s/it]\n"
     ]
    },
    {
     "name": "stdout",
     "output_type": "stream",
     "text": [
      "The files are already compressed!\n"
     ]
    },
    {
     "name": "stderr",
     "output_type": "stream",
     "text": [
      "/nfshome/deshmukh/miniconda3/envs/vaibhav/lib/python3.9/site-packages/pysqa/utils/remote.py:235: UserWarning: \n",
      "  warnings.warn(stderr.read().decode())\n",
      "100%|██████████| 1/1 [01:43<00:00, 103.11s/it]\n",
      "100%|██████████| 1/1 [00:00<00:00,  1.42it/s]\n"
     ]
    },
    {
     "name": "stdout",
     "output_type": "stream",
     "text": [
      "The files are already compressed!\n"
     ]
    },
    {
     "name": "stderr",
     "output_type": "stream",
     "text": [
      "/nfshome/deshmukh/miniconda3/envs/vaibhav/lib/python3.9/site-packages/pysqa/utils/remote.py:235: UserWarning: \n",
      "  warnings.warn(stderr.read().decode())\n",
      "100%|██████████| 1/1 [01:50<00:00, 110.26s/it]\n",
      "100%|██████████| 1/1 [00:00<00:00,  1.35it/s]\n"
     ]
    },
    {
     "name": "stdout",
     "output_type": "stream",
     "text": [
      "The files are already compressed!\n"
     ]
    },
    {
     "name": "stderr",
     "output_type": "stream",
     "text": [
      "/nfshome/deshmukh/miniconda3/envs/vaibhav/lib/python3.9/site-packages/pysqa/utils/remote.py:235: UserWarning: \n",
      "  warnings.warn(stderr.read().decode())\n",
      "100%|██████████| 1/1 [01:45<00:00, 105.56s/it]\n",
      "100%|██████████| 1/1 [00:00<00:00,  1.31it/s]\n"
     ]
    },
    {
     "name": "stdout",
     "output_type": "stream",
     "text": [
      "The files are already compressed!\n"
     ]
    },
    {
     "name": "stderr",
     "output_type": "stream",
     "text": [
      "/nfshome/deshmukh/miniconda3/envs/vaibhav/lib/python3.9/site-packages/pysqa/utils/remote.py:235: UserWarning: \n",
      "  warnings.warn(stderr.read().decode())\n",
      "100%|██████████| 1/1 [01:47<00:00, 108.00s/it]\n",
      "100%|██████████| 1/1 [00:00<00:00,  1.39it/s]\n"
     ]
    },
    {
     "name": "stdout",
     "output_type": "stream",
     "text": [
      "The files are already compressed!\n"
     ]
    },
    {
     "name": "stderr",
     "output_type": "stream",
     "text": [
      "/nfshome/deshmukh/miniconda3/envs/vaibhav/lib/python3.9/site-packages/pysqa/utils/remote.py:235: UserWarning: \n",
      "  warnings.warn(stderr.read().decode())\n",
      "100%|██████████| 1/1 [01:44<00:00, 104.39s/it]\n",
      "100%|██████████| 1/1 [00:00<00:00,  1.23it/s]\n"
     ]
    },
    {
     "name": "stdout",
     "output_type": "stream",
     "text": [
      "The files are already compressed!\n"
     ]
    },
    {
     "name": "stderr",
     "output_type": "stream",
     "text": [
      "/nfshome/deshmukh/miniconda3/envs/vaibhav/lib/python3.9/site-packages/pysqa/utils/remote.py:235: UserWarning: \n",
      "  warnings.warn(stderr.read().decode())\n",
      "100%|██████████| 1/1 [01:42<00:00, 102.72s/it]\n",
      "100%|██████████| 1/1 [00:01<00:00,  1.08s/it]\n"
     ]
    },
    {
     "name": "stdout",
     "output_type": "stream",
     "text": [
      "The files are already compressed!\n"
     ]
    },
    {
     "name": "stderr",
     "output_type": "stream",
     "text": [
      "/nfshome/deshmukh/miniconda3/envs/vaibhav/lib/python3.9/site-packages/pysqa/utils/remote.py:235: UserWarning: \n",
      "  warnings.warn(stderr.read().decode())\n",
      "100%|██████████| 1/1 [01:38<00:00, 98.91s/it]\n",
      "100%|██████████| 1/1 [00:01<00:00,  1.01s/it]\n"
     ]
    },
    {
     "name": "stdout",
     "output_type": "stream",
     "text": [
      "The files are already compressed!\n"
     ]
    },
    {
     "name": "stderr",
     "output_type": "stream",
     "text": [
      "/nfshome/deshmukh/miniconda3/envs/vaibhav/lib/python3.9/site-packages/pysqa/utils/remote.py:235: UserWarning: \n",
      "  warnings.warn(stderr.read().decode())\n",
      "100%|██████████| 1/1 [01:49<00:00, 109.58s/it]\n",
      "100%|██████████| 1/1 [00:01<00:00,  1.20s/it]\n"
     ]
    },
    {
     "name": "stdout",
     "output_type": "stream",
     "text": [
      "The files are already compressed!\n"
     ]
    },
    {
     "name": "stderr",
     "output_type": "stream",
     "text": [
      "/nfshome/deshmukh/miniconda3/envs/vaibhav/lib/python3.9/site-packages/pysqa/utils/remote.py:235: UserWarning: \n",
      "  warnings.warn(stderr.read().decode())\n",
      "100%|██████████| 1/1 [01:47<00:00, 107.93s/it]\n",
      "100%|██████████| 1/1 [00:00<00:00,  1.04it/s]\n"
     ]
    },
    {
     "name": "stdout",
     "output_type": "stream",
     "text": [
      "The files are already compressed!\n"
     ]
    },
    {
     "name": "stderr",
     "output_type": "stream",
     "text": [
      "/nfshome/deshmukh/miniconda3/envs/vaibhav/lib/python3.9/site-packages/pysqa/utils/remote.py:235: UserWarning: \n",
      "  warnings.warn(stderr.read().decode())\n",
      "100%|██████████| 1/1 [01:48<00:00, 108.14s/it]\n",
      "100%|██████████| 1/1 [00:00<00:00,  1.42it/s]\n"
     ]
    },
    {
     "name": "stdout",
     "output_type": "stream",
     "text": [
      "The files are already compressed!\n"
     ]
    },
    {
     "name": "stderr",
     "output_type": "stream",
     "text": [
      "/nfshome/deshmukh/miniconda3/envs/vaibhav/lib/python3.9/site-packages/pysqa/utils/remote.py:235: UserWarning: \n",
      "  warnings.warn(stderr.read().decode())\n",
      "100%|██████████| 1/1 [01:42<00:00, 102.78s/it]\n",
      "100%|██████████| 1/1 [00:01<00:00,  1.06s/it]\n"
     ]
    },
    {
     "name": "stdout",
     "output_type": "stream",
     "text": [
      "The files are already compressed!\n"
     ]
    },
    {
     "name": "stderr",
     "output_type": "stream",
     "text": [
      "/nfshome/deshmukh/miniconda3/envs/vaibhav/lib/python3.9/site-packages/pysqa/utils/remote.py:235: UserWarning: \n",
      "  warnings.warn(stderr.read().decode())\n",
      "100%|██████████| 1/1 [01:41<00:00, 101.23s/it]\n",
      "100%|██████████| 1/1 [00:01<00:00,  1.28s/it]\n"
     ]
    },
    {
     "name": "stdout",
     "output_type": "stream",
     "text": [
      "The files are already compressed!\n"
     ]
    },
    {
     "name": "stderr",
     "output_type": "stream",
     "text": [
      "/nfshome/deshmukh/miniconda3/envs/vaibhav/lib/python3.9/site-packages/pysqa/utils/remote.py:235: UserWarning: \n",
      "  warnings.warn(stderr.read().decode())\n",
      "100%|██████████| 1/1 [01:42<00:00, 102.76s/it]\n",
      "100%|██████████| 1/1 [00:00<00:00,  1.12it/s]\n"
     ]
    },
    {
     "name": "stdout",
     "output_type": "stream",
     "text": [
      "The files are already compressed!\n"
     ]
    },
    {
     "name": "stderr",
     "output_type": "stream",
     "text": [
      "/nfshome/deshmukh/miniconda3/envs/vaibhav/lib/python3.9/site-packages/pysqa/utils/remote.py:235: UserWarning: \n",
      "  warnings.warn(stderr.read().decode())\n",
      "100%|██████████| 1/1 [01:42<00:00, 102.66s/it]\n",
      "100%|██████████| 1/1 [00:00<00:00,  1.13it/s]\n"
     ]
    },
    {
     "name": "stdout",
     "output_type": "stream",
     "text": [
      "The files are already compressed!\n"
     ]
    },
    {
     "name": "stderr",
     "output_type": "stream",
     "text": [
      "/nfshome/deshmukh/miniconda3/envs/vaibhav/lib/python3.9/site-packages/pysqa/utils/remote.py:235: UserWarning: \n",
      "  warnings.warn(stderr.read().decode())\n",
      "100%|██████████| 1/1 [01:51<00:00, 111.74s/it]\n",
      "100%|██████████| 1/1 [00:00<00:00,  1.33it/s]\n"
     ]
    },
    {
     "name": "stdout",
     "output_type": "stream",
     "text": [
      "The files are already compressed!\n"
     ]
    },
    {
     "name": "stderr",
     "output_type": "stream",
     "text": [
      "/nfshome/deshmukh/miniconda3/envs/vaibhav/lib/python3.9/site-packages/pysqa/utils/remote.py:235: UserWarning: \n",
      "  warnings.warn(stderr.read().decode())\n",
      "100%|██████████| 1/1 [01:45<00:00, 105.94s/it]\n",
      "100%|██████████| 1/1 [00:01<00:00,  1.29s/it]\n"
     ]
    },
    {
     "name": "stdout",
     "output_type": "stream",
     "text": [
      "The files are already compressed!\n"
     ]
    },
    {
     "name": "stderr",
     "output_type": "stream",
     "text": [
      "/nfshome/deshmukh/miniconda3/envs/vaibhav/lib/python3.9/site-packages/pysqa/utils/remote.py:235: UserWarning: \n",
      "  warnings.warn(stderr.read().decode())\n",
      "100%|██████████| 1/1 [01:48<00:00, 108.91s/it]\n",
      "100%|██████████| 1/1 [00:00<00:00,  1.34it/s]\n"
     ]
    },
    {
     "name": "stdout",
     "output_type": "stream",
     "text": [
      "The files are already compressed!\n"
     ]
    },
    {
     "name": "stderr",
     "output_type": "stream",
     "text": [
      "/nfshome/deshmukh/miniconda3/envs/vaibhav/lib/python3.9/site-packages/pysqa/utils/remote.py:235: UserWarning: \n",
      "  warnings.warn(stderr.read().decode())\n",
      "100%|██████████| 1/1 [01:54<00:00, 114.11s/it]\n",
      "100%|██████████| 1/1 [00:01<00:00,  1.33s/it]\n"
     ]
    },
    {
     "name": "stdout",
     "output_type": "stream",
     "text": [
      "The files are already compressed!\n"
     ]
    },
    {
     "name": "stderr",
     "output_type": "stream",
     "text": [
      "/nfshome/deshmukh/miniconda3/envs/vaibhav/lib/python3.9/site-packages/pysqa/utils/remote.py:235: UserWarning: \n",
      "  warnings.warn(stderr.read().decode())\n",
      "100%|██████████| 1/1 [01:49<00:00, 109.19s/it]\n",
      "100%|██████████| 1/1 [00:01<00:00,  1.30s/it]\n"
     ]
    },
    {
     "name": "stdout",
     "output_type": "stream",
     "text": [
      "The files are already compressed!\n"
     ]
    },
    {
     "name": "stderr",
     "output_type": "stream",
     "text": [
      "/nfshome/deshmukh/miniconda3/envs/vaibhav/lib/python3.9/site-packages/pysqa/utils/remote.py:235: UserWarning: \n",
      "  warnings.warn(stderr.read().decode())\n",
      "100%|██████████| 1/1 [01:49<00:00, 109.93s/it]\n",
      "100%|██████████| 1/1 [00:00<00:00,  1.23it/s]\n"
     ]
    },
    {
     "name": "stdout",
     "output_type": "stream",
     "text": [
      "The files are already compressed!\n"
     ]
    },
    {
     "name": "stderr",
     "output_type": "stream",
     "text": [
      "/nfshome/deshmukh/miniconda3/envs/vaibhav/lib/python3.9/site-packages/pysqa/utils/remote.py:235: UserWarning: \n",
      "  warnings.warn(stderr.read().decode())\n",
      "100%|██████████| 1/1 [01:47<00:00, 107.50s/it]\n",
      "100%|██████████| 1/1 [00:01<00:00,  1.11s/it]\n"
     ]
    },
    {
     "name": "stdout",
     "output_type": "stream",
     "text": [
      "The files are already compressed!\n"
     ]
    },
    {
     "name": "stderr",
     "output_type": "stream",
     "text": [
      "/nfshome/deshmukh/miniconda3/envs/vaibhav/lib/python3.9/site-packages/pysqa/utils/remote.py:235: UserWarning: \n",
      "  warnings.warn(stderr.read().decode())\n",
      "100%|██████████| 1/1 [01:45<00:00, 105.15s/it]\n",
      "100%|██████████| 1/1 [00:01<00:00,  1.24s/it]\n"
     ]
    },
    {
     "name": "stdout",
     "output_type": "stream",
     "text": [
      "The files are already compressed!\n"
     ]
    },
    {
     "name": "stderr",
     "output_type": "stream",
     "text": [
      "/nfshome/deshmukh/miniconda3/envs/vaibhav/lib/python3.9/site-packages/pysqa/utils/remote.py:235: UserWarning: \n",
      "  warnings.warn(stderr.read().decode())\n",
      "100%|██████████| 1/1 [01:36<00:00, 96.11s/it]\n",
      "100%|██████████| 1/1 [00:01<00:00,  1.36s/it]\n"
     ]
    },
    {
     "name": "stdout",
     "output_type": "stream",
     "text": [
      "The files are already compressed!\n"
     ]
    },
    {
     "name": "stderr",
     "output_type": "stream",
     "text": [
      "/nfshome/deshmukh/miniconda3/envs/vaibhav/lib/python3.9/site-packages/pysqa/utils/remote.py:235: UserWarning: \n",
      "  warnings.warn(stderr.read().decode())\n",
      "100%|██████████| 1/1 [01:36<00:00, 96.07s/it]\n",
      "100%|██████████| 1/1 [00:01<00:00,  1.35s/it]\n"
     ]
    },
    {
     "name": "stdout",
     "output_type": "stream",
     "text": [
      "The files are already compressed!\n"
     ]
    },
    {
     "name": "stderr",
     "output_type": "stream",
     "text": [
      "/nfshome/deshmukh/miniconda3/envs/vaibhav/lib/python3.9/site-packages/pysqa/utils/remote.py:235: UserWarning: \n",
      "  warnings.warn(stderr.read().decode())\n",
      "100%|██████████| 1/1 [01:00<00:00, 60.90s/it]\n",
      "100%|██████████| 1/1 [00:00<00:00,  1.37it/s]\n"
     ]
    },
    {
     "name": "stdout",
     "output_type": "stream",
     "text": [
      "The files are already compressed!\n"
     ]
    }
   ],
   "source": [
    "q_rate = [6, 25,  4, 41, 20, 28, 30, 35, 45, 34, 49] #6\n",
    "q_tem = [523,573,623,673,723,773]\n",
    "   \n",
    "import random\n",
    "# Crystal calculations \n",
    "for i in q_rate: \n",
    "    for j in q_tem:\n",
    "        job = pr['hena_1_struct_eq_%sk_%s'%(j,i)]\n",
    "        job.transfer_from_remote()\n",
    "        job.compress()"
   ]
  },
  {
   "cell_type": "code",
   "execution_count": 3,
   "metadata": {},
   "outputs": [],
   "source": [
    "list = [6,25,4,41,20,28,30,35,45,34,49] # 6 is already transfered \n",
    "#for i in list:\n",
    "#    job = pr['hena_1_struct_eq_300k_%s'%i]\n",
    "#    job.transfer_from_remote()\n",
    "#    job.compress()"
   ]
  },
  {
   "cell_type": "code",
   "execution_count": 4,
   "metadata": {},
   "outputs": [],
   "source": [
    "job_1 = pr['hena_1_struct_eq_300k_6']\n",
    "step,den = tar_lammps(job_1,\"Step\",\"Density\")"
   ]
  },
  {
   "cell_type": "code",
   "execution_count": 5,
   "metadata": {},
   "outputs": [],
   "source": [
    "job_2 = pr['hena_1_struct_eq_300k_25']\n",
    "step_2,den_2 = tar_lammps(job_2,\"Step\",\"Density\")"
   ]
  },
  {
   "cell_type": "code",
   "execution_count": 6,
   "metadata": {},
   "outputs": [],
   "source": [
    "job_3 = pr['hena_1_struct_eq_300k_4']\n",
    "step_3,den_3 = tar_lammps(job_3,\"Step\",\"Density\")"
   ]
  },
  {
   "cell_type": "code",
   "execution_count": 7,
   "metadata": {},
   "outputs": [],
   "source": [
    "job_4 = pr['hena_1_struct_eq_300k_41']\n",
    "step_4,den_4 = tar_lammps(job_4,\"Step\",\"Density\")"
   ]
  },
  {
   "cell_type": "code",
   "execution_count": 8,
   "metadata": {},
   "outputs": [],
   "source": [
    "job_5 = pr['hena_1_struct_eq_300k_20']\n",
    "step_5,den_5 = tar_lammps(job_5,\"Step\",\"Density\")"
   ]
  },
  {
   "cell_type": "code",
   "execution_count": 9,
   "metadata": {},
   "outputs": [],
   "source": [
    "job_6 = pr['hena_1_struct_eq_300k_28']\n",
    "step_6,den_6 = tar_lammps(job_6,\"Step\",\"Density\")"
   ]
  },
  {
   "cell_type": "code",
   "execution_count": 10,
   "metadata": {},
   "outputs": [],
   "source": [
    "job_7 = pr['hena_1_struct_eq_300k_30']\n",
    "step_7,den_7 = tar_lammps(job_7,\"Step\",\"Density\")\n",
    "#step,volume = tar_lammps(job_1,\"Step\",\"PotEng\") "
   ]
  },
  {
   "cell_type": "code",
   "execution_count": 11,
   "metadata": {},
   "outputs": [],
   "source": [
    "job_8 = pr['hena_1_struct_eq_300k_35']\n",
    "step_8,den_8 = tar_lammps(job_8,\"Step\",\"Density\")"
   ]
  },
  {
   "cell_type": "code",
   "execution_count": 12,
   "metadata": {},
   "outputs": [],
   "source": [
    "job_9 = pr['hena_1_struct_eq_300k_45']\n",
    "step_9,den_9 = tar_lammps(job_9,\"Step\",\"Density\")"
   ]
  },
  {
   "cell_type": "code",
   "execution_count": 13,
   "metadata": {},
   "outputs": [],
   "source": [
    "job_10 = pr['hena_1_struct_eq_300k_34']\n",
    "step_10,den_10 = tar_lammps(job_10,\"Step\",\"Density\")"
   ]
  },
  {
   "cell_type": "code",
   "execution_count": 14,
   "metadata": {},
   "outputs": [],
   "source": [
    "job_11 = pr['hena_1_struct_eq_300k_49']\n",
    "step_11,den_11 = tar_lammps(job_11,\"Step\",\"Density\")"
   ]
  },
  {
   "cell_type": "code",
   "execution_count": 15,
   "metadata": {},
   "outputs": [
    {
     "name": "stdout",
     "output_type": "stream",
     "text": [
      "3.212415580183333 0.0093150196779279\n"
     ]
    }
   ],
   "source": [
    "# Avg density \n",
    "# Plot running avg. \n",
    "print(np.mean(den[1][5000:17000]), np.std(den[1][5000:17000]))"
   ]
  }
 ],
 "metadata": {
  "interpreter": {
   "hash": "c5882173ff5685180b15cb907f22c6bef76d5cc8695d1b8791e985617bfa7d2d"
  },
  "kernelspec": {
   "display_name": "Python 3.9.13 ('vaibhav')",
   "language": "python",
   "name": "python3"
  },
  "language_info": {
   "codemirror_mode": {
    "name": "ipython",
    "version": 3
   },
   "file_extension": ".py",
   "mimetype": "text/x-python",
   "name": "python",
   "nbconvert_exporter": "python",
   "pygments_lexer": "ipython3",
   "version": "3.9.13"
  },
  "orig_nbformat": 4,
  "vscode": {
   "interpreter": {
    "hash": "c5882173ff5685180b15cb907f22c6bef76d5cc8695d1b8791e985617bfa7d2d"
   }
  }
 },
 "nbformat": 4,
 "nbformat_minor": 2
}
