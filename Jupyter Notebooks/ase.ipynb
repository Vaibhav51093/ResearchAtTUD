{
 "cells": [
  {
   "cell_type": "code",
   "execution_count": 5,
   "metadata": {},
   "outputs": [
    {
     "name": "stdout",
     "output_type": "stream",
     "text": [
      "Species: Si, O, Na\n",
      "References: 5\n",
      "0    SiO2           0.000\n",
      "1    Na2O           0.000\n",
      "2    Na2SiO3       -2.076\n",
      "3    Na2Si2O5      -2.214\n",
      "4    Na4SiO4       -3.075\n"
     ]
    },
    {
     "ename": "QhullError",
     "evalue": "QH6154 Qhull precision error: Initial simplex is flat (facet 1 is coplanar with the interior point)\n\nWhile executing:  | qhull i Qt\nOptions selected for Qhull 2019.1.r 2019/06/21:\n  run-id 1669782722  incidence  Qtriangulate  _pre-merge  _zero-centrum\n  _max-width 0.67  Error-roundoff 9.2e-16  _one-merge 6.5e-15\n  _near-inside 3.2e-14  Visible-distance 1.8e-15  U-max-coplanar 1.8e-15\n  Width-outside 3.7e-15  _wide-facet 1.1e-14  _maxoutside 7.4e-15\n\nThe input to qhull appears to be less than 3 dimensional, or a\ncomputation has overflowed.\n\nQhull could not construct a clearly convex simplex from points:\n- p4(v4):  0.44  0.44 -0.34\n- p3(v3):  0.56  0.22 -0.25\n- p0(v2):  0.67     0     0\n- p1(v1):  0.33  0.67     0\n\nThe center point is coplanar with a facet, or a vertex is coplanar\nwith a neighboring facet.  The maximum round off error for\ncomputing distances is 9.2e-16.  The center point, facets and distances\nto the center point are as follows:\n\ncenter point      0.5   0.3333  -0.1469\n\nfacet p3 p0 p1 distance= -1.7e-16\nfacet p4 p0 p1 distance=    0\nfacet p4 p3 p1 distance= -4.1e-17\nfacet p4 p3 p0 distance= 2.6e-17\n\nThese points either have a maximum or minimum x-coordinate, or\nthey maximize the determinant for k coordinates.  Trial points\nare first selected from points that maximize a coordinate.\n\nThe min and max coordinates for each dimension are:\n  0:    0.3333    0.6667  difference= 0.3333\n  1:         0    0.6667  difference= 0.6667\n  2:    -0.346         0  difference= 0.346\n\nIf the input should be full dimensional, you have several options that\nmay determine an initial simplex:\n  - use 'QJ'  to joggle the input and make it full dimensional\n  - use 'QbB' to scale the points to the unit cube\n  - use 'QR0' to randomly rotate the input for different maximum points\n  - use 'Qs'  to search all points for the initial simplex\n  - use 'En'  to specify a maximum roundoff error less than 9.2e-16.\n  - trace execution with 'T3' to see the determinant for each point.\n\nIf the input is lower dimensional:\n  - use 'QJ' to joggle the input and make it full dimensional\n  - use 'Qbk:0Bk:0' to delete coordinate k from the input.  You should\n    pick the coordinate with the least range.  The hull will have the\n    correct topology.\n  - determine the flat containing the points, rotate the points\n    into a coordinate plane, and delete the other coordinates.\n  - add one or more points to make the input full dimensional.\n",
     "output_type": "error",
     "traceback": [
      "\u001b[0;31m---------------------------------------------------------------------------\u001b[0m",
      "\u001b[0;31mQhullError\u001b[0m                                Traceback (most recent call last)",
      "Input \u001b[0;32mIn [5]\u001b[0m, in \u001b[0;36m<module>\u001b[0;34m\u001b[0m\n\u001b[1;32m      7\u001b[0m references \u001b[38;5;241m=\u001b[39m [(c, e) \u001b[38;5;28;01mfor\u001b[39;00m c, e \u001b[38;5;129;01min\u001b[39;00m \u001b[38;5;28mzip\u001b[39m(compounds, energies)]\n\u001b[1;32m      9\u001b[0m \u001b[38;5;66;03m# Create the PhaseDiagram object\u001b[39;00m\n\u001b[0;32m---> 10\u001b[0m pd \u001b[38;5;241m=\u001b[39m \u001b[43mPhaseDiagram\u001b[49m\u001b[43m(\u001b[49m\u001b[43mreferences\u001b[49m\u001b[43m)\u001b[49m\n\u001b[1;32m     12\u001b[0m \u001b[38;5;66;03m# Plot the convex hull\u001b[39;00m\n\u001b[1;32m     13\u001b[0m fig, ax \u001b[38;5;241m=\u001b[39m plt\u001b[38;5;241m.\u001b[39msubplots()\n",
      "File \u001b[0;32m~/.local/lib/python3.9/site-packages/ase/phasediagram.py:403\u001b[0m, in \u001b[0;36mPhaseDiagram.__init__\u001b[0;34m(self, references, filter, verbose)\u001b[0m\n\u001b[1;32m    401\u001b[0m     \u001b[38;5;28mself\u001b[39m\u001b[38;5;241m.\u001b[39mhull \u001b[38;5;241m=\u001b[39m np\u001b[38;5;241m.\u001b[39mones(ns, \u001b[38;5;28mbool\u001b[39m)\n\u001b[1;32m    402\u001b[0m \u001b[38;5;28;01melse\u001b[39;00m:\n\u001b[0;32m--> 403\u001b[0m     hull \u001b[38;5;241m=\u001b[39m \u001b[43mConvexHull\u001b[49m\u001b[43m(\u001b[49m\u001b[38;5;28;43mself\u001b[39;49m\u001b[38;5;241;43m.\u001b[39;49m\u001b[43mpoints\u001b[49m\u001b[43m[\u001b[49m\u001b[43m:\u001b[49m\u001b[43m,\u001b[49m\u001b[43m \u001b[49m\u001b[38;5;241;43m1\u001b[39;49m\u001b[43m:\u001b[49m\u001b[43m]\u001b[49m\u001b[43m)\u001b[49m\n\u001b[1;32m    405\u001b[0m     \u001b[38;5;66;03m# Find relevant simplices:\u001b[39;00m\n\u001b[1;32m    406\u001b[0m     ok \u001b[38;5;241m=\u001b[39m hull\u001b[38;5;241m.\u001b[39mequations[:, \u001b[38;5;241m-\u001b[39m\u001b[38;5;241m2\u001b[39m] \u001b[38;5;241m<\u001b[39m \u001b[38;5;241m0\u001b[39m\n",
      "File \u001b[0;32m_qhull.pyx:2425\u001b[0m, in \u001b[0;36mscipy.spatial._qhull.ConvexHull.__init__\u001b[0;34m()\u001b[0m\n",
      "File \u001b[0;32m_qhull.pyx:343\u001b[0m, in \u001b[0;36mscipy.spatial._qhull._Qhull.__init__\u001b[0;34m()\u001b[0m\n",
      "\u001b[0;31mQhullError\u001b[0m: QH6154 Qhull precision error: Initial simplex is flat (facet 1 is coplanar with the interior point)\n\nWhile executing:  | qhull i Qt\nOptions selected for Qhull 2019.1.r 2019/06/21:\n  run-id 1669782722  incidence  Qtriangulate  _pre-merge  _zero-centrum\n  _max-width 0.67  Error-roundoff 9.2e-16  _one-merge 6.5e-15\n  _near-inside 3.2e-14  Visible-distance 1.8e-15  U-max-coplanar 1.8e-15\n  Width-outside 3.7e-15  _wide-facet 1.1e-14  _maxoutside 7.4e-15\n\nThe input to qhull appears to be less than 3 dimensional, or a\ncomputation has overflowed.\n\nQhull could not construct a clearly convex simplex from points:\n- p4(v4):  0.44  0.44 -0.34\n- p3(v3):  0.56  0.22 -0.25\n- p0(v2):  0.67     0     0\n- p1(v1):  0.33  0.67     0\n\nThe center point is coplanar with a facet, or a vertex is coplanar\nwith a neighboring facet.  The maximum round off error for\ncomputing distances is 9.2e-16.  The center point, facets and distances\nto the center point are as follows:\n\ncenter point      0.5   0.3333  -0.1469\n\nfacet p3 p0 p1 distance= -1.7e-16\nfacet p4 p0 p1 distance=    0\nfacet p4 p3 p1 distance= -4.1e-17\nfacet p4 p3 p0 distance= 2.6e-17\n\nThese points either have a maximum or minimum x-coordinate, or\nthey maximize the determinant for k coordinates.  Trial points\nare first selected from points that maximize a coordinate.\n\nThe min and max coordinates for each dimension are:\n  0:    0.3333    0.6667  difference= 0.3333\n  1:         0    0.6667  difference= 0.6667\n  2:    -0.346         0  difference= 0.346\n\nIf the input should be full dimensional, you have several options that\nmay determine an initial simplex:\n  - use 'QJ'  to joggle the input and make it full dimensional\n  - use 'QbB' to scale the points to the unit cube\n  - use 'QR0' to randomly rotate the input for different maximum points\n  - use 'Qs'  to search all points for the initial simplex\n  - use 'En'  to specify a maximum roundoff error less than 9.2e-16.\n  - trace execution with 'T3' to see the determinant for each point.\n\nIf the input is lower dimensional:\n  - use 'QJ' to joggle the input and make it full dimensional\n  - use 'Qbk:0Bk:0' to delete coordinate k from the input.  You should\n    pick the coordinate with the least range.  The hull will have the\n    correct topology.\n  - determine the flat containing the points, rotate the points\n    into a coordinate plane, and delete the other coordinates.\n  - add one or more points to make the input full dimensional.\n"
     ]
    }
   ],
   "source": [
    "from ase.phasediagram import PhaseDiagram\n",
    "import matplotlib.pyplot as plt\n",
    "\n",
    "# Define the compounds and their formation energies\n",
    "compounds = ['SiO2', 'Na2O', 'Na2SiO3', 'Na2Si2O5', 'Na4SiO4']\n",
    "energies = [0.0, 0.0, -2.076, -2.214, -3.075]\n",
    "references = [(c, e) for c, e in zip(compounds, energies)]\n",
    "\n",
    "# Create the PhaseDiagram object\n",
    "pd = PhaseDiagram(references)\n",
    "\n",
    "# Plot the convex hull\n",
    "fig, ax = plt.subplots()\n",
    "pd.plot(ax=ax)\n",
    "plt.show()\n"
   ]
  }
 ],
 "metadata": {
  "kernelspec": {
   "display_name": "base",
   "language": "python",
   "name": "python3"
  },
  "language_info": {
   "codemirror_mode": {
    "name": "ipython",
    "version": 3
   },
   "file_extension": ".py",
   "mimetype": "text/x-python",
   "name": "python",
   "nbconvert_exporter": "python",
   "pygments_lexer": "ipython3",
   "version": "3.9.-1"
  }
 },
 "nbformat": 4,
 "nbformat_minor": 2
}
