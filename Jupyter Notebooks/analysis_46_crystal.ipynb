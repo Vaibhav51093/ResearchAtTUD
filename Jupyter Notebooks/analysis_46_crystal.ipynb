{
 "cells": [
  {
   "cell_type": "code",
   "execution_count": null,
   "metadata": {},
   "outputs": [],
   "source": []
  }
 ],
 "metadata": {
  "interpreter": {
   "hash": "c5882173ff5685180b15cb907f22c6bef76d5cc8695d1b8791e985617bfa7d2d"
  },
  "kernelspec": {
   "display_name": "Python 3.9.13 ('vaibhav')",
   "language": "python",
   "name": "python3"
  },
  "language_info": {
   "name": "python",
   "version": "3.9.13"
  },
  "orig_nbformat": 4
 },
 "nbformat": 4,
 "nbformat_minor": 2
}
